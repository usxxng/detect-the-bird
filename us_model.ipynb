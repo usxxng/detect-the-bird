{
 "cells": [
  {
   "cell_type": "markdown",
   "id": "changed-ballet",
   "metadata": {},
   "source": [
    "# 서약\n",
    "* 당연한 것을 아래와 같이 한번 다지고 가도록 하겠습니다. 아래 보고서는 **본인의 힘만으로 작성**해야하며, 다른 수강생에게 직접적인 질문, 복사 하는 행위는 모두 금지합니다 \n",
    "  * 예를 들어서, 본 프로젝트의 코드 셀을 완성하는데 직접적인 질문 또는 복사하는 경우는 모두 금지합니다\n",
    "  * 수업에서 제공한 코드, 노트북은 모두 재활용가능하며, 카피로 규정하지 않습니다\n",
    "  * 수업 자료 이외에 참고자료가 있다면, 출처와 사용 부분에 모두 표시하는 경우는 모두 합당한 자료로 인정하겠습니다\n",
    "  \n",
    "* 위에 대해서 모두 이해하고 동의했다면, 아래 `서약글`에 다음을 작성해주세요:\n",
    "\n",
    "\"본인은 위 서약글을 이해하고 동의하며, 프로젝트를 수행하는데 있어서 반칙을 할 경우 (제공자 포함) 본 프로젝트에 대한 점수가 반영되지 않는다는 것에 동의 합니다.\""
   ]
  },
  {
   "cell_type": "markdown",
   "id": "animated-action",
   "metadata": {},
   "source": [
    "**서약서**\n",
    "\n",
    "이름: 신유승\n",
    "\n",
    "학번: 20155326\n",
    "\n",
    "서약글:  본인은 위 서약글을 이해하고 동의하며, 프로젝트를 수행하는데 있어서 반칙을 할 경우(제공자 포함)본 프로젝트에 대한 점수가 반영되지 않는다는 것에 동의합니다."
   ]
  },
  {
   "cell_type": "markdown",
   "id": "included-pennsylvania",
   "metadata": {},
   "source": [
    "# Final Project \n",
    "\n",
    "## Project: 새 품종 분류하기\n",
    "\n",
    "## Due date: 2021.06.15\n",
    "\n",
    "---\n",
    "\n",
    "* 아래 여러 셀에서 코드를 완성하는 부분을 수행하고, 설명을 요구하는 부분은 보고서에 설명을 최대한 자세하게 적어주세요. 기준은 본인이 이해하고 있다는 것을 표현할 수 있는 부분을 모두 적으시면 됩니다.\n",
    "  * 답을 작성하는 원칙은 **보고서**를 작성한다고 생각하시면 됩니다\n",
    "  * 내가 알고 있는 부분을 충실하게 **글로 표현** 하는 것 또한 중요한 연습입니다 \n",
    "  * 코드 작성은 **주석**으로 설명하시기 바랍니다\n",
    "  \n",
    "  \n",
    "> **제출방법**: \n",
    "* 보고서에는 코드 캡쳐 첨부이외에도, 각 코드를 작성하는 방법론과 설명을 작성해야하는 **서술형 문제**도 포함되어 있습니다.\n",
    "* 서술형 문제는 채점하는 중요한 기준이 됩니다. 성실하게 작성해주세요.\n",
    "* 서술형 문제에 대한 답변은 첨부된 보고서에 작성하면 됩니다. \n"
   ]
  },
  {
   "cell_type": "markdown",
   "id": "downtown-evaluation",
   "metadata": {},
   "source": [
    "### 목표: 앱을 위한 인공지능 알고리즘 개발 ^ㅡ^\n",
    "* 본 보고서에서는 모바일/웹앱을 위한 인공지능 알고리즘을 개발하라는 업무를 부여받았다고 가정합니다\n",
    "* 프로젝트가 완성본은, 사용자가 제공하는 image를 받아서 새의 종(種)을 예측합니다\n"
   ]
  },
  {
   "cell_type": "markdown",
   "id": "imperial-intensity",
   "metadata": {},
   "source": [
    "---"
   ]
  },
  {
   "cell_type": "markdown",
   "id": "personalized-titanium",
   "metadata": {},
   "source": [
    "## Step 0: Import library\n",
    "\n",
    "- 필요하다 생각되는 라이브러리를 미리 import해 놓은 항목입니다.(참고)\n",
    "- 필요 없는 라이브러리를 제거하거나 필요한 라이브러리를 추가하셔도 됩니다."
   ]
  },
  {
   "cell_type": "code",
   "execution_count": 1,
   "id": "mysterious-martial",
   "metadata": {},
   "outputs": [],
   "source": [
    "import shutil\n",
    "import os\n",
    "import glob\n",
    "from PIL import Image\n",
    "import cv2\n",
    "import numpy as np\n",
    "import matplotlib.pyplot as plt\n",
    "from tqdm import tqdm\n",
    "import random\n",
    "import pandas as pd\n",
    "\n",
    "from pathlib import Path\n",
    "from collections import OrderedDict\n",
    "from torch.utils.data.sampler import SubsetRandomSampler\n",
    "\n",
    "import torch\n",
    "import torch.nn as nn\n",
    "import torchvision\n",
    "import torchvision.transforms as transforms\n",
    "from torchvision import datasets\n",
    "from torch.utils.data import Dataset,DataLoader\n",
    "\n",
    "import torch.nn as nn\n",
    "import torch.optim as optim\n",
    "import torch.nn.functional as F"
   ]
  },
  {
   "cell_type": "code",
   "execution_count": 2,
   "id": "billion-holiday",
   "metadata": {},
   "outputs": [
    {
     "name": "stdout",
     "output_type": "stream",
     "text": [
      "CUDA is available!  Training on GPU ...\n"
     ]
    }
   ],
   "source": [
    "# Test for Cuda (Cuda 환경에서 적용되는지 확인)\n",
    "\n",
    "# check if CUDA is available\n",
    "train_on_gpu = torch.cuda.is_available()\n",
    "#train_on_gpu = False\n",
    "\n",
    "if not train_on_gpu:\n",
    "    device = 'cpu'\n",
    "    print('CUDA is not available.  Training on CPU ...')\n",
    "else:\n",
    "    device = 'cuda'\n",
    "    print('CUDA is available!  Training on GPU ...')"
   ]
  },
  {
   "cell_type": "markdown",
   "id": "empirical-valuation",
   "metadata": {},
   "source": [
    "## Step 1: Dataset 준비하기"
   ]
  },
  {
   "cell_type": "code",
   "execution_count": 6,
   "id": "postal-express",
   "metadata": {},
   "outputs": [],
   "source": [
    "# 이미지 리사이즈 및 정규화\n",
    "# train data transforms 적용 (랜덤기울이기, 색상 조절, 랜덤원근법, 랜덤회전, 랜덤수평뒤집기, 이미지 리사이즈, torch텐서로 전환, 데이터 정규화)\n",
    "transform_train = transforms.Compose([\n",
    "    #transforms.Resize((128, 128)),\n",
    "    transforms.RandomAffine(15),\n",
    "    transforms.ColorJitter(brightness=0.2),\n",
    "    transforms.RandomPerspective(distortion_scale=0.1, p=0.3),\n",
    "    transforms.RandomRotation(10),\n",
    "    transforms.RandomHorizontalFlip(p=0.5),\n",
    "    transforms.Resize((128, 128)),\n",
    "    transforms.ToTensor(),\n",
    "    transforms.Normalize((0.5, 0.5, 0.5), (0.5, 0.5, 0.5)),\n",
    "])\n",
    "\n",
    "# validation data transforms 적용 (100사이즈 기준 랜덤자르기, 이미지 리사이즈, torch텐서로 전환, 데이터 정규화)\n",
    "transform_val = transforms.Compose([\n",
    "    #transforms.RandomCrop(100),\n",
    "    transforms.RandomRotation(30, center=(0,0), expand=True),\n",
    "    transforms.Resize((128,128)),\n",
    "    transforms.ToTensor(),\n",
    "    transforms.Normalize((0.5, 0.5, 0.5), (0.5, 0.5, 0.5)),\n",
    "])\n",
    "\n",
    "# test data transforms 적용 (이미지 리사이즈, torch텐서로 전환, 데이터 정규화)\n",
    "transform_test = transforms.Compose([\n",
    "    transforms.Resize((128,128)),\n",
    "    transforms.ToTensor(),\n",
    "    transforms.Normalize((0.5, 0.5, 0.5), (0.5, 0.5, 0.5)),\n",
    "    ])\n",
    "\n",
    "\n",
    "# dataset 이미지 경로 할당\n",
    "train_dir = \"./imgs/train\"\n",
    "\n",
    "# ImageFolder를 통해 transform 적용된 이미지 불러오기\n",
    "train_data = torchvision.datasets.ImageFolder(root=train_dir,transform=transform_train)\n",
    "valid_data = torchvision.datasets.ImageFolder(root=train_dir,transform=transform_val)\n",
    "\n",
    "\n",
    "# train data 클래스 저장\n",
    "class_names = train_data.classes\n",
    "\n",
    "# train과 validation 데이터 transform 적용을 다르게 하기 위해 따로 분리 적용\n",
    "# train data 길이 저장\n",
    "num_train = len(train_data)\n",
    "# train data 길이만큼 리스트 저장\n",
    "indices = list(range(num_train))\n",
    "# train data 와 valid data 분리를 위해 8:2(train:valid) 비율로 데이터 분할\n",
    "split = int(np.floor(0.2*num_train))\n",
    "\n",
    "# 데이터 셔플을 위한 저장된 리스트 indices 셔플\n",
    "np.random.shuffle(indices)"
   ]
  },
  {
   "cell_type": "markdown",
   "id": "promising-savage",
   "metadata": {},
   "source": [
    "## Step 2: Dataset 에 대한 Data Loaders 구성"
   ]
  },
  {
   "cell_type": "code",
   "execution_count": 7,
   "id": "human-kentucky",
   "metadata": {},
   "outputs": [
    {
     "name": "stdout",
     "output_type": "stream",
     "text": [
      "Loaded 1984 train images\n",
      "Loaded 496 valid images\n",
      "Classes: \n",
      "['AMERICAN_PIPIT', 'BALTIMORE_ORIOLE', 'BELTED_KINGFISHER', 'BROWN_THRASHER', 'CALIFORNIA_GULL', 'CASPIAN_TERN', 'CRESTED_AUKLET', 'DOWNY_WOODPECKER', 'GRAY_CATBIRD', 'HOODED_MERGANSER', 'INDIGO_BUNTING', 'PURPLE_FINCH', 'RED_HEADED_WOODPECKER', 'RUBY_THROATED_HUMMINGBIRD', 'WHITE_NECKED_RAVEN']\n"
     ]
    }
   ],
   "source": [
    "# split을 기준으로 triain_idx, valid_idx 분할\n",
    "train_idx, valid_idx = indices[split:], indices[:split]\n",
    "\n",
    "# epoch마다 데이터를 섞어 각 train_sampler, valid_sampler에 저장\n",
    "train_sampler = SubsetRandomSampler(train_idx)\n",
    "valid_sampler = SubsetRandomSampler(valid_idx)\n",
    "\n",
    "# 빈 딕셔너리 dataloader 생성\n",
    "dataloaders = {}\n",
    "# dataloader를 통한 train데이터 불러오기 (배치사이즈 : 64, 현재 환경에서 프로세스 num_workers를 4로 설정)\n",
    "dataloaders[\"train\"] = torch.utils.data.DataLoader(train_data,\n",
    "                                                   batch_size=32,\n",
    "                                                   sampler=train_sampler,\n",
    "                                                   num_workers=4,\n",
    "                                                  )\n",
    "# dataloader를 통한 valid데이터 불러오기 (배치사이즈 : 32, 현재 환경에서 프로세스 num_workers를 4로 설정)\n",
    "dataloaders[\"val\"] = torch.utils.data.DataLoader(valid_data,\n",
    "                                                   batch_size=16,\n",
    "                                                   sampler=valid_sampler,\n",
    "                                                   num_workers=4)\n",
    "\n",
    "# for x in [\"train\", \"val\"]:\n",
    "#     print(\"Loaded {} images under {}\".format(split[x], x))\n",
    "# train, valid 이미지 개수 확인 출력\n",
    "print(\"Loaded {} train images\".format(len(dataloaders[\"train\"])*32))\n",
    "print(\"Loaded {} valid images\".format(len(dataloaders[\"val\"])*16))\n",
    "\n",
    "# 이미지 데이터 라벨명 확인 출력\n",
    "print(\"Classes: \")\n",
    "print(class_names)"
   ]
  },
  {
   "cell_type": "markdown",
   "id": "stopped-adjustment",
   "metadata": {},
   "source": [
    "## Visualization (시각화)"
   ]
  },
  {
   "cell_type": "code",
   "execution_count": 8,
   "id": "expressed-approval",
   "metadata": {},
   "outputs": [
    {
     "data": {
      "image/png": "[encoded data removed]",
      "text/plain": [
       "<Figure size 432x288 with 1 Axes>"
      ]
     },
     "metadata": {
      "needs_background": "light"
     },
     "output_type": "display_data"
    }
   ],
   "source": [
    "# 데이터가 제대로 들어왔는지 확인하기 위해 pyplot을 통한 이미지 출력\n",
    "def imshow(inp, title=None):\n",
    "    inp = inp.numpy().transpose((1, 2, 0))\n",
    "    mean = np.array([.5, .5, .5])\n",
    "    std = np.array([.5, .5, .5])\n",
    "    inp = std * inp + mean\n",
    "    inp = np.clip(inp, 0, 1)\n",
    "    plt.imshow(inp)\n",
    "    if title is not None:\n",
    "        plt.title(title)\n",
    "    plt.pause(0.001)\n",
    "\n",
    "# valid 데이터 배치사이즈만틈 이미지 출력함\n",
    "def show_databatch(inputs, classes):\n",
    "    out = torchvision.utils.make_grid(inputs)\n",
    "    imshow(out, title=[class_names[x] for x in classes])\n",
    "\n",
    "# 학습 데이터의 배치\n",
    "inputs, classes = next(iter(dataloaders['val']))\n",
    "\n",
    "# 배치로부터 격자 형태의 이미지\n",
    "out = torchvision.utils.make_grid(inputs)\n",
    "\n",
    "# 이미지 출력\n",
    "imshow(out, title=[class_names[x] for x in classes])"
   ]
  },
  {
   "cell_type": "markdown",
   "id": "tracked-button",
   "metadata": {},
   "source": [
    "## Step 3: Neural Network 생성\n",
    "- Pretrained model을 허용하지 않습니다. (직접 모델을 설계해 주세요)\n"
   ]
  },
  {
   "cell_type": "code",
   "execution_count": 9,
   "id": "minute-transcription",
   "metadata": {},
   "outputs": [
    {
     "data": {
      "text/plain": [
       "USNet(\n",
       "  (conv): Sequential(\n",
       "    (0): Conv2d(3, 32, kernel_size=(3, 3), stride=(1, 1), padding=(1, 1))\n",
       "    (1): BatchNorm2d(32, eps=1e-05, momentum=0.1, affine=True, track_running_stats=True)\n",
       "    (2): ReLU(inplace=True)\n",
       "    (3): MaxPool2d(kernel_size=2, stride=2, padding=0, dilation=1, ceil_mode=False)\n",
       "    (4): Conv2d(32, 64, kernel_size=(3, 3), stride=(1, 1), padding=(1, 1))\n",
       "    (5): BatchNorm2d(64, eps=1e-05, momentum=0.1, affine=True, track_running_stats=True)\n",
       "    (6): ReLU(inplace=True)\n",
       "    (7): MaxPool2d(kernel_size=2, stride=2, padding=0, dilation=1, ceil_mode=False)\n",
       "    (8): Dropout(p=0.25, inplace=False)\n",
       "    (9): Conv2d(64, 128, kernel_size=(3, 3), stride=(1, 1), padding=(1, 1))\n",
       "    (10): BatchNorm2d(128, eps=1e-05, momentum=0.1, affine=True, track_running_stats=True)\n",
       "    (11): ReLU(inplace=True)\n",
       "    (12): MaxPool2d(kernel_size=2, stride=2, padding=0, dilation=1, ceil_mode=False)\n",
       "    (13): Conv2d(128, 256, kernel_size=(3, 3), stride=(1, 1), padding=(1, 1))\n",
       "    (14): BatchNorm2d(256, eps=1e-05, momentum=0.1, affine=True, track_running_stats=True)\n",
       "    (15): ReLU(inplace=True)\n",
       "    (16): MaxPool2d(kernel_size=2, stride=2, padding=0, dilation=1, ceil_mode=False)\n",
       "    (17): Dropout(p=0.25, inplace=False)\n",
       "    (18): Conv2d(256, 512, kernel_size=(3, 3), stride=(1, 1), padding=(1, 1))\n",
       "    (19): BatchNorm2d(512, eps=1e-05, momentum=0.1, affine=True, track_running_stats=True)\n",
       "    (20): ReLU(inplace=True)\n",
       "    (21): MaxPool2d(kernel_size=2, stride=2, padding=0, dilation=1, ceil_mode=False)\n",
       "  )\n",
       "  (fc1): Linear(in_features=8192, out_features=4096, bias=True)\n",
       "  (fc2): Linear(in_features=4096, out_features=15, bias=True)\n",
       "  (relu): ReLU(inplace=True)\n",
       "  (dropout): Dropout(p=0.5, inplace=False)\n",
       "  (BN): BatchNorm1d(4096, eps=1e-05, momentum=0.1, affine=True, track_running_stats=True)\n",
       ")"
      ]
     },
     "execution_count": 9,
     "metadata": {},
     "output_type": "execute_result"
    }
   ],
   "source": [
    "class USNet(nn.Module):\n",
    "    def __init__(self):\n",
    "        super().__init__()\n",
    "        \n",
    "        self.conv = nn.Sequential(\n",
    "            # 3x128x128 input image 입력\n",
    "            # kernel_size 3x3 인 32개의 특징맵(feature map)으로 Conv필터 연산, padding은 1로하여 연산 진행\n",
    "            nn.Conv2d(3,32,3, padding=1),\n",
    "            # 연산된 평균과 분산을 조정하기 위한 BatchNormalization\n",
    "            nn.BatchNorm2d(32),\n",
    "            # 연산 값이 0보다 크면 그대로 값, 0보다 작으면 0 값을 반환하는 활성 함수 ReLU 적용\n",
    "            nn.ReLU(True),\n",
    "            # 정해진 filter 크기 안에서 가장 큰 값만 뽑아냄\n",
    "            nn.MaxPool2d(2, stride=2),\n",
    "            \n",
    "            # 첫번째 레이어 연산 후 크기\n",
    "            # 32x64x64 입력\n",
    "            # kernel_size 3x3 인 64개의 특징맵(feature map)으로 Conv필터 연산, padding은 1로하여 연산 진행\n",
    "            nn.Conv2d(32,64,3, padding=1),\n",
    "            # 연산된 평균과 분산을 조정하기 위한 BatchNormalization\n",
    "            nn.BatchNorm2d(64),\n",
    "            # 연산 값이 0보다 크면 그대로 값, 0보다 작으면 0 값을 반환하는 활성 함수 ReLU 적용\n",
    "            nn.ReLU(True),\n",
    "            # 정해진 filter 크기 안에서 가장 큰 값만 뽑아냄\n",
    "            nn.MaxPool2d(2, stride=2),\n",
    "            # 과적합을 방지하기 위해 0.25 만큼 뉴런들을 누락시키기 위한 드롭아웃(Dropout) 적용\n",
    "            nn.Dropout(0.25),\n",
    "            \n",
    "            # 두번째 레이어 연산 후 크기\n",
    "            # 64x32x32 입력\n",
    "            # kernel_size 3x3 인 128개의 특징맵(feature map)으로 Conv필터 연산, padding은 1로하여 연산 진행\n",
    "            nn.Conv2d(64,128,3, padding=1),\n",
    "            # 연산된 평균과 분산을 조정하기 위한 BatchNormalization\n",
    "            nn.BatchNorm2d(128),\n",
    "            # 연산 값이 0보다 크면 그대로 값, 0보다 작으면 0 값을 반환하는 활성 함수 ReLU 적용\n",
    "            nn.ReLU(True),\n",
    "            # 정해진 filter 크기 안에서 가장 큰 값만 뽑아냄\n",
    "            nn.MaxPool2d(2, stride=2),\n",
    "            \n",
    "            # 세번째 레이어 연산 후 크기\n",
    "            # 128*16*16 입력\n",
    "            # kernel_size 3x3 인 256개의 특징맵(feature map)으로 Conv필터 연산, padding은 1로하여 연산 진행\n",
    "            nn.Conv2d(128,256,3, padding=1),\n",
    "            # 연산된 평균과 분산을 조정하기 위한 BatchNormalization\n",
    "            nn.BatchNorm2d(256),\n",
    "            # 연산 값이 0보다 크면 그대로 값, 0보다 작으면 0 값을 반환하는 활성 함수 ReLU 적용\n",
    "            nn.ReLU(True),\n",
    "            # 정해진 filter 크기 안에서 가장 큰 값만 뽑아냄\n",
    "            nn.MaxPool2d(2, stride=2),\n",
    "            # 과적합을 방지하기 위해 0.25 만큼 뉴런들을 누락시키기 위한 드롭아웃(Dropout) 적용\n",
    "            nn.Dropout(0.25),\n",
    "            \n",
    "            # 네번째 레이어 연산 후 크기\n",
    "            # 256*8*8 입력\n",
    "            # kernel_size 3x3 인 512개의 특징맵(feature map)으로 Conv필터 연산, padding은 1로하여 연산 진행\n",
    "            nn.Conv2d(256,512,3, padding=1),\n",
    "            # 연산된 평균과 분산을 조정하기 위한 BatchNormalization\n",
    "            nn.BatchNorm2d(512),\n",
    "            # 연산 값이 0보다 크면 그대로 값, 0보다 작으면 0 값을 반환하는 활성 함수 ReLU 적용\n",
    "            nn.ReLU(True),\n",
    "            # 정해진 filter 크기 안에서 가장 큰 값만 뽑아냄\n",
    "            nn.MaxPool2d(2, stride=2),\n",
    "            \n",
    "            \n",
    "            # Conv 연산 후 최종 Output\n",
    "            # 512*4*4\n",
    "        )\n",
    "        \n",
    "        # 컨볼루션 연산을 거친 이미지를 다음 일반 신경망을 거치도록 Linear 정의\n",
    "        # 앞 계층의 출력 크기 512x4x4를 입력, 출력 크기를 4096으로 설정\n",
    "        self.fc1 = nn.Linear(512*4*4, 4096)\n",
    "        # 두번째 Linear 또한 앞 크기 4096를 입력, 출력 크기를 15(새 종류 15 클래스)로 설정\n",
    "        self.fc2 = nn.Linear(4096, 15)\n",
    "        \n",
    "        #activation function (ReLU)\n",
    "        self.relu = nn.ReLU(True)\n",
    "        \n",
    "        #dropout layer\n",
    "        self.dropout = nn.Dropout(0.5)\n",
    "        #Batch Normalization\n",
    "        self.BN = nn.BatchNorm1d(4096)\n",
    "         \n",
    "                \n",
    "    def forward(self, x):\n",
    "        # 위 컨볼루션 연산을 통해 얻어진 특징 맵(Feature map) x\n",
    "        x = self.conv(x)\n",
    "      \n",
    "        # flatten image layer\n",
    "        # 2차원 특징 맵을 view()함수를 통해 1차원으로 flatten\n",
    "        # x.size(0)은 x가 가진 원소 개수, -1은 남는 차원 전부를 뜻함\n",
    "        x = x.view(x.size(0), -1) \n",
    "        # 1차원으로 펴준 x를 다시 첫번째 Linear에 입력, Batch Normalization와 ReLU를 거침\n",
    "        x = self.relu(self.BN(self.fc1(x)))\n",
    "        # 과적합 방지를 위해 0.5만큼 뉴런들을 누락시키기 위한 드롭아웃(Dropout) 적용\n",
    "        x = self.dropout(x)\n",
    "        # 마지막 Linear 계층을 통해 출력값 반환\n",
    "        x = self.fc2(x)\n",
    "        \n",
    "        return x\n",
    "    \n",
    "# 완성된 모델 USNet 생성(create a complete my model)\n",
    "model = USNet()\n",
    "\n",
    "# Cuda로 장치 이동(move tensors to GPU if CUDA is available.)\n",
    "model.to(device)"
   ]
  },
  {
   "cell_type": "markdown",
   "id": "frozen-brand",
   "metadata": {},
   "source": [
    " ## Step 4: Cost (Loss) Function 과 Optimizer 선택\n",
    " \n",
    " [loss function](http://pytorch.org/docs/stable/nn.html#loss-functions) 및 [optimizer](http://pytorch.org/docs/stable/optim.html)를 선택하여 코드를 완성하세요.\n",
    " \n",
    " 위 링크에서 다양한 Loss Function과 Optimize Function을 확인 할 수 있습니다\n",
    " "
   ]
  },
  {
   "cell_type": "code",
   "execution_count": 10,
   "id": "selected-tokyo",
   "metadata": {},
   "outputs": [],
   "source": [
    "# 실제 값과 예측값의 차이에 대한 오차를 계산해주는 CrossEntropyLoss 손실 함수(Loss Function) 적용\n",
    "criterion = nn.CrossEntropyLoss()\n",
    "\n",
    "# 기울기 값으로 모델의 학습 파라미터를 업데이트하기 위한 최적화 함수 중 Adam Optimizer 사용\n",
    "# 학습률(Learning Rate)은 0.001 , 과적합을 억제하기 위한 가중치 감소 weight decay 또한 0.001(1e-2) 적용\n",
    "optimizer = optim.Adam(model.parameters(), lr=0.001, weight_decay=1e-2)\n",
    "#optimizer = optim.SGD(model.parameters(), lr=0.001, momentum=0.9, weight_decay=1e-2)\n",
    "# 20epoch, 50epoch에 학습률(Learning Rate)을 0.1의 감소량 만큼 감소시켜주는 Scheduler 적용\n",
    "scheduler = optim.lr_scheduler.MultiStepLR(optimizer, milestones=[20, 50], gamma=0.1)"
   ]
  },
  {
   "cell_type": "markdown",
   "id": "harmful-danish",
   "metadata": {},
   "source": [
    "## Step 5: 구성한 모델에 대한 Train and Validate 진행\n",
    "\n",
    "* 코드 전체를 주석으로 설명하세요\n",
    "* Epoch 별로 Loss나 Accuracy를 출력하여 학습 진행 과정을 확인 할 수 있도록 합니다\n",
    "* 출력 예시는 주어지나 정해진 형식은 없습니다\n",
    "* 최적의 모델 저장\n",
    "\n",
    "예제:\n",
    "```\n",
    "Started Training...\n",
    "Epoch: 1 \tTraining Loss: 3.317162 \tValidation Loss: 4.162958\n",
    "Epoch: 2 \tTraining Loss: 2.420140 \tValidation Loss: 4.182362\n",
    "...\n",
    "...\n",
    "Finished training\n",
    "```"
   ]
  },
  {
   "cell_type": "code",
   "execution_count": 11,
   "id": "arbitrary-pixel",
   "metadata": {
    "tags": []
   },
   "outputs": [
    {
     "data": {
      "application/vnd.jupyter.widget-view+json": {
       "model_id": "5e094a79db124204812ab159a27cb266",
       "version_major": 2,
       "version_minor": 0
      },
      "text/plain": [
       "  0%|          | 0/500 [00:00<?, ?it/s]"
      ]
     },
     "metadata": {},
     "output_type": "display_data"
    },
    {
     "name": "stdout",
     "output_type": "stream",
     "text": [
      "epoch =  0\n"
     ]
    },
    {
     "data": {
      "application/vnd.jupyter.widget-view+json": {
       "model_id": "7c1a87e53fbc476cbd6985c188018a9e",
       "version_major": 2,
       "version_minor": 0
      },
      "text/plain": [
       "  0%|          | 0/62 [00:00<?, ?it/s]"
      ]
     },
     "metadata": {},
     "output_type": "display_data"
    },
    {
     "data": {
      "application/vnd.jupyter.widget-view+json": {
       "model_id": "fc8d7edc7ce64315a74c72aa345a2b2f",
       "version_major": 2,
       "version_minor": 0
      },
      "text/plain": [
       "  0%|          | 0/31 [00:00<?, ?it/s]"
      ]
     },
     "metadata": {},
     "output_type": "display_data"
    },
    {
     "name": "stdout",
     "output_type": "stream",
     "text": [
      "Epoch: 0 \tTraining Loss: 1.953382 \tValidation Loss: 2.306778\n",
      "Epoch: 0 \tTraining accuracy: 0.429282 \tValidation accuracy: 0.321805\n",
      "Validation loss decreased (inf --> 2.306778).  Saving model ...\n",
      "epoch =  1\n"
     ]
    },
    {
     "data": {
      "application/vnd.jupyter.widget-view+json": {
       "model_id": "822a496fde974162874ce156f5919d01",
       "version_major": 2,
       "version_minor": 0
      },
      "text/plain": [
       "  0%|          | 0/62 [00:00<?, ?it/s]"
      ]
     },
     "metadata": {},
     "output_type": "display_data"
    },
    {
     "data": {
      "application/vnd.jupyter.widget-view+json": {
       "model_id": "4366942bb98c4acaa06cee2ab4a0e4bd",
       "version_major": 2,
       "version_minor": 0
      },
      "text/plain": [
       "  0%|          | 0/31 [00:00<?, ?it/s]"
      ]
     },
     "metadata": {},
     "output_type": "display_data"
    },
    {
     "name": "stdout",
     "output_type": "stream",
     "text": [
      "Epoch: 1 \tTraining Loss: 1.345020 \tValidation Loss: 2.872532\n",
      "Epoch: 1 \tTraining accuracy: 0.598133 \tValidation accuracy: 0.330335\n",
      "epoch =  2\n"
     ]
    },
    {
     "data": {
      "application/vnd.jupyter.widget-view+json": {
       "model_id": "0b630f5378254d51ae581e89a9f2354d",
       "version_major": 2,
       "version_minor": 0
      },
      "text/plain": [
       "  0%|          | 0/62 [00:00<?, ?it/s]"
      ]
     },
     "metadata": {},
     "output_type": "display_data"
    },
    {
     "data": {
      "application/vnd.jupyter.widget-view+json": {
       "model_id": "4c92c19b17304068b614a4e3c846ebaa",
       "version_major": 2,
       "version_minor": 0
      },
      "text/plain": [
       "  0%|          | 0/31 [00:00<?, ?it/s]"
      ]
     },
     "metadata": {},
     "output_type": "display_data"
    },
    {
     "name": "stdout",
     "output_type": "stream",
     "text": [
      "Epoch: 2 \tTraining Loss: 1.241988 \tValidation Loss: 2.516674\n",
      "Epoch: 2 \tTraining accuracy: 0.629076 \tValidation accuracy: 0.387872\n",
      "epoch =  3\n"
     ]
    },
    {
     "data": {
      "application/vnd.jupyter.widget-view+json": {
       "model_id": "5e7331e4c2c1453b801dccd6da4d5e60",
       "version_major": 2,
       "version_minor": 0
      },
      "text/plain": [
       "  0%|          | 0/62 [00:00<?, ?it/s]"
      ]
     },
     "metadata": {},
     "output_type": "display_data"
    },
    {
     "data": {
      "application/vnd.jupyter.widget-view+json": {
       "model_id": "fe38d2174a4e46fd9a76cbcd21149591",
       "version_major": 2,
       "version_minor": 0
      },
      "text/plain": [
       "  0%|          | 0/31 [00:00<?, ?it/s]"
      ]
     },
     "metadata": {},
     "output_type": "display_data"
    },
    {
     "name": "stdout",
     "output_type": "stream",
     "text": [
      "Epoch: 3 \tTraining Loss: 1.180354 \tValidation Loss: 2.365560\n",
      "Epoch: 3 \tTraining accuracy: 0.640472 \tValidation accuracy: 0.399969\n",
      "epoch =  4\n"
     ]
    },
    {
     "data": {
      "application/vnd.jupyter.widget-view+json": {
       "model_id": "7421f714b2824108a03b2e1be9612993",
       "version_major": 2,
       "version_minor": 0
      },
      "text/plain": [
       "  0%|          | 0/62 [00:00<?, ?it/s]"
      ]
     },
     "metadata": {},
     "output_type": "display_data"
    },
    {
     "data": {
      "application/vnd.jupyter.widget-view+json": {
       "model_id": "d9e14bb7236a4a19854bba5533404286",
       "version_major": 2,
       "version_minor": 0
      },
      "text/plain": [
       "  0%|          | 0/31 [00:00<?, ?it/s]"
      ]
     },
     "metadata": {},
     "output_type": "display_data"
    },
    {
     "name": "stdout",
     "output_type": "stream",
     "text": [
      "Epoch: 4 \tTraining Loss: 1.092604 \tValidation Loss: 2.455487\n",
      "Epoch: 4 \tTraining accuracy: 0.655395 \tValidation accuracy: 0.317308\n",
      "epoch =  5\n"
     ]
    },
    {
     "data": {
      "application/vnd.jupyter.widget-view+json": {
       "model_id": "6252e178349646519dade21df2b2e5f1",
       "version_major": 2,
       "version_minor": 0
      },
      "text/plain": [
       "  0%|          | 0/62 [00:00<?, ?it/s]"
      ]
     },
     "metadata": {},
     "output_type": "display_data"
    },
    {
     "data": {
      "application/vnd.jupyter.widget-view+json": {
       "model_id": "65036810b59c4c60b2702db66c3887a4",
       "version_major": 2,
       "version_minor": 0
      },
      "text/plain": [
       "  0%|          | 0/31 [00:00<?, ?it/s]"
      ]
     },
     "metadata": {},
     "output_type": "display_data"
    },
    {
     "name": "stdout",
     "output_type": "stream",
     "text": [
      "Epoch: 5 \tTraining Loss: 1.055962 \tValidation Loss: 1.859829\n",
      "Epoch: 5 \tTraining accuracy: 0.671196 \tValidation accuracy: 0.440447\n",
      "Validation loss decreased (2.306778 --> 1.859829).  Saving model ...\n",
      "epoch =  6\n"
     ]
    },
    {
     "data": {
      "application/vnd.jupyter.widget-view+json": {
       "model_id": "dfe900e70cf946d8a38d2ab4fbcc3de4",
       "version_major": 2,
       "version_minor": 0
      },
      "text/plain": [
       "  0%|          | 0/62 [00:00<?, ?it/s]"
      ]
     },
     "metadata": {},
     "output_type": "display_data"
    },
    {
     "data": {
      "application/vnd.jupyter.widget-view+json": {
       "model_id": "5713a080f7564ddc820d79a0ad4f8144",
       "version_major": 2,
       "version_minor": 0
      },
      "text/plain": [
       "  0%|          | 0/31 [00:00<?, ?it/s]"
      ]
     },
     "metadata": {},
     "output_type": "display_data"
    },
    {
     "name": "stdout",
     "output_type": "stream",
     "text": [
      "Epoch: 6 \tTraining Loss: 1.050673 \tValidation Loss: 1.867658\n",
      "Epoch: 6 \tTraining accuracy: 0.674636 \tValidation accuracy: 0.452854\n",
      "epoch =  7\n"
     ]
    },
    {
     "data": {
      "application/vnd.jupyter.widget-view+json": {
       "model_id": "da299ec4d19e4b12917094f9403f7a39",
       "version_major": 2,
       "version_minor": 0
      },
      "text/plain": [
       "  0%|          | 0/62 [00:00<?, ?it/s]"
      ]
     },
     "metadata": {},
     "output_type": "display_data"
    },
    {
     "data": {
      "application/vnd.jupyter.widget-view+json": {
       "model_id": "ad387385a00446d497c0bf998bd42ed9",
       "version_major": 2,
       "version_minor": 0
      },
      "text/plain": [
       "  0%|          | 0/31 [00:00<?, ?it/s]"
      ]
     },
     "metadata": {},
     "output_type": "display_data"
    },
    {
     "name": "stdout",
     "output_type": "stream",
     "text": [
      "Epoch: 7 \tTraining Loss: 1.012788 \tValidation Loss: 1.958472\n",
      "Epoch: 7 \tTraining accuracy: 0.685309 \tValidation accuracy: 0.433158\n",
      "epoch =  8\n"
     ]
    },
    {
     "data": {
      "application/vnd.jupyter.widget-view+json": {
       "model_id": "3a5b2fc14df04f8fbdd4701695052fc0",
       "version_major": 2,
       "version_minor": 0
      },
      "text/plain": [
       "  0%|          | 0/62 [00:00<?, ?it/s]"
      ]
     },
     "metadata": {},
     "output_type": "display_data"
    },
    {
     "data": {
      "application/vnd.jupyter.widget-view+json": {
       "model_id": "cd543c8971044432bb0f471e5dcf9d50",
       "version_major": 2,
       "version_minor": 0
      },
      "text/plain": [
       "  0%|          | 0/31 [00:00<?, ?it/s]"
      ]
     },
     "metadata": {},
     "output_type": "display_data"
    },
    {
     "name": "stdout",
     "output_type": "stream",
     "text": [
      "Epoch: 8 \tTraining Loss: 0.911267 \tValidation Loss: 1.527106\n",
      "Epoch: 8 \tTraining accuracy: 0.711628 \tValidation accuracy: 0.542029\n",
      "Validation loss decreased (1.859829 --> 1.527106).  Saving model ...\n",
      "epoch =  9\n"
     ]
    },
    {
     "data": {
      "application/vnd.jupyter.widget-view+json": {
       "model_id": "7705d88f11c64522a195bf2009ac2841",
       "version_major": 2,
       "version_minor": 0
      },
      "text/plain": [
       "  0%|          | 0/62 [00:00<?, ?it/s]"
      ]
     },
     "metadata": {},
     "output_type": "display_data"
    },
    {
     "data": {
      "application/vnd.jupyter.widget-view+json": {
       "model_id": "4f5db5f7f4cd432a9b9ccf2ba6442396",
       "version_major": 2,
       "version_minor": 0
      },
      "text/plain": [
       "  0%|          | 0/31 [00:00<?, ?it/s]"
      ]
     },
     "metadata": {},
     "output_type": "display_data"
    },
    {
     "name": "stdout",
     "output_type": "stream",
     "text": [
      "Epoch: 9 \tTraining Loss: 0.888559 \tValidation Loss: 1.605884\n",
      "Epoch: 9 \tTraining accuracy: 0.725938 \tValidation accuracy: 0.521867\n",
      "epoch =  10\n"
     ]
    },
    {
     "data": {
      "application/vnd.jupyter.widget-view+json": {
       "model_id": "ec667416b26642b48eb9713b66199e6f",
       "version_major": 2,
       "version_minor": 0
      },
      "text/plain": [
       "  0%|          | 0/62 [00:00<?, ?it/s]"
      ]
     },
     "metadata": {},
     "output_type": "display_data"
    },
    {
     "data": {
      "application/vnd.jupyter.widget-view+json": {
       "model_id": "3c55831f215a46d0a6f9df372206974a",
       "version_major": 2,
       "version_minor": 0
      },
      "text/plain": [
       "  0%|          | 0/31 [00:00<?, ?it/s]"
      ]
     },
     "metadata": {},
     "output_type": "display_data"
    },
    {
     "name": "stdout",
     "output_type": "stream",
     "text": [
      "Epoch: 10 \tTraining Loss: 0.915672 \tValidation Loss: 1.490755\n",
      "Epoch: 10 \tTraining accuracy: 0.715331 \tValidation accuracy: 0.545596\n",
      "Validation loss decreased (1.527106 --> 1.490755).  Saving model ...\n",
      "epoch =  11\n"
     ]
    },
    {
     "data": {
      "application/vnd.jupyter.widget-view+json": {
       "model_id": "d08160e7a2964336aed8fc49758d09b0",
       "version_major": 2,
       "version_minor": 0
      },
      "text/plain": [
       "  0%|          | 0/62 [00:00<?, ?it/s]"
      ]
     },
     "metadata": {},
     "output_type": "display_data"
    },
    {
     "data": {
      "application/vnd.jupyter.widget-view+json": {
       "model_id": "7d7cddbba6374e728d1fe0efbcfdda85",
       "version_major": 2,
       "version_minor": 0
      },
      "text/plain": [
       "  0%|          | 0/31 [00:00<?, ?it/s]"
      ]
     },
     "metadata": {},
     "output_type": "display_data"
    },
    {
     "name": "stdout",
     "output_type": "stream",
     "text": [
      "Epoch: 11 \tTraining Loss: 0.885913 \tValidation Loss: 1.761818\n",
      "Epoch: 11 \tTraining accuracy: 0.711124 \tValidation accuracy: 0.468362\n",
      "epoch =  12\n"
     ]
    },
    {
     "data": {
      "application/vnd.jupyter.widget-view+json": {
       "model_id": "bb1eb6d77b004bcbb854a8e832015c4e",
       "version_major": 2,
       "version_minor": 0
      },
      "text/plain": [
       "  0%|          | 0/62 [00:00<?, ?it/s]"
      ]
     },
     "metadata": {},
     "output_type": "display_data"
    },
    {
     "data": {
      "application/vnd.jupyter.widget-view+json": {
       "model_id": "d86ce16253684322bc6d1d1980cd445e",
       "version_major": 2,
       "version_minor": 0
      },
      "text/plain": [
       "  0%|          | 0/31 [00:00<?, ?it/s]"
      ]
     },
     "metadata": {},
     "output_type": "display_data"
    },
    {
     "name": "stdout",
     "output_type": "stream",
     "text": [
      "Epoch: 12 \tTraining Loss: 0.830916 \tValidation Loss: 2.199401\n",
      "Epoch: 12 \tTraining accuracy: 0.736216 \tValidation accuracy: 0.384305\n",
      "epoch =  13\n"
     ]
    },
    {
     "data": {
      "application/vnd.jupyter.widget-view+json": {
       "model_id": "1f8fe2a46fba4ad8ae6406ee6655f615",
       "version_major": 2,
       "version_minor": 0
      },
      "text/plain": [
       "  0%|          | 0/62 [00:00<?, ?it/s]"
      ]
     },
     "metadata": {},
     "output_type": "display_data"
    },
    {
     "data": {
      "application/vnd.jupyter.widget-view+json": {
       "model_id": "85aa3889993248cc89bf257d643ed37b",
       "version_major": 2,
       "version_minor": 0
      },
      "text/plain": [
       "  0%|          | 0/31 [00:00<?, ?it/s]"
      ]
     },
     "metadata": {},
     "output_type": "display_data"
    },
    {
     "name": "stdout",
     "output_type": "stream",
     "text": [
      "Epoch: 13 \tTraining Loss: 0.823329 \tValidation Loss: 2.203533\n",
      "Epoch: 13 \tTraining accuracy: 0.746494 \tValidation accuracy: 0.412531\n",
      "epoch =  14\n"
     ]
    },
    {
     "data": {
      "application/vnd.jupyter.widget-view+json": {
       "model_id": "513a148e24684350ac4098e2eb54ecb2",
       "version_major": 2,
       "version_minor": 0
      },
      "text/plain": [
       "  0%|          | 0/62 [00:00<?, ?it/s]"
      ]
     },
     "metadata": {},
     "output_type": "display_data"
    },
    {
     "data": {
      "application/vnd.jupyter.widget-view+json": {
       "model_id": "aafcff9ff78a432fbb07516d341b6313",
       "version_major": 2,
       "version_minor": 0
      },
      "text/plain": [
       "  0%|          | 0/31 [00:00<?, ?it/s]"
      ]
     },
     "metadata": {},
     "output_type": "display_data"
    },
    {
     "name": "stdout",
     "output_type": "stream",
     "text": [
      "Epoch: 14 \tTraining Loss: 0.847077 \tValidation Loss: 1.749457\n",
      "Epoch: 14 \tTraining accuracy: 0.731395 \tValidation accuracy: 0.440757\n",
      "epoch =  15\n"
     ]
    },
    {
     "data": {
      "application/vnd.jupyter.widget-view+json": {
       "model_id": "d8bdbf99956f4a629bb03320005d0fe3",
       "version_major": 2,
       "version_minor": 0
      },
      "text/plain": [
       "  0%|          | 0/62 [00:00<?, ?it/s]"
      ]
     },
     "metadata": {},
     "output_type": "display_data"
    },
    {
     "data": {
      "application/vnd.jupyter.widget-view+json": {
       "model_id": "a3a60da79fb343d1baae57e2dd915bd0",
       "version_major": 2,
       "version_minor": 0
      },
      "text/plain": [
       "  0%|          | 0/31 [00:00<?, ?it/s]"
      ]
     },
     "metadata": {},
     "output_type": "display_data"
    },
    {
     "name": "stdout",
     "output_type": "stream",
     "text": [
      "Epoch: 15 \tTraining Loss: 0.787468 \tValidation Loss: 1.645660\n",
      "Epoch: 15 \tTraining accuracy: 0.760607 \tValidation accuracy: 0.473480\n",
      "epoch =  16\n"
     ]
    },
    {
     "data": {
      "application/vnd.jupyter.widget-view+json": {
       "model_id": "664ea3de93c44ae69931aef9d20c09ca",
       "version_major": 2,
       "version_minor": 0
      },
      "text/plain": [
       "  0%|          | 0/62 [00:00<?, ?it/s]"
      ]
     },
     "metadata": {},
     "output_type": "display_data"
    },
    {
     "data": {
      "application/vnd.jupyter.widget-view+json": {
       "model_id": "4e1240e988bf4c73a11f0f51708960bb",
       "version_major": 2,
       "version_minor": 0
      },
      "text/plain": [
       "  0%|          | 0/31 [00:00<?, ?it/s]"
      ]
     },
     "metadata": {},
     "output_type": "display_data"
    },
    {
     "name": "stdout",
     "output_type": "stream",
     "text": [
      "Epoch: 16 \tTraining Loss: 0.797876 \tValidation Loss: 1.820676\n",
      "Epoch: 16 \tTraining accuracy: 0.757298 \tValidation accuracy: 0.427730\n",
      "epoch =  17\n"
     ]
    },
    {
     "data": {
      "application/vnd.jupyter.widget-view+json": {
       "model_id": "eff7dc05cf5a46f3879965a2bf2217a8",
       "version_major": 2,
       "version_minor": 0
      },
      "text/plain": [
       "  0%|          | 0/62 [00:00<?, ?it/s]"
      ]
     },
     "metadata": {},
     "output_type": "display_data"
    },
    {
     "data": {
      "application/vnd.jupyter.widget-view+json": {
       "model_id": "13616b2158d54e9aae59d49c70835246",
       "version_major": 2,
       "version_minor": 0
      },
      "text/plain": [
       "  0%|          | 0/31 [00:00<?, ?it/s]"
      ]
     },
     "metadata": {},
     "output_type": "display_data"
    },
    {
     "name": "stdout",
     "output_type": "stream",
     "text": [
      "Epoch: 17 \tTraining Loss: 0.760930 \tValidation Loss: 1.701151\n",
      "Epoch: 17 \tTraining accuracy: 0.775925 \tValidation accuracy: 0.487128\n",
      "epoch =  18\n"
     ]
    },
    {
     "data": {
      "application/vnd.jupyter.widget-view+json": {
       "model_id": "f1687aa04728445984fdcb7c2876adff",
       "version_major": 2,
       "version_minor": 0
      },
      "text/plain": [
       "  0%|          | 0/62 [00:00<?, ?it/s]"
      ]
     },
     "metadata": {},
     "output_type": "display_data"
    },
    {
     "data": {
      "application/vnd.jupyter.widget-view+json": {
       "model_id": "8a156ca1d52c4b92b1c668968248bdfc",
       "version_major": 2,
       "version_minor": 0
      },
      "text/plain": [
       "  0%|          | 0/31 [00:00<?, ?it/s]"
      ]
     },
     "metadata": {},
     "output_type": "display_data"
    },
    {
     "name": "stdout",
     "output_type": "stream",
     "text": [
      "Epoch: 18 \tTraining Loss: 0.762785 \tValidation Loss: 1.588729\n",
      "Epoch: 18 \tTraining accuracy: 0.766370 \tValidation accuracy: 0.503877\n",
      "epoch =  19\n"
     ]
    },
    {
     "data": {
      "application/vnd.jupyter.widget-view+json": {
       "model_id": "fc5e6269bcf74558bb60f35b70826fa5",
       "version_major": 2,
       "version_minor": 0
      },
      "text/plain": [
       "  0%|          | 0/62 [00:00<?, ?it/s]"
      ]
     },
     "metadata": {},
     "output_type": "display_data"
    },
    {
     "data": {
      "application/vnd.jupyter.widget-view+json": {
       "model_id": "57d1d9b8d2d6411fb8e963a1d495b27b",
       "version_major": 2,
       "version_minor": 0
      },
      "text/plain": [
       "  0%|          | 0/31 [00:00<?, ?it/s]"
      ]
     },
     "metadata": {},
     "output_type": "display_data"
    },
    {
     "name": "stdout",
     "output_type": "stream",
     "text": [
      "Epoch: 19 \tTraining Loss: 0.780845 \tValidation Loss: 1.403129\n",
      "Epoch: 19 \tTraining accuracy: 0.766655 \tValidation accuracy: 0.550093\n",
      "Validation loss decreased (1.490755 --> 1.403129).  Saving model ...\n",
      "epoch =  20\n"
     ]
    },
    {
     "data": {
      "application/vnd.jupyter.widget-view+json": {
       "model_id": "5ac9168972eb4ebba068d6991cba0202",
       "version_major": 2,
       "version_minor": 0
      },
      "text/plain": [
       "  0%|          | 0/62 [00:00<?, ?it/s]"
      ]
     },
     "metadata": {},
     "output_type": "display_data"
    },
    {
     "data": {
      "application/vnd.jupyter.widget-view+json": {
       "model_id": "dfb3d71724e74cdba967f22a052ef63d",
       "version_major": 2,
       "version_minor": 0
      },
      "text/plain": [
       "  0%|          | 0/31 [00:00<?, ?it/s]"
      ]
     },
     "metadata": {},
     "output_type": "display_data"
    },
    {
     "name": "stdout",
     "output_type": "stream",
     "text": [
      "Epoch: 20 \tTraining Loss: 0.539754 \tValidation Loss: 1.263607\n",
      "Epoch: 20 \tTraining accuracy: 0.845481 \tValidation accuracy: 0.626706\n",
      "Validation loss decreased (1.403129 --> 1.263607).  Saving model ...\n",
      "epoch =  21\n"
     ]
    },
    {
     "data": {
      "application/vnd.jupyter.widget-view+json": {
       "model_id": "952f135dc3114399928d8fc5abc566e6",
       "version_major": 2,
       "version_minor": 0
      },
      "text/plain": [
       "  0%|          | 0/62 [00:00<?, ?it/s]"
      ]
     },
     "metadata": {},
     "output_type": "display_data"
    },
    {
     "data": {
      "application/vnd.jupyter.widget-view+json": {
       "model_id": "939baa92bb694299b240c86c4ead2211",
       "version_major": 2,
       "version_minor": 0
      },
      "text/plain": [
       "  0%|          | 0/31 [00:00<?, ?it/s]"
      ]
     },
     "metadata": {},
     "output_type": "display_data"
    },
    {
     "name": "stdout",
     "output_type": "stream",
     "text": [
      "Epoch: 21 \tTraining Loss: 0.412891 \tValidation Loss: 1.083505\n",
      "Epoch: 21 \tTraining accuracy: 0.888521 \tValidation accuracy: 0.662996\n",
      "Validation loss decreased (1.263607 --> 1.083505).  Saving model ...\n",
      "epoch =  22\n"
     ]
    },
    {
     "data": {
      "application/vnd.jupyter.widget-view+json": {
       "model_id": "12d7f3061239415294c501e5ac39765e",
       "version_major": 2,
       "version_minor": 0
      },
      "text/plain": [
       "  0%|          | 0/62 [00:00<?, ?it/s]"
      ]
     },
     "metadata": {},
     "output_type": "display_data"
    },
    {
     "data": {
      "application/vnd.jupyter.widget-view+json": {
       "model_id": "e8f8265c698d465da1815604f5ef60c1",
       "version_major": 2,
       "version_minor": 0
      },
      "text/plain": [
       "  0%|          | 0/31 [00:00<?, ?it/s]"
      ]
     },
     "metadata": {},
     "output_type": "display_data"
    },
    {
     "name": "stdout",
     "output_type": "stream",
     "text": [
      "Epoch: 22 \tTraining Loss: 0.375410 \tValidation Loss: 1.046130\n",
      "Epoch: 22 \tTraining accuracy: 0.897901 \tValidation accuracy: 0.683623\n",
      "Validation loss decreased (1.083505 --> 1.046130).  Saving model ...\n",
      "epoch =  23\n"
     ]
    },
    {
     "data": {
      "application/vnd.jupyter.widget-view+json": {
       "model_id": "8df78bd9372d46c38d6a8e06ddaa38d9",
       "version_major": 2,
       "version_minor": 0
      },
      "text/plain": [
       "  0%|          | 0/62 [00:00<?, ?it/s]"
      ]
     },
     "metadata": {},
     "output_type": "display_data"
    },
    {
     "data": {
      "application/vnd.jupyter.widget-view+json": {
       "model_id": "3e54b2d34f9c446c99d01f72fd8b5b3a",
       "version_major": 2,
       "version_minor": 0
      },
      "text/plain": [
       "  0%|          | 0/31 [00:00<?, ?it/s]"
      ]
     },
     "metadata": {},
     "output_type": "display_data"
    },
    {
     "name": "stdout",
     "output_type": "stream",
     "text": [
      "Epoch: 23 \tTraining Loss: 0.331416 \tValidation Loss: 1.184932\n",
      "Epoch: 23 \tTraining accuracy: 0.911093 \tValidation accuracy: 0.618641\n",
      "epoch =  24\n"
     ]
    },
    {
     "data": {
      "application/vnd.jupyter.widget-view+json": {
       "model_id": "a522f03b39674398acd690099a351d25",
       "version_major": 2,
       "version_minor": 0
      },
      "text/plain": [
       "  0%|          | 0/62 [00:00<?, ?it/s]"
      ]
     },
     "metadata": {},
     "output_type": "display_data"
    },
    {
     "data": {
      "application/vnd.jupyter.widget-view+json": {
       "model_id": "cca8327f19b04031bb5688e552638852",
       "version_major": 2,
       "version_minor": 0
      },
      "text/plain": [
       "  0%|          | 0/31 [00:00<?, ?it/s]"
      ]
     },
     "metadata": {},
     "output_type": "display_data"
    },
    {
     "name": "stdout",
     "output_type": "stream",
     "text": [
      "Epoch: 24 \tTraining Loss: 0.303367 \tValidation Loss: 1.054513\n",
      "Epoch: 24 \tTraining accuracy: 0.923606 \tValidation accuracy: 0.692618\n",
      "epoch =  25\n"
     ]
    },
    {
     "data": {
      "application/vnd.jupyter.widget-view+json": {
       "model_id": "fb0aa8675ec44d2f8d455cea5c63d1f7",
       "version_major": 2,
       "version_minor": 0
      },
      "text/plain": [
       "  0%|          | 0/62 [00:00<?, ?it/s]"
      ]
     },
     "metadata": {},
     "output_type": "display_data"
    },
    {
     "data": {
      "application/vnd.jupyter.widget-view+json": {
       "model_id": "16e68eff2e0d4099b89e145028d588b6",
       "version_major": 2,
       "version_minor": 0
      },
      "text/plain": [
       "  0%|          | 0/31 [00:00<?, ?it/s]"
      ]
     },
     "metadata": {},
     "output_type": "display_data"
    },
    {
     "name": "stdout",
     "output_type": "stream",
     "text": [
      "Epoch: 25 \tTraining Loss: 0.305209 \tValidation Loss: 1.038156\n",
      "Epoch: 25 \tTraining accuracy: 0.922993 \tValidation accuracy: 0.674473\n",
      "Validation loss decreased (1.046130 --> 1.038156).  Saving model ...\n",
      "epoch =  26\n"
     ]
    },
    {
     "data": {
      "application/vnd.jupyter.widget-view+json": {
       "model_id": "bb3139c5959e41ff81566ca6c353f8c4",
       "version_major": 2,
       "version_minor": 0
      },
      "text/plain": [
       "  0%|          | 0/62 [00:00<?, ?it/s]"
      ]
     },
     "metadata": {},
     "output_type": "display_data"
    },
    {
     "data": {
      "application/vnd.jupyter.widget-view+json": {
       "model_id": "8a05e5130c04460eaefa6c0d387b2a2a",
       "version_major": 2,
       "version_minor": 0
      },
      "text/plain": [
       "  0%|          | 0/31 [00:00<?, ?it/s]"
      ]
     },
     "metadata": {},
     "output_type": "display_data"
    },
    {
     "name": "stdout",
     "output_type": "stream",
     "text": [
      "Epoch: 26 \tTraining Loss: 0.299793 \tValidation Loss: 1.014898\n",
      "Epoch: 26 \tTraining accuracy: 0.925622 \tValidation accuracy: 0.683623\n",
      "Validation loss decreased (1.038156 --> 1.014898).  Saving model ...\n",
      "epoch =  27\n"
     ]
    },
    {
     "data": {
      "application/vnd.jupyter.widget-view+json": {
       "model_id": "fbea695d51ba45fb9df0f1f5a2180cc6",
       "version_major": 2,
       "version_minor": 0
      },
      "text/plain": [
       "  0%|          | 0/62 [00:00<?, ?it/s]"
      ]
     },
     "metadata": {},
     "output_type": "display_data"
    },
    {
     "data": {
      "application/vnd.jupyter.widget-view+json": {
       "model_id": "cacd4ebbcabc4b8d888ee90fb33a5232",
       "version_major": 2,
       "version_minor": 0
      },
      "text/plain": [
       "  0%|          | 0/31 [00:00<?, ?it/s]"
      ]
     },
     "metadata": {},
     "output_type": "display_data"
    },
    {
     "name": "stdout",
     "output_type": "stream",
     "text": [
      "Epoch: 27 \tTraining Loss: 0.295284 \tValidation Loss: 0.987064\n",
      "Epoch: 27 \tTraining accuracy: 0.935703 \tValidation accuracy: 0.691687\n",
      "Validation loss decreased (1.014898 --> 0.987064).  Saving model ...\n",
      "epoch =  28\n"
     ]
    },
    {
     "data": {
      "application/vnd.jupyter.widget-view+json": {
       "model_id": "3f40621ad217446dae3a112d3fa1e88a",
       "version_major": 2,
       "version_minor": 0
      },
      "text/plain": [
       "  0%|          | 0/62 [00:00<?, ?it/s]"
      ]
     },
     "metadata": {},
     "output_type": "display_data"
    },
    {
     "data": {
      "application/vnd.jupyter.widget-view+json": {
       "model_id": "af7d910773f741a3b7f2ee60e0002dc6",
       "version_major": 2,
       "version_minor": 0
      },
      "text/plain": [
       "  0%|          | 0/31 [00:00<?, ?it/s]"
      ]
     },
     "metadata": {},
     "output_type": "display_data"
    },
    {
     "name": "stdout",
     "output_type": "stream",
     "text": [
      "Epoch: 28 \tTraining Loss: 0.278529 \tValidation Loss: 0.977217\n",
      "Epoch: 28 \tTraining accuracy: 0.933468 \tValidation accuracy: 0.707816\n",
      "Validation loss decreased (0.987064 --> 0.977217).  Saving model ...\n",
      "epoch =  29\n"
     ]
    },
    {
     "data": {
      "application/vnd.jupyter.widget-view+json": {
       "model_id": "cf04bc0c0c224d80bb0ce0a702cd2f63",
       "version_major": 2,
       "version_minor": 0
      },
      "text/plain": [
       "  0%|          | 0/62 [00:00<?, ?it/s]"
      ]
     },
     "metadata": {},
     "output_type": "display_data"
    },
    {
     "data": {
      "application/vnd.jupyter.widget-view+json": {
       "model_id": "40188b052d7e4dadba72bb256920ae16",
       "version_major": 2,
       "version_minor": 0
      },
      "text/plain": [
       "  0%|          | 0/31 [00:00<?, ?it/s]"
      ]
     },
     "metadata": {},
     "output_type": "display_data"
    },
    {
     "name": "stdout",
     "output_type": "stream",
     "text": [
      "Epoch: 29 \tTraining Loss: 0.273601 \tValidation Loss: 1.020938\n",
      "Epoch: 29 \tTraining accuracy: 0.941445 \tValidation accuracy: 0.663462\n",
      "epoch =  30\n"
     ]
    },
    {
     "data": {
      "application/vnd.jupyter.widget-view+json": {
       "model_id": "34a6da01e4cc4a7dbbc34cb31fec4696",
       "version_major": 2,
       "version_minor": 0
      },
      "text/plain": [
       "  0%|          | 0/62 [00:00<?, ?it/s]"
      ]
     },
     "metadata": {},
     "output_type": "display_data"
    },
    {
     "data": {
      "application/vnd.jupyter.widget-view+json": {
       "model_id": "db674ad4fb9c4f6998cb485079892cc9",
       "version_major": 2,
       "version_minor": 0
      },
      "text/plain": [
       "  0%|          | 0/31 [00:00<?, ?it/s]"
      ]
     },
     "metadata": {},
     "output_type": "display_data"
    },
    {
     "name": "stdout",
     "output_type": "stream",
     "text": [
      "Epoch: 30 \tTraining Loss: 0.259709 \tValidation Loss: 0.973012\n",
      "Epoch: 30 \tTraining accuracy: 0.936602 \tValidation accuracy: 0.703784\n",
      "Validation loss decreased (0.977217 --> 0.973012).  Saving model ...\n",
      "epoch =  31\n"
     ]
    },
    {
     "data": {
      "application/vnd.jupyter.widget-view+json": {
       "model_id": "6332c79922ac4e3384bcfa50ed308a76",
       "version_major": 2,
       "version_minor": 0
      },
      "text/plain": [
       "  0%|          | 0/62 [00:00<?, ?it/s]"
      ]
     },
     "metadata": {},
     "output_type": "display_data"
    },
    {
     "data": {
      "application/vnd.jupyter.widget-view+json": {
       "model_id": "2179ecbef559467f8f314de66785674c",
       "version_major": 2,
       "version_minor": 0
      },
      "text/plain": [
       "  0%|          | 0/31 [00:00<?, ?it/s]"
      ]
     },
     "metadata": {},
     "output_type": "display_data"
    },
    {
     "name": "stdout",
     "output_type": "stream",
     "text": [
      "Epoch: 31 \tTraining Loss: 0.243624 \tValidation Loss: 0.987051\n",
      "Epoch: 31 \tTraining accuracy: 0.947383 \tValidation accuracy: 0.694169\n",
      "epoch =  32\n"
     ]
    },
    {
     "data": {
      "application/vnd.jupyter.widget-view+json": {
       "model_id": "c1d93b09d15c4102ba5f5c2d383fb8fc",
       "version_major": 2,
       "version_minor": 0
      },
      "text/plain": [
       "  0%|          | 0/62 [00:00<?, ?it/s]"
      ]
     },
     "metadata": {},
     "output_type": "display_data"
    },
    {
     "data": {
      "application/vnd.jupyter.widget-view+json": {
       "model_id": "2de05019fb1b4e249c15eb88dff64238",
       "version_major": 2,
       "version_minor": 0
      },
      "text/plain": [
       "  0%|          | 0/31 [00:00<?, ?it/s]"
      ]
     },
     "metadata": {},
     "output_type": "display_data"
    },
    {
     "name": "stdout",
     "output_type": "stream",
     "text": [
      "Epoch: 32 \tTraining Loss: 0.249477 \tValidation Loss: 0.918375\n",
      "Epoch: 32 \tTraining accuracy: 0.945871 \tValidation accuracy: 0.720999\n",
      "Validation loss decreased (0.973012 --> 0.918375).  Saving model ...\n",
      "epoch =  33\n"
     ]
    },
    {
     "data": {
      "application/vnd.jupyter.widget-view+json": {
       "model_id": "b1d0bd58004d430c9f7c9d70609eabdc",
       "version_major": 2,
       "version_minor": 0
      },
      "text/plain": [
       "  0%|          | 0/62 [00:00<?, ?it/s]"
      ]
     },
     "metadata": {},
     "output_type": "display_data"
    },
    {
     "data": {
      "application/vnd.jupyter.widget-view+json": {
       "model_id": "4db61ee2a7444f3da96641f380570ed3",
       "version_major": 2,
       "version_minor": 0
      },
      "text/plain": [
       "  0%|          | 0/31 [00:00<?, ?it/s]"
      ]
     },
     "metadata": {},
     "output_type": "display_data"
    },
    {
     "name": "stdout",
     "output_type": "stream",
     "text": [
      "Epoch: 33 \tTraining Loss: 0.251306 \tValidation Loss: 0.923040\n",
      "Epoch: 33 \tTraining accuracy: 0.949093 \tValidation accuracy: 0.714950\n",
      "epoch =  34\n"
     ]
    },
    {
     "data": {
      "application/vnd.jupyter.widget-view+json": {
       "model_id": "485b8df8feaa469caa977c7a9da26f9f",
       "version_major": 2,
       "version_minor": 0
      },
      "text/plain": [
       "  0%|          | 0/62 [00:00<?, ?it/s]"
      ]
     },
     "metadata": {},
     "output_type": "display_data"
    },
    {
     "data": {
      "application/vnd.jupyter.widget-view+json": {
       "model_id": "29e8ae098ccd419f8fe8fe99a8d3c20a",
       "version_major": 2,
       "version_minor": 0
      },
      "text/plain": [
       "  0%|          | 0/31 [00:00<?, ?it/s]"
      ]
     },
     "metadata": {},
     "output_type": "display_data"
    },
    {
     "name": "stdout",
     "output_type": "stream",
     "text": [
      "Epoch: 34 \tTraining Loss: 0.224498 \tValidation Loss: 0.877143\n",
      "Epoch: 34 \tTraining accuracy: 0.962000 \tValidation accuracy: 0.742556\n",
      "Validation loss decreased (0.918375 --> 0.877143).  Saving model ...\n",
      "epoch =  35\n"
     ]
    },
    {
     "data": {
      "application/vnd.jupyter.widget-view+json": {
       "model_id": "161780479a1f4020b3e05d8d3d53542c",
       "version_major": 2,
       "version_minor": 0
      },
      "text/plain": [
       "  0%|          | 0/62 [00:00<?, ?it/s]"
      ]
     },
     "metadata": {},
     "output_type": "display_data"
    },
    {
     "data": {
      "application/vnd.jupyter.widget-view+json": {
       "model_id": "c2465d0117e5470899af53ee10880d37",
       "version_major": 2,
       "version_minor": 0
      },
      "text/plain": [
       "  0%|          | 0/31 [00:00<?, ?it/s]"
      ]
     },
     "metadata": {},
     "output_type": "display_data"
    },
    {
     "name": "stdout",
     "output_type": "stream",
     "text": [
      "Epoch: 35 \tTraining Loss: 0.224501 \tValidation Loss: 0.881459\n",
      "Epoch: 35 \tTraining accuracy: 0.958889 \tValidation accuracy: 0.735577\n",
      "epoch =  36\n"
     ]
    },
    {
     "data": {
      "application/vnd.jupyter.widget-view+json": {
       "model_id": "4f0bc70466d346448e326e8e298be62c",
       "version_major": 2,
       "version_minor": 0
      },
      "text/plain": [
       "  0%|          | 0/62 [00:00<?, ?it/s]"
      ]
     },
     "metadata": {},
     "output_type": "display_data"
    },
    {
     "data": {
      "application/vnd.jupyter.widget-view+json": {
       "model_id": "32db75db32c440e3871c40a4d1a2123c",
       "version_major": 2,
       "version_minor": 0
      },
      "text/plain": [
       "  0%|          | 0/31 [00:00<?, ?it/s]"
      ]
     },
     "metadata": {},
     "output_type": "display_data"
    },
    {
     "name": "stdout",
     "output_type": "stream",
     "text": [
      "Epoch: 36 \tTraining Loss: 0.242687 \tValidation Loss: 0.897204\n",
      "Epoch: 36 \tTraining accuracy: 0.949400 \tValidation accuracy: 0.718362\n",
      "epoch =  37\n"
     ]
    },
    {
     "data": {
      "application/vnd.jupyter.widget-view+json": {
       "model_id": "182712e649a3418e87e5e4f46fb0ab22",
       "version_major": 2,
       "version_minor": 0
      },
      "text/plain": [
       "  0%|          | 0/62 [00:00<?, ?it/s]"
      ]
     },
     "metadata": {},
     "output_type": "display_data"
    },
    {
     "data": {
      "application/vnd.jupyter.widget-view+json": {
       "model_id": "35a9b0907f8d4a4f99e295c57bdbfaa7",
       "version_major": 2,
       "version_minor": 0
      },
      "text/plain": [
       "  0%|          | 0/31 [00:00<?, ?it/s]"
      ]
     },
     "metadata": {},
     "output_type": "display_data"
    },
    {
     "name": "stdout",
     "output_type": "stream",
     "text": [
      "Epoch: 37 \tTraining Loss: 0.227493 \tValidation Loss: 0.883059\n",
      "Epoch: 37 \tTraining accuracy: 0.949202 \tValidation accuracy: 0.723480\n",
      "epoch =  38\n"
     ]
    },
    {
     "data": {
      "application/vnd.jupyter.widget-view+json": {
       "model_id": "586d8d5e844f4002a8668692efcedc6b",
       "version_major": 2,
       "version_minor": 0
      },
      "text/plain": [
       "  0%|          | 0/62 [00:00<?, ?it/s]"
      ]
     },
     "metadata": {},
     "output_type": "display_data"
    },
    {
     "data": {
      "application/vnd.jupyter.widget-view+json": {
       "model_id": "f82ddd933f3b4ba1af5f453f6c7bef5a",
       "version_major": 2,
       "version_minor": 0
      },
      "text/plain": [
       "  0%|          | 0/31 [00:00<?, ?it/s]"
      ]
     },
     "metadata": {},
     "output_type": "display_data"
    },
    {
     "name": "stdout",
     "output_type": "stream",
     "text": [
      "Epoch: 38 \tTraining Loss: 0.213585 \tValidation Loss: 0.917398\n",
      "Epoch: 38 \tTraining accuracy: 0.961496 \tValidation accuracy: 0.736042\n",
      "epoch =  39\n"
     ]
    },
    {
     "data": {
      "application/vnd.jupyter.widget-view+json": {
       "model_id": "68d78b2ec5dd4d349c691d3b3eeaa23a",
       "version_major": 2,
       "version_minor": 0
      },
      "text/plain": [
       "  0%|          | 0/62 [00:00<?, ?it/s]"
      ]
     },
     "metadata": {},
     "output_type": "display_data"
    },
    {
     "data": {
      "application/vnd.jupyter.widget-view+json": {
       "model_id": "0fdfb03c304d4255b57f9eb036b1fd96",
       "version_major": 2,
       "version_minor": 0
      },
      "text/plain": [
       "  0%|          | 0/31 [00:00<?, ?it/s]"
      ]
     },
     "metadata": {},
     "output_type": "display_data"
    },
    {
     "name": "stdout",
     "output_type": "stream",
     "text": [
      "Epoch: 39 \tTraining Loss: 0.212327 \tValidation Loss: 0.864989\n",
      "Epoch: 39 \tTraining accuracy: 0.957157 \tValidation accuracy: 0.732010\n",
      "Validation loss decreased (0.877143 --> 0.864989).  Saving model ...\n",
      "epoch =  40\n"
     ]
    },
    {
     "data": {
      "application/vnd.jupyter.widget-view+json": {
       "model_id": "b6e9d62206fb488daa67b0a4c891a704",
       "version_major": 2,
       "version_minor": 0
      },
      "text/plain": [
       "  0%|          | 0/62 [00:00<?, ?it/s]"
      ]
     },
     "metadata": {},
     "output_type": "display_data"
    },
    {
     "data": {
      "application/vnd.jupyter.widget-view+json": {
       "model_id": "fc6194c3dcd64cdea99e15ffc28a51a1",
       "version_major": 2,
       "version_minor": 0
      },
      "text/plain": [
       "  0%|          | 0/31 [00:00<?, ?it/s]"
      ]
     },
     "metadata": {},
     "output_type": "display_data"
    },
    {
     "name": "stdout",
     "output_type": "stream",
     "text": [
      "Epoch: 40 \tTraining Loss: 0.220403 \tValidation Loss: 0.956955\n",
      "Epoch: 40 \tTraining accuracy: 0.953235 \tValidation accuracy: 0.709833\n",
      "epoch =  41\n"
     ]
    },
    {
     "data": {
      "application/vnd.jupyter.widget-view+json": {
       "model_id": "089a548b72f0450ea4d33abc65895134",
       "version_major": 2,
       "version_minor": 0
      },
      "text/plain": [
       "  0%|          | 0/62 [00:00<?, ?it/s]"
      ]
     },
     "metadata": {},
     "output_type": "display_data"
    },
    {
     "data": {
      "application/vnd.jupyter.widget-view+json": {
       "model_id": "7850dbeb024e4fbaa232ae9115649ae4",
       "version_major": 2,
       "version_minor": 0
      },
      "text/plain": [
       "  0%|          | 0/31 [00:00<?, ?it/s]"
      ]
     },
     "metadata": {},
     "output_type": "display_data"
    },
    {
     "name": "stdout",
     "output_type": "stream",
     "text": [
      "Epoch: 41 \tTraining Loss: 0.214399 \tValidation Loss: 0.962857\n",
      "Epoch: 41 \tTraining accuracy: 0.961190 \tValidation accuracy: 0.701303\n",
      "epoch =  42\n"
     ]
    },
    {
     "data": {
      "application/vnd.jupyter.widget-view+json": {
       "model_id": "d06d4570cb734634ab0795a6d4c0f884",
       "version_major": 2,
       "version_minor": 0
      },
      "text/plain": [
       "  0%|          | 0/62 [00:00<?, ?it/s]"
      ]
     },
     "metadata": {},
     "output_type": "display_data"
    },
    {
     "data": {
      "application/vnd.jupyter.widget-view+json": {
       "model_id": "80ecac146f204369b668360226e64c70",
       "version_major": 2,
       "version_minor": 0
      },
      "text/plain": [
       "  0%|          | 0/31 [00:00<?, ?it/s]"
      ]
     },
     "metadata": {},
     "output_type": "display_data"
    },
    {
     "name": "stdout",
     "output_type": "stream",
     "text": [
      "Epoch: 42 \tTraining Loss: 0.182373 \tValidation Loss: 0.887877\n",
      "Epoch: 42 \tTraining accuracy: 0.970065 \tValidation accuracy: 0.743021\n",
      "epoch =  43\n"
     ]
    },
    {
     "data": {
      "application/vnd.jupyter.widget-view+json": {
       "model_id": "f418e8caa4804efb9172310ec64418a3",
       "version_major": 2,
       "version_minor": 0
      },
      "text/plain": [
       "  0%|          | 0/62 [00:00<?, ?it/s]"
      ]
     },
     "metadata": {},
     "output_type": "display_data"
    },
    {
     "data": {
      "application/vnd.jupyter.widget-view+json": {
       "model_id": "9b29b76783d14c7a92599e9abbcab287",
       "version_major": 2,
       "version_minor": 0
      },
      "text/plain": [
       "  0%|          | 0/31 [00:00<?, ?it/s]"
      ]
     },
     "metadata": {},
     "output_type": "display_data"
    },
    {
     "name": "stdout",
     "output_type": "stream",
     "text": [
      "Epoch: 43 \tTraining Loss: 0.199222 \tValidation Loss: 0.979692\n",
      "Epoch: 43 \tTraining accuracy: 0.973286 \tValidation accuracy: 0.704249\n",
      "epoch =  44\n"
     ]
    },
    {
     "data": {
      "application/vnd.jupyter.widget-view+json": {
       "model_id": "3b475348a35e443aa58dd85b015de30e",
       "version_major": 2,
       "version_minor": 0
      },
      "text/plain": [
       "  0%|          | 0/62 [00:00<?, ?it/s]"
      ]
     },
     "metadata": {},
     "output_type": "display_data"
    },
    {
     "data": {
      "application/vnd.jupyter.widget-view+json": {
       "model_id": "b67ad135bfd04daf8b94063472c52c18",
       "version_major": 2,
       "version_minor": 0
      },
      "text/plain": [
       "  0%|          | 0/31 [00:00<?, ?it/s]"
      ]
     },
     "metadata": {},
     "output_type": "display_data"
    },
    {
     "name": "stdout",
     "output_type": "stream",
     "text": [
      "Epoch: 44 \tTraining Loss: 0.218434 \tValidation Loss: 0.987465\n",
      "Epoch: 44 \tTraining accuracy: 0.953739 \tValidation accuracy: 0.695254\n",
      "epoch =  45\n"
     ]
    },
    {
     "data": {
      "application/vnd.jupyter.widget-view+json": {
       "model_id": "ee226789e863492e8e48fd63bcd40c0a",
       "version_major": 2,
       "version_minor": 0
      },
      "text/plain": [
       "  0%|          | 0/62 [00:00<?, ?it/s]"
      ]
     },
     "metadata": {},
     "output_type": "display_data"
    },
    {
     "data": {
      "application/vnd.jupyter.widget-view+json": {
       "model_id": "5753ff0270fe4366b96924a2f668bb24",
       "version_major": 2,
       "version_minor": 0
      },
      "text/plain": [
       "  0%|          | 0/31 [00:00<?, ?it/s]"
      ]
     },
     "metadata": {},
     "output_type": "display_data"
    },
    {
     "name": "stdout",
     "output_type": "stream",
     "text": [
      "Epoch: 45 \tTraining Loss: 0.196495 \tValidation Loss: 0.803913\n",
      "Epoch: 45 \tTraining accuracy: 0.972388 \tValidation accuracy: 0.781483\n",
      "Validation loss decreased (0.864989 --> 0.803913).  Saving model ...\n",
      "epoch =  46\n"
     ]
    },
    {
     "data": {
      "application/vnd.jupyter.widget-view+json": {
       "model_id": "0395183cef8443beba9d66be358ee61e",
       "version_major": 2,
       "version_minor": 0
      },
      "text/plain": [
       "  0%|          | 0/62 [00:00<?, ?it/s]"
      ]
     },
     "metadata": {},
     "output_type": "display_data"
    },
    {
     "data": {
      "application/vnd.jupyter.widget-view+json": {
       "model_id": "bad1b2a27278400c80f2a06bc8d27b99",
       "version_major": 2,
       "version_minor": 0
      },
      "text/plain": [
       "  0%|          | 0/31 [00:00<?, ?it/s]"
      ]
     },
     "metadata": {},
     "output_type": "display_data"
    },
    {
     "name": "stdout",
     "output_type": "stream",
     "text": [
      "Epoch: 46 \tTraining Loss: 0.196841 \tValidation Loss: 0.920847\n",
      "Epoch: 46 \tTraining accuracy: 0.968553 \tValidation accuracy: 0.716346\n",
      "epoch =  47\n"
     ]
    },
    {
     "data": {
      "application/vnd.jupyter.widget-view+json": {
       "model_id": "939ad32419164571b4b9aaad1b719744",
       "version_major": 2,
       "version_minor": 0
      },
      "text/plain": [
       "  0%|          | 0/62 [00:00<?, ?it/s]"
      ]
     },
     "metadata": {},
     "output_type": "display_data"
    },
    {
     "data": {
      "application/vnd.jupyter.widget-view+json": {
       "model_id": "8c9a56c7b74d405ead1899b6f0e9d8d3",
       "version_major": 2,
       "version_minor": 0
      },
      "text/plain": [
       "  0%|          | 0/31 [00:00<?, ?it/s]"
      ]
     },
     "metadata": {},
     "output_type": "display_data"
    },
    {
     "name": "stdout",
     "output_type": "stream",
     "text": [
      "Epoch: 47 \tTraining Loss: 0.162534 \tValidation Loss: 0.976398\n",
      "Epoch: 47 \tTraining accuracy: 0.979137 \tValidation accuracy: 0.699752\n",
      "epoch =  48\n"
     ]
    },
    {
     "data": {
      "application/vnd.jupyter.widget-view+json": {
       "model_id": "32945a4f25a6420e92ab08ab39a9b6c0",
       "version_major": 2,
       "version_minor": 0
      },
      "text/plain": [
       "  0%|          | 0/62 [00:00<?, ?it/s]"
      ]
     },
     "metadata": {},
     "output_type": "display_data"
    },
    {
     "data": {
      "application/vnd.jupyter.widget-view+json": {
       "model_id": "8d67f924973e4ff5b5fafd1979032713",
       "version_major": 2,
       "version_minor": 0
      },
      "text/plain": [
       "  0%|          | 0/31 [00:00<?, ?it/s]"
      ]
     },
     "metadata": {},
     "output_type": "display_data"
    },
    {
     "name": "stdout",
     "output_type": "stream",
     "text": [
      "Epoch: 48 \tTraining Loss: 0.162130 \tValidation Loss: 0.840517\n",
      "Epoch: 48 \tTraining accuracy: 0.981855 \tValidation accuracy: 0.749225\n",
      "epoch =  49\n"
     ]
    },
    {
     "data": {
      "application/vnd.jupyter.widget-view+json": {
       "model_id": "d47ea030ff334d51bd0144bae0e7d118",
       "version_major": 2,
       "version_minor": 0
      },
      "text/plain": [
       "  0%|          | 0/62 [00:00<?, ?it/s]"
      ]
     },
     "metadata": {},
     "output_type": "display_data"
    },
    {
     "data": {
      "application/vnd.jupyter.widget-view+json": {
       "model_id": "a3964e2e764e4f8f98554253e05b6f67",
       "version_major": 2,
       "version_minor": 0
      },
      "text/plain": [
       "  0%|          | 0/31 [00:00<?, ?it/s]"
      ]
     },
     "metadata": {},
     "output_type": "display_data"
    },
    {
     "name": "stdout",
     "output_type": "stream",
     "text": [
      "Epoch: 49 \tTraining Loss: 0.178395 \tValidation Loss: 0.880967\n",
      "Epoch: 49 \tTraining accuracy: 0.975105 \tValidation accuracy: 0.733406\n",
      "epoch =  50\n"
     ]
    },
    {
     "data": {
      "application/vnd.jupyter.widget-view+json": {
       "model_id": "3da0dadaf60242f2ba046961c62e3821",
       "version_major": 2,
       "version_minor": 0
      },
      "text/plain": [
       "  0%|          | 0/62 [00:00<?, ?it/s]"
      ]
     },
     "metadata": {},
     "output_type": "display_data"
    },
    {
     "data": {
      "application/vnd.jupyter.widget-view+json": {
       "model_id": "26084cd6bc044dea86f4b83d36606edd",
       "version_major": 2,
       "version_minor": 0
      },
      "text/plain": [
       "  0%|          | 0/31 [00:00<?, ?it/s]"
      ]
     },
     "metadata": {},
     "output_type": "display_data"
    },
    {
     "name": "stdout",
     "output_type": "stream",
     "text": [
      "Epoch: 50 \tTraining Loss: 0.146944 \tValidation Loss: 0.823982\n",
      "Epoch: 50 \tTraining accuracy: 0.982973 \tValidation accuracy: 0.748139\n",
      "epoch =  51\n"
     ]
    },
    {
     "data": {
      "application/vnd.jupyter.widget-view+json": {
       "model_id": "90240cf5a4b746fa806ffdd5fba2336e",
       "version_major": 2,
       "version_minor": 0
      },
      "text/plain": [
       "  0%|          | 0/62 [00:00<?, ?it/s]"
      ]
     },
     "metadata": {},
     "output_type": "display_data"
    },
    {
     "data": {
      "application/vnd.jupyter.widget-view+json": {
       "model_id": "7d5978aad11543f98d9ec8d06c457ccd",
       "version_major": 2,
       "version_minor": 0
      },
      "text/plain": [
       "  0%|          | 0/31 [00:00<?, ?it/s]"
      ]
     },
     "metadata": {},
     "output_type": "display_data"
    },
    {
     "name": "stdout",
     "output_type": "stream",
     "text": [
      "Epoch: 51 \tTraining Loss: 0.125127 \tValidation Loss: 0.709607\n",
      "Epoch: 51 \tTraining accuracy: 0.991935 \tValidation accuracy: 0.788927\n",
      "Validation loss decreased (0.803913 --> 0.709607).  Saving model ...\n",
      "epoch =  52\n"
     ]
    },
    {
     "data": {
      "application/vnd.jupyter.widget-view+json": {
       "model_id": "7df7f052b0cb49deb276a4936cce4022",
       "version_major": 2,
       "version_minor": 0
      },
      "text/plain": [
       "  0%|          | 0/62 [00:00<?, ?it/s]"
      ]
     },
     "metadata": {},
     "output_type": "display_data"
    },
    {
     "data": {
      "application/vnd.jupyter.widget-view+json": {
       "model_id": "1836e0b8fdc440f685de9ce8770ae08d",
       "version_major": 2,
       "version_minor": 0
      },
      "text/plain": [
       "  0%|          | 0/31 [00:00<?, ?it/s]"
      ]
     },
     "metadata": {},
     "output_type": "display_data"
    },
    {
     "name": "stdout",
     "output_type": "stream",
     "text": [
      "Epoch: 52 \tTraining Loss: 0.122995 \tValidation Loss: 0.732413\n",
      "Epoch: 52 \tTraining accuracy: 0.987903 \tValidation accuracy: 0.770316\n",
      "epoch =  53\n"
     ]
    },
    {
     "data": {
      "application/vnd.jupyter.widget-view+json": {
       "model_id": "5c6446f4f73f49fb9030bd6ba1d7ac90",
       "version_major": 2,
       "version_minor": 0
      },
      "text/plain": [
       "  0%|          | 0/62 [00:00<?, ?it/s]"
      ]
     },
     "metadata": {},
     "output_type": "display_data"
    },
    {
     "data": {
      "application/vnd.jupyter.widget-view+json": {
       "model_id": "7f6cea1f9d554e338006e31e62b8ff75",
       "version_major": 2,
       "version_minor": 0
      },
      "text/plain": [
       "  0%|          | 0/31 [00:00<?, ?it/s]"
      ]
     },
     "metadata": {},
     "output_type": "display_data"
    },
    {
     "name": "stdout",
     "output_type": "stream",
     "text": [
      "Epoch: 53 \tTraining Loss: 0.113343 \tValidation Loss: 0.820251\n",
      "Epoch: 53 \tTraining accuracy: 0.991431 \tValidation accuracy: 0.751551\n",
      "epoch =  54\n"
     ]
    },
    {
     "data": {
      "application/vnd.jupyter.widget-view+json": {
       "model_id": "a43460a1ecb44ff9a51da1c4529000f7",
       "version_major": 2,
       "version_minor": 0
      },
      "text/plain": [
       "  0%|          | 0/62 [00:00<?, ?it/s]"
      ]
     },
     "metadata": {},
     "output_type": "display_data"
    },
    {
     "data": {
      "application/vnd.jupyter.widget-view+json": {
       "model_id": "ec7e8f0c4d5f4f49a9fe62b67c8d7f41",
       "version_major": 2,
       "version_minor": 0
      },
      "text/plain": [
       "  0%|          | 0/31 [00:00<?, ?it/s]"
      ]
     },
     "metadata": {},
     "output_type": "display_data"
    },
    {
     "name": "stdout",
     "output_type": "stream",
     "text": [
      "Epoch: 54 \tTraining Loss: 0.115144 \tValidation Loss: 0.683616\n",
      "Epoch: 54 \tTraining accuracy: 0.991935 \tValidation accuracy: 0.818083\n",
      "Validation loss decreased (0.709607 --> 0.683616).  Saving model ...\n",
      "epoch =  55\n"
     ]
    },
    {
     "data": {
      "application/vnd.jupyter.widget-view+json": {
       "model_id": "d5b99b357e0b474dade515dbe51963c8",
       "version_major": 2,
       "version_minor": 0
      },
      "text/plain": [
       "  0%|          | 0/62 [00:00<?, ?it/s]"
      ]
     },
     "metadata": {},
     "output_type": "display_data"
    },
    {
     "data": {
      "application/vnd.jupyter.widget-view+json": {
       "model_id": "a68c7537284140dba3fde60774252d02",
       "version_major": 2,
       "version_minor": 0
      },
      "text/plain": [
       "  0%|          | 0/31 [00:00<?, ?it/s]"
      ]
     },
     "metadata": {},
     "output_type": "display_data"
    },
    {
     "name": "stdout",
     "output_type": "stream",
     "text": [
      "Epoch: 55 \tTraining Loss: 0.104890 \tValidation Loss: 0.828487\n",
      "Epoch: 55 \tTraining accuracy: 0.992944 \tValidation accuracy: 0.754187\n",
      "epoch =  56\n"
     ]
    },
    {
     "data": {
      "application/vnd.jupyter.widget-view+json": {
       "model_id": "a326f62c7f4543ee93ad3866c05340e8",
       "version_major": 2,
       "version_minor": 0
      },
      "text/plain": [
       "  0%|          | 0/62 [00:00<?, ?it/s]"
      ]
     },
     "metadata": {},
     "output_type": "display_data"
    },
    {
     "data": {
      "application/vnd.jupyter.widget-view+json": {
       "model_id": "c231ac89603649e7bc95e8b0d705f0f8",
       "version_major": 2,
       "version_minor": 0
      },
      "text/plain": [
       "  0%|          | 0/31 [00:00<?, ?it/s]"
      ]
     },
     "metadata": {},
     "output_type": "display_data"
    },
    {
     "name": "stdout",
     "output_type": "stream",
     "text": [
      "Epoch: 56 \tTraining Loss: 0.101611 \tValidation Loss: 0.749273\n",
      "Epoch: 56 \tTraining accuracy: 0.990927 \tValidation accuracy: 0.761166\n",
      "epoch =  57\n"
     ]
    },
    {
     "data": {
      "application/vnd.jupyter.widget-view+json": {
       "model_id": "28d5ce566218432c8e3b8293f445e95a",
       "version_major": 2,
       "version_minor": 0
      },
      "text/plain": [
       "  0%|          | 0/62 [00:00<?, ?it/s]"
      ]
     },
     "metadata": {},
     "output_type": "display_data"
    },
    {
     "data": {
      "application/vnd.jupyter.widget-view+json": {
       "model_id": "b3c30c96a3e74caf9c7613d09229fd66",
       "version_major": 2,
       "version_minor": 0
      },
      "text/plain": [
       "  0%|          | 0/31 [00:00<?, ?it/s]"
      ]
     },
     "metadata": {},
     "output_type": "display_data"
    },
    {
     "name": "stdout",
     "output_type": "stream",
     "text": [
      "Epoch: 57 \tTraining Loss: 0.096159 \tValidation Loss: 0.659134\n",
      "Epoch: 57 \tTraining accuracy: 0.994456 \tValidation accuracy: 0.813120\n",
      "Validation loss decreased (0.683616 --> 0.659134).  Saving model ...\n",
      "epoch =  58\n"
     ]
    },
    {
     "data": {
      "application/vnd.jupyter.widget-view+json": {
       "model_id": "eeee14feacb24a638666074e4bf4b6a7",
       "version_major": 2,
       "version_minor": 0
      },
      "text/plain": [
       "  0%|          | 0/62 [00:00<?, ?it/s]"
      ]
     },
     "metadata": {},
     "output_type": "display_data"
    },
    {
     "data": {
      "application/vnd.jupyter.widget-view+json": {
       "model_id": "5ebea12d38fb492091a2ce80cd0cb7d1",
       "version_major": 2,
       "version_minor": 0
      },
      "text/plain": [
       "  0%|          | 0/31 [00:00<?, ?it/s]"
      ]
     },
     "metadata": {},
     "output_type": "display_data"
    },
    {
     "name": "stdout",
     "output_type": "stream",
     "text": [
      "Epoch: 58 \tTraining Loss: 0.094154 \tValidation Loss: 0.738643\n",
      "Epoch: 58 \tTraining accuracy: 0.991935 \tValidation accuracy: 0.780862\n",
      "epoch =  59\n"
     ]
    },
    {
     "data": {
      "application/vnd.jupyter.widget-view+json": {
       "model_id": "af20072566d9467f851b45c8399eee7e",
       "version_major": 2,
       "version_minor": 0
      },
      "text/plain": [
       "  0%|          | 0/62 [00:00<?, ?it/s]"
      ]
     },
     "metadata": {},
     "output_type": "display_data"
    },
    {
     "data": {
      "application/vnd.jupyter.widget-view+json": {
       "model_id": "08c8553fc89d4e6d930540a57cd52930",
       "version_major": 2,
       "version_minor": 0
      },
      "text/plain": [
       "  0%|          | 0/31 [00:00<?, ?it/s]"
      ]
     },
     "metadata": {},
     "output_type": "display_data"
    },
    {
     "name": "stdout",
     "output_type": "stream",
     "text": [
      "Epoch: 59 \tTraining Loss: 0.107554 \tValidation Loss: 0.697608\n",
      "Epoch: 59 \tTraining accuracy: 0.990927 \tValidation accuracy: 0.790943\n",
      "epoch =  60\n"
     ]
    },
    {
     "data": {
      "application/vnd.jupyter.widget-view+json": {
       "model_id": "b57496c7679747ba87e2a89eae6ff622",
       "version_major": 2,
       "version_minor": 0
      },
      "text/plain": [
       "  0%|          | 0/62 [00:00<?, ?it/s]"
      ]
     },
     "metadata": {},
     "output_type": "display_data"
    },
    {
     "data": {
      "application/vnd.jupyter.widget-view+json": {
       "model_id": "ffc3efe3d2534c67b2b76386e280f60d",
       "version_major": 2,
       "version_minor": 0
      },
      "text/plain": [
       "  0%|          | 0/31 [00:00<?, ?it/s]"
      ]
     },
     "metadata": {},
     "output_type": "display_data"
    },
    {
     "name": "stdout",
     "output_type": "stream",
     "text": [
      "Epoch: 60 \tTraining Loss: 0.088214 \tValidation Loss: 0.798150\n",
      "Epoch: 60 \tTraining accuracy: 0.994456 \tValidation accuracy: 0.777916\n",
      "epoch =  61\n"
     ]
    },
    {
     "data": {
      "application/vnd.jupyter.widget-view+json": {
       "model_id": "0f3df858f6444a6abc295bb904ce3fd1",
       "version_major": 2,
       "version_minor": 0
      },
      "text/plain": [
       "  0%|          | 0/62 [00:00<?, ?it/s]"
      ]
     },
     "metadata": {},
     "output_type": "display_data"
    },
    {
     "data": {
      "application/vnd.jupyter.widget-view+json": {
       "model_id": "a0391f442c8641b493a2d61d3fe4863c",
       "version_major": 2,
       "version_minor": 0
      },
      "text/plain": [
       "  0%|          | 0/31 [00:00<?, ?it/s]"
      ]
     },
     "metadata": {},
     "output_type": "display_data"
    },
    {
     "name": "stdout",
     "output_type": "stream",
     "text": [
      "Epoch: 61 \tTraining Loss: 0.095315 \tValidation Loss: 0.726545\n",
      "Epoch: 61 \tTraining accuracy: 0.992944 \tValidation accuracy: 0.805056\n",
      "epoch =  62\n"
     ]
    },
    {
     "data": {
      "application/vnd.jupyter.widget-view+json": {
       "model_id": "7fa5f219271a49729add8326bf635c10",
       "version_major": 2,
       "version_minor": 0
      },
      "text/plain": [
       "  0%|          | 0/62 [00:00<?, ?it/s]"
      ]
     },
     "metadata": {},
     "output_type": "display_data"
    },
    {
     "data": {
      "application/vnd.jupyter.widget-view+json": {
       "model_id": "f0998c3645864b20bb3c54afaf4b67ab",
       "version_major": 2,
       "version_minor": 0
      },
      "text/plain": [
       "  0%|          | 0/31 [00:00<?, ?it/s]"
      ]
     },
     "metadata": {},
     "output_type": "display_data"
    },
    {
     "name": "stdout",
     "output_type": "stream",
     "text": [
      "Epoch: 62 \tTraining Loss: 0.091941 \tValidation Loss: 0.736914\n",
      "Epoch: 62 \tTraining accuracy: 0.994456 \tValidation accuracy: 0.779777\n",
      "epoch =  63\n"
     ]
    },
    {
     "data": {
      "application/vnd.jupyter.widget-view+json": {
       "model_id": "45f4fb88a001461590c412a667c59770",
       "version_major": 2,
       "version_minor": 0
      },
      "text/plain": [
       "  0%|          | 0/62 [00:00<?, ?it/s]"
      ]
     },
     "metadata": {},
     "output_type": "display_data"
    },
    {
     "data": {
      "application/vnd.jupyter.widget-view+json": {
       "model_id": "45a6062a6ada4767bf7e8433917e9e6a",
       "version_major": 2,
       "version_minor": 0
      },
      "text/plain": [
       "  0%|          | 0/31 [00:00<?, ?it/s]"
      ]
     },
     "metadata": {},
     "output_type": "display_data"
    },
    {
     "name": "stdout",
     "output_type": "stream",
     "text": [
      "Epoch: 63 \tTraining Loss: 0.087506 \tValidation Loss: 0.773366\n",
      "Epoch: 63 \tTraining accuracy: 0.995464 \tValidation accuracy: 0.767215\n",
      "epoch =  64\n"
     ]
    },
    {
     "data": {
      "application/vnd.jupyter.widget-view+json": {
       "model_id": "81f36f1f6bfa456c95b032ebdaabd094",
       "version_major": 2,
       "version_minor": 0
      },
      "text/plain": [
       "  0%|          | 0/62 [00:00<?, ?it/s]"
      ]
     },
     "metadata": {},
     "output_type": "display_data"
    },
    {
     "data": {
      "application/vnd.jupyter.widget-view+json": {
       "model_id": "f05499325865491d9a7ac25154143640",
       "version_major": 2,
       "version_minor": 0
      },
      "text/plain": [
       "  0%|          | 0/31 [00:00<?, ?it/s]"
      ]
     },
     "metadata": {},
     "output_type": "display_data"
    },
    {
     "name": "stdout",
     "output_type": "stream",
     "text": [
      "Epoch: 64 \tTraining Loss: 0.082541 \tValidation Loss: 0.697081\n",
      "Epoch: 64 \tTraining accuracy: 0.997984 \tValidation accuracy: 0.809088\n",
      "epoch =  65\n"
     ]
    },
    {
     "data": {
      "application/vnd.jupyter.widget-view+json": {
       "model_id": "4c92a4bd55034e46abd08fb48942b03d",
       "version_major": 2,
       "version_minor": 0
      },
      "text/plain": [
       "  0%|          | 0/62 [00:00<?, ?it/s]"
      ]
     },
     "metadata": {},
     "output_type": "display_data"
    },
    {
     "data": {
      "application/vnd.jupyter.widget-view+json": {
       "model_id": "eacdfc27fa4449678ec3d6d17f89374f",
       "version_major": 2,
       "version_minor": 0
      },
      "text/plain": [
       "  0%|          | 0/31 [00:00<?, ?it/s]"
      ]
     },
     "metadata": {},
     "output_type": "display_data"
    },
    {
     "name": "stdout",
     "output_type": "stream",
     "text": [
      "Epoch: 65 \tTraining Loss: 0.082560 \tValidation Loss: 0.727913\n",
      "Epoch: 65 \tTraining accuracy: 0.997480 \tValidation accuracy: 0.791408\n",
      "epoch =  66\n"
     ]
    },
    {
     "data": {
      "application/vnd.jupyter.widget-view+json": {
       "model_id": "06da0cae5c2c4de483a318308fd94717",
       "version_major": 2,
       "version_minor": 0
      },
      "text/plain": [
       "  0%|          | 0/62 [00:00<?, ?it/s]"
      ]
     },
     "metadata": {},
     "output_type": "display_data"
    },
    {
     "data": {
      "application/vnd.jupyter.widget-view+json": {
       "model_id": "d5a2574b2f0e4a818ffbbf8561594686",
       "version_major": 2,
       "version_minor": 0
      },
      "text/plain": [
       "  0%|          | 0/31 [00:00<?, ?it/s]"
      ]
     },
     "metadata": {},
     "output_type": "display_data"
    },
    {
     "name": "stdout",
     "output_type": "stream",
     "text": [
      "Epoch: 66 \tTraining Loss: 0.074980 \tValidation Loss: 0.724531\n",
      "Epoch: 66 \tTraining accuracy: 0.998992 \tValidation accuracy: 0.799007\n",
      "epoch =  67\n"
     ]
    },
    {
     "data": {
      "application/vnd.jupyter.widget-view+json": {
       "model_id": "d229c65f7db74c02aaee49ac3cad789d",
       "version_major": 2,
       "version_minor": 0
      },
      "text/plain": [
       "  0%|          | 0/62 [00:00<?, ?it/s]"
      ]
     },
     "metadata": {},
     "output_type": "display_data"
    },
    {
     "data": {
      "application/vnd.jupyter.widget-view+json": {
       "model_id": "49bcea699af34f5ba2619db057db47b8",
       "version_major": 2,
       "version_minor": 0
      },
      "text/plain": [
       "  0%|          | 0/31 [00:00<?, ?it/s]"
      ]
     },
     "metadata": {},
     "output_type": "display_data"
    },
    {
     "name": "stdout",
     "output_type": "stream",
     "text": [
      "Epoch: 67 \tTraining Loss: 0.081881 \tValidation Loss: 0.685675\n",
      "Epoch: 67 \tTraining accuracy: 0.997480 \tValidation accuracy: 0.798542\n",
      "epoch =  68\n"
     ]
    },
    {
     "data": {
      "application/vnd.jupyter.widget-view+json": {
       "model_id": "ec7652af82784df4aeaa778c94017a8c",
       "version_major": 2,
       "version_minor": 0
      },
      "text/plain": [
       "  0%|          | 0/62 [00:00<?, ?it/s]"
      ]
     },
     "metadata": {},
     "output_type": "display_data"
    },
    {
     "data": {
      "application/vnd.jupyter.widget-view+json": {
       "model_id": "72019a530b2d43e280a5adc4b0bf4604",
       "version_major": 2,
       "version_minor": 0
      },
      "text/plain": [
       "  0%|          | 0/31 [00:00<?, ?it/s]"
      ]
     },
     "metadata": {},
     "output_type": "display_data"
    },
    {
     "name": "stdout",
     "output_type": "stream",
     "text": [
      "Epoch: 68 \tTraining Loss: 0.081384 \tValidation Loss: 0.718509\n",
      "Epoch: 68 \tTraining accuracy: 0.997984 \tValidation accuracy: 0.778846\n",
      "epoch =  69\n"
     ]
    },
    {
     "data": {
      "application/vnd.jupyter.widget-view+json": {
       "model_id": "15ef03a5a6b446509097114acbb01ceb",
       "version_major": 2,
       "version_minor": 0
      },
      "text/plain": [
       "  0%|          | 0/62 [00:00<?, ?it/s]"
      ]
     },
     "metadata": {},
     "output_type": "display_data"
    },
    {
     "data": {
      "application/vnd.jupyter.widget-view+json": {
       "model_id": "a373418bcf424c4d8374e7073aea895c",
       "version_major": 2,
       "version_minor": 0
      },
      "text/plain": [
       "  0%|          | 0/31 [00:00<?, ?it/s]"
      ]
     },
     "metadata": {},
     "output_type": "display_data"
    },
    {
     "name": "stdout",
     "output_type": "stream",
     "text": [
      "Epoch: 69 \tTraining Loss: 0.081722 \tValidation Loss: 0.698603\n",
      "Epoch: 69 \tTraining accuracy: 0.995771 \tValidation accuracy: 0.791408\n",
      "epoch =  70\n"
     ]
    },
    {
     "data": {
      "application/vnd.jupyter.widget-view+json": {
       "model_id": "5ebf438d9b124483875a95abb2a86a0a",
       "version_major": 2,
       "version_minor": 0
      },
      "text/plain": [
       "  0%|          | 0/62 [00:00<?, ?it/s]"
      ]
     },
     "metadata": {},
     "output_type": "display_data"
    },
    {
     "data": {
      "application/vnd.jupyter.widget-view+json": {
       "model_id": "41adf0286c934947a0389cdbaf2b5dec",
       "version_major": 2,
       "version_minor": 0
      },
      "text/plain": [
       "  0%|          | 0/31 [00:00<?, ?it/s]"
      ]
     },
     "metadata": {},
     "output_type": "display_data"
    },
    {
     "name": "stdout",
     "output_type": "stream",
     "text": [
      "Epoch: 70 \tTraining Loss: 0.093714 \tValidation Loss: 0.690592\n",
      "Epoch: 70 \tTraining accuracy: 0.994456 \tValidation accuracy: 0.793424\n",
      "epoch =  71\n"
     ]
    },
    {
     "data": {
      "application/vnd.jupyter.widget-view+json": {
       "model_id": "077f8a684e594d5d8f3e1197a846647b",
       "version_major": 2,
       "version_minor": 0
      },
      "text/plain": [
       "  0%|          | 0/62 [00:00<?, ?it/s]"
      ]
     },
     "metadata": {},
     "output_type": "display_data"
    },
    {
     "data": {
      "application/vnd.jupyter.widget-view+json": {
       "model_id": "a82d41bfe62545088879ca3ea74bd8d1",
       "version_major": 2,
       "version_minor": 0
      },
      "text/plain": [
       "  0%|          | 0/31 [00:00<?, ?it/s]"
      ]
     },
     "metadata": {},
     "output_type": "display_data"
    },
    {
     "name": "stdout",
     "output_type": "stream",
     "text": [
      "Epoch: 71 \tTraining Loss: 0.083907 \tValidation Loss: 0.709069\n",
      "Epoch: 71 \tTraining accuracy: 0.998488 \tValidation accuracy: 0.788462\n",
      "epoch =  72\n"
     ]
    },
    {
     "data": {
      "application/vnd.jupyter.widget-view+json": {
       "model_id": "578bdcf33e7f4c1d95aa491dfed8fcc1",
       "version_major": 2,
       "version_minor": 0
      },
      "text/plain": [
       "  0%|          | 0/62 [00:00<?, ?it/s]"
      ]
     },
     "metadata": {},
     "output_type": "display_data"
    },
    {
     "data": {
      "application/vnd.jupyter.widget-view+json": {
       "model_id": "0604f5e96bd1401590e5d31dc6c46549",
       "version_major": 2,
       "version_minor": 0
      },
      "text/plain": [
       "  0%|          | 0/31 [00:00<?, ?it/s]"
      ]
     },
     "metadata": {},
     "output_type": "display_data"
    },
    {
     "name": "stdout",
     "output_type": "stream",
     "text": [
      "Epoch: 72 \tTraining Loss: 0.077098 \tValidation Loss: 0.689676\n",
      "Epoch: 72 \tTraining accuracy: 0.996275 \tValidation accuracy: 0.796526\n",
      "epoch =  73\n"
     ]
    },
    {
     "data": {
      "application/vnd.jupyter.widget-view+json": {
       "model_id": "897783bc718d4514b3259b309fb99550",
       "version_major": 2,
       "version_minor": 0
      },
      "text/plain": [
       "  0%|          | 0/62 [00:00<?, ?it/s]"
      ]
     },
     "metadata": {},
     "output_type": "display_data"
    },
    {
     "data": {
      "application/vnd.jupyter.widget-view+json": {
       "model_id": "7c055e4356a944448f983c48480a084b",
       "version_major": 2,
       "version_minor": 0
      },
      "text/plain": [
       "  0%|          | 0/31 [00:00<?, ?it/s]"
      ]
     },
     "metadata": {},
     "output_type": "display_data"
    },
    {
     "name": "stdout",
     "output_type": "stream",
     "text": [
      "Epoch: 73 \tTraining Loss: 0.081817 \tValidation Loss: 0.783097\n",
      "Epoch: 73 \tTraining accuracy: 0.995968 \tValidation accuracy: 0.755118\n",
      "epoch =  74\n"
     ]
    },
    {
     "data": {
      "application/vnd.jupyter.widget-view+json": {
       "model_id": "bee876dbbf2948b387186ec0f92c8ceb",
       "version_major": 2,
       "version_minor": 0
      },
      "text/plain": [
       "  0%|          | 0/62 [00:00<?, ?it/s]"
      ]
     },
     "metadata": {},
     "output_type": "display_data"
    },
    {
     "data": {
      "application/vnd.jupyter.widget-view+json": {
       "model_id": "ea991c60c3df448b90cca8466e58226d",
       "version_major": 2,
       "version_minor": 0
      },
      "text/plain": [
       "  0%|          | 0/31 [00:00<?, ?it/s]"
      ]
     },
     "metadata": {},
     "output_type": "display_data"
    },
    {
     "name": "stdout",
     "output_type": "stream",
     "text": [
      "Epoch: 74 \tTraining Loss: 0.078614 \tValidation Loss: 0.731741\n",
      "Epoch: 74 \tTraining accuracy: 0.996976 \tValidation accuracy: 0.782413\n",
      "epoch =  75\n"
     ]
    },
    {
     "data": {
      "application/vnd.jupyter.widget-view+json": {
       "model_id": "965ca2a0605f43cf9f144e3ba8432ce9",
       "version_major": 2,
       "version_minor": 0
      },
      "text/plain": [
       "  0%|          | 0/62 [00:00<?, ?it/s]"
      ]
     },
     "metadata": {},
     "output_type": "display_data"
    },
    {
     "data": {
      "application/vnd.jupyter.widget-view+json": {
       "model_id": "014efbdb25bf42e59a8e4d45e6885d13",
       "version_major": 2,
       "version_minor": 0
      },
      "text/plain": [
       "  0%|          | 0/31 [00:00<?, ?it/s]"
      ]
     },
     "metadata": {},
     "output_type": "display_data"
    },
    {
     "name": "stdout",
     "output_type": "stream",
     "text": [
      "Epoch: 75 \tTraining Loss: 0.082473 \tValidation Loss: 0.725640\n",
      "Epoch: 75 \tTraining accuracy: 0.995968 \tValidation accuracy: 0.773883\n",
      "epoch =  76\n"
     ]
    },
    {
     "data": {
      "application/vnd.jupyter.widget-view+json": {
       "model_id": "f266fa6d9bce41d59f42fb6925278a6b",
       "version_major": 2,
       "version_minor": 0
      },
      "text/plain": [
       "  0%|          | 0/62 [00:00<?, ?it/s]"
      ]
     },
     "metadata": {},
     "output_type": "display_data"
    },
    {
     "data": {
      "application/vnd.jupyter.widget-view+json": {
       "model_id": "739902b711a742f6adb336c2ddb90989",
       "version_major": 2,
       "version_minor": 0
      },
      "text/plain": [
       "  0%|          | 0/31 [00:00<?, ?it/s]"
      ]
     },
     "metadata": {},
     "output_type": "display_data"
    },
    {
     "name": "stdout",
     "output_type": "stream",
     "text": [
      "Epoch: 76 \tTraining Loss: 0.074053 \tValidation Loss: 0.704069\n",
      "Epoch: 76 \tTraining accuracy: 0.997283 \tValidation accuracy: 0.794510\n",
      "epoch =  77\n"
     ]
    },
    {
     "data": {
      "application/vnd.jupyter.widget-view+json": {
       "model_id": "84e2e23d3f0e4a64b293dc7f1f9536d9",
       "version_major": 2,
       "version_minor": 0
      },
      "text/plain": [
       "  0%|          | 0/62 [00:00<?, ?it/s]"
      ]
     },
     "metadata": {},
     "output_type": "display_data"
    },
    {
     "data": {
      "application/vnd.jupyter.widget-view+json": {
       "model_id": "8ad367cf9cca411eae06a23a580c43e8",
       "version_major": 2,
       "version_minor": 0
      },
      "text/plain": [
       "  0%|          | 0/31 [00:00<?, ?it/s]"
      ]
     },
     "metadata": {},
     "output_type": "display_data"
    },
    {
     "name": "stdout",
     "output_type": "stream",
     "text": [
      "Epoch: 77 \tTraining Loss: 0.081213 \tValidation Loss: 0.750720\n",
      "Epoch: 77 \tTraining accuracy: 0.996472 \tValidation accuracy: 0.796991\n",
      "epoch =  78\n"
     ]
    },
    {
     "data": {
      "application/vnd.jupyter.widget-view+json": {
       "model_id": "fe74c4c28a1d4bf3b95d25596fb694fb",
       "version_major": 2,
       "version_minor": 0
      },
      "text/plain": [
       "  0%|          | 0/62 [00:00<?, ?it/s]"
      ]
     },
     "metadata": {},
     "output_type": "display_data"
    },
    {
     "data": {
      "application/vnd.jupyter.widget-view+json": {
       "model_id": "998fa62cc7da49209f10c8e494e437d7",
       "version_major": 2,
       "version_minor": 0
      },
      "text/plain": [
       "  0%|          | 0/31 [00:00<?, ?it/s]"
      ]
     },
     "metadata": {},
     "output_type": "display_data"
    },
    {
     "name": "stdout",
     "output_type": "stream",
     "text": [
      "Epoch: 78 \tTraining Loss: 0.080302 \tValidation Loss: 0.780644\n",
      "Epoch: 78 \tTraining accuracy: 0.998992 \tValidation accuracy: 0.766284\n",
      "epoch =  79\n"
     ]
    },
    {
     "data": {
      "application/vnd.jupyter.widget-view+json": {
       "model_id": "648ed308bbdb4b40982d54b960d188cc",
       "version_major": 2,
       "version_minor": 0
      },
      "text/plain": [
       "  0%|          | 0/62 [00:00<?, ?it/s]"
      ]
     },
     "metadata": {},
     "output_type": "display_data"
    },
    {
     "data": {
      "application/vnd.jupyter.widget-view+json": {
       "model_id": "0003b76a95664213898e19d1835ff628",
       "version_major": 2,
       "version_minor": 0
      },
      "text/plain": [
       "  0%|          | 0/31 [00:00<?, ?it/s]"
      ]
     },
     "metadata": {},
     "output_type": "display_data"
    },
    {
     "name": "stdout",
     "output_type": "stream",
     "text": [
      "Epoch: 79 \tTraining Loss: 0.082732 \tValidation Loss: 0.691647\n",
      "Epoch: 79 \tTraining accuracy: 0.996472 \tValidation accuracy: 0.787376\n",
      "epoch =  80\n"
     ]
    },
    {
     "data": {
      "application/vnd.jupyter.widget-view+json": {
       "model_id": "2bbfbef3c0794ee68f6cc474123e397d",
       "version_major": 2,
       "version_minor": 0
      },
      "text/plain": [
       "  0%|          | 0/62 [00:00<?, ?it/s]"
      ]
     },
     "metadata": {},
     "output_type": "display_data"
    },
    {
     "data": {
      "application/vnd.jupyter.widget-view+json": {
       "model_id": "3f65e0c62c3c431b9316526d58b01208",
       "version_major": 2,
       "version_minor": 0
      },
      "text/plain": [
       "  0%|          | 0/31 [00:00<?, ?it/s]"
      ]
     },
     "metadata": {},
     "output_type": "display_data"
    },
    {
     "name": "stdout",
     "output_type": "stream",
     "text": [
      "Epoch: 80 \tTraining Loss: 0.075706 \tValidation Loss: 0.724846\n",
      "Epoch: 80 \tTraining accuracy: 0.997480 \tValidation accuracy: 0.777761\n",
      "epoch =  81\n"
     ]
    },
    {
     "data": {
      "application/vnd.jupyter.widget-view+json": {
       "model_id": "cd1a486c0c6a416bb3921024d983ab51",
       "version_major": 2,
       "version_minor": 0
      },
      "text/plain": [
       "  0%|          | 0/62 [00:00<?, ?it/s]"
      ]
     },
     "metadata": {},
     "output_type": "display_data"
    },
    {
     "data": {
      "application/vnd.jupyter.widget-view+json": {
       "model_id": "cb0f9d40c1b447a295d7822ae981c7e2",
       "version_major": 2,
       "version_minor": 0
      },
      "text/plain": [
       "  0%|          | 0/31 [00:00<?, ?it/s]"
      ]
     },
     "metadata": {},
     "output_type": "display_data"
    },
    {
     "name": "stdout",
     "output_type": "stream",
     "text": [
      "Epoch: 81 \tTraining Loss: 0.076570 \tValidation Loss: 0.730971\n",
      "Epoch: 81 \tTraining accuracy: 0.997984 \tValidation accuracy: 0.758685\n",
      "epoch =  82\n"
     ]
    },
    {
     "data": {
      "application/vnd.jupyter.widget-view+json": {
       "model_id": "c859213e6c7b4c41b27698ae8a1fb362",
       "version_major": 2,
       "version_minor": 0
      },
      "text/plain": [
       "  0%|          | 0/62 [00:00<?, ?it/s]"
      ]
     },
     "metadata": {},
     "output_type": "display_data"
    },
    {
     "data": {
      "application/vnd.jupyter.widget-view+json": {
       "model_id": "9b7c6e29e3ef4d29a8fde8c73c80a778",
       "version_major": 2,
       "version_minor": 0
      },
      "text/plain": [
       "  0%|          | 0/31 [00:00<?, ?it/s]"
      ]
     },
     "metadata": {},
     "output_type": "display_data"
    },
    {
     "name": "stdout",
     "output_type": "stream",
     "text": [
      "Epoch: 82 \tTraining Loss: 0.069272 \tValidation Loss: 0.757412\n",
      "Epoch: 82 \tTraining accuracy: 0.998992 \tValidation accuracy: 0.776365\n",
      "epoch =  83\n"
     ]
    },
    {
     "data": {
      "application/vnd.jupyter.widget-view+json": {
       "model_id": "9e4bf74226f949eaa8e947327bda382e",
       "version_major": 2,
       "version_minor": 0
      },
      "text/plain": [
       "  0%|          | 0/62 [00:00<?, ?it/s]"
      ]
     },
     "metadata": {},
     "output_type": "display_data"
    },
    {
     "data": {
      "application/vnd.jupyter.widget-view+json": {
       "model_id": "c978dc6e28c749d9874e63b7059101ed",
       "version_major": 2,
       "version_minor": 0
      },
      "text/plain": [
       "  0%|          | 0/31 [00:00<?, ?it/s]"
      ]
     },
     "metadata": {},
     "output_type": "display_data"
    },
    {
     "name": "stdout",
     "output_type": "stream",
     "text": [
      "Epoch: 83 \tTraining Loss: 0.084146 \tValidation Loss: 0.690511\n",
      "Epoch: 83 \tTraining accuracy: 0.997480 \tValidation accuracy: 0.786911\n",
      "epoch =  84\n"
     ]
    },
    {
     "data": {
      "application/vnd.jupyter.widget-view+json": {
       "model_id": "968978482d97404fbe757036a0e545a9",
       "version_major": 2,
       "version_minor": 0
      },
      "text/plain": [
       "  0%|          | 0/62 [00:00<?, ?it/s]"
      ]
     },
     "metadata": {},
     "output_type": "display_data"
    },
    {
     "data": {
      "application/vnd.jupyter.widget-view+json": {
       "model_id": "b5b9b63987194694bdf2b8d65b6f2a65",
       "version_major": 2,
       "version_minor": 0
      },
      "text/plain": [
       "  0%|          | 0/31 [00:00<?, ?it/s]"
      ]
     },
     "metadata": {},
     "output_type": "display_data"
    },
    {
     "name": "stdout",
     "output_type": "stream",
     "text": [
      "Epoch: 84 \tTraining Loss: 0.082643 \tValidation Loss: 0.650954\n",
      "Epoch: 84 \tTraining accuracy: 0.993952 \tValidation accuracy: 0.839330\n",
      "Validation loss decreased (0.659134 --> 0.650954).  Saving model ...\n",
      "epoch =  85\n"
     ]
    },
    {
     "data": {
      "application/vnd.jupyter.widget-view+json": {
       "model_id": "048df177caeb409d9acd1d65f2b974cf",
       "version_major": 2,
       "version_minor": 0
      },
      "text/plain": [
       "  0%|          | 0/62 [00:00<?, ?it/s]"
      ]
     },
     "metadata": {},
     "output_type": "display_data"
    },
    {
     "data": {
      "application/vnd.jupyter.widget-view+json": {
       "model_id": "3f70bf28d15c4ce7a1e365ede5b6bfcf",
       "version_major": 2,
       "version_minor": 0
      },
      "text/plain": [
       "  0%|          | 0/31 [00:00<?, ?it/s]"
      ]
     },
     "metadata": {},
     "output_type": "display_data"
    },
    {
     "name": "stdout",
     "output_type": "stream",
     "text": [
      "Epoch: 85 \tTraining Loss: 0.077709 \tValidation Loss: 0.742318\n",
      "Epoch: 85 \tTraining accuracy: 0.997283 \tValidation accuracy: 0.803970\n",
      "epoch =  86\n"
     ]
    },
    {
     "data": {
      "application/vnd.jupyter.widget-view+json": {
       "model_id": "a18580dfd6c041279138e65c766e1403",
       "version_major": 2,
       "version_minor": 0
      },
      "text/plain": [
       "  0%|          | 0/62 [00:00<?, ?it/s]"
      ]
     },
     "metadata": {},
     "output_type": "display_data"
    },
    {
     "data": {
      "application/vnd.jupyter.widget-view+json": {
       "model_id": "4cfbcee8115d4632a296c82669e9c44c",
       "version_major": 2,
       "version_minor": 0
      },
      "text/plain": [
       "  0%|          | 0/31 [00:00<?, ?it/s]"
      ]
     },
     "metadata": {},
     "output_type": "display_data"
    },
    {
     "name": "stdout",
     "output_type": "stream",
     "text": [
      "Epoch: 86 \tTraining Loss: 0.078342 \tValidation Loss: 0.721309\n",
      "Epoch: 86 \tTraining accuracy: 0.997480 \tValidation accuracy: 0.775279\n",
      "epoch =  87\n"
     ]
    },
    {
     "data": {
      "application/vnd.jupyter.widget-view+json": {
       "model_id": "0134faaf95b34dcd8371bce52af4925b",
       "version_major": 2,
       "version_minor": 0
      },
      "text/plain": [
       "  0%|          | 0/62 [00:00<?, ?it/s]"
      ]
     },
     "metadata": {},
     "output_type": "display_data"
    },
    {
     "data": {
      "application/vnd.jupyter.widget-view+json": {
       "model_id": "36a6db92347d494da3a45adf849647c5",
       "version_major": 2,
       "version_minor": 0
      },
      "text/plain": [
       "  0%|          | 0/31 [00:00<?, ?it/s]"
      ]
     },
     "metadata": {},
     "output_type": "display_data"
    },
    {
     "name": "stdout",
     "output_type": "stream",
     "text": [
      "Epoch: 87 \tTraining Loss: 0.082148 \tValidation Loss: 0.688935\n",
      "Epoch: 87 \tTraining accuracy: 0.997480 \tValidation accuracy: 0.813586\n",
      "epoch =  88\n"
     ]
    },
    {
     "data": {
      "application/vnd.jupyter.widget-view+json": {
       "model_id": "59b4529bc1af4ee6abf31ea1b06223fd",
       "version_major": 2,
       "version_minor": 0
      },
      "text/plain": [
       "  0%|          | 0/62 [00:00<?, ?it/s]"
      ]
     },
     "metadata": {},
     "output_type": "display_data"
    },
    {
     "data": {
      "application/vnd.jupyter.widget-view+json": {
       "model_id": "21737b0f2a67430f93e4e5a6679d9cbc",
       "version_major": 2,
       "version_minor": 0
      },
      "text/plain": [
       "  0%|          | 0/31 [00:00<?, ?it/s]"
      ]
     },
     "metadata": {},
     "output_type": "display_data"
    },
    {
     "name": "stdout",
     "output_type": "stream",
     "text": [
      "Epoch: 88 \tTraining Loss: 0.082926 \tValidation Loss: 0.701527\n",
      "Epoch: 88 \tTraining accuracy: 0.997480 \tValidation accuracy: 0.794355\n",
      "epoch =  89\n"
     ]
    },
    {
     "data": {
      "application/vnd.jupyter.widget-view+json": {
       "model_id": "1e451d1d880749439be419ccc58f803b",
       "version_major": 2,
       "version_minor": 0
      },
      "text/plain": [
       "  0%|          | 0/62 [00:00<?, ?it/s]"
      ]
     },
     "metadata": {},
     "output_type": "display_data"
    },
    {
     "data": {
      "application/vnd.jupyter.widget-view+json": {
       "model_id": "ad2b51cbcab34869ba28940b60a949b5",
       "version_major": 2,
       "version_minor": 0
      },
      "text/plain": [
       "  0%|          | 0/31 [00:00<?, ?it/s]"
      ]
     },
     "metadata": {},
     "output_type": "display_data"
    },
    {
     "name": "stdout",
     "output_type": "stream",
     "text": [
      "Epoch: 89 \tTraining Loss: 0.077487 \tValidation Loss: 0.694458\n",
      "Epoch: 89 \tTraining accuracy: 0.998992 \tValidation accuracy: 0.811104\n",
      "epoch =  90\n"
     ]
    },
    {
     "data": {
      "application/vnd.jupyter.widget-view+json": {
       "model_id": "df5b45795aeb451eac134f5adbf9e011",
       "version_major": 2,
       "version_minor": 0
      },
      "text/plain": [
       "  0%|          | 0/62 [00:00<?, ?it/s]"
      ]
     },
     "metadata": {},
     "output_type": "display_data"
    },
    {
     "data": {
      "application/vnd.jupyter.widget-view+json": {
       "model_id": "a8cdc60d0d5b4e2681b56655d08aec60",
       "version_major": 2,
       "version_minor": 0
      },
      "text/plain": [
       "  0%|          | 0/31 [00:00<?, ?it/s]"
      ]
     },
     "metadata": {},
     "output_type": "display_data"
    },
    {
     "name": "stdout",
     "output_type": "stream",
     "text": [
      "Epoch: 90 \tTraining Loss: 0.078401 \tValidation Loss: 0.721852\n",
      "Epoch: 90 \tTraining accuracy: 0.997480 \tValidation accuracy: 0.791873\n",
      "epoch =  91\n"
     ]
    },
    {
     "data": {
      "application/vnd.jupyter.widget-view+json": {
       "model_id": "0109bf56f2ed4c9daae10c1fe23b5ae9",
       "version_major": 2,
       "version_minor": 0
      },
      "text/plain": [
       "  0%|          | 0/62 [00:00<?, ?it/s]"
      ]
     },
     "metadata": {},
     "output_type": "display_data"
    },
    {
     "data": {
      "application/vnd.jupyter.widget-view+json": {
       "model_id": "84c4714cc22346389022fb4064af2dea",
       "version_major": 2,
       "version_minor": 0
      },
      "text/plain": [
       "  0%|          | 0/31 [00:00<?, ?it/s]"
      ]
     },
     "metadata": {},
     "output_type": "display_data"
    },
    {
     "name": "stdout",
     "output_type": "stream",
     "text": [
      "Epoch: 91 \tTraining Loss: 0.082003 \tValidation Loss: 0.728887\n",
      "Epoch: 91 \tTraining accuracy: 0.994960 \tValidation accuracy: 0.799473\n",
      "epoch =  92\n"
     ]
    },
    {
     "data": {
      "application/vnd.jupyter.widget-view+json": {
       "model_id": "9d84f92427124c598863cd9fabbf8084",
       "version_major": 2,
       "version_minor": 0
      },
      "text/plain": [
       "  0%|          | 0/62 [00:00<?, ?it/s]"
      ]
     },
     "metadata": {},
     "output_type": "display_data"
    },
    {
     "data": {
      "application/vnd.jupyter.widget-view+json": {
       "model_id": "25e2da3e9fa04f45a7e3827f2bd36f1b",
       "version_major": 2,
       "version_minor": 0
      },
      "text/plain": [
       "  0%|          | 0/31 [00:00<?, ?it/s]"
      ]
     },
     "metadata": {},
     "output_type": "display_data"
    },
    {
     "name": "stdout",
     "output_type": "stream",
     "text": [
      "Epoch: 92 \tTraining Loss: 0.073569 \tValidation Loss: 0.670168\n",
      "Epoch: 92 \tTraining accuracy: 0.998992 \tValidation accuracy: 0.802574\n",
      "epoch =  93\n"
     ]
    },
    {
     "data": {
      "application/vnd.jupyter.widget-view+json": {
       "model_id": "7010db66c8734bbe924345ad420bade8",
       "version_major": 2,
       "version_minor": 0
      },
      "text/plain": [
       "  0%|          | 0/62 [00:00<?, ?it/s]"
      ]
     },
     "metadata": {},
     "output_type": "display_data"
    },
    {
     "data": {
      "application/vnd.jupyter.widget-view+json": {
       "model_id": "8411d2dbf6474a9ebfd15f301b16513f",
       "version_major": 2,
       "version_minor": 0
      },
      "text/plain": [
       "  0%|          | 0/31 [00:00<?, ?it/s]"
      ]
     },
     "metadata": {},
     "output_type": "display_data"
    },
    {
     "name": "stdout",
     "output_type": "stream",
     "text": [
      "Epoch: 93 \tTraining Loss: 0.079953 \tValidation Loss: 0.717302\n",
      "Epoch: 93 \tTraining accuracy: 0.998992 \tValidation accuracy: 0.792029\n",
      "epoch =  94\n"
     ]
    },
    {
     "data": {
      "application/vnd.jupyter.widget-view+json": {
       "model_id": "9c797705723a4921b0077012aad78be6",
       "version_major": 2,
       "version_minor": 0
      },
      "text/plain": [
       "  0%|          | 0/62 [00:00<?, ?it/s]"
      ]
     },
     "metadata": {},
     "output_type": "display_data"
    },
    {
     "data": {
      "application/vnd.jupyter.widget-view+json": {
       "model_id": "206ed73b961342f7a2d428b0055f0b96",
       "version_major": 2,
       "version_minor": 0
      },
      "text/plain": [
       "  0%|          | 0/31 [00:00<?, ?it/s]"
      ]
     },
     "metadata": {},
     "output_type": "display_data"
    },
    {
     "name": "stdout",
     "output_type": "stream",
     "text": [
      "Epoch: 94 \tTraining Loss: 0.074973 \tValidation Loss: 0.734230\n",
      "Epoch: 94 \tTraining accuracy: 1.000000 \tValidation accuracy: 0.792494\n",
      "epoch =  95\n"
     ]
    },
    {
     "data": {
      "application/vnd.jupyter.widget-view+json": {
       "model_id": "6fcf92f8d9a048be88fd1b003b02e67c",
       "version_major": 2,
       "version_minor": 0
      },
      "text/plain": [
       "  0%|          | 0/62 [00:00<?, ?it/s]"
      ]
     },
     "metadata": {},
     "output_type": "display_data"
    },
    {
     "data": {
      "application/vnd.jupyter.widget-view+json": {
       "model_id": "6f0712decf1748d7b93a4b15b792c440",
       "version_major": 2,
       "version_minor": 0
      },
      "text/plain": [
       "  0%|          | 0/31 [00:00<?, ?it/s]"
      ]
     },
     "metadata": {},
     "output_type": "display_data"
    },
    {
     "name": "stdout",
     "output_type": "stream",
     "text": [
      "Epoch: 95 \tTraining Loss: 0.076692 \tValidation Loss: 0.651584\n",
      "Epoch: 95 \tTraining accuracy: 0.997480 \tValidation accuracy: 0.811104\n",
      "epoch =  96\n"
     ]
    },
    {
     "data": {
      "application/vnd.jupyter.widget-view+json": {
       "model_id": "5452de6f01744ccfa6a89d97f9c25a99",
       "version_major": 2,
       "version_minor": 0
      },
      "text/plain": [
       "  0%|          | 0/62 [00:00<?, ?it/s]"
      ]
     },
     "metadata": {},
     "output_type": "display_data"
    },
    {
     "data": {
      "application/vnd.jupyter.widget-view+json": {
       "model_id": "2f547b226b47408e82cda5e1a424b6dd",
       "version_major": 2,
       "version_minor": 0
      },
      "text/plain": [
       "  0%|          | 0/31 [00:00<?, ?it/s]"
      ]
     },
     "metadata": {},
     "output_type": "display_data"
    },
    {
     "name": "stdout",
     "output_type": "stream",
     "text": [
      "Epoch: 96 \tTraining Loss: 0.076546 \tValidation Loss: 0.671108\n",
      "Epoch: 96 \tTraining accuracy: 0.998992 \tValidation accuracy: 0.811569\n",
      "epoch =  97\n"
     ]
    },
    {
     "data": {
      "application/vnd.jupyter.widget-view+json": {
       "model_id": "86c75c69fcdc488c93aa71a58763a175",
       "version_major": 2,
       "version_minor": 0
      },
      "text/plain": [
       "  0%|          | 0/62 [00:00<?, ?it/s]"
      ]
     },
     "metadata": {},
     "output_type": "display_data"
    },
    {
     "data": {
      "application/vnd.jupyter.widget-view+json": {
       "model_id": "49ef018a18514f0abc56a669bac990df",
       "version_major": 2,
       "version_minor": 0
      },
      "text/plain": [
       "  0%|          | 0/31 [00:00<?, ?it/s]"
      ]
     },
     "metadata": {},
     "output_type": "display_data"
    },
    {
     "name": "stdout",
     "output_type": "stream",
     "text": [
      "Epoch: 97 \tTraining Loss: 0.079014 \tValidation Loss: 0.754758\n",
      "Epoch: 97 \tTraining accuracy: 0.997984 \tValidation accuracy: 0.786445\n",
      "epoch =  98\n"
     ]
    },
    {
     "data": {
      "application/vnd.jupyter.widget-view+json": {
       "model_id": "4add414597014a36b3d31ace5c6c793d",
       "version_major": 2,
       "version_minor": 0
      },
      "text/plain": [
       "  0%|          | 0/62 [00:00<?, ?it/s]"
      ]
     },
     "metadata": {},
     "output_type": "display_data"
    },
    {
     "data": {
      "application/vnd.jupyter.widget-view+json": {
       "model_id": "6c0422abff5d41988463e4a14745aed4",
       "version_major": 2,
       "version_minor": 0
      },
      "text/plain": [
       "  0%|          | 0/31 [00:00<?, ?it/s]"
      ]
     },
     "metadata": {},
     "output_type": "display_data"
    },
    {
     "name": "stdout",
     "output_type": "stream",
     "text": [
      "Epoch: 98 \tTraining Loss: 0.073980 \tValidation Loss: 0.738119\n",
      "Epoch: 98 \tTraining accuracy: 0.998488 \tValidation accuracy: 0.792029\n",
      "epoch =  99\n"
     ]
    },
    {
     "data": {
      "application/vnd.jupyter.widget-view+json": {
       "model_id": "8e527a0ff1874b94b1e4148a128739a4",
       "version_major": 2,
       "version_minor": 0
      },
      "text/plain": [
       "  0%|          | 0/62 [00:00<?, ?it/s]"
      ]
     },
     "metadata": {},
     "output_type": "display_data"
    },
    {
     "data": {
      "application/vnd.jupyter.widget-view+json": {
       "model_id": "09e58233326b4ef899ea9b727c0d1e9a",
       "version_major": 2,
       "version_minor": 0
      },
      "text/plain": [
       "  0%|          | 0/31 [00:00<?, ?it/s]"
      ]
     },
     "metadata": {},
     "output_type": "display_data"
    },
    {
     "name": "stdout",
     "output_type": "stream",
     "text": [
      "Epoch: 99 \tTraining Loss: 0.073669 \tValidation Loss: 0.715664\n",
      "Epoch: 99 \tTraining accuracy: 0.998488 \tValidation accuracy: 0.797457\n",
      "epoch =  100\n"
     ]
    },
    {
     "data": {
      "application/vnd.jupyter.widget-view+json": {
       "model_id": "3cdd31b6852142ac94462ee05bd108fd",
       "version_major": 2,
       "version_minor": 0
      },
      "text/plain": [
       "  0%|          | 0/62 [00:00<?, ?it/s]"
      ]
     },
     "metadata": {},
     "output_type": "display_data"
    },
    {
     "data": {
      "application/vnd.jupyter.widget-view+json": {
       "model_id": "2850db367bd545ff8d52b68ce23b051d",
       "version_major": 2,
       "version_minor": 0
      },
      "text/plain": [
       "  0%|          | 0/31 [00:00<?, ?it/s]"
      ]
     },
     "metadata": {},
     "output_type": "display_data"
    },
    {
     "name": "stdout",
     "output_type": "stream",
     "text": [
      "Epoch: 100 \tTraining Loss: 0.077940 \tValidation Loss: 0.712664\n",
      "Epoch: 100 \tTraining accuracy: 0.996976 \tValidation accuracy: 0.807072\n",
      "epoch =  101\n"
     ]
    },
    {
     "data": {
      "application/vnd.jupyter.widget-view+json": {
       "model_id": "2dc9e68f68a343dbb36e6d6a0e741fe2",
       "version_major": 2,
       "version_minor": 0
      },
      "text/plain": [
       "  0%|          | 0/62 [00:00<?, ?it/s]"
      ]
     },
     "metadata": {},
     "output_type": "display_data"
    },
    {
     "data": {
      "application/vnd.jupyter.widget-view+json": {
       "model_id": "30942adf183b4a9db698156902e0f545",
       "version_major": 2,
       "version_minor": 0
      },
      "text/plain": [
       "  0%|          | 0/31 [00:00<?, ?it/s]"
      ]
     },
     "metadata": {},
     "output_type": "display_data"
    },
    {
     "name": "stdout",
     "output_type": "stream",
     "text": [
      "Epoch: 101 \tTraining Loss: 0.074605 \tValidation Loss: 0.665624\n",
      "Epoch: 101 \tTraining accuracy: 0.998488 \tValidation accuracy: 0.821650\n",
      "epoch =  102\n"
     ]
    },
    {
     "data": {
      "application/vnd.jupyter.widget-view+json": {
       "model_id": "1ddd44daf6904cdbb3f22e3abf67756a",
       "version_major": 2,
       "version_minor": 0
      },
      "text/plain": [
       "  0%|          | 0/62 [00:00<?, ?it/s]"
      ]
     },
     "metadata": {},
     "output_type": "display_data"
    },
    {
     "data": {
      "application/vnd.jupyter.widget-view+json": {
       "model_id": "40f4e5b36f034dd485bca3fa57d843ff",
       "version_major": 2,
       "version_minor": 0
      },
      "text/plain": [
       "  0%|          | 0/31 [00:00<?, ?it/s]"
      ]
     },
     "metadata": {},
     "output_type": "display_data"
    },
    {
     "name": "stdout",
     "output_type": "stream",
     "text": [
      "Epoch: 102 \tTraining Loss: 0.078275 \tValidation Loss: 0.668945\n",
      "Epoch: 102 \tTraining accuracy: 0.997984 \tValidation accuracy: 0.792959\n",
      "epoch =  103\n"
     ]
    },
    {
     "data": {
      "application/vnd.jupyter.widget-view+json": {
       "model_id": "d9aedd04830748a8ab90c958c74b43ad",
       "version_major": 2,
       "version_minor": 0
      },
      "text/plain": [
       "  0%|          | 0/62 [00:00<?, ?it/s]"
      ]
     },
     "metadata": {},
     "output_type": "display_data"
    },
    {
     "data": {
      "application/vnd.jupyter.widget-view+json": {
       "model_id": "d6d9a34fc51748aba2c02457da2fe227",
       "version_major": 2,
       "version_minor": 0
      },
      "text/plain": [
       "  0%|          | 0/31 [00:00<?, ?it/s]"
      ]
     },
     "metadata": {},
     "output_type": "display_data"
    },
    {
     "name": "stdout",
     "output_type": "stream",
     "text": [
      "Epoch: 103 \tTraining Loss: 0.074872 \tValidation Loss: 0.733514\n",
      "Epoch: 103 \tTraining accuracy: 0.998488 \tValidation accuracy: 0.790478\n",
      "epoch =  104\n"
     ]
    },
    {
     "data": {
      "application/vnd.jupyter.widget-view+json": {
       "model_id": "2df7358eb08b483694958e324eab8f02",
       "version_major": 2,
       "version_minor": 0
      },
      "text/plain": [
       "  0%|          | 0/62 [00:00<?, ?it/s]"
      ]
     },
     "metadata": {},
     "output_type": "display_data"
    },
    {
     "data": {
      "application/vnd.jupyter.widget-view+json": {
       "model_id": "3c29dbb07fbf40d197bde96d1fbcff4d",
       "version_major": 2,
       "version_minor": 0
      },
      "text/plain": [
       "  0%|          | 0/31 [00:00<?, ?it/s]"
      ]
     },
     "metadata": {},
     "output_type": "display_data"
    },
    {
     "name": "stdout",
     "output_type": "stream",
     "text": [
      "Epoch: 104 \tTraining Loss: 0.076722 \tValidation Loss: 0.690612\n",
      "Epoch: 104 \tTraining accuracy: 0.998488 \tValidation accuracy: 0.796526\n",
      "epoch =  105\n"
     ]
    },
    {
     "data": {
      "application/vnd.jupyter.widget-view+json": {
       "model_id": "3a4df1a0bf0944aa83cf5cdb010ef2bc",
       "version_major": 2,
       "version_minor": 0
      },
      "text/plain": [
       "  0%|          | 0/62 [00:00<?, ?it/s]"
      ]
     },
     "metadata": {},
     "output_type": "display_data"
    },
    {
     "data": {
      "application/vnd.jupyter.widget-view+json": {
       "model_id": "d8b24820c4234e729ac63cd589d4b52a",
       "version_major": 2,
       "version_minor": 0
      },
      "text/plain": [
       "  0%|          | 0/31 [00:00<?, ?it/s]"
      ]
     },
     "metadata": {},
     "output_type": "display_data"
    },
    {
     "name": "stdout",
     "output_type": "stream",
     "text": [
      "Epoch: 105 \tTraining Loss: 0.076436 \tValidation Loss: 0.697215\n",
      "Epoch: 105 \tTraining accuracy: 0.997984 \tValidation accuracy: 0.808158\n",
      "epoch =  106\n"
     ]
    },
    {
     "data": {
      "application/vnd.jupyter.widget-view+json": {
       "model_id": "545f1bc896fd46e18ee1006b711b0acc",
       "version_major": 2,
       "version_minor": 0
      },
      "text/plain": [
       "  0%|          | 0/62 [00:00<?, ?it/s]"
      ]
     },
     "metadata": {},
     "output_type": "display_data"
    },
    {
     "data": {
      "application/vnd.jupyter.widget-view+json": {
       "model_id": "5921d09fd7a04407a603437f62b2ad4d",
       "version_major": 2,
       "version_minor": 0
      },
      "text/plain": [
       "  0%|          | 0/31 [00:00<?, ?it/s]"
      ]
     },
     "metadata": {},
     "output_type": "display_data"
    },
    {
     "name": "stdout",
     "output_type": "stream",
     "text": [
      "Epoch: 106 \tTraining Loss: 0.075044 \tValidation Loss: 0.754028\n",
      "Epoch: 106 \tTraining accuracy: 0.998488 \tValidation accuracy: 0.783344\n",
      "epoch =  107\n"
     ]
    },
    {
     "data": {
      "application/vnd.jupyter.widget-view+json": {
       "model_id": "fc29726142a34bc991c4006e85def943",
       "version_major": 2,
       "version_minor": 0
      },
      "text/plain": [
       "  0%|          | 0/62 [00:00<?, ?it/s]"
      ]
     },
     "metadata": {},
     "output_type": "display_data"
    },
    {
     "data": {
      "application/vnd.jupyter.widget-view+json": {
       "model_id": "d945b644194044beb292d9b6008995d3",
       "version_major": 2,
       "version_minor": 0
      },
      "text/plain": [
       "  0%|          | 0/31 [00:00<?, ?it/s]"
      ]
     },
     "metadata": {},
     "output_type": "display_data"
    },
    {
     "name": "stdout",
     "output_type": "stream",
     "text": [
      "Epoch: 107 \tTraining Loss: 0.080772 \tValidation Loss: 0.664917\n",
      "Epoch: 107 \tTraining accuracy: 0.998488 \tValidation accuracy: 0.815602\n",
      "epoch =  108\n"
     ]
    },
    {
     "data": {
      "application/vnd.jupyter.widget-view+json": {
       "model_id": "81c3ec6291d745058afae3677a393933",
       "version_major": 2,
       "version_minor": 0
      },
      "text/plain": [
       "  0%|          | 0/62 [00:00<?, ?it/s]"
      ]
     },
     "metadata": {},
     "output_type": "display_data"
    },
    {
     "data": {
      "application/vnd.jupyter.widget-view+json": {
       "model_id": "c4c14bc952d3478fb45a64109a376713",
       "version_major": 2,
       "version_minor": 0
      },
      "text/plain": [
       "  0%|          | 0/31 [00:00<?, ?it/s]"
      ]
     },
     "metadata": {},
     "output_type": "display_data"
    },
    {
     "name": "stdout",
     "output_type": "stream",
     "text": [
      "Epoch: 108 \tTraining Loss: 0.080277 \tValidation Loss: 0.726858\n",
      "Epoch: 108 \tTraining accuracy: 0.997984 \tValidation accuracy: 0.789392\n",
      "epoch =  109\n"
     ]
    },
    {
     "data": {
      "application/vnd.jupyter.widget-view+json": {
       "model_id": "397b6ec860b745acbb0dfb476bb2bece",
       "version_major": 2,
       "version_minor": 0
      },
      "text/plain": [
       "  0%|          | 0/62 [00:00<?, ?it/s]"
      ]
     },
     "metadata": {},
     "output_type": "display_data"
    },
    {
     "data": {
      "application/vnd.jupyter.widget-view+json": {
       "model_id": "0fce47b423024d6aa4d3aa95b56da037",
       "version_major": 2,
       "version_minor": 0
      },
      "text/plain": [
       "  0%|          | 0/31 [00:00<?, ?it/s]"
      ]
     },
     "metadata": {},
     "output_type": "display_data"
    },
    {
     "name": "stdout",
     "output_type": "stream",
     "text": [
      "Epoch: 109 \tTraining Loss: 0.084204 \tValidation Loss: 0.693675\n",
      "Epoch: 109 \tTraining accuracy: 0.997984 \tValidation accuracy: 0.792494\n",
      "epoch =  110\n"
     ]
    },
    {
     "data": {
      "application/vnd.jupyter.widget-view+json": {
       "model_id": "f93b11d8bdd646d1b97227c5bcdba67f",
       "version_major": 2,
       "version_minor": 0
      },
      "text/plain": [
       "  0%|          | 0/62 [00:00<?, ?it/s]"
      ]
     },
     "metadata": {},
     "output_type": "display_data"
    },
    {
     "data": {
      "application/vnd.jupyter.widget-view+json": {
       "model_id": "bc1aeba111874b5f859e5d09a15c5b1d",
       "version_major": 2,
       "version_minor": 0
      },
      "text/plain": [
       "  0%|          | 0/31 [00:00<?, ?it/s]"
      ]
     },
     "metadata": {},
     "output_type": "display_data"
    },
    {
     "name": "stdout",
     "output_type": "stream",
     "text": [
      "Epoch: 110 \tTraining Loss: 0.081323 \tValidation Loss: 0.690507\n",
      "Epoch: 110 \tTraining accuracy: 0.999496 \tValidation accuracy: 0.809553\n",
      "epoch =  111\n"
     ]
    },
    {
     "data": {
      "application/vnd.jupyter.widget-view+json": {
       "model_id": "db95f4c30158408ba26719211e63b863",
       "version_major": 2,
       "version_minor": 0
      },
      "text/plain": [
       "  0%|          | 0/62 [00:00<?, ?it/s]"
      ]
     },
     "metadata": {},
     "output_type": "display_data"
    },
    {
     "data": {
      "application/vnd.jupyter.widget-view+json": {
       "model_id": "12a6b0ab3e3a414d95b346e8912af0ab",
       "version_major": 2,
       "version_minor": 0
      },
      "text/plain": [
       "  0%|          | 0/31 [00:00<?, ?it/s]"
      ]
     },
     "metadata": {},
     "output_type": "display_data"
    },
    {
     "name": "stdout",
     "output_type": "stream",
     "text": [
      "Epoch: 111 \tTraining Loss: 0.078855 \tValidation Loss: 0.771896\n",
      "Epoch: 111 \tTraining accuracy: 0.999496 \tValidation accuracy: 0.789392\n",
      "epoch =  112\n"
     ]
    },
    {
     "data": {
      "application/vnd.jupyter.widget-view+json": {
       "model_id": "ee2b0ef9017c499b96b436591effaa63",
       "version_major": 2,
       "version_minor": 0
      },
      "text/plain": [
       "  0%|          | 0/62 [00:00<?, ?it/s]"
      ]
     },
     "metadata": {},
     "output_type": "display_data"
    },
    {
     "data": {
      "application/vnd.jupyter.widget-view+json": {
       "model_id": "8f79d1b4044a44da8e5eb18072a37f9f",
       "version_major": 2,
       "version_minor": 0
      },
      "text/plain": [
       "  0%|          | 0/31 [00:00<?, ?it/s]"
      ]
     },
     "metadata": {},
     "output_type": "display_data"
    },
    {
     "name": "stdout",
     "output_type": "stream",
     "text": [
      "Epoch: 112 \tTraining Loss: 0.073548 \tValidation Loss: 0.786915\n",
      "Epoch: 112 \tTraining accuracy: 0.998992 \tValidation accuracy: 0.783809\n",
      "epoch =  113\n"
     ]
    },
    {
     "data": {
      "application/vnd.jupyter.widget-view+json": {
       "model_id": "754638794567491187427cd663a68a64",
       "version_major": 2,
       "version_minor": 0
      },
      "text/plain": [
       "  0%|          | 0/62 [00:00<?, ?it/s]"
      ]
     },
     "metadata": {},
     "output_type": "display_data"
    },
    {
     "data": {
      "application/vnd.jupyter.widget-view+json": {
       "model_id": "3f5dac6723664b06a14b928a6b4ce9f7",
       "version_major": 2,
       "version_minor": 0
      },
      "text/plain": [
       "  0%|          | 0/31 [00:00<?, ?it/s]"
      ]
     },
     "metadata": {},
     "output_type": "display_data"
    },
    {
     "name": "stdout",
     "output_type": "stream",
     "text": [
      "Epoch: 113 \tTraining Loss: 0.080391 \tValidation Loss: 0.793189\n",
      "Epoch: 113 \tTraining accuracy: 0.998488 \tValidation accuracy: 0.769231\n",
      "epoch =  114\n"
     ]
    },
    {
     "data": {
      "application/vnd.jupyter.widget-view+json": {
       "model_id": "ff8f1708ffc9481d877aa88c98535460",
       "version_major": 2,
       "version_minor": 0
      },
      "text/plain": [
       "  0%|          | 0/62 [00:00<?, ?it/s]"
      ]
     },
     "metadata": {},
     "output_type": "display_data"
    },
    {
     "data": {
      "application/vnd.jupyter.widget-view+json": {
       "model_id": "4d7ee82bda0e44dcbfd59206850988b5",
       "version_major": 2,
       "version_minor": 0
      },
      "text/plain": [
       "  0%|          | 0/31 [00:00<?, ?it/s]"
      ]
     },
     "metadata": {},
     "output_type": "display_data"
    },
    {
     "name": "stdout",
     "output_type": "stream",
     "text": [
      "Epoch: 114 \tTraining Loss: 0.080105 \tValidation Loss: 0.751390\n",
      "Epoch: 114 \tTraining accuracy: 0.997984 \tValidation accuracy: 0.787841\n",
      "epoch =  115\n"
     ]
    },
    {
     "data": {
      "application/vnd.jupyter.widget-view+json": {
       "model_id": "539c94732c7f4470a3f3b725276469d3",
       "version_major": 2,
       "version_minor": 0
      },
      "text/plain": [
       "  0%|          | 0/62 [00:00<?, ?it/s]"
      ]
     },
     "metadata": {},
     "output_type": "display_data"
    },
    {
     "data": {
      "application/vnd.jupyter.widget-view+json": {
       "model_id": "daa907e533f04122a2275b3b955e6807",
       "version_major": 2,
       "version_minor": 0
      },
      "text/plain": [
       "  0%|          | 0/31 [00:00<?, ?it/s]"
      ]
     },
     "metadata": {},
     "output_type": "display_data"
    },
    {
     "name": "stdout",
     "output_type": "stream",
     "text": [
      "Epoch: 115 \tTraining Loss: 0.083010 \tValidation Loss: 0.728963\n",
      "Epoch: 115 \tTraining accuracy: 0.997984 \tValidation accuracy: 0.795596\n",
      "epoch =  116\n"
     ]
    },
    {
     "data": {
      "application/vnd.jupyter.widget-view+json": {
       "model_id": "b075a951f1eb4294b8df48f8a3fbed38",
       "version_major": 2,
       "version_minor": 0
      },
      "text/plain": [
       "  0%|          | 0/62 [00:00<?, ?it/s]"
      ]
     },
     "metadata": {},
     "output_type": "display_data"
    },
    {
     "data": {
      "application/vnd.jupyter.widget-view+json": {
       "model_id": "1b5761301c9b46b8942e3505b630f031",
       "version_major": 2,
       "version_minor": 0
      },
      "text/plain": [
       "  0%|          | 0/31 [00:00<?, ?it/s]"
      ]
     },
     "metadata": {},
     "output_type": "display_data"
    },
    {
     "name": "stdout",
     "output_type": "stream",
     "text": [
      "Epoch: 116 \tTraining Loss: 0.082168 \tValidation Loss: 0.753550\n",
      "Epoch: 116 \tTraining accuracy: 0.998488 \tValidation accuracy: 0.763648\n",
      "epoch =  117\n"
     ]
    },
    {
     "data": {
      "application/vnd.jupyter.widget-view+json": {
       "model_id": "1cf9cc5ddd844204be84986fe1fccf6f",
       "version_major": 2,
       "version_minor": 0
      },
      "text/plain": [
       "  0%|          | 0/62 [00:00<?, ?it/s]"
      ]
     },
     "metadata": {},
     "output_type": "display_data"
    },
    {
     "data": {
      "application/vnd.jupyter.widget-view+json": {
       "model_id": "06f9a910f5cb41e69bff75cf032f0b9e",
       "version_major": 2,
       "version_minor": 0
      },
      "text/plain": [
       "  0%|          | 0/31 [00:00<?, ?it/s]"
      ]
     },
     "metadata": {},
     "output_type": "display_data"
    },
    {
     "name": "stdout",
     "output_type": "stream",
     "text": [
      "Epoch: 117 \tTraining Loss: 0.080345 \tValidation Loss: 0.731875\n",
      "Epoch: 117 \tTraining accuracy: 0.998992 \tValidation accuracy: 0.778846\n",
      "epoch =  118\n"
     ]
    },
    {
     "data": {
      "application/vnd.jupyter.widget-view+json": {
       "model_id": "37cf5e04e8bc4d999a9b9e0bc286289d",
       "version_major": 2,
       "version_minor": 0
      },
      "text/plain": [
       "  0%|          | 0/62 [00:00<?, ?it/s]"
      ]
     },
     "metadata": {},
     "output_type": "display_data"
    },
    {
     "data": {
      "application/vnd.jupyter.widget-view+json": {
       "model_id": "a7a71f26ea59470ab7d621462b71a487",
       "version_major": 2,
       "version_minor": 0
      },
      "text/plain": [
       "  0%|          | 0/31 [00:00<?, ?it/s]"
      ]
     },
     "metadata": {},
     "output_type": "display_data"
    },
    {
     "name": "stdout",
     "output_type": "stream",
     "text": [
      "Epoch: 118 \tTraining Loss: 0.077314 \tValidation Loss: 0.714718\n",
      "Epoch: 118 \tTraining accuracy: 0.998992 \tValidation accuracy: 0.783344\n",
      "epoch =  119\n"
     ]
    },
    {
     "data": {
      "application/vnd.jupyter.widget-view+json": {
       "model_id": "15ed838db8be4b20aa416f7c62aa5850",
       "version_major": 2,
       "version_minor": 0
      },
      "text/plain": [
       "  0%|          | 0/62 [00:00<?, ?it/s]"
      ]
     },
     "metadata": {},
     "output_type": "display_data"
    },
    {
     "data": {
      "application/vnd.jupyter.widget-view+json": {
       "model_id": "294de3f7aed04f27857d74eb68dbefd5",
       "version_major": 2,
       "version_minor": 0
      },
      "text/plain": [
       "  0%|          | 0/31 [00:00<?, ?it/s]"
      ]
     },
     "metadata": {},
     "output_type": "display_data"
    },
    {
     "name": "stdout",
     "output_type": "stream",
     "text": [
      "Epoch: 119 \tTraining Loss: 0.078834 \tValidation Loss: 0.686148\n",
      "Epoch: 119 \tTraining accuracy: 0.997984 \tValidation accuracy: 0.793579\n",
      "epoch =  120\n"
     ]
    },
    {
     "data": {
      "application/vnd.jupyter.widget-view+json": {
       "model_id": "6d3b81fcbb8f476c9b0bb2b934c5ffa0",
       "version_major": 2,
       "version_minor": 0
      },
      "text/plain": [
       "  0%|          | 0/62 [00:00<?, ?it/s]"
      ]
     },
     "metadata": {},
     "output_type": "display_data"
    },
    {
     "data": {
      "application/vnd.jupyter.widget-view+json": {
       "model_id": "b547ce56c9674c8fba59e635f849cef1",
       "version_major": 2,
       "version_minor": 0
      },
      "text/plain": [
       "  0%|          | 0/31 [00:00<?, ?it/s]"
      ]
     },
     "metadata": {},
     "output_type": "display_data"
    },
    {
     "name": "stdout",
     "output_type": "stream",
     "text": [
      "Epoch: 120 \tTraining Loss: 0.075123 \tValidation Loss: 0.739527\n",
      "Epoch: 120 \tTraining accuracy: 1.000000 \tValidation accuracy: 0.786290\n",
      "epoch =  121\n"
     ]
    },
    {
     "data": {
      "application/vnd.jupyter.widget-view+json": {
       "model_id": "395b4dd6ee7141e1b3392853ba5820bb",
       "version_major": 2,
       "version_minor": 0
      },
      "text/plain": [
       "  0%|          | 0/62 [00:00<?, ?it/s]"
      ]
     },
     "metadata": {},
     "output_type": "display_data"
    },
    {
     "data": {
      "application/vnd.jupyter.widget-view+json": {
       "model_id": "5746215075af4ac68af6d8371e58a13f",
       "version_major": 2,
       "version_minor": 0
      },
      "text/plain": [
       "  0%|          | 0/31 [00:00<?, ?it/s]"
      ]
     },
     "metadata": {},
     "output_type": "display_data"
    },
    {
     "name": "stdout",
     "output_type": "stream",
     "text": [
      "Epoch: 121 \tTraining Loss: 0.079065 \tValidation Loss: 0.738633\n",
      "Epoch: 121 \tTraining accuracy: 0.998488 \tValidation accuracy: 0.777295\n",
      "epoch =  122\n"
     ]
    },
    {
     "data": {
      "application/vnd.jupyter.widget-view+json": {
       "model_id": "4070d3a4636f4c298875c57db80982fa",
       "version_major": 2,
       "version_minor": 0
      },
      "text/plain": [
       "  0%|          | 0/62 [00:00<?, ?it/s]"
      ]
     },
     "metadata": {},
     "output_type": "display_data"
    },
    {
     "data": {
      "application/vnd.jupyter.widget-view+json": {
       "model_id": "30bcf4dd41684f469779c384078c3893",
       "version_major": 2,
       "version_minor": 0
      },
      "text/plain": [
       "  0%|          | 0/31 [00:00<?, ?it/s]"
      ]
     },
     "metadata": {},
     "output_type": "display_data"
    },
    {
     "name": "stdout",
     "output_type": "stream",
     "text": [
      "Epoch: 122 \tTraining Loss: 0.079098 \tValidation Loss: 0.677547\n",
      "Epoch: 122 \tTraining accuracy: 0.999496 \tValidation accuracy: 0.813586\n",
      "epoch =  123\n"
     ]
    },
    {
     "data": {
      "application/vnd.jupyter.widget-view+json": {
       "model_id": "9557f0f0000849e288e42eaffa73879d",
       "version_major": 2,
       "version_minor": 0
      },
      "text/plain": [
       "  0%|          | 0/62 [00:00<?, ?it/s]"
      ]
     },
     "metadata": {},
     "output_type": "display_data"
    },
    {
     "data": {
      "application/vnd.jupyter.widget-view+json": {
       "model_id": "722fd552cc0d40bd9f83a195146a95dd",
       "version_major": 2,
       "version_minor": 0
      },
      "text/plain": [
       "  0%|          | 0/31 [00:00<?, ?it/s]"
      ]
     },
     "metadata": {},
     "output_type": "display_data"
    },
    {
     "name": "stdout",
     "output_type": "stream",
     "text": [
      "Epoch: 123 \tTraining Loss: 0.077859 \tValidation Loss: 0.704188\n",
      "Epoch: 123 \tTraining accuracy: 0.998488 \tValidation accuracy: 0.804591\n",
      "epoch =  124\n"
     ]
    },
    {
     "data": {
      "application/vnd.jupyter.widget-view+json": {
       "model_id": "0c279545e8f74e87954b2a989eedc618",
       "version_major": 2,
       "version_minor": 0
      },
      "text/plain": [
       "  0%|          | 0/62 [00:00<?, ?it/s]"
      ]
     },
     "metadata": {},
     "output_type": "display_data"
    },
    {
     "data": {
      "application/vnd.jupyter.widget-view+json": {
       "model_id": "ba62f13dc3674e5290171e75f40e334c",
       "version_major": 2,
       "version_minor": 0
      },
      "text/plain": [
       "  0%|          | 0/31 [00:00<?, ?it/s]"
      ]
     },
     "metadata": {},
     "output_type": "display_data"
    },
    {
     "name": "stdout",
     "output_type": "stream",
     "text": [
      "Epoch: 124 \tTraining Loss: 0.078464 \tValidation Loss: 0.729891\n",
      "Epoch: 124 \tTraining accuracy: 0.998992 \tValidation accuracy: 0.797457\n",
      "epoch =  125\n"
     ]
    },
    {
     "data": {
      "application/vnd.jupyter.widget-view+json": {
       "model_id": "57cdfb466e8948b89bf02629abb2eecc",
       "version_major": 2,
       "version_minor": 0
      },
      "text/plain": [
       "  0%|          | 0/62 [00:00<?, ?it/s]"
      ]
     },
     "metadata": {},
     "output_type": "display_data"
    },
    {
     "data": {
      "application/vnd.jupyter.widget-view+json": {
       "model_id": "6aed7e3a902040f5b7885136d7a2a9fc",
       "version_major": 2,
       "version_minor": 0
      },
      "text/plain": [
       "  0%|          | 0/31 [00:00<?, ?it/s]"
      ]
     },
     "metadata": {},
     "output_type": "display_data"
    },
    {
     "name": "stdout",
     "output_type": "stream",
     "text": [
      "Epoch: 125 \tTraining Loss: 0.075581 \tValidation Loss: 0.722892\n",
      "Epoch: 125 \tTraining accuracy: 0.999496 \tValidation accuracy: 0.772798\n",
      "epoch =  126\n"
     ]
    },
    {
     "data": {
      "application/vnd.jupyter.widget-view+json": {
       "model_id": "0f5bd24c71754ba7b2cc15bde0e41aef",
       "version_major": 2,
       "version_minor": 0
      },
      "text/plain": [
       "  0%|          | 0/62 [00:00<?, ?it/s]"
      ]
     },
     "metadata": {},
     "output_type": "display_data"
    },
    {
     "data": {
      "application/vnd.jupyter.widget-view+json": {
       "model_id": "01c6613bc64043d9801baef1dc1ed1a7",
       "version_major": 2,
       "version_minor": 0
      },
      "text/plain": [
       "  0%|          | 0/31 [00:00<?, ?it/s]"
      ]
     },
     "metadata": {},
     "output_type": "display_data"
    },
    {
     "name": "stdout",
     "output_type": "stream",
     "text": [
      "Epoch: 126 \tTraining Loss: 0.079826 \tValidation Loss: 0.694027\n",
      "Epoch: 126 \tTraining accuracy: 0.999496 \tValidation accuracy: 0.805986\n",
      "epoch =  127\n"
     ]
    },
    {
     "data": {
      "application/vnd.jupyter.widget-view+json": {
       "model_id": "8ac5399103c54bb3bf6fea847c6c5e36",
       "version_major": 2,
       "version_minor": 0
      },
      "text/plain": [
       "  0%|          | 0/62 [00:00<?, ?it/s]"
      ]
     },
     "metadata": {},
     "output_type": "display_data"
    },
    {
     "data": {
      "application/vnd.jupyter.widget-view+json": {
       "model_id": "c509a92976a84ebc9abf7d3637dda9a4",
       "version_major": 2,
       "version_minor": 0
      },
      "text/plain": [
       "  0%|          | 0/31 [00:00<?, ?it/s]"
      ]
     },
     "metadata": {},
     "output_type": "display_data"
    },
    {
     "name": "stdout",
     "output_type": "stream",
     "text": [
      "Epoch: 127 \tTraining Loss: 0.077919 \tValidation Loss: 0.743930\n",
      "Epoch: 127 \tTraining accuracy: 0.998992 \tValidation accuracy: 0.794975\n",
      "epoch =  128\n"
     ]
    },
    {
     "data": {
      "application/vnd.jupyter.widget-view+json": {
       "model_id": "836dd20934b047ce98c6398f469948c5",
       "version_major": 2,
       "version_minor": 0
      },
      "text/plain": [
       "  0%|          | 0/62 [00:00<?, ?it/s]"
      ]
     },
     "metadata": {},
     "output_type": "display_data"
    },
    {
     "data": {
      "application/vnd.jupyter.widget-view+json": {
       "model_id": "c0de19a1adc04b649930838dc7617fd5",
       "version_major": 2,
       "version_minor": 0
      },
      "text/plain": [
       "  0%|          | 0/31 [00:00<?, ?it/s]"
      ]
     },
     "metadata": {},
     "output_type": "display_data"
    },
    {
     "name": "stdout",
     "output_type": "stream",
     "text": [
      "Epoch: 128 \tTraining Loss: 0.073204 \tValidation Loss: 0.655863\n",
      "Epoch: 128 \tTraining accuracy: 1.000000 \tValidation accuracy: 0.833747\n",
      "epoch =  129\n"
     ]
    },
    {
     "data": {
      "application/vnd.jupyter.widget-view+json": {
       "model_id": "da955e2385ef4c6293cec6ac98f2c467",
       "version_major": 2,
       "version_minor": 0
      },
      "text/plain": [
       "  0%|          | 0/62 [00:00<?, ?it/s]"
      ]
     },
     "metadata": {},
     "output_type": "display_data"
    },
    {
     "data": {
      "application/vnd.jupyter.widget-view+json": {
       "model_id": "5147b35f28d4459284339459d4a17125",
       "version_major": 2,
       "version_minor": 0
      },
      "text/plain": [
       "  0%|          | 0/31 [00:00<?, ?it/s]"
      ]
     },
     "metadata": {},
     "output_type": "display_data"
    },
    {
     "name": "stdout",
     "output_type": "stream",
     "text": [
      "Epoch: 129 \tTraining Loss: 0.082054 \tValidation Loss: 0.661062\n",
      "Epoch: 129 \tTraining accuracy: 1.000000 \tValidation accuracy: 0.813586\n",
      "epoch =  130\n"
     ]
    },
    {
     "data": {
      "application/vnd.jupyter.widget-view+json": {
       "model_id": "90d34cd61ecf4476b710822c4cdad267",
       "version_major": 2,
       "version_minor": 0
      },
      "text/plain": [
       "  0%|          | 0/62 [00:00<?, ?it/s]"
      ]
     },
     "metadata": {},
     "output_type": "display_data"
    },
    {
     "data": {
      "application/vnd.jupyter.widget-view+json": {
       "model_id": "459672cf9b154c968574c5637137492d",
       "version_major": 2,
       "version_minor": 0
      },
      "text/plain": [
       "  0%|          | 0/31 [00:00<?, ?it/s]"
      ]
     },
     "metadata": {},
     "output_type": "display_data"
    },
    {
     "name": "stdout",
     "output_type": "stream",
     "text": [
      "Epoch: 130 \tTraining Loss: 0.083659 \tValidation Loss: 0.673806\n",
      "Epoch: 130 \tTraining accuracy: 0.997984 \tValidation accuracy: 0.817618\n",
      "epoch =  131\n"
     ]
    },
    {
     "data": {
      "application/vnd.jupyter.widget-view+json": {
       "model_id": "e123237b7cab42c4aa916b1a13e0f711",
       "version_major": 2,
       "version_minor": 0
      },
      "text/plain": [
       "  0%|          | 0/62 [00:00<?, ?it/s]"
      ]
     },
     "metadata": {},
     "output_type": "display_data"
    },
    {
     "data": {
      "application/vnd.jupyter.widget-view+json": {
       "model_id": "0feb012e9a534747b451edd05982d1b2",
       "version_major": 2,
       "version_minor": 0
      },
      "text/plain": [
       "  0%|          | 0/31 [00:00<?, ?it/s]"
      ]
     },
     "metadata": {},
     "output_type": "display_data"
    },
    {
     "name": "stdout",
     "output_type": "stream",
     "text": [
      "Epoch: 131 \tTraining Loss: 0.078971 \tValidation Loss: 0.706984\n",
      "Epoch: 131 \tTraining accuracy: 0.998992 \tValidation accuracy: 0.793890\n",
      "epoch =  132\n"
     ]
    },
    {
     "data": {
      "application/vnd.jupyter.widget-view+json": {
       "model_id": "7d533eaf24ef4bd1bd38c82e49778f95",
       "version_major": 2,
       "version_minor": 0
      },
      "text/plain": [
       "  0%|          | 0/62 [00:00<?, ?it/s]"
      ]
     },
     "metadata": {},
     "output_type": "display_data"
    },
    {
     "data": {
      "application/vnd.jupyter.widget-view+json": {
       "model_id": "ce0e1696bc0144aa978fba77afce8b2f",
       "version_major": 2,
       "version_minor": 0
      },
      "text/plain": [
       "  0%|          | 0/31 [00:00<?, ?it/s]"
      ]
     },
     "metadata": {},
     "output_type": "display_data"
    },
    {
     "name": "stdout",
     "output_type": "stream",
     "text": [
      "Epoch: 132 \tTraining Loss: 0.080295 \tValidation Loss: 0.640708\n",
      "Epoch: 132 \tTraining accuracy: 0.998291 \tValidation accuracy: 0.824131\n",
      "Validation loss decreased (0.650954 --> 0.640708).  Saving model ...\n",
      "epoch =  133\n"
     ]
    },
    {
     "data": {
      "application/vnd.jupyter.widget-view+json": {
       "model_id": "dca9048ac1864a769eddcad53be2922e",
       "version_major": 2,
       "version_minor": 0
      },
      "text/plain": [
       "  0%|          | 0/62 [00:00<?, ?it/s]"
      ]
     },
     "metadata": {},
     "output_type": "display_data"
    },
    {
     "data": {
      "application/vnd.jupyter.widget-view+json": {
       "model_id": "ac02f7da76984c6ba9a3cc9c88a823c8",
       "version_major": 2,
       "version_minor": 0
      },
      "text/plain": [
       "  0%|          | 0/31 [00:00<?, ?it/s]"
      ]
     },
     "metadata": {},
     "output_type": "display_data"
    },
    {
     "name": "stdout",
     "output_type": "stream",
     "text": [
      "Epoch: 133 \tTraining Loss: 0.075463 \tValidation Loss: 0.689629\n",
      "Epoch: 133 \tTraining accuracy: 0.999496 \tValidation accuracy: 0.805986\n",
      "epoch =  134\n"
     ]
    },
    {
     "data": {
      "application/vnd.jupyter.widget-view+json": {
       "model_id": "51c1e40ca0af4730889178f795c5e928",
       "version_major": 2,
       "version_minor": 0
      },
      "text/plain": [
       "  0%|          | 0/62 [00:00<?, ?it/s]"
      ]
     },
     "metadata": {},
     "output_type": "display_data"
    },
    {
     "data": {
      "application/vnd.jupyter.widget-view+json": {
       "model_id": "d50b8d62cb564c42ba2d110fb1288af9",
       "version_major": 2,
       "version_minor": 0
      },
      "text/plain": [
       "  0%|          | 0/31 [00:00<?, ?it/s]"
      ]
     },
     "metadata": {},
     "output_type": "display_data"
    },
    {
     "name": "stdout",
     "output_type": "stream",
     "text": [
      "Epoch: 134 \tTraining Loss: 0.080331 \tValidation Loss: 0.704575\n",
      "Epoch: 134 \tTraining accuracy: 1.000000 \tValidation accuracy: 0.797922\n",
      "epoch =  135\n"
     ]
    },
    {
     "data": {
      "application/vnd.jupyter.widget-view+json": {
       "model_id": "40e240df0bc544ac8157d4529819a6cb",
       "version_major": 2,
       "version_minor": 0
      },
      "text/plain": [
       "  0%|          | 0/62 [00:00<?, ?it/s]"
      ]
     },
     "metadata": {},
     "output_type": "display_data"
    },
    {
     "data": {
      "application/vnd.jupyter.widget-view+json": {
       "model_id": "a212e74a017948159744a2b29fdef849",
       "version_major": 2,
       "version_minor": 0
      },
      "text/plain": [
       "  0%|          | 0/31 [00:00<?, ?it/s]"
      ]
     },
     "metadata": {},
     "output_type": "display_data"
    },
    {
     "name": "stdout",
     "output_type": "stream",
     "text": [
      "Epoch: 135 \tTraining Loss: 0.078869 \tValidation Loss: 0.713322\n",
      "Epoch: 135 \tTraining accuracy: 1.000000 \tValidation accuracy: 0.803505\n",
      "epoch =  136\n"
     ]
    },
    {
     "data": {
      "application/vnd.jupyter.widget-view+json": {
       "model_id": "c35fae9e8ac543c4ad53fb085090eb95",
       "version_major": 2,
       "version_minor": 0
      },
      "text/plain": [
       "  0%|          | 0/62 [00:00<?, ?it/s]"
      ]
     },
     "metadata": {},
     "output_type": "display_data"
    },
    {
     "data": {
      "application/vnd.jupyter.widget-view+json": {
       "model_id": "eb6407e386c441fda3b64b92e35a4f2d",
       "version_major": 2,
       "version_minor": 0
      },
      "text/plain": [
       "  0%|          | 0/31 [00:00<?, ?it/s]"
      ]
     },
     "metadata": {},
     "output_type": "display_data"
    },
    {
     "name": "stdout",
     "output_type": "stream",
     "text": [
      "Epoch: 136 \tTraining Loss: 0.079540 \tValidation Loss: 0.757678\n",
      "Epoch: 136 \tTraining accuracy: 0.998488 \tValidation accuracy: 0.801024\n",
      "epoch =  137\n"
     ]
    },
    {
     "data": {
      "application/vnd.jupyter.widget-view+json": {
       "model_id": "081d666354594f688170c9781fb9fe9a",
       "version_major": 2,
       "version_minor": 0
      },
      "text/plain": [
       "  0%|          | 0/62 [00:00<?, ?it/s]"
      ]
     },
     "metadata": {},
     "output_type": "display_data"
    },
    {
     "data": {
      "application/vnd.jupyter.widget-view+json": {
       "model_id": "6a2edd43abfd477aa3c98abe1de384c6",
       "version_major": 2,
       "version_minor": 0
      },
      "text/plain": [
       "  0%|          | 0/31 [00:00<?, ?it/s]"
      ]
     },
     "metadata": {},
     "output_type": "display_data"
    },
    {
     "name": "stdout",
     "output_type": "stream",
     "text": [
      "Epoch: 137 \tTraining Loss: 0.075558 \tValidation Loss: 0.695617\n",
      "Epoch: 137 \tTraining accuracy: 0.998992 \tValidation accuracy: 0.797457\n",
      "epoch =  138\n"
     ]
    },
    {
     "data": {
      "application/vnd.jupyter.widget-view+json": {
       "model_id": "35b160afe2814171913c2119791ab0d1",
       "version_major": 2,
       "version_minor": 0
      },
      "text/plain": [
       "  0%|          | 0/62 [00:00<?, ?it/s]"
      ]
     },
     "metadata": {},
     "output_type": "display_data"
    },
    {
     "data": {
      "application/vnd.jupyter.widget-view+json": {
       "model_id": "9828265c9a24438086c60e5aa10eada3",
       "version_major": 2,
       "version_minor": 0
      },
      "text/plain": [
       "  0%|          | 0/31 [00:00<?, ?it/s]"
      ]
     },
     "metadata": {},
     "output_type": "display_data"
    },
    {
     "name": "stdout",
     "output_type": "stream",
     "text": [
      "Epoch: 138 \tTraining Loss: 0.076012 \tValidation Loss: 0.764544\n",
      "Epoch: 138 \tTraining accuracy: 0.998488 \tValidation accuracy: 0.775744\n",
      "epoch =  139\n"
     ]
    },
    {
     "data": {
      "application/vnd.jupyter.widget-view+json": {
       "model_id": "02fb4daa3a274f3da2cbf905ee5f8d3b",
       "version_major": 2,
       "version_minor": 0
      },
      "text/plain": [
       "  0%|          | 0/62 [00:00<?, ?it/s]"
      ]
     },
     "metadata": {},
     "output_type": "display_data"
    },
    {
     "data": {
      "application/vnd.jupyter.widget-view+json": {
       "model_id": "9e132701fd4d4fa0b42ad0259035d6cd",
       "version_major": 2,
       "version_minor": 0
      },
      "text/plain": [
       "  0%|          | 0/31 [00:00<?, ?it/s]"
      ]
     },
     "metadata": {},
     "output_type": "display_data"
    },
    {
     "name": "stdout",
     "output_type": "stream",
     "text": [
      "Epoch: 139 \tTraining Loss: 0.080015 \tValidation Loss: 0.698933\n",
      "Epoch: 139 \tTraining accuracy: 0.999496 \tValidation accuracy: 0.794975\n",
      "epoch =  140\n"
     ]
    },
    {
     "data": {
      "application/vnd.jupyter.widget-view+json": {
       "model_id": "ad43dc9979754052ae49fe28b59a3395",
       "version_major": 2,
       "version_minor": 0
      },
      "text/plain": [
       "  0%|          | 0/62 [00:00<?, ?it/s]"
      ]
     },
     "metadata": {},
     "output_type": "display_data"
    },
    {
     "data": {
      "application/vnd.jupyter.widget-view+json": {
       "model_id": "ee7fd1ed6add4d9aafad9ae23d024679",
       "version_major": 2,
       "version_minor": 0
      },
      "text/plain": [
       "  0%|          | 0/31 [00:00<?, ?it/s]"
      ]
     },
     "metadata": {},
     "output_type": "display_data"
    },
    {
     "name": "stdout",
     "output_type": "stream",
     "text": [
      "Epoch: 140 \tTraining Loss: 0.077770 \tValidation Loss: 0.748550\n",
      "Epoch: 140 \tTraining accuracy: 1.000000 \tValidation accuracy: 0.786911\n",
      "epoch =  141\n"
     ]
    },
    {
     "data": {
      "application/vnd.jupyter.widget-view+json": {
       "model_id": "477d9cf64372420d8eb1ba98cfa46859",
       "version_major": 2,
       "version_minor": 0
      },
      "text/plain": [
       "  0%|          | 0/62 [00:00<?, ?it/s]"
      ]
     },
     "metadata": {},
     "output_type": "display_data"
    },
    {
     "data": {
      "application/vnd.jupyter.widget-view+json": {
       "model_id": "2a5cd87207af4b2586372c13b9649817",
       "version_major": 2,
       "version_minor": 0
      },
      "text/plain": [
       "  0%|          | 0/31 [00:00<?, ?it/s]"
      ]
     },
     "metadata": {},
     "output_type": "display_data"
    },
    {
     "name": "stdout",
     "output_type": "stream",
     "text": [
      "Epoch: 141 \tTraining Loss: 0.076586 \tValidation Loss: 0.711434\n",
      "Epoch: 141 \tTraining accuracy: 0.999496 \tValidation accuracy: 0.808468\n",
      "epoch =  142\n"
     ]
    },
    {
     "data": {
      "application/vnd.jupyter.widget-view+json": {
       "model_id": "bed8a9f9fe174760ae4246d70d8ec406",
       "version_major": 2,
       "version_minor": 0
      },
      "text/plain": [
       "  0%|          | 0/62 [00:00<?, ?it/s]"
      ]
     },
     "metadata": {},
     "output_type": "display_data"
    },
    {
     "data": {
      "application/vnd.jupyter.widget-view+json": {
       "model_id": "f1975987c307457aadd1f1016a10fcc6",
       "version_major": 2,
       "version_minor": 0
      },
      "text/plain": [
       "  0%|          | 0/31 [00:00<?, ?it/s]"
      ]
     },
     "metadata": {},
     "output_type": "display_data"
    },
    {
     "name": "stdout",
     "output_type": "stream",
     "text": [
      "Epoch: 142 \tTraining Loss: 0.076754 \tValidation Loss: 0.722347\n",
      "Epoch: 142 \tTraining accuracy: 0.999496 \tValidation accuracy: 0.810639\n",
      "epoch =  143\n"
     ]
    },
    {
     "data": {
      "application/vnd.jupyter.widget-view+json": {
       "model_id": "322317b9ef7e491486f6d19caf9b79ca",
       "version_major": 2,
       "version_minor": 0
      },
      "text/plain": [
       "  0%|          | 0/62 [00:00<?, ?it/s]"
      ]
     },
     "metadata": {},
     "output_type": "display_data"
    },
    {
     "data": {
      "application/vnd.jupyter.widget-view+json": {
       "model_id": "92dde6aa13e74f64b5bd1d990407c36c",
       "version_major": 2,
       "version_minor": 0
      },
      "text/plain": [
       "  0%|          | 0/31 [00:00<?, ?it/s]"
      ]
     },
     "metadata": {},
     "output_type": "display_data"
    },
    {
     "name": "stdout",
     "output_type": "stream",
     "text": [
      "Epoch: 143 \tTraining Loss: 0.077550 \tValidation Loss: 0.766786\n",
      "Epoch: 143 \tTraining accuracy: 0.998992 \tValidation accuracy: 0.799473\n",
      "epoch =  144\n"
     ]
    },
    {
     "data": {
      "application/vnd.jupyter.widget-view+json": {
       "model_id": "da7008ea8e4a4e0ea4074a17cb9bdf95",
       "version_major": 2,
       "version_minor": 0
      },
      "text/plain": [
       "  0%|          | 0/62 [00:00<?, ?it/s]"
      ]
     },
     "metadata": {},
     "output_type": "display_data"
    },
    {
     "data": {
      "application/vnd.jupyter.widget-view+json": {
       "model_id": "2c834e0c96b0461a91523eb6ce419149",
       "version_major": 2,
       "version_minor": 0
      },
      "text/plain": [
       "  0%|          | 0/31 [00:00<?, ?it/s]"
      ]
     },
     "metadata": {},
     "output_type": "display_data"
    },
    {
     "name": "stdout",
     "output_type": "stream",
     "text": [
      "Epoch: 144 \tTraining Loss: 0.079302 \tValidation Loss: 0.723025\n",
      "Epoch: 144 \tTraining accuracy: 0.999299 \tValidation accuracy: 0.804125\n",
      "epoch =  145\n"
     ]
    },
    {
     "data": {
      "application/vnd.jupyter.widget-view+json": {
       "model_id": "f8d5fa5dc70c4d998f0ce42f94fc640f",
       "version_major": 2,
       "version_minor": 0
      },
      "text/plain": [
       "  0%|          | 0/62 [00:00<?, ?it/s]"
      ]
     },
     "metadata": {},
     "output_type": "display_data"
    },
    {
     "data": {
      "application/vnd.jupyter.widget-view+json": {
       "model_id": "a8247c790e984c88aa4ed8a5bb1c8b79",
       "version_major": 2,
       "version_minor": 0
      },
      "text/plain": [
       "  0%|          | 0/31 [00:00<?, ?it/s]"
      ]
     },
     "metadata": {},
     "output_type": "display_data"
    },
    {
     "name": "stdout",
     "output_type": "stream",
     "text": [
      "Epoch: 145 \tTraining Loss: 0.082081 \tValidation Loss: 0.699441\n",
      "Epoch: 145 \tTraining accuracy: 0.997984 \tValidation accuracy: 0.818548\n",
      "epoch =  146\n"
     ]
    },
    {
     "data": {
      "application/vnd.jupyter.widget-view+json": {
       "model_id": "1a8b48928ae04344856e5fbb9348edc4",
       "version_major": 2,
       "version_minor": 0
      },
      "text/plain": [
       "  0%|          | 0/62 [00:00<?, ?it/s]"
      ]
     },
     "metadata": {},
     "output_type": "display_data"
    },
    {
     "data": {
      "application/vnd.jupyter.widget-view+json": {
       "model_id": "a26aa6349097411eb723d0e2982b4dfb",
       "version_major": 2,
       "version_minor": 0
      },
      "text/plain": [
       "  0%|          | 0/31 [00:00<?, ?it/s]"
      ]
     },
     "metadata": {},
     "output_type": "display_data"
    },
    {
     "name": "stdout",
     "output_type": "stream",
     "text": [
      "Epoch: 146 \tTraining Loss: 0.080205 \tValidation Loss: 0.745721\n",
      "Epoch: 146 \tTraining accuracy: 0.999496 \tValidation accuracy: 0.793890\n",
      "epoch =  147\n"
     ]
    },
    {
     "data": {
      "application/vnd.jupyter.widget-view+json": {
       "model_id": "ed39a16a093b4accb5202f9a1ef32a3d",
       "version_major": 2,
       "version_minor": 0
      },
      "text/plain": [
       "  0%|          | 0/62 [00:00<?, ?it/s]"
      ]
     },
     "metadata": {},
     "output_type": "display_data"
    },
    {
     "data": {
      "application/vnd.jupyter.widget-view+json": {
       "model_id": "91404a7b328346d4806b944738a55101",
       "version_major": 2,
       "version_minor": 0
      },
      "text/plain": [
       "  0%|          | 0/31 [00:00<?, ?it/s]"
      ]
     },
     "metadata": {},
     "output_type": "display_data"
    },
    {
     "name": "stdout",
     "output_type": "stream",
     "text": [
      "Epoch: 147 \tTraining Loss: 0.080724 \tValidation Loss: 0.677317\n",
      "Epoch: 147 \tTraining accuracy: 0.998795 \tValidation accuracy: 0.822736\n",
      "epoch =  148\n"
     ]
    },
    {
     "data": {
      "application/vnd.jupyter.widget-view+json": {
       "model_id": "5967b2b4aad34b548fc18a173e72ae12",
       "version_major": 2,
       "version_minor": 0
      },
      "text/plain": [
       "  0%|          | 0/62 [00:00<?, ?it/s]"
      ]
     },
     "metadata": {},
     "output_type": "display_data"
    },
    {
     "data": {
      "application/vnd.jupyter.widget-view+json": {
       "model_id": "904ba9f761bd4941960027e960a76b76",
       "version_major": 2,
       "version_minor": 0
      },
      "text/plain": [
       "  0%|          | 0/31 [00:00<?, ?it/s]"
      ]
     },
     "metadata": {},
     "output_type": "display_data"
    },
    {
     "name": "stdout",
     "output_type": "stream",
     "text": [
      "Epoch: 148 \tTraining Loss: 0.079428 \tValidation Loss: 0.737925\n",
      "Epoch: 148 \tTraining accuracy: 0.997984 \tValidation accuracy: 0.802109\n",
      "epoch =  149\n"
     ]
    },
    {
     "data": {
      "application/vnd.jupyter.widget-view+json": {
       "model_id": "331768d6e4c44baeb3b77b12acaedcbc",
       "version_major": 2,
       "version_minor": 0
      },
      "text/plain": [
       "  0%|          | 0/62 [00:00<?, ?it/s]"
      ]
     },
     "metadata": {},
     "output_type": "display_data"
    },
    {
     "data": {
      "application/vnd.jupyter.widget-view+json": {
       "model_id": "f219eeee4cca478f803c019a8dc43ffb",
       "version_major": 2,
       "version_minor": 0
      },
      "text/plain": [
       "  0%|          | 0/31 [00:00<?, ?it/s]"
      ]
     },
     "metadata": {},
     "output_type": "display_data"
    },
    {
     "name": "stdout",
     "output_type": "stream",
     "text": [
      "Epoch: 149 \tTraining Loss: 0.078994 \tValidation Loss: 0.655938\n",
      "Epoch: 149 \tTraining accuracy: 0.998992 \tValidation accuracy: 0.817308\n",
      "epoch =  150\n"
     ]
    },
    {
     "data": {
      "application/vnd.jupyter.widget-view+json": {
       "model_id": "ee62e072fb054355ab1f1b29ae849c57",
       "version_major": 2,
       "version_minor": 0
      },
      "text/plain": [
       "  0%|          | 0/62 [00:00<?, ?it/s]"
      ]
     },
     "metadata": {},
     "output_type": "display_data"
    },
    {
     "data": {
      "application/vnd.jupyter.widget-view+json": {
       "model_id": "5970d172e5a84ca1a6d9baa0c350bbfd",
       "version_major": 2,
       "version_minor": 0
      },
      "text/plain": [
       "  0%|          | 0/31 [00:00<?, ?it/s]"
      ]
     },
     "metadata": {},
     "output_type": "display_data"
    },
    {
     "name": "stdout",
     "output_type": "stream",
     "text": [
      "Epoch: 150 \tTraining Loss: 0.075874 \tValidation Loss: 0.731120\n",
      "Epoch: 150 \tTraining accuracy: 1.000000 \tValidation accuracy: 0.802109\n",
      "epoch =  151\n"
     ]
    },
    {
     "data": {
      "application/vnd.jupyter.widget-view+json": {
       "model_id": "f10217e435f74fd08d37a36fd7ed2011",
       "version_major": 2,
       "version_minor": 0
      },
      "text/plain": [
       "  0%|          | 0/62 [00:00<?, ?it/s]"
      ]
     },
     "metadata": {},
     "output_type": "display_data"
    },
    {
     "data": {
      "application/vnd.jupyter.widget-view+json": {
       "model_id": "b7dcafabe2e541cbafe13722da99e5f8",
       "version_major": 2,
       "version_minor": 0
      },
      "text/plain": [
       "  0%|          | 0/31 [00:00<?, ?it/s]"
      ]
     },
     "metadata": {},
     "output_type": "display_data"
    },
    {
     "name": "stdout",
     "output_type": "stream",
     "text": [
      "Epoch: 151 \tTraining Loss: 0.076206 \tValidation Loss: 0.668020\n",
      "Epoch: 151 \tTraining accuracy: 0.999496 \tValidation accuracy: 0.819634\n",
      "epoch =  152\n"
     ]
    },
    {
     "data": {
      "application/vnd.jupyter.widget-view+json": {
       "model_id": "c2e5e935926041e9a980bdfb92218b85",
       "version_major": 2,
       "version_minor": 0
      },
      "text/plain": [
       "  0%|          | 0/62 [00:00<?, ?it/s]"
      ]
     },
     "metadata": {},
     "output_type": "display_data"
    },
    {
     "data": {
      "application/vnd.jupyter.widget-view+json": {
       "model_id": "51f31063693848ad8ed4376e8f6d674d",
       "version_major": 2,
       "version_minor": 0
      },
      "text/plain": [
       "  0%|          | 0/31 [00:00<?, ?it/s]"
      ]
     },
     "metadata": {},
     "output_type": "display_data"
    },
    {
     "name": "stdout",
     "output_type": "stream",
     "text": [
      "Epoch: 152 \tTraining Loss: 0.076608 \tValidation Loss: 0.685936\n",
      "Epoch: 152 \tTraining accuracy: 0.999496 \tValidation accuracy: 0.808002\n",
      "epoch =  153\n"
     ]
    },
    {
     "data": {
      "application/vnd.jupyter.widget-view+json": {
       "model_id": "948b8a5c88b84f44901ad21dcd8f0f0a",
       "version_major": 2,
       "version_minor": 0
      },
      "text/plain": [
       "  0%|          | 0/62 [00:00<?, ?it/s]"
      ]
     },
     "metadata": {},
     "output_type": "display_data"
    },
    {
     "data": {
      "application/vnd.jupyter.widget-view+json": {
       "model_id": "34d82308949148b095d075b95658423f",
       "version_major": 2,
       "version_minor": 0
      },
      "text/plain": [
       "  0%|          | 0/31 [00:00<?, ?it/s]"
      ]
     },
     "metadata": {},
     "output_type": "display_data"
    },
    {
     "name": "stdout",
     "output_type": "stream",
     "text": [
      "Epoch: 153 \tTraining Loss: 0.079440 \tValidation Loss: 0.737848\n",
      "Epoch: 153 \tTraining accuracy: 1.000000 \tValidation accuracy: 0.797457\n",
      "epoch =  154\n"
     ]
    },
    {
     "data": {
      "application/vnd.jupyter.widget-view+json": {
       "model_id": "3711a76e68b842b794b19e467c39fdab",
       "version_major": 2,
       "version_minor": 0
      },
      "text/plain": [
       "  0%|          | 0/62 [00:00<?, ?it/s]"
      ]
     },
     "metadata": {},
     "output_type": "display_data"
    },
    {
     "data": {
      "application/vnd.jupyter.widget-view+json": {
       "model_id": "45b6a0e6f9fc4ee0b4e5b6df044b6b39",
       "version_major": 2,
       "version_minor": 0
      },
      "text/plain": [
       "  0%|          | 0/31 [00:00<?, ?it/s]"
      ]
     },
     "metadata": {},
     "output_type": "display_data"
    },
    {
     "name": "stdout",
     "output_type": "stream",
     "text": [
      "Epoch: 154 \tTraining Loss: 0.074220 \tValidation Loss: 0.699623\n",
      "Epoch: 154 \tTraining accuracy: 0.999496 \tValidation accuracy: 0.808002\n",
      "epoch =  155\n"
     ]
    },
    {
     "data": {
      "application/vnd.jupyter.widget-view+json": {
       "model_id": "a76a665ac27b45c8bd8a9163148220df",
       "version_major": 2,
       "version_minor": 0
      },
      "text/plain": [
       "  0%|          | 0/62 [00:00<?, ?it/s]"
      ]
     },
     "metadata": {},
     "output_type": "display_data"
    },
    {
     "data": {
      "application/vnd.jupyter.widget-view+json": {
       "model_id": "f6c4d70598e64eb9bde0ce866be67314",
       "version_major": 2,
       "version_minor": 0
      },
      "text/plain": [
       "  0%|          | 0/31 [00:00<?, ?it/s]"
      ]
     },
     "metadata": {},
     "output_type": "display_data"
    },
    {
     "name": "stdout",
     "output_type": "stream",
     "text": [
      "Epoch: 155 \tTraining Loss: 0.073372 \tValidation Loss: 0.723158\n",
      "Epoch: 155 \tTraining accuracy: 0.999496 \tValidation accuracy: 0.793424\n",
      "epoch =  156\n"
     ]
    },
    {
     "data": {
      "application/vnd.jupyter.widget-view+json": {
       "model_id": "37fd3c79bc424cff9d1dca01364ea991",
       "version_major": 2,
       "version_minor": 0
      },
      "text/plain": [
       "  0%|          | 0/62 [00:00<?, ?it/s]"
      ]
     },
     "metadata": {},
     "output_type": "display_data"
    },
    {
     "data": {
      "application/vnd.jupyter.widget-view+json": {
       "model_id": "ccaaa5e10c6446d1af7060065a541bec",
       "version_major": 2,
       "version_minor": 0
      },
      "text/plain": [
       "  0%|          | 0/31 [00:00<?, ?it/s]"
      ]
     },
     "metadata": {},
     "output_type": "display_data"
    },
    {
     "name": "stdout",
     "output_type": "stream",
     "text": [
      "Epoch: 156 \tTraining Loss: 0.079209 \tValidation Loss: 0.766330\n",
      "Epoch: 156 \tTraining accuracy: 0.998992 \tValidation accuracy: 0.783499\n",
      "epoch =  157\n"
     ]
    },
    {
     "data": {
      "application/vnd.jupyter.widget-view+json": {
       "model_id": "fb402d37d47047e1aa01578e64a17a2d",
       "version_major": 2,
       "version_minor": 0
      },
      "text/plain": [
       "  0%|          | 0/62 [00:00<?, ?it/s]"
      ]
     },
     "metadata": {},
     "output_type": "display_data"
    },
    {
     "data": {
      "application/vnd.jupyter.widget-view+json": {
       "model_id": "e025aaf99c26420482f6b0af0bb43f7e",
       "version_major": 2,
       "version_minor": 0
      },
      "text/plain": [
       "  0%|          | 0/31 [00:00<?, ?it/s]"
      ]
     },
     "metadata": {},
     "output_type": "display_data"
    },
    {
     "name": "stdout",
     "output_type": "stream",
     "text": [
      "Epoch: 157 \tTraining Loss: 0.080325 \tValidation Loss: 0.689968\n",
      "Epoch: 157 \tTraining accuracy: 0.998992 \tValidation accuracy: 0.810019\n",
      "epoch =  158\n"
     ]
    },
    {
     "data": {
      "application/vnd.jupyter.widget-view+json": {
       "model_id": "9a1ffb5ac83d442a965db1811bb0b67d",
       "version_major": 2,
       "version_minor": 0
      },
      "text/plain": [
       "  0%|          | 0/62 [00:00<?, ?it/s]"
      ]
     },
     "metadata": {},
     "output_type": "display_data"
    },
    {
     "data": {
      "application/vnd.jupyter.widget-view+json": {
       "model_id": "2a3678b920c4484db38dba757a4f9143",
       "version_major": 2,
       "version_minor": 0
      },
      "text/plain": [
       "  0%|          | 0/31 [00:00<?, ?it/s]"
      ]
     },
     "metadata": {},
     "output_type": "display_data"
    },
    {
     "name": "stdout",
     "output_type": "stream",
     "text": [
      "Epoch: 158 \tTraining Loss: 0.081249 \tValidation Loss: 0.661324\n",
      "Epoch: 158 \tTraining accuracy: 0.999496 \tValidation accuracy: 0.845378\n",
      "epoch =  159\n"
     ]
    },
    {
     "data": {
      "application/vnd.jupyter.widget-view+json": {
       "model_id": "3da6c4ae51de4249b8ad0beb27c8714f",
       "version_major": 2,
       "version_minor": 0
      },
      "text/plain": [
       "  0%|          | 0/62 [00:00<?, ?it/s]"
      ]
     },
     "metadata": {},
     "output_type": "display_data"
    },
    {
     "data": {
      "application/vnd.jupyter.widget-view+json": {
       "model_id": "d5829ea539184d3eb67fe8180f7f5ffe",
       "version_major": 2,
       "version_minor": 0
      },
      "text/plain": [
       "  0%|          | 0/31 [00:00<?, ?it/s]"
      ]
     },
     "metadata": {},
     "output_type": "display_data"
    },
    {
     "name": "stdout",
     "output_type": "stream",
     "text": [
      "Epoch: 159 \tTraining Loss: 0.079564 \tValidation Loss: 0.718659\n",
      "Epoch: 159 \tTraining accuracy: 0.998488 \tValidation accuracy: 0.781793\n",
      "epoch =  160\n"
     ]
    },
    {
     "data": {
      "application/vnd.jupyter.widget-view+json": {
       "model_id": "3447033c4fda4b4aa221545c4b670964",
       "version_major": 2,
       "version_minor": 0
      },
      "text/plain": [
       "  0%|          | 0/62 [00:00<?, ?it/s]"
      ]
     },
     "metadata": {},
     "output_type": "display_data"
    },
    {
     "data": {
      "application/vnd.jupyter.widget-view+json": {
       "model_id": "6c493963f02647f5b61b8e83c777939b",
       "version_major": 2,
       "version_minor": 0
      },
      "text/plain": [
       "  0%|          | 0/31 [00:00<?, ?it/s]"
      ]
     },
     "metadata": {},
     "output_type": "display_data"
    },
    {
     "name": "stdout",
     "output_type": "stream",
     "text": [
      "Epoch: 160 \tTraining Loss: 0.076964 \tValidation Loss: 0.630060\n",
      "Epoch: 160 \tTraining accuracy: 0.998488 \tValidation accuracy: 0.838865\n",
      "Validation loss decreased (0.640708 --> 0.630060).  Saving model ...\n",
      "epoch =  161\n"
     ]
    },
    {
     "data": {
      "application/vnd.jupyter.widget-view+json": {
       "model_id": "8a37a344efd044328849e081796a218a",
       "version_major": 2,
       "version_minor": 0
      },
      "text/plain": [
       "  0%|          | 0/62 [00:00<?, ?it/s]"
      ]
     },
     "metadata": {},
     "output_type": "display_data"
    },
    {
     "data": {
      "application/vnd.jupyter.widget-view+json": {
       "model_id": "f5f14a7094bc4b579b31b75e60d1b68a",
       "version_major": 2,
       "version_minor": 0
      },
      "text/plain": [
       "  0%|          | 0/31 [00:00<?, ?it/s]"
      ]
     },
     "metadata": {},
     "output_type": "display_data"
    },
    {
     "name": "stdout",
     "output_type": "stream",
     "text": [
      "Epoch: 161 \tTraining Loss: 0.078731 \tValidation Loss: 0.649070\n",
      "Epoch: 161 \tTraining accuracy: 0.998488 \tValidation accuracy: 0.829715\n",
      "epoch =  162\n"
     ]
    },
    {
     "data": {
      "application/vnd.jupyter.widget-view+json": {
       "model_id": "2cce2f7bd75342afb13f280169840554",
       "version_major": 2,
       "version_minor": 0
      },
      "text/plain": [
       "  0%|          | 0/62 [00:00<?, ?it/s]"
      ]
     },
     "metadata": {},
     "output_type": "display_data"
    },
    {
     "data": {
      "application/vnd.jupyter.widget-view+json": {
       "model_id": "8e70d1f4b8b1471eb98372832dc66661",
       "version_major": 2,
       "version_minor": 0
      },
      "text/plain": [
       "  0%|          | 0/31 [00:00<?, ?it/s]"
      ]
     },
     "metadata": {},
     "output_type": "display_data"
    },
    {
     "name": "stdout",
     "output_type": "stream",
     "text": [
      "Epoch: 162 \tTraining Loss: 0.077134 \tValidation Loss: 0.727801\n",
      "Epoch: 162 \tTraining accuracy: 0.999496 \tValidation accuracy: 0.795906\n",
      "epoch =  163\n"
     ]
    },
    {
     "data": {
      "application/vnd.jupyter.widget-view+json": {
       "model_id": "0235e0182c8e4961859cb26d97cbd220",
       "version_major": 2,
       "version_minor": 0
      },
      "text/plain": [
       "  0%|          | 0/62 [00:00<?, ?it/s]"
      ]
     },
     "metadata": {},
     "output_type": "display_data"
    },
    {
     "data": {
      "application/vnd.jupyter.widget-view+json": {
       "model_id": "5b64e37796944534b869e9ee4b5fb54f",
       "version_major": 2,
       "version_minor": 0
      },
      "text/plain": [
       "  0%|          | 0/31 [00:00<?, ?it/s]"
      ]
     },
     "metadata": {},
     "output_type": "display_data"
    },
    {
     "name": "stdout",
     "output_type": "stream",
     "text": [
      "Epoch: 163 \tTraining Loss: 0.074276 \tValidation Loss: 0.682158\n",
      "Epoch: 163 \tTraining accuracy: 1.000000 \tValidation accuracy: 0.835763\n",
      "epoch =  164\n"
     ]
    },
    {
     "data": {
      "application/vnd.jupyter.widget-view+json": {
       "model_id": "cf478de5d762443fb6cc418bb9480cd1",
       "version_major": 2,
       "version_minor": 0
      },
      "text/plain": [
       "  0%|          | 0/62 [00:00<?, ?it/s]"
      ]
     },
     "metadata": {},
     "output_type": "display_data"
    },
    {
     "data": {
      "application/vnd.jupyter.widget-view+json": {
       "model_id": "3cf73629b7f84ae6a3e7591332cfd22b",
       "version_major": 2,
       "version_minor": 0
      },
      "text/plain": [
       "  0%|          | 0/31 [00:00<?, ?it/s]"
      ]
     },
     "metadata": {},
     "output_type": "display_data"
    },
    {
     "name": "stdout",
     "output_type": "stream",
     "text": [
      "Epoch: 164 \tTraining Loss: 0.075551 \tValidation Loss: 0.720958\n",
      "Epoch: 164 \tTraining accuracy: 0.999496 \tValidation accuracy: 0.798542\n",
      "epoch =  165\n"
     ]
    },
    {
     "data": {
      "application/vnd.jupyter.widget-view+json": {
       "model_id": "4c398ee23f174e4a816315551af27f39",
       "version_major": 2,
       "version_minor": 0
      },
      "text/plain": [
       "  0%|          | 0/62 [00:00<?, ?it/s]"
      ]
     },
     "metadata": {},
     "output_type": "display_data"
    },
    {
     "data": {
      "application/vnd.jupyter.widget-view+json": {
       "model_id": "90bc73cee2114769af5097267a491dce",
       "version_major": 2,
       "version_minor": 0
      },
      "text/plain": [
       "  0%|          | 0/31 [00:00<?, ?it/s]"
      ]
     },
     "metadata": {},
     "output_type": "display_data"
    },
    {
     "name": "stdout",
     "output_type": "stream",
     "text": [
      "Epoch: 165 \tTraining Loss: 0.075162 \tValidation Loss: 0.723804\n",
      "Epoch: 165 \tTraining accuracy: 0.999496 \tValidation accuracy: 0.803505\n",
      "epoch =  166\n"
     ]
    },
    {
     "data": {
      "application/vnd.jupyter.widget-view+json": {
       "model_id": "21de1c442a15435f8b459095b6006d75",
       "version_major": 2,
       "version_minor": 0
      },
      "text/plain": [
       "  0%|          | 0/62 [00:00<?, ?it/s]"
      ]
     },
     "metadata": {},
     "output_type": "display_data"
    },
    {
     "data": {
      "application/vnd.jupyter.widget-view+json": {
       "model_id": "8a80c74a32154684befa2b135cc40140",
       "version_major": 2,
       "version_minor": 0
      },
      "text/plain": [
       "  0%|          | 0/31 [00:00<?, ?it/s]"
      ]
     },
     "metadata": {},
     "output_type": "display_data"
    },
    {
     "name": "stdout",
     "output_type": "stream",
     "text": [
      "Epoch: 166 \tTraining Loss: 0.072006 \tValidation Loss: 0.678074\n",
      "Epoch: 166 \tTraining accuracy: 1.000000 \tValidation accuracy: 0.816687\n",
      "epoch =  167\n"
     ]
    },
    {
     "data": {
      "application/vnd.jupyter.widget-view+json": {
       "model_id": "ee44cbd1e72c4cc5b38cc2c7d83b8ca1",
       "version_major": 2,
       "version_minor": 0
      },
      "text/plain": [
       "  0%|          | 0/62 [00:00<?, ?it/s]"
      ]
     },
     "metadata": {},
     "output_type": "display_data"
    },
    {
     "data": {
      "application/vnd.jupyter.widget-view+json": {
       "model_id": "dc4220edd36b4d86a76bbe0745d519ce",
       "version_major": 2,
       "version_minor": 0
      },
      "text/plain": [
       "  0%|          | 0/31 [00:00<?, ?it/s]"
      ]
     },
     "metadata": {},
     "output_type": "display_data"
    },
    {
     "name": "stdout",
     "output_type": "stream",
     "text": [
      "Epoch: 167 \tTraining Loss: 0.078469 \tValidation Loss: 0.723777\n",
      "Epoch: 167 \tTraining accuracy: 0.998992 \tValidation accuracy: 0.814671\n",
      "epoch =  168\n"
     ]
    },
    {
     "data": {
      "application/vnd.jupyter.widget-view+json": {
       "model_id": "c4e4fb1bbae4425bafde7a3351029662",
       "version_major": 2,
       "version_minor": 0
      },
      "text/plain": [
       "  0%|          | 0/62 [00:00<?, ?it/s]"
      ]
     },
     "metadata": {},
     "output_type": "display_data"
    },
    {
     "data": {
      "application/vnd.jupyter.widget-view+json": {
       "model_id": "1455ec6d82cb4cfdb458665774a98218",
       "version_major": 2,
       "version_minor": 0
      },
      "text/plain": [
       "  0%|          | 0/31 [00:00<?, ?it/s]"
      ]
     },
     "metadata": {},
     "output_type": "display_data"
    },
    {
     "name": "stdout",
     "output_type": "stream",
     "text": [
      "Epoch: 168 \tTraining Loss: 0.074726 \tValidation Loss: 0.693961\n",
      "Epoch: 168 \tTraining accuracy: 0.998488 \tValidation accuracy: 0.817153\n",
      "epoch =  169\n"
     ]
    },
    {
     "data": {
      "application/vnd.jupyter.widget-view+json": {
       "model_id": "cba66647586c44ecab6e82a84d1780db",
       "version_major": 2,
       "version_minor": 0
      },
      "text/plain": [
       "  0%|          | 0/62 [00:00<?, ?it/s]"
      ]
     },
     "metadata": {},
     "output_type": "display_data"
    },
    {
     "data": {
      "application/vnd.jupyter.widget-view+json": {
       "model_id": "443587c8870641cc845f75e2dfec7ddd",
       "version_major": 2,
       "version_minor": 0
      },
      "text/plain": [
       "  0%|          | 0/31 [00:00<?, ?it/s]"
      ]
     },
     "metadata": {},
     "output_type": "display_data"
    },
    {
     "name": "stdout",
     "output_type": "stream",
     "text": [
      "Epoch: 169 \tTraining Loss: 0.077891 \tValidation Loss: 0.702126\n",
      "Epoch: 169 \tTraining accuracy: 0.998488 \tValidation accuracy: 0.798542\n",
      "epoch =  170\n"
     ]
    },
    {
     "data": {
      "application/vnd.jupyter.widget-view+json": {
       "model_id": "d44cd20eb1474f27b12201d9a7630add",
       "version_major": 2,
       "version_minor": 0
      },
      "text/plain": [
       "  0%|          | 0/62 [00:00<?, ?it/s]"
      ]
     },
     "metadata": {},
     "output_type": "display_data"
    },
    {
     "data": {
      "application/vnd.jupyter.widget-view+json": {
       "model_id": "f67f1c4ec7a04980aad39452a2bff854",
       "version_major": 2,
       "version_minor": 0
      },
      "text/plain": [
       "  0%|          | 0/31 [00:00<?, ?it/s]"
      ]
     },
     "metadata": {},
     "output_type": "display_data"
    },
    {
     "name": "stdout",
     "output_type": "stream",
     "text": [
      "Epoch: 170 \tTraining Loss: 0.074823 \tValidation Loss: 0.758611\n",
      "Epoch: 170 \tTraining accuracy: 0.999496 \tValidation accuracy: 0.811569\n",
      "epoch =  171\n"
     ]
    },
    {
     "data": {
      "application/vnd.jupyter.widget-view+json": {
       "model_id": "71a37245c1a14f3ba682f1df99a655ae",
       "version_major": 2,
       "version_minor": 0
      },
      "text/plain": [
       "  0%|          | 0/62 [00:00<?, ?it/s]"
      ]
     },
     "metadata": {},
     "output_type": "display_data"
    },
    {
     "data": {
      "application/vnd.jupyter.widget-view+json": {
       "model_id": "7faf4048766f4e32965741089fc049c4",
       "version_major": 2,
       "version_minor": 0
      },
      "text/plain": [
       "  0%|          | 0/31 [00:00<?, ?it/s]"
      ]
     },
     "metadata": {},
     "output_type": "display_data"
    },
    {
     "name": "stdout",
     "output_type": "stream",
     "text": [
      "Epoch: 171 \tTraining Loss: 0.075390 \tValidation Loss: 0.716101\n",
      "Epoch: 171 \tTraining accuracy: 0.997984 \tValidation accuracy: 0.802419\n",
      "epoch =  172\n"
     ]
    },
    {
     "data": {
      "application/vnd.jupyter.widget-view+json": {
       "model_id": "45763261f2ff4003a0bcf27cb531d80d",
       "version_major": 2,
       "version_minor": 0
      },
      "text/plain": [
       "  0%|          | 0/62 [00:00<?, ?it/s]"
      ]
     },
     "metadata": {},
     "output_type": "display_data"
    },
    {
     "data": {
      "application/vnd.jupyter.widget-view+json": {
       "model_id": "cd56f639608843d79a93ae36f7c84ee8",
       "version_major": 2,
       "version_minor": 0
      },
      "text/plain": [
       "  0%|          | 0/31 [00:00<?, ?it/s]"
      ]
     },
     "metadata": {},
     "output_type": "display_data"
    },
    {
     "name": "stdout",
     "output_type": "stream",
     "text": [
      "Epoch: 172 \tTraining Loss: 0.078118 \tValidation Loss: 0.701973\n",
      "Epoch: 172 \tTraining accuracy: 0.999496 \tValidation accuracy: 0.815136\n",
      "epoch =  173\n"
     ]
    },
    {
     "data": {
      "application/vnd.jupyter.widget-view+json": {
       "model_id": "d910a4e46fbc4181ae26028761072704",
       "version_major": 2,
       "version_minor": 0
      },
      "text/plain": [
       "  0%|          | 0/62 [00:00<?, ?it/s]"
      ]
     },
     "metadata": {},
     "output_type": "display_data"
    },
    {
     "data": {
      "application/vnd.jupyter.widget-view+json": {
       "model_id": "c6f053582d374e90acc6450bd9794e88",
       "version_major": 2,
       "version_minor": 0
      },
      "text/plain": [
       "  0%|          | 0/31 [00:00<?, ?it/s]"
      ]
     },
     "metadata": {},
     "output_type": "display_data"
    },
    {
     "name": "stdout",
     "output_type": "stream",
     "text": [
      "Epoch: 173 \tTraining Loss: 0.072663 \tValidation Loss: 0.723894\n",
      "Epoch: 173 \tTraining accuracy: 0.999496 \tValidation accuracy: 0.790478\n",
      "epoch =  174\n"
     ]
    },
    {
     "data": {
      "application/vnd.jupyter.widget-view+json": {
       "model_id": "01a5ca69f7694fbc84da11aa7bdb5a88",
       "version_major": 2,
       "version_minor": 0
      },
      "text/plain": [
       "  0%|          | 0/62 [00:00<?, ?it/s]"
      ]
     },
     "metadata": {},
     "output_type": "display_data"
    },
    {
     "data": {
      "application/vnd.jupyter.widget-view+json": {
       "model_id": "bfaa9e9a74da408fa1a4fd00ac309ebb",
       "version_major": 2,
       "version_minor": 0
      },
      "text/plain": [
       "  0%|          | 0/31 [00:00<?, ?it/s]"
      ]
     },
     "metadata": {},
     "output_type": "display_data"
    },
    {
     "name": "stdout",
     "output_type": "stream",
     "text": [
      "Epoch: 174 \tTraining Loss: 0.078025 \tValidation Loss: 0.707086\n",
      "Epoch: 174 \tTraining accuracy: 0.998992 \tValidation accuracy: 0.810019\n",
      "epoch =  175\n"
     ]
    },
    {
     "data": {
      "application/vnd.jupyter.widget-view+json": {
       "model_id": "aaf53de6f12b44e6b5c0ad25f7e52d0b",
       "version_major": 2,
       "version_minor": 0
      },
      "text/plain": [
       "  0%|          | 0/62 [00:00<?, ?it/s]"
      ]
     },
     "metadata": {},
     "output_type": "display_data"
    },
    {
     "data": {
      "application/vnd.jupyter.widget-view+json": {
       "model_id": "eaeb31711cd64a44b2bf6003224e2aa5",
       "version_major": 2,
       "version_minor": 0
      },
      "text/plain": [
       "  0%|          | 0/31 [00:00<?, ?it/s]"
      ]
     },
     "metadata": {},
     "output_type": "display_data"
    },
    {
     "name": "stdout",
     "output_type": "stream",
     "text": [
      "Epoch: 175 \tTraining Loss: 0.074864 \tValidation Loss: 0.717868\n",
      "Epoch: 175 \tTraining accuracy: 0.998992 \tValidation accuracy: 0.791873\n",
      "epoch =  176\n"
     ]
    },
    {
     "data": {
      "application/vnd.jupyter.widget-view+json": {
       "model_id": "88251b41716d432fa8851cfbeeb441c9",
       "version_major": 2,
       "version_minor": 0
      },
      "text/plain": [
       "  0%|          | 0/62 [00:00<?, ?it/s]"
      ]
     },
     "metadata": {},
     "output_type": "display_data"
    },
    {
     "data": {
      "application/vnd.jupyter.widget-view+json": {
       "model_id": "a3332249052d4f0faf6cc0b81698ffa0",
       "version_major": 2,
       "version_minor": 0
      },
      "text/plain": [
       "  0%|          | 0/31 [00:00<?, ?it/s]"
      ]
     },
     "metadata": {},
     "output_type": "display_data"
    },
    {
     "name": "stdout",
     "output_type": "stream",
     "text": [
      "Epoch: 176 \tTraining Loss: 0.073702 \tValidation Loss: 0.700758\n",
      "Epoch: 176 \tTraining accuracy: 0.999496 \tValidation accuracy: 0.806607\n",
      "epoch =  177\n"
     ]
    },
    {
     "data": {
      "application/vnd.jupyter.widget-view+json": {
       "model_id": "5642af9748f24f4698fa0673e061531b",
       "version_major": 2,
       "version_minor": 0
      },
      "text/plain": [
       "  0%|          | 0/62 [00:00<?, ?it/s]"
      ]
     },
     "metadata": {},
     "output_type": "display_data"
    },
    {
     "data": {
      "application/vnd.jupyter.widget-view+json": {
       "model_id": "a7d9f2947b314926a5e7aaac353eda50",
       "version_major": 2,
       "version_minor": 0
      },
      "text/plain": [
       "  0%|          | 0/31 [00:00<?, ?it/s]"
      ]
     },
     "metadata": {},
     "output_type": "display_data"
    },
    {
     "name": "stdout",
     "output_type": "stream",
     "text": [
      "Epoch: 177 \tTraining Loss: 0.073323 \tValidation Loss: 0.791923\n",
      "Epoch: 177 \tTraining accuracy: 0.999496 \tValidation accuracy: 0.764268\n",
      "epoch =  178\n"
     ]
    },
    {
     "data": {
      "application/vnd.jupyter.widget-view+json": {
       "model_id": "a6ce8d2cb7134068b81a2015ba8cae9b",
       "version_major": 2,
       "version_minor": 0
      },
      "text/plain": [
       "  0%|          | 0/62 [00:00<?, ?it/s]"
      ]
     },
     "metadata": {},
     "output_type": "display_data"
    },
    {
     "data": {
      "application/vnd.jupyter.widget-view+json": {
       "model_id": "d43984825321423f8e58d98ae0c6c79f",
       "version_major": 2,
       "version_minor": 0
      },
      "text/plain": [
       "  0%|          | 0/31 [00:00<?, ?it/s]"
      ]
     },
     "metadata": {},
     "output_type": "display_data"
    },
    {
     "name": "stdout",
     "output_type": "stream",
     "text": [
      "Epoch: 178 \tTraining Loss: 0.075003 \tValidation Loss: 0.688075\n",
      "Epoch: 178 \tTraining accuracy: 0.999496 \tValidation accuracy: 0.826613\n",
      "epoch =  179\n"
     ]
    },
    {
     "data": {
      "application/vnd.jupyter.widget-view+json": {
       "model_id": "576e89f920884df3b996cf0921aaa231",
       "version_major": 2,
       "version_minor": 0
      },
      "text/plain": [
       "  0%|          | 0/62 [00:00<?, ?it/s]"
      ]
     },
     "metadata": {},
     "output_type": "display_data"
    },
    {
     "data": {
      "application/vnd.jupyter.widget-view+json": {
       "model_id": "e3c7c5b5a45d43278533ae4c00499054",
       "version_major": 2,
       "version_minor": 0
      },
      "text/plain": [
       "  0%|          | 0/31 [00:00<?, ?it/s]"
      ]
     },
     "metadata": {},
     "output_type": "display_data"
    },
    {
     "name": "stdout",
     "output_type": "stream",
     "text": [
      "Epoch: 179 \tTraining Loss: 0.074742 \tValidation Loss: 0.677878\n",
      "Epoch: 179 \tTraining accuracy: 0.999496 \tValidation accuracy: 0.795906\n",
      "epoch =  180\n"
     ]
    },
    {
     "data": {
      "application/vnd.jupyter.widget-view+json": {
       "model_id": "2b61ea000615446e9c22bb20d1c602d9",
       "version_major": 2,
       "version_minor": 0
      },
      "text/plain": [
       "  0%|          | 0/62 [00:00<?, ?it/s]"
      ]
     },
     "metadata": {},
     "output_type": "display_data"
    },
    {
     "data": {
      "application/vnd.jupyter.widget-view+json": {
       "model_id": "618a18e9a02449c9abf38aa48df233d4",
       "version_major": 2,
       "version_minor": 0
      },
      "text/plain": [
       "  0%|          | 0/31 [00:00<?, ?it/s]"
      ]
     },
     "metadata": {},
     "output_type": "display_data"
    },
    {
     "name": "stdout",
     "output_type": "stream",
     "text": [
      "Epoch: 180 \tTraining Loss: 0.077715 \tValidation Loss: 0.725283\n",
      "Epoch: 180 \tTraining accuracy: 0.998992 \tValidation accuracy: 0.803040\n",
      "epoch =  181\n"
     ]
    },
    {
     "data": {
      "application/vnd.jupyter.widget-view+json": {
       "model_id": "afe7af03842e4fc499841e8a62b9573e",
       "version_major": 2,
       "version_minor": 0
      },
      "text/plain": [
       "  0%|          | 0/62 [00:00<?, ?it/s]"
      ]
     },
     "metadata": {},
     "output_type": "display_data"
    },
    {
     "data": {
      "application/vnd.jupyter.widget-view+json": {
       "model_id": "a34e41ee02ba4903a7d549f9c3588dae",
       "version_major": 2,
       "version_minor": 0
      },
      "text/plain": [
       "  0%|          | 0/31 [00:00<?, ?it/s]"
      ]
     },
     "metadata": {},
     "output_type": "display_data"
    },
    {
     "name": "stdout",
     "output_type": "stream",
     "text": [
      "Epoch: 181 \tTraining Loss: 0.072470 \tValidation Loss: 0.724528\n",
      "Epoch: 181 \tTraining accuracy: 1.000000 \tValidation accuracy: 0.808623\n",
      "epoch =  182\n"
     ]
    },
    {
     "data": {
      "application/vnd.jupyter.widget-view+json": {
       "model_id": "9590f8350c51468aaa34ec6a414e5931",
       "version_major": 2,
       "version_minor": 0
      },
      "text/plain": [
       "  0%|          | 0/62 [00:00<?, ?it/s]"
      ]
     },
     "metadata": {},
     "output_type": "display_data"
    },
    {
     "data": {
      "application/vnd.jupyter.widget-view+json": {
       "model_id": "5ed0eab7498944b2a3d6e460211a403d",
       "version_major": 2,
       "version_minor": 0
      },
      "text/plain": [
       "  0%|          | 0/31 [00:00<?, ?it/s]"
      ]
     },
     "metadata": {},
     "output_type": "display_data"
    },
    {
     "name": "stdout",
     "output_type": "stream",
     "text": [
      "Epoch: 182 \tTraining Loss: 0.077931 \tValidation Loss: 0.726932\n",
      "Epoch: 182 \tTraining accuracy: 0.998488 \tValidation accuracy: 0.805521\n",
      "epoch =  183\n"
     ]
    },
    {
     "data": {
      "application/vnd.jupyter.widget-view+json": {
       "model_id": "bfa65769ba7e470096a592af228fd54c",
       "version_major": 2,
       "version_minor": 0
      },
      "text/plain": [
       "  0%|          | 0/62 [00:00<?, ?it/s]"
      ]
     },
     "metadata": {},
     "output_type": "display_data"
    },
    {
     "data": {
      "application/vnd.jupyter.widget-view+json": {
       "model_id": "9009439115e4467d8e7192cd7beb1e4b",
       "version_major": 2,
       "version_minor": 0
      },
      "text/plain": [
       "  0%|          | 0/31 [00:00<?, ?it/s]"
      ]
     },
     "metadata": {},
     "output_type": "display_data"
    },
    {
     "name": "stdout",
     "output_type": "stream",
     "text": [
      "Epoch: 183 \tTraining Loss: 0.073599 \tValidation Loss: 0.698009\n",
      "Epoch: 183 \tTraining accuracy: 1.000000 \tValidation accuracy: 0.819169\n",
      "epoch =  184\n"
     ]
    },
    {
     "data": {
      "application/vnd.jupyter.widget-view+json": {
       "model_id": "11248d31f3fe4d7aa8833b4855b8e963",
       "version_major": 2,
       "version_minor": 0
      },
      "text/plain": [
       "  0%|          | 0/62 [00:00<?, ?it/s]"
      ]
     },
     "metadata": {},
     "output_type": "display_data"
    },
    {
     "data": {
      "application/vnd.jupyter.widget-view+json": {
       "model_id": "7d62ce61b6084590a76bcc70d5736763",
       "version_major": 2,
       "version_minor": 0
      },
      "text/plain": [
       "  0%|          | 0/31 [00:00<?, ?it/s]"
      ]
     },
     "metadata": {},
     "output_type": "display_data"
    },
    {
     "name": "stdout",
     "output_type": "stream",
     "text": [
      "Epoch: 184 \tTraining Loss: 0.075193 \tValidation Loss: 0.770285\n",
      "Epoch: 184 \tTraining accuracy: 1.000000 \tValidation accuracy: 0.788462\n",
      "epoch =  185\n"
     ]
    },
    {
     "data": {
      "application/vnd.jupyter.widget-view+json": {
       "model_id": "ed53cc72a6a44f759b17b7d461b981c7",
       "version_major": 2,
       "version_minor": 0
      },
      "text/plain": [
       "  0%|          | 0/62 [00:00<?, ?it/s]"
      ]
     },
     "metadata": {},
     "output_type": "display_data"
    },
    {
     "data": {
      "application/vnd.jupyter.widget-view+json": {
       "model_id": "8f7b4d72d03a44b1a52233a5b8d6b09b",
       "version_major": 2,
       "version_minor": 0
      },
      "text/plain": [
       "  0%|          | 0/31 [00:00<?, ?it/s]"
      ]
     },
     "metadata": {},
     "output_type": "display_data"
    },
    {
     "name": "stdout",
     "output_type": "stream",
     "text": [
      "Epoch: 185 \tTraining Loss: 0.074420 \tValidation Loss: 0.692760\n",
      "Epoch: 185 \tTraining accuracy: 0.999496 \tValidation accuracy: 0.821650\n",
      "epoch =  186\n"
     ]
    },
    {
     "data": {
      "application/vnd.jupyter.widget-view+json": {
       "model_id": "5be8d17694214a2fa622d5f636f6ba7e",
       "version_major": 2,
       "version_minor": 0
      },
      "text/plain": [
       "  0%|          | 0/62 [00:00<?, ?it/s]"
      ]
     },
     "metadata": {},
     "output_type": "display_data"
    },
    {
     "data": {
      "application/vnd.jupyter.widget-view+json": {
       "model_id": "6f1c387f489f40f48ee385d589f092e7",
       "version_major": 2,
       "version_minor": 0
      },
      "text/plain": [
       "  0%|          | 0/31 [00:00<?, ?it/s]"
      ]
     },
     "metadata": {},
     "output_type": "display_data"
    },
    {
     "name": "stdout",
     "output_type": "stream",
     "text": [
      "Epoch: 186 \tTraining Loss: 0.079122 \tValidation Loss: 0.704081\n",
      "Epoch: 186 \tTraining accuracy: 1.000000 \tValidation accuracy: 0.813120\n",
      "epoch =  187\n"
     ]
    },
    {
     "data": {
      "application/vnd.jupyter.widget-view+json": {
       "model_id": "9bcb270e68d0447f9e60f8dae818a0d0",
       "version_major": 2,
       "version_minor": 0
      },
      "text/plain": [
       "  0%|          | 0/62 [00:00<?, ?it/s]"
      ]
     },
     "metadata": {},
     "output_type": "display_data"
    },
    {
     "data": {
      "application/vnd.jupyter.widget-view+json": {
       "model_id": "81955abb0f3a44cab4b0c3f9682cae3b",
       "version_major": 2,
       "version_minor": 0
      },
      "text/plain": [
       "  0%|          | 0/31 [00:00<?, ?it/s]"
      ]
     },
     "metadata": {},
     "output_type": "display_data"
    },
    {
     "name": "stdout",
     "output_type": "stream",
     "text": [
      "Epoch: 187 \tTraining Loss: 0.078156 \tValidation Loss: 0.746239\n",
      "Epoch: 187 \tTraining accuracy: 0.998992 \tValidation accuracy: 0.787996\n",
      "epoch =  188\n"
     ]
    },
    {
     "data": {
      "application/vnd.jupyter.widget-view+json": {
       "model_id": "ab20fdd3388046ae8f37ca77c7659e6a",
       "version_major": 2,
       "version_minor": 0
      },
      "text/plain": [
       "  0%|          | 0/62 [00:00<?, ?it/s]"
      ]
     },
     "metadata": {},
     "output_type": "display_data"
    },
    {
     "data": {
      "application/vnd.jupyter.widget-view+json": {
       "model_id": "39e517052c9043779af918ef1eaf7f5d",
       "version_major": 2,
       "version_minor": 0
      },
      "text/plain": [
       "  0%|          | 0/31 [00:00<?, ?it/s]"
      ]
     },
     "metadata": {},
     "output_type": "display_data"
    },
    {
     "name": "stdout",
     "output_type": "stream",
     "text": [
      "Epoch: 188 \tTraining Loss: 0.079378 \tValidation Loss: 0.755763\n",
      "Epoch: 188 \tTraining accuracy: 0.998488 \tValidation accuracy: 0.808623\n",
      "epoch =  189\n"
     ]
    },
    {
     "data": {
      "application/vnd.jupyter.widget-view+json": {
       "model_id": "56e7a38822b94d06adca3fdc44e2ec63",
       "version_major": 2,
       "version_minor": 0
      },
      "text/plain": [
       "  0%|          | 0/62 [00:00<?, ?it/s]"
      ]
     },
     "metadata": {},
     "output_type": "display_data"
    },
    {
     "data": {
      "application/vnd.jupyter.widget-view+json": {
       "model_id": "074b7beb95a84ea7b776965df8e5d8aa",
       "version_major": 2,
       "version_minor": 0
      },
      "text/plain": [
       "  0%|          | 0/31 [00:00<?, ?it/s]"
      ]
     },
     "metadata": {},
     "output_type": "display_data"
    },
    {
     "name": "stdout",
     "output_type": "stream",
     "text": [
      "Epoch: 189 \tTraining Loss: 0.076035 \tValidation Loss: 0.734047\n",
      "Epoch: 189 \tTraining accuracy: 0.998488 \tValidation accuracy: 0.813741\n",
      "epoch =  190\n"
     ]
    },
    {
     "data": {
      "application/vnd.jupyter.widget-view+json": {
       "model_id": "5f35e447d4844d33b2903f51f5e607f6",
       "version_major": 2,
       "version_minor": 0
      },
      "text/plain": [
       "  0%|          | 0/62 [00:00<?, ?it/s]"
      ]
     },
     "metadata": {},
     "output_type": "display_data"
    },
    {
     "data": {
      "application/vnd.jupyter.widget-view+json": {
       "model_id": "c28620bc391a4c9e86cad0bb2ff680ea",
       "version_major": 2,
       "version_minor": 0
      },
      "text/plain": [
       "  0%|          | 0/31 [00:00<?, ?it/s]"
      ]
     },
     "metadata": {},
     "output_type": "display_data"
    },
    {
     "name": "stdout",
     "output_type": "stream",
     "text": [
      "Epoch: 190 \tTraining Loss: 0.074349 \tValidation Loss: 0.760312\n",
      "Epoch: 190 \tTraining accuracy: 0.998488 \tValidation accuracy: 0.791408\n",
      "epoch =  191\n"
     ]
    },
    {
     "data": {
      "application/vnd.jupyter.widget-view+json": {
       "model_id": "7260e5b0fe9845d6ae5a28f0d8797404",
       "version_major": 2,
       "version_minor": 0
      },
      "text/plain": [
       "  0%|          | 0/62 [00:00<?, ?it/s]"
      ]
     },
     "metadata": {},
     "output_type": "display_data"
    },
    {
     "data": {
      "application/vnd.jupyter.widget-view+json": {
       "model_id": "8dd2a21d13cc4387b8221d8b446f36ab",
       "version_major": 2,
       "version_minor": 0
      },
      "text/plain": [
       "  0%|          | 0/31 [00:00<?, ?it/s]"
      ]
     },
     "metadata": {},
     "output_type": "display_data"
    },
    {
     "name": "stdout",
     "output_type": "stream",
     "text": [
      "Epoch: 191 \tTraining Loss: 0.074690 \tValidation Loss: 0.691874\n",
      "Epoch: 191 \tTraining accuracy: 0.999496 \tValidation accuracy: 0.812655\n",
      "epoch =  192\n"
     ]
    },
    {
     "data": {
      "application/vnd.jupyter.widget-view+json": {
       "model_id": "51497b6a0f434bb184c4cf4069e060e0",
       "version_major": 2,
       "version_minor": 0
      },
      "text/plain": [
       "  0%|          | 0/62 [00:00<?, ?it/s]"
      ]
     },
     "metadata": {},
     "output_type": "display_data"
    },
    {
     "data": {
      "application/vnd.jupyter.widget-view+json": {
       "model_id": "7bd5c5da1571420983778cd32ef0747d",
       "version_major": 2,
       "version_minor": 0
      },
      "text/plain": [
       "  0%|          | 0/31 [00:00<?, ?it/s]"
      ]
     },
     "metadata": {},
     "output_type": "display_data"
    },
    {
     "name": "stdout",
     "output_type": "stream",
     "text": [
      "Epoch: 192 \tTraining Loss: 0.073770 \tValidation Loss: 0.697776\n",
      "Epoch: 192 \tTraining accuracy: 0.999299 \tValidation accuracy: 0.820720\n",
      "epoch =  193\n"
     ]
    },
    {
     "data": {
      "application/vnd.jupyter.widget-view+json": {
       "model_id": "ce3664226bed4d7fbe8c573e6fcd8edc",
       "version_major": 2,
       "version_minor": 0
      },
      "text/plain": [
       "  0%|          | 0/62 [00:00<?, ?it/s]"
      ]
     },
     "metadata": {},
     "output_type": "display_data"
    },
    {
     "data": {
      "application/vnd.jupyter.widget-view+json": {
       "model_id": "cd1c237af09c436fb1c81ab290a621fe",
       "version_major": 2,
       "version_minor": 0
      },
      "text/plain": [
       "  0%|          | 0/31 [00:00<?, ?it/s]"
      ]
     },
     "metadata": {},
     "output_type": "display_data"
    },
    {
     "name": "stdout",
     "output_type": "stream",
     "text": [
      "Epoch: 193 \tTraining Loss: 0.069675 \tValidation Loss: 0.696042\n",
      "Epoch: 193 \tTraining accuracy: 1.000000 \tValidation accuracy: 0.801954\n",
      "epoch =  194\n"
     ]
    },
    {
     "data": {
      "application/vnd.jupyter.widget-view+json": {
       "model_id": "c3039b06990a441c8d35008359cba131",
       "version_major": 2,
       "version_minor": 0
      },
      "text/plain": [
       "  0%|          | 0/62 [00:00<?, ?it/s]"
      ]
     },
     "metadata": {},
     "output_type": "display_data"
    },
    {
     "data": {
      "application/vnd.jupyter.widget-view+json": {
       "model_id": "5779e6a3c4ab4bff8e73a39a198fc8ac",
       "version_major": 2,
       "version_minor": 0
      },
      "text/plain": [
       "  0%|          | 0/31 [00:00<?, ?it/s]"
      ]
     },
     "metadata": {},
     "output_type": "display_data"
    },
    {
     "name": "stdout",
     "output_type": "stream",
     "text": [
      "Epoch: 194 \tTraining Loss: 0.072662 \tValidation Loss: 0.662974\n",
      "Epoch: 194 \tTraining accuracy: 0.999496 \tValidation accuracy: 0.821650\n",
      "epoch =  195\n"
     ]
    },
    {
     "data": {
      "application/vnd.jupyter.widget-view+json": {
       "model_id": "44c458e232f24ac4b7780b5e61aa34c0",
       "version_major": 2,
       "version_minor": 0
      },
      "text/plain": [
       "  0%|          | 0/62 [00:00<?, ?it/s]"
      ]
     },
     "metadata": {},
     "output_type": "display_data"
    },
    {
     "data": {
      "application/vnd.jupyter.widget-view+json": {
       "model_id": "3144752ac4834e4ba26f5633b4f81ed0",
       "version_major": 2,
       "version_minor": 0
      },
      "text/plain": [
       "  0%|          | 0/31 [00:00<?, ?it/s]"
      ]
     },
     "metadata": {},
     "output_type": "display_data"
    },
    {
     "name": "stdout",
     "output_type": "stream",
     "text": [
      "Epoch: 195 \tTraining Loss: 0.073688 \tValidation Loss: 0.735197\n",
      "Epoch: 195 \tTraining accuracy: 0.999299 \tValidation accuracy: 0.803040\n",
      "epoch =  196\n"
     ]
    },
    {
     "data": {
      "application/vnd.jupyter.widget-view+json": {
       "model_id": "4fc14fd5fb5c4e9ebbf3ddb4173503c3",
       "version_major": 2,
       "version_minor": 0
      },
      "text/plain": [
       "  0%|          | 0/62 [00:00<?, ?it/s]"
      ]
     },
     "metadata": {},
     "output_type": "display_data"
    },
    {
     "data": {
      "application/vnd.jupyter.widget-view+json": {
       "model_id": "d86d7b65c8bd47c6afcbf94d9d9ecbf3",
       "version_major": 2,
       "version_minor": 0
      },
      "text/plain": [
       "  0%|          | 0/31 [00:00<?, ?it/s]"
      ]
     },
     "metadata": {},
     "output_type": "display_data"
    },
    {
     "name": "stdout",
     "output_type": "stream",
     "text": [
      "Epoch: 196 \tTraining Loss: 0.073206 \tValidation Loss: 0.735793\n",
      "Epoch: 196 \tTraining accuracy: 0.999496 \tValidation accuracy: 0.794510\n",
      "epoch =  197\n"
     ]
    },
    {
     "data": {
      "application/vnd.jupyter.widget-view+json": {
       "model_id": "396563b8aa7d4d7884d1aa6dbdaf8881",
       "version_major": 2,
       "version_minor": 0
      },
      "text/plain": [
       "  0%|          | 0/62 [00:00<?, ?it/s]"
      ]
     },
     "metadata": {},
     "output_type": "display_data"
    },
    {
     "data": {
      "application/vnd.jupyter.widget-view+json": {
       "model_id": "aab1f74bb5d44a559d1729ebd1b68405",
       "version_major": 2,
       "version_minor": 0
      },
      "text/plain": [
       "  0%|          | 0/31 [00:00<?, ?it/s]"
      ]
     },
     "metadata": {},
     "output_type": "display_data"
    },
    {
     "name": "stdout",
     "output_type": "stream",
     "text": [
      "Epoch: 197 \tTraining Loss: 0.071422 \tValidation Loss: 0.703895\n",
      "Epoch: 197 \tTraining accuracy: 0.999496 \tValidation accuracy: 0.815136\n",
      "epoch =  198\n"
     ]
    },
    {
     "data": {
      "application/vnd.jupyter.widget-view+json": {
       "model_id": "862b741a4f2d42a8873a05290b90c269",
       "version_major": 2,
       "version_minor": 0
      },
      "text/plain": [
       "  0%|          | 0/62 [00:00<?, ?it/s]"
      ]
     },
     "metadata": {},
     "output_type": "display_data"
    },
    {
     "data": {
      "application/vnd.jupyter.widget-view+json": {
       "model_id": "36852ee9afb840219d2f4e369a6314fa",
       "version_major": 2,
       "version_minor": 0
      },
      "text/plain": [
       "  0%|          | 0/31 [00:00<?, ?it/s]"
      ]
     },
     "metadata": {},
     "output_type": "display_data"
    },
    {
     "name": "stdout",
     "output_type": "stream",
     "text": [
      "Epoch: 198 \tTraining Loss: 0.077315 \tValidation Loss: 0.715247\n",
      "Epoch: 198 \tTraining accuracy: 0.998992 \tValidation accuracy: 0.809553\n",
      "epoch =  199\n"
     ]
    },
    {
     "data": {
      "application/vnd.jupyter.widget-view+json": {
       "model_id": "f8751143c0a54e4dbfe329db94c684ad",
       "version_major": 2,
       "version_minor": 0
      },
      "text/plain": [
       "  0%|          | 0/62 [00:00<?, ?it/s]"
      ]
     },
     "metadata": {},
     "output_type": "display_data"
    },
    {
     "data": {
      "application/vnd.jupyter.widget-view+json": {
       "model_id": "c0d6bfad77b84a02befd25e95bef6a90",
       "version_major": 2,
       "version_minor": 0
      },
      "text/plain": [
       "  0%|          | 0/31 [00:00<?, ?it/s]"
      ]
     },
     "metadata": {},
     "output_type": "display_data"
    },
    {
     "name": "stdout",
     "output_type": "stream",
     "text": [
      "Epoch: 199 \tTraining Loss: 0.074427 \tValidation Loss: 0.720574\n",
      "Epoch: 199 \tTraining accuracy: 1.000000 \tValidation accuracy: 0.810019\n",
      "epoch =  200\n"
     ]
    },
    {
     "data": {
      "application/vnd.jupyter.widget-view+json": {
       "model_id": "ff7a790f3574429a839f74efacfe54a7",
       "version_major": 2,
       "version_minor": 0
      },
      "text/plain": [
       "  0%|          | 0/62 [00:00<?, ?it/s]"
      ]
     },
     "metadata": {},
     "output_type": "display_data"
    },
    {
     "data": {
      "application/vnd.jupyter.widget-view+json": {
       "model_id": "f424c04a3dd54024a37dd18f844f0482",
       "version_major": 2,
       "version_minor": 0
      },
      "text/plain": [
       "  0%|          | 0/31 [00:00<?, ?it/s]"
      ]
     },
     "metadata": {},
     "output_type": "display_data"
    },
    {
     "name": "stdout",
     "output_type": "stream",
     "text": [
      "Epoch: 200 \tTraining Loss: 0.071875 \tValidation Loss: 0.666221\n",
      "Epoch: 200 \tTraining accuracy: 0.998992 \tValidation accuracy: 0.842277\n",
      "epoch =  201\n"
     ]
    },
    {
     "data": {
      "application/vnd.jupyter.widget-view+json": {
       "model_id": "430d7431b9e84769b75927b017cc4dbe",
       "version_major": 2,
       "version_minor": 0
      },
      "text/plain": [
       "  0%|          | 0/62 [00:00<?, ?it/s]"
      ]
     },
     "metadata": {},
     "output_type": "display_data"
    },
    {
     "data": {
      "application/vnd.jupyter.widget-view+json": {
       "model_id": "4fe0555dfd3f4bfbbf188177be03686e",
       "version_major": 2,
       "version_minor": 0
      },
      "text/plain": [
       "  0%|          | 0/31 [00:00<?, ?it/s]"
      ]
     },
     "metadata": {},
     "output_type": "display_data"
    },
    {
     "name": "stdout",
     "output_type": "stream",
     "text": [
      "Epoch: 201 \tTraining Loss: 0.073937 \tValidation Loss: 0.726753\n",
      "Epoch: 201 \tTraining accuracy: 0.998992 \tValidation accuracy: 0.804591\n",
      "epoch =  202\n"
     ]
    },
    {
     "data": {
      "application/vnd.jupyter.widget-view+json": {
       "model_id": "aa2d8cdf00fd4285a175fcb9068ac0a1",
       "version_major": 2,
       "version_minor": 0
      },
      "text/plain": [
       "  0%|          | 0/62 [00:00<?, ?it/s]"
      ]
     },
     "metadata": {},
     "output_type": "display_data"
    },
    {
     "data": {
      "application/vnd.jupyter.widget-view+json": {
       "model_id": "94fc0a3b1cb44c7891216e8086a0517f",
       "version_major": 2,
       "version_minor": 0
      },
      "text/plain": [
       "  0%|          | 0/31 [00:00<?, ?it/s]"
      ]
     },
     "metadata": {},
     "output_type": "display_data"
    },
    {
     "name": "stdout",
     "output_type": "stream",
     "text": [
      "Epoch: 202 \tTraining Loss: 0.073959 \tValidation Loss: 0.649964\n",
      "Epoch: 202 \tTraining accuracy: 0.999496 \tValidation accuracy: 0.835763\n",
      "epoch =  203\n"
     ]
    },
    {
     "data": {
      "application/vnd.jupyter.widget-view+json": {
       "model_id": "cffff87d05fb48869edd95cdbeb3df82",
       "version_major": 2,
       "version_minor": 0
      },
      "text/plain": [
       "  0%|          | 0/62 [00:00<?, ?it/s]"
      ]
     },
     "metadata": {},
     "output_type": "display_data"
    },
    {
     "data": {
      "application/vnd.jupyter.widget-view+json": {
       "model_id": "bde2acd9921c47b39fff470285fd7468",
       "version_major": 2,
       "version_minor": 0
      },
      "text/plain": [
       "  0%|          | 0/31 [00:00<?, ?it/s]"
      ]
     },
     "metadata": {},
     "output_type": "display_data"
    },
    {
     "name": "stdout",
     "output_type": "stream",
     "text": [
      "Epoch: 203 \tTraining Loss: 0.071818 \tValidation Loss: 0.671547\n",
      "Epoch: 203 \tTraining accuracy: 0.998992 \tValidation accuracy: 0.815602\n",
      "epoch =  204\n"
     ]
    },
    {
     "data": {
      "application/vnd.jupyter.widget-view+json": {
       "model_id": "3f6419198bf543d5b3d2baf137c4260a",
       "version_major": 2,
       "version_minor": 0
      },
      "text/plain": [
       "  0%|          | 0/62 [00:00<?, ?it/s]"
      ]
     },
     "metadata": {},
     "output_type": "display_data"
    },
    {
     "data": {
      "application/vnd.jupyter.widget-view+json": {
       "model_id": "400accbca6c6434f8ca9c6b4238e9fcd",
       "version_major": 2,
       "version_minor": 0
      },
      "text/plain": [
       "  0%|          | 0/31 [00:00<?, ?it/s]"
      ]
     },
     "metadata": {},
     "output_type": "display_data"
    },
    {
     "name": "stdout",
     "output_type": "stream",
     "text": [
      "Epoch: 204 \tTraining Loss: 0.071506 \tValidation Loss: 0.725347\n",
      "Epoch: 204 \tTraining accuracy: 0.999496 \tValidation accuracy: 0.788462\n",
      "epoch =  205\n"
     ]
    },
    {
     "data": {
      "application/vnd.jupyter.widget-view+json": {
       "model_id": "2074adf4c935494bac37162b67e50457",
       "version_major": 2,
       "version_minor": 0
      },
      "text/plain": [
       "  0%|          | 0/62 [00:00<?, ?it/s]"
      ]
     },
     "metadata": {},
     "output_type": "display_data"
    },
    {
     "data": {
      "application/vnd.jupyter.widget-view+json": {
       "model_id": "96aede771dfa4fcd9e8d16cd1596a832",
       "version_major": 2,
       "version_minor": 0
      },
      "text/plain": [
       "  0%|          | 0/31 [00:00<?, ?it/s]"
      ]
     },
     "metadata": {},
     "output_type": "display_data"
    },
    {
     "name": "stdout",
     "output_type": "stream",
     "text": [
      "Epoch: 205 \tTraining Loss: 0.075280 \tValidation Loss: 0.735056\n",
      "Epoch: 205 \tTraining accuracy: 0.999496 \tValidation accuracy: 0.798542\n",
      "epoch =  206\n"
     ]
    },
    {
     "data": {
      "application/vnd.jupyter.widget-view+json": {
       "model_id": "e6dac306a3a345d9b3949094f64409ee",
       "version_major": 2,
       "version_minor": 0
      },
      "text/plain": [
       "  0%|          | 0/62 [00:00<?, ?it/s]"
      ]
     },
     "metadata": {},
     "output_type": "display_data"
    },
    {
     "data": {
      "application/vnd.jupyter.widget-view+json": {
       "model_id": "06eaf3bfb4414212a74d5838e3b216f1",
       "version_major": 2,
       "version_minor": 0
      },
      "text/plain": [
       "  0%|          | 0/31 [00:00<?, ?it/s]"
      ]
     },
     "metadata": {},
     "output_type": "display_data"
    },
    {
     "name": "stdout",
     "output_type": "stream",
     "text": [
      "Epoch: 206 \tTraining Loss: 0.073353 \tValidation Loss: 0.697663\n",
      "Epoch: 206 \tTraining accuracy: 0.999496 \tValidation accuracy: 0.822736\n",
      "epoch =  207\n"
     ]
    },
    {
     "data": {
      "application/vnd.jupyter.widget-view+json": {
       "model_id": "3a09eb633cdb429b8372d8d0e52eb80d",
       "version_major": 2,
       "version_minor": 0
      },
      "text/plain": [
       "  0%|          | 0/62 [00:00<?, ?it/s]"
      ]
     },
     "metadata": {},
     "output_type": "display_data"
    },
    {
     "data": {
      "application/vnd.jupyter.widget-view+json": {
       "model_id": "5721061ed96f4c4a9e3ee4ec3c3e5ca9",
       "version_major": 2,
       "version_minor": 0
      },
      "text/plain": [
       "  0%|          | 0/31 [00:00<?, ?it/s]"
      ]
     },
     "metadata": {},
     "output_type": "display_data"
    },
    {
     "name": "stdout",
     "output_type": "stream",
     "text": [
      "Epoch: 207 \tTraining Loss: 0.071386 \tValidation Loss: 0.676823\n",
      "Epoch: 207 \tTraining accuracy: 0.999496 \tValidation accuracy: 0.834212\n",
      "epoch =  208\n"
     ]
    },
    {
     "data": {
      "application/vnd.jupyter.widget-view+json": {
       "model_id": "da3030f4993747f991681e5d82e06bfa",
       "version_major": 2,
       "version_minor": 0
      },
      "text/plain": [
       "  0%|          | 0/62 [00:00<?, ?it/s]"
      ]
     },
     "metadata": {},
     "output_type": "display_data"
    },
    {
     "data": {
      "application/vnd.jupyter.widget-view+json": {
       "model_id": "b8bbf8e7ee44432ca75d00373f798ed6",
       "version_major": 2,
       "version_minor": 0
      },
      "text/plain": [
       "  0%|          | 0/31 [00:00<?, ?it/s]"
      ]
     },
     "metadata": {},
     "output_type": "display_data"
    },
    {
     "name": "stdout",
     "output_type": "stream",
     "text": [
      "Epoch: 208 \tTraining Loss: 0.074123 \tValidation Loss: 0.663186\n",
      "Epoch: 208 \tTraining accuracy: 0.999496 \tValidation accuracy: 0.819169\n",
      "epoch =  209\n"
     ]
    },
    {
     "data": {
      "application/vnd.jupyter.widget-view+json": {
       "model_id": "ed7b262b66954beba3da1da8f330406f",
       "version_major": 2,
       "version_minor": 0
      },
      "text/plain": [
       "  0%|          | 0/62 [00:00<?, ?it/s]"
      ]
     },
     "metadata": {},
     "output_type": "display_data"
    },
    {
     "data": {
      "application/vnd.jupyter.widget-view+json": {
       "model_id": "b8319707ec1c47df8f088b8537207852",
       "version_major": 2,
       "version_minor": 0
      },
      "text/plain": [
       "  0%|          | 0/31 [00:00<?, ?it/s]"
      ]
     },
     "metadata": {},
     "output_type": "display_data"
    },
    {
     "name": "stdout",
     "output_type": "stream",
     "text": [
      "Epoch: 209 \tTraining Loss: 0.074758 \tValidation Loss: 0.666213\n",
      "Epoch: 209 \tTraining accuracy: 1.000000 \tValidation accuracy: 0.838244\n",
      "epoch =  210\n"
     ]
    },
    {
     "data": {
      "application/vnd.jupyter.widget-view+json": {
       "model_id": "e04034fb4c0346c69f43a0424bb0106c",
       "version_major": 2,
       "version_minor": 0
      },
      "text/plain": [
       "  0%|          | 0/62 [00:00<?, ?it/s]"
      ]
     },
     "metadata": {},
     "output_type": "display_data"
    },
    {
     "data": {
      "application/vnd.jupyter.widget-view+json": {
       "model_id": "dacbdfc44f3d4183a0e299fb2d865bc3",
       "version_major": 2,
       "version_minor": 0
      },
      "text/plain": [
       "  0%|          | 0/31 [00:00<?, ?it/s]"
      ]
     },
     "metadata": {},
     "output_type": "display_data"
    },
    {
     "name": "stdout",
     "output_type": "stream",
     "text": [
      "Epoch: 210 \tTraining Loss: 0.072957 \tValidation Loss: 0.738040\n",
      "Epoch: 210 \tTraining accuracy: 0.998992 \tValidation accuracy: 0.806607\n",
      "epoch =  211\n"
     ]
    },
    {
     "data": {
      "application/vnd.jupyter.widget-view+json": {
       "model_id": "f6e2e75b3d234f8c934c7e484925378a",
       "version_major": 2,
       "version_minor": 0
      },
      "text/plain": [
       "  0%|          | 0/62 [00:00<?, ?it/s]"
      ]
     },
     "metadata": {},
     "output_type": "display_data"
    },
    {
     "data": {
      "application/vnd.jupyter.widget-view+json": {
       "model_id": "8acbe76e62454934998db29b20f86568",
       "version_major": 2,
       "version_minor": 0
      },
      "text/plain": [
       "  0%|          | 0/31 [00:00<?, ?it/s]"
      ]
     },
     "metadata": {},
     "output_type": "display_data"
    },
    {
     "name": "stdout",
     "output_type": "stream",
     "text": [
      "Epoch: 211 \tTraining Loss: 0.069883 \tValidation Loss: 0.742851\n",
      "Epoch: 211 \tTraining accuracy: 1.000000 \tValidation accuracy: 0.807692\n",
      "epoch =  212\n"
     ]
    },
    {
     "data": {
      "application/vnd.jupyter.widget-view+json": {
       "model_id": "bd842697257e4aada5f18ffbd21ff794",
       "version_major": 2,
       "version_minor": 0
      },
      "text/plain": [
       "  0%|          | 0/62 [00:00<?, ?it/s]"
      ]
     },
     "metadata": {},
     "output_type": "display_data"
    },
    {
     "data": {
      "application/vnd.jupyter.widget-view+json": {
       "model_id": "72532648b0794a179af8aaa07ee017ec",
       "version_major": 2,
       "version_minor": 0
      },
      "text/plain": [
       "  0%|          | 0/31 [00:00<?, ?it/s]"
      ]
     },
     "metadata": {},
     "output_type": "display_data"
    },
    {
     "name": "stdout",
     "output_type": "stream",
     "text": [
      "Epoch: 212 \tTraining Loss: 0.069982 \tValidation Loss: 0.679839\n",
      "Epoch: 212 \tTraining accuracy: 0.999496 \tValidation accuracy: 0.823201\n",
      "epoch =  213\n"
     ]
    },
    {
     "data": {
      "application/vnd.jupyter.widget-view+json": {
       "model_id": "7810a780f15749c9b413e87e558eee83",
       "version_major": 2,
       "version_minor": 0
      },
      "text/plain": [
       "  0%|          | 0/62 [00:00<?, ?it/s]"
      ]
     },
     "metadata": {},
     "output_type": "display_data"
    },
    {
     "data": {
      "application/vnd.jupyter.widget-view+json": {
       "model_id": "54646c1542834b12b8533cea66ba85e9",
       "version_major": 2,
       "version_minor": 0
      },
      "text/plain": [
       "  0%|          | 0/31 [00:00<?, ?it/s]"
      ]
     },
     "metadata": {},
     "output_type": "display_data"
    },
    {
     "name": "stdout",
     "output_type": "stream",
     "text": [
      "Epoch: 213 \tTraining Loss: 0.074697 \tValidation Loss: 0.679872\n",
      "Epoch: 213 \tTraining accuracy: 1.000000 \tValidation accuracy: 0.833282\n",
      "epoch =  214\n"
     ]
    },
    {
     "data": {
      "application/vnd.jupyter.widget-view+json": {
       "model_id": "c0038aadcf074113a4a3babe409ec10e",
       "version_major": 2,
       "version_minor": 0
      },
      "text/plain": [
       "  0%|          | 0/62 [00:00<?, ?it/s]"
      ]
     },
     "metadata": {},
     "output_type": "display_data"
    },
    {
     "data": {
      "application/vnd.jupyter.widget-view+json": {
       "model_id": "f2c9b014ead94f5680cd0ad420e50483",
       "version_major": 2,
       "version_minor": 0
      },
      "text/plain": [
       "  0%|          | 0/31 [00:00<?, ?it/s]"
      ]
     },
     "metadata": {},
     "output_type": "display_data"
    },
    {
     "name": "stdout",
     "output_type": "stream",
     "text": [
      "Epoch: 214 \tTraining Loss: 0.074974 \tValidation Loss: 0.678882\n",
      "Epoch: 214 \tTraining accuracy: 0.999496 \tValidation accuracy: 0.823666\n",
      "epoch =  215\n"
     ]
    },
    {
     "data": {
      "application/vnd.jupyter.widget-view+json": {
       "model_id": "83dec67e446b4b72a50f89a4f854103e",
       "version_major": 2,
       "version_minor": 0
      },
      "text/plain": [
       "  0%|          | 0/62 [00:00<?, ?it/s]"
      ]
     },
     "metadata": {},
     "output_type": "display_data"
    },
    {
     "data": {
      "application/vnd.jupyter.widget-view+json": {
       "model_id": "52b53c9ae8ce44e1910b45652fc7370a",
       "version_major": 2,
       "version_minor": 0
      },
      "text/plain": [
       "  0%|          | 0/31 [00:00<?, ?it/s]"
      ]
     },
     "metadata": {},
     "output_type": "display_data"
    },
    {
     "name": "stdout",
     "output_type": "stream",
     "text": [
      "Epoch: 215 \tTraining Loss: 0.075642 \tValidation Loss: 0.697784\n",
      "Epoch: 215 \tTraining accuracy: 0.998992 \tValidation accuracy: 0.801954\n",
      "epoch =  216\n"
     ]
    },
    {
     "data": {
      "application/vnd.jupyter.widget-view+json": {
       "model_id": "6ac38dcaaa064fa4b8fb4cf9fba88d14",
       "version_major": 2,
       "version_minor": 0
      },
      "text/plain": [
       "  0%|          | 0/62 [00:00<?, ?it/s]"
      ]
     },
     "metadata": {},
     "output_type": "display_data"
    },
    {
     "data": {
      "application/vnd.jupyter.widget-view+json": {
       "model_id": "a9d6b23979914519a6f2c4db5152b1af",
       "version_major": 2,
       "version_minor": 0
      },
      "text/plain": [
       "  0%|          | 0/31 [00:00<?, ?it/s]"
      ]
     },
     "metadata": {},
     "output_type": "display_data"
    },
    {
     "name": "stdout",
     "output_type": "stream",
     "text": [
      "Epoch: 216 \tTraining Loss: 0.076254 \tValidation Loss: 0.705859\n",
      "Epoch: 216 \tTraining accuracy: 1.000000 \tValidation accuracy: 0.814051\n",
      "epoch =  217\n"
     ]
    },
    {
     "data": {
      "application/vnd.jupyter.widget-view+json": {
       "model_id": "30aac4c5ea2d489e9ccca3fc74e0e425",
       "version_major": 2,
       "version_minor": 0
      },
      "text/plain": [
       "  0%|          | 0/62 [00:00<?, ?it/s]"
      ]
     },
     "metadata": {},
     "output_type": "display_data"
    },
    {
     "data": {
      "application/vnd.jupyter.widget-view+json": {
       "model_id": "d95ea83a4dc84f389fa8646dd7f74b9c",
       "version_major": 2,
       "version_minor": 0
      },
      "text/plain": [
       "  0%|          | 0/31 [00:00<?, ?it/s]"
      ]
     },
     "metadata": {},
     "output_type": "display_data"
    },
    {
     "name": "stdout",
     "output_type": "stream",
     "text": [
      "Epoch: 217 \tTraining Loss: 0.072228 \tValidation Loss: 0.668838\n",
      "Epoch: 217 \tTraining accuracy: 1.000000 \tValidation accuracy: 0.820099\n",
      "epoch =  218\n"
     ]
    },
    {
     "data": {
      "application/vnd.jupyter.widget-view+json": {
       "model_id": "14d22394c23c4b88a6bce55ac1fd4163",
       "version_major": 2,
       "version_minor": 0
      },
      "text/plain": [
       "  0%|          | 0/62 [00:00<?, ?it/s]"
      ]
     },
     "metadata": {},
     "output_type": "display_data"
    },
    {
     "data": {
      "application/vnd.jupyter.widget-view+json": {
       "model_id": "547593956b774eaf8e0315462687f7b6",
       "version_major": 2,
       "version_minor": 0
      },
      "text/plain": [
       "  0%|          | 0/31 [00:00<?, ?it/s]"
      ]
     },
     "metadata": {},
     "output_type": "display_data"
    },
    {
     "name": "stdout",
     "output_type": "stream",
     "text": [
      "Epoch: 218 \tTraining Loss: 0.072620 \tValidation Loss: 0.699227\n",
      "Epoch: 218 \tTraining accuracy: 0.999496 \tValidation accuracy: 0.816687\n",
      "epoch =  219\n"
     ]
    },
    {
     "data": {
      "application/vnd.jupyter.widget-view+json": {
       "model_id": "2ce16439fcf44de6bba854ae5b3b2ee9",
       "version_major": 2,
       "version_minor": 0
      },
      "text/plain": [
       "  0%|          | 0/62 [00:00<?, ?it/s]"
      ]
     },
     "metadata": {},
     "output_type": "display_data"
    },
    {
     "data": {
      "application/vnd.jupyter.widget-view+json": {
       "model_id": "4e43ea22e01949e19d68ec97992a503f",
       "version_major": 2,
       "version_minor": 0
      },
      "text/plain": [
       "  0%|          | 0/31 [00:00<?, ?it/s]"
      ]
     },
     "metadata": {},
     "output_type": "display_data"
    },
    {
     "name": "stdout",
     "output_type": "stream",
     "text": [
      "Epoch: 219 \tTraining Loss: 0.069651 \tValidation Loss: 0.745502\n",
      "Epoch: 219 \tTraining accuracy: 1.000000 \tValidation accuracy: 0.801489\n",
      "epoch =  220\n"
     ]
    },
    {
     "data": {
      "application/vnd.jupyter.widget-view+json": {
       "model_id": "469f5a1a596a4933b12f581b29b5b033",
       "version_major": 2,
       "version_minor": 0
      },
      "text/plain": [
       "  0%|          | 0/62 [00:00<?, ?it/s]"
      ]
     },
     "metadata": {},
     "output_type": "display_data"
    },
    {
     "data": {
      "application/vnd.jupyter.widget-view+json": {
       "model_id": "8c02d70003d54f5684fd8dab0de2f091",
       "version_major": 2,
       "version_minor": 0
      },
      "text/plain": [
       "  0%|          | 0/31 [00:00<?, ?it/s]"
      ]
     },
     "metadata": {},
     "output_type": "display_data"
    },
    {
     "name": "stdout",
     "output_type": "stream",
     "text": [
      "Epoch: 220 \tTraining Loss: 0.072598 \tValidation Loss: 0.668115\n",
      "Epoch: 220 \tTraining accuracy: 0.999496 \tValidation accuracy: 0.820099\n",
      "epoch =  221\n"
     ]
    },
    {
     "data": {
      "application/vnd.jupyter.widget-view+json": {
       "model_id": "c84f7657d6324badbcd88e950fff722c",
       "version_major": 2,
       "version_minor": 0
      },
      "text/plain": [
       "  0%|          | 0/62 [00:00<?, ?it/s]"
      ]
     },
     "metadata": {},
     "output_type": "display_data"
    },
    {
     "data": {
      "application/vnd.jupyter.widget-view+json": {
       "model_id": "c4fa2c1a8778425c86a1fd49bd80bf72",
       "version_major": 2,
       "version_minor": 0
      },
      "text/plain": [
       "  0%|          | 0/31 [00:00<?, ?it/s]"
      ]
     },
     "metadata": {},
     "output_type": "display_data"
    },
    {
     "name": "stdout",
     "output_type": "stream",
     "text": [
      "Epoch: 221 \tTraining Loss: 0.069383 \tValidation Loss: 0.691541\n",
      "Epoch: 221 \tTraining accuracy: 1.000000 \tValidation accuracy: 0.812655\n",
      "epoch =  222\n"
     ]
    },
    {
     "data": {
      "application/vnd.jupyter.widget-view+json": {
       "model_id": "efeb09c2b3514a3abafca391fd26e733",
       "version_major": 2,
       "version_minor": 0
      },
      "text/plain": [
       "  0%|          | 0/62 [00:00<?, ?it/s]"
      ]
     },
     "metadata": {},
     "output_type": "display_data"
    },
    {
     "data": {
      "application/vnd.jupyter.widget-view+json": {
       "model_id": "391c4b7ed6914ac588551182c4f3a5ff",
       "version_major": 2,
       "version_minor": 0
      },
      "text/plain": [
       "  0%|          | 0/31 [00:00<?, ?it/s]"
      ]
     },
     "metadata": {},
     "output_type": "display_data"
    },
    {
     "name": "stdout",
     "output_type": "stream",
     "text": [
      "Epoch: 222 \tTraining Loss: 0.074708 \tValidation Loss: 0.688358\n",
      "Epoch: 222 \tTraining accuracy: 0.999496 \tValidation accuracy: 0.814051\n",
      "epoch =  223\n"
     ]
    },
    {
     "data": {
      "application/vnd.jupyter.widget-view+json": {
       "model_id": "da84a530b3cd4834a6236a0f774e2903",
       "version_major": 2,
       "version_minor": 0
      },
      "text/plain": [
       "  0%|          | 0/62 [00:00<?, ?it/s]"
      ]
     },
     "metadata": {},
     "output_type": "display_data"
    },
    {
     "data": {
      "application/vnd.jupyter.widget-view+json": {
       "model_id": "f892ec8c94f543398c942ea79081fdb5",
       "version_major": 2,
       "version_minor": 0
      },
      "text/plain": [
       "  0%|          | 0/31 [00:00<?, ?it/s]"
      ]
     },
     "metadata": {},
     "output_type": "display_data"
    },
    {
     "name": "stdout",
     "output_type": "stream",
     "text": [
      "Epoch: 223 \tTraining Loss: 0.072918 \tValidation Loss: 0.693163\n",
      "Epoch: 223 \tTraining accuracy: 1.000000 \tValidation accuracy: 0.820565\n",
      "epoch =  224\n"
     ]
    },
    {
     "data": {
      "application/vnd.jupyter.widget-view+json": {
       "model_id": "e12b0fb456c740268fea207c3ddf3f7b",
       "version_major": 2,
       "version_minor": 0
      },
      "text/plain": [
       "  0%|          | 0/62 [00:00<?, ?it/s]"
      ]
     },
     "metadata": {},
     "output_type": "display_data"
    },
    {
     "data": {
      "application/vnd.jupyter.widget-view+json": {
       "model_id": "e85fb6d6837240a0a46e0f7f9f65608e",
       "version_major": 2,
       "version_minor": 0
      },
      "text/plain": [
       "  0%|          | 0/31 [00:00<?, ?it/s]"
      ]
     },
     "metadata": {},
     "output_type": "display_data"
    },
    {
     "name": "stdout",
     "output_type": "stream",
     "text": [
      "Epoch: 224 \tTraining Loss: 0.070566 \tValidation Loss: 0.711071\n",
      "Epoch: 224 \tTraining accuracy: 1.000000 \tValidation accuracy: 0.812035\n",
      "epoch =  225\n"
     ]
    },
    {
     "data": {
      "application/vnd.jupyter.widget-view+json": {
       "model_id": "6c3a4957a2a8476ca49c5ad653113260",
       "version_major": 2,
       "version_minor": 0
      },
      "text/plain": [
       "  0%|          | 0/62 [00:00<?, ?it/s]"
      ]
     },
     "metadata": {},
     "output_type": "display_data"
    },
    {
     "data": {
      "application/vnd.jupyter.widget-view+json": {
       "model_id": "df9bea7438ef45e9bfba1e59cbb5ca68",
       "version_major": 2,
       "version_minor": 0
      },
      "text/plain": [
       "  0%|          | 0/31 [00:00<?, ?it/s]"
      ]
     },
     "metadata": {},
     "output_type": "display_data"
    },
    {
     "name": "stdout",
     "output_type": "stream",
     "text": [
      "Epoch: 225 \tTraining Loss: 0.070730 \tValidation Loss: 0.716825\n",
      "Epoch: 225 \tTraining accuracy: 1.000000 \tValidation accuracy: 0.808158\n",
      "epoch =  226\n"
     ]
    },
    {
     "data": {
      "application/vnd.jupyter.widget-view+json": {
       "model_id": "1eb233eef90c4bc1baa218b74522e2dd",
       "version_major": 2,
       "version_minor": 0
      },
      "text/plain": [
       "  0%|          | 0/62 [00:00<?, ?it/s]"
      ]
     },
     "metadata": {},
     "output_type": "display_data"
    },
    {
     "data": {
      "application/vnd.jupyter.widget-view+json": {
       "model_id": "9886c6b3dca044d6937581093f8737a9",
       "version_major": 2,
       "version_minor": 0
      },
      "text/plain": [
       "  0%|          | 0/31 [00:00<?, ?it/s]"
      ]
     },
     "metadata": {},
     "output_type": "display_data"
    },
    {
     "name": "stdout",
     "output_type": "stream",
     "text": [
      "Epoch: 226 \tTraining Loss: 0.072483 \tValidation Loss: 0.689704\n",
      "Epoch: 226 \tTraining accuracy: 0.998488 \tValidation accuracy: 0.834212\n",
      "epoch =  227\n"
     ]
    },
    {
     "data": {
      "application/vnd.jupyter.widget-view+json": {
       "model_id": "3c83bb5ad398467286dff8405fc64bdc",
       "version_major": 2,
       "version_minor": 0
      },
      "text/plain": [
       "  0%|          | 0/62 [00:00<?, ?it/s]"
      ]
     },
     "metadata": {},
     "output_type": "display_data"
    },
    {
     "data": {
      "application/vnd.jupyter.widget-view+json": {
       "model_id": "317d8933d49e4941ac1d9efa01b36780",
       "version_major": 2,
       "version_minor": 0
      },
      "text/plain": [
       "  0%|          | 0/31 [00:00<?, ?it/s]"
      ]
     },
     "metadata": {},
     "output_type": "display_data"
    },
    {
     "name": "stdout",
     "output_type": "stream",
     "text": [
      "Epoch: 227 \tTraining Loss: 0.074092 \tValidation Loss: 0.650225\n",
      "Epoch: 227 \tTraining accuracy: 0.999496 \tValidation accuracy: 0.829715\n",
      "epoch =  228\n"
     ]
    },
    {
     "data": {
      "application/vnd.jupyter.widget-view+json": {
       "model_id": "6b1ceb7df7f248bb975ba8f7b154e37e",
       "version_major": 2,
       "version_minor": 0
      },
      "text/plain": [
       "  0%|          | 0/62 [00:00<?, ?it/s]"
      ]
     },
     "metadata": {},
     "output_type": "display_data"
    },
    {
     "data": {
      "application/vnd.jupyter.widget-view+json": {
       "model_id": "02176d37aa624c9589d1399fcaa22fba",
       "version_major": 2,
       "version_minor": 0
      },
      "text/plain": [
       "  0%|          | 0/31 [00:00<?, ?it/s]"
      ]
     },
     "metadata": {},
     "output_type": "display_data"
    },
    {
     "name": "stdout",
     "output_type": "stream",
     "text": [
      "Epoch: 228 \tTraining Loss: 0.075129 \tValidation Loss: 0.674769\n",
      "Epoch: 228 \tTraining accuracy: 1.000000 \tValidation accuracy: 0.813120\n",
      "epoch =  229\n"
     ]
    },
    {
     "data": {
      "application/vnd.jupyter.widget-view+json": {
       "model_id": "7f430977228e4f709d8c97ef3ad14fd7",
       "version_major": 2,
       "version_minor": 0
      },
      "text/plain": [
       "  0%|          | 0/62 [00:00<?, ?it/s]"
      ]
     },
     "metadata": {},
     "output_type": "display_data"
    },
    {
     "data": {
      "application/vnd.jupyter.widget-view+json": {
       "model_id": "1ec28d8458be4588914ec854feb20d44",
       "version_major": 2,
       "version_minor": 0
      },
      "text/plain": [
       "  0%|          | 0/31 [00:00<?, ?it/s]"
      ]
     },
     "metadata": {},
     "output_type": "display_data"
    },
    {
     "name": "stdout",
     "output_type": "stream",
     "text": [
      "Epoch: 229 \tTraining Loss: 0.072176 \tValidation Loss: 0.672746\n",
      "Epoch: 229 \tTraining accuracy: 1.000000 \tValidation accuracy: 0.829249\n",
      "epoch =  230\n"
     ]
    },
    {
     "data": {
      "application/vnd.jupyter.widget-view+json": {
       "model_id": "e31a9ba1a5e64f78ab4db02fc466c9aa",
       "version_major": 2,
       "version_minor": 0
      },
      "text/plain": [
       "  0%|          | 0/62 [00:00<?, ?it/s]"
      ]
     },
     "metadata": {},
     "output_type": "display_data"
    },
    {
     "data": {
      "application/vnd.jupyter.widget-view+json": {
       "model_id": "b85e680ab4c44be29ab494a892ef496b",
       "version_major": 2,
       "version_minor": 0
      },
      "text/plain": [
       "  0%|          | 0/31 [00:00<?, ?it/s]"
      ]
     },
     "metadata": {},
     "output_type": "display_data"
    },
    {
     "name": "stdout",
     "output_type": "stream",
     "text": [
      "Epoch: 230 \tTraining Loss: 0.075804 \tValidation Loss: 0.720289\n",
      "Epoch: 230 \tTraining accuracy: 1.000000 \tValidation accuracy: 0.805521\n",
      "epoch =  231\n"
     ]
    },
    {
     "data": {
      "application/vnd.jupyter.widget-view+json": {
       "model_id": "5d673a64cdd2487bb85efb97ae1fa8df",
       "version_major": 2,
       "version_minor": 0
      },
      "text/plain": [
       "  0%|          | 0/62 [00:00<?, ?it/s]"
      ]
     },
     "metadata": {},
     "output_type": "display_data"
    },
    {
     "data": {
      "application/vnd.jupyter.widget-view+json": {
       "model_id": "bb165e59a3ba44a0961622ced3bb1386",
       "version_major": 2,
       "version_minor": 0
      },
      "text/plain": [
       "  0%|          | 0/31 [00:00<?, ?it/s]"
      ]
     },
     "metadata": {},
     "output_type": "display_data"
    },
    {
     "name": "stdout",
     "output_type": "stream",
     "text": [
      "Epoch: 231 \tTraining Loss: 0.070278 \tValidation Loss: 0.743920\n",
      "Epoch: 231 \tTraining accuracy: 0.999496 \tValidation accuracy: 0.802419\n",
      "epoch =  232\n"
     ]
    },
    {
     "data": {
      "application/vnd.jupyter.widget-view+json": {
       "model_id": "2c731dbae7b0454f9eaf10709fe78af2",
       "version_major": 2,
       "version_minor": 0
      },
      "text/plain": [
       "  0%|          | 0/62 [00:00<?, ?it/s]"
      ]
     },
     "metadata": {},
     "output_type": "display_data"
    },
    {
     "data": {
      "application/vnd.jupyter.widget-view+json": {
       "model_id": "33e6384036bb4c98a9227d29dad1eab3",
       "version_major": 2,
       "version_minor": 0
      },
      "text/plain": [
       "  0%|          | 0/31 [00:00<?, ?it/s]"
      ]
     },
     "metadata": {},
     "output_type": "display_data"
    },
    {
     "name": "stdout",
     "output_type": "stream",
     "text": [
      "Epoch: 232 \tTraining Loss: 0.073764 \tValidation Loss: 0.690698\n",
      "Epoch: 232 \tTraining accuracy: 0.999496 \tValidation accuracy: 0.821650\n",
      "epoch =  233\n"
     ]
    },
    {
     "data": {
      "application/vnd.jupyter.widget-view+json": {
       "model_id": "00108a29207b4a719fb3a7b78ea48b18",
       "version_major": 2,
       "version_minor": 0
      },
      "text/plain": [
       "  0%|          | 0/62 [00:00<?, ?it/s]"
      ]
     },
     "metadata": {},
     "output_type": "display_data"
    },
    {
     "data": {
      "application/vnd.jupyter.widget-view+json": {
       "model_id": "05d4a0e8b70341f5859c303166603166",
       "version_major": 2,
       "version_minor": 0
      },
      "text/plain": [
       "  0%|          | 0/31 [00:00<?, ?it/s]"
      ]
     },
     "metadata": {},
     "output_type": "display_data"
    },
    {
     "name": "stdout",
     "output_type": "stream",
     "text": [
      "Epoch: 233 \tTraining Loss: 0.070947 \tValidation Loss: 0.706110\n",
      "Epoch: 233 \tTraining accuracy: 1.000000 \tValidation accuracy: 0.796991\n",
      "epoch =  234\n"
     ]
    },
    {
     "data": {
      "application/vnd.jupyter.widget-view+json": {
       "model_id": "d9638164dd2c4e8bad5ef8cac6596bba",
       "version_major": 2,
       "version_minor": 0
      },
      "text/plain": [
       "  0%|          | 0/62 [00:00<?, ?it/s]"
      ]
     },
     "metadata": {},
     "output_type": "display_data"
    },
    {
     "data": {
      "application/vnd.jupyter.widget-view+json": {
       "model_id": "3eddfc14ef894cd7b063eade1492028b",
       "version_major": 2,
       "version_minor": 0
      },
      "text/plain": [
       "  0%|          | 0/31 [00:00<?, ?it/s]"
      ]
     },
     "metadata": {},
     "output_type": "display_data"
    },
    {
     "name": "stdout",
     "output_type": "stream",
     "text": [
      "Epoch: 234 \tTraining Loss: 0.069232 \tValidation Loss: 0.688545\n",
      "Epoch: 234 \tTraining accuracy: 1.000000 \tValidation accuracy: 0.819169\n",
      "epoch =  235\n"
     ]
    },
    {
     "data": {
      "application/vnd.jupyter.widget-view+json": {
       "model_id": "33be39a557074db6b6841d272c91d121",
       "version_major": 2,
       "version_minor": 0
      },
      "text/plain": [
       "  0%|          | 0/62 [00:00<?, ?it/s]"
      ]
     },
     "metadata": {},
     "output_type": "display_data"
    },
    {
     "data": {
      "application/vnd.jupyter.widget-view+json": {
       "model_id": "bf3364ced9624743816a764cc32a981a",
       "version_major": 2,
       "version_minor": 0
      },
      "text/plain": [
       "  0%|          | 0/31 [00:00<?, ?it/s]"
      ]
     },
     "metadata": {},
     "output_type": "display_data"
    },
    {
     "name": "stdout",
     "output_type": "stream",
     "text": [
      "Epoch: 235 \tTraining Loss: 0.073776 \tValidation Loss: 0.673664\n",
      "Epoch: 235 \tTraining accuracy: 0.999496 \tValidation accuracy: 0.825682\n",
      "epoch =  236\n"
     ]
    },
    {
     "data": {
      "application/vnd.jupyter.widget-view+json": {
       "model_id": "28a6fb5dae10456ea463262a626db2e8",
       "version_major": 2,
       "version_minor": 0
      },
      "text/plain": [
       "  0%|          | 0/62 [00:00<?, ?it/s]"
      ]
     },
     "metadata": {},
     "output_type": "display_data"
    },
    {
     "data": {
      "application/vnd.jupyter.widget-view+json": {
       "model_id": "b4ab28a698914f3d85c55da7fa891191",
       "version_major": 2,
       "version_minor": 0
      },
      "text/plain": [
       "  0%|          | 0/31 [00:00<?, ?it/s]"
      ]
     },
     "metadata": {},
     "output_type": "display_data"
    },
    {
     "name": "stdout",
     "output_type": "stream",
     "text": [
      "Epoch: 236 \tTraining Loss: 0.076532 \tValidation Loss: 0.686118\n",
      "Epoch: 236 \tTraining accuracy: 1.000000 \tValidation accuracy: 0.812655\n",
      "epoch =  237\n"
     ]
    },
    {
     "data": {
      "application/vnd.jupyter.widget-view+json": {
       "model_id": "53480b5807164998bb4a499904759307",
       "version_major": 2,
       "version_minor": 0
      },
      "text/plain": [
       "  0%|          | 0/62 [00:00<?, ?it/s]"
      ]
     },
     "metadata": {},
     "output_type": "display_data"
    },
    {
     "data": {
      "application/vnd.jupyter.widget-view+json": {
       "model_id": "aa6c0bb0006040da91ab976d4a8fca94",
       "version_major": 2,
       "version_minor": 0
      },
      "text/plain": [
       "  0%|          | 0/31 [00:00<?, ?it/s]"
      ]
     },
     "metadata": {},
     "output_type": "display_data"
    },
    {
     "name": "stdout",
     "output_type": "stream",
     "text": [
      "Epoch: 237 \tTraining Loss: 0.072289 \tValidation Loss: 0.714397\n",
      "Epoch: 237 \tTraining accuracy: 0.999496 \tValidation accuracy: 0.830180\n",
      "epoch =  238\n"
     ]
    },
    {
     "data": {
      "application/vnd.jupyter.widget-view+json": {
       "model_id": "d786d6cf4d154d95a9506077024d1c15",
       "version_major": 2,
       "version_minor": 0
      },
      "text/plain": [
       "  0%|          | 0/62 [00:00<?, ?it/s]"
      ]
     },
     "metadata": {},
     "output_type": "display_data"
    },
    {
     "data": {
      "application/vnd.jupyter.widget-view+json": {
       "model_id": "2106c885df5044c0a554ae69503c4ee2",
       "version_major": 2,
       "version_minor": 0
      },
      "text/plain": [
       "  0%|          | 0/31 [00:00<?, ?it/s]"
      ]
     },
     "metadata": {},
     "output_type": "display_data"
    },
    {
     "name": "stdout",
     "output_type": "stream",
     "text": [
      "Epoch: 238 \tTraining Loss: 0.067177 \tValidation Loss: 0.679417\n",
      "Epoch: 238 \tTraining accuracy: 1.000000 \tValidation accuracy: 0.832661\n",
      "epoch =  239\n"
     ]
    },
    {
     "data": {
      "application/vnd.jupyter.widget-view+json": {
       "model_id": "2440e99f49cf4d7c8c81dff757ebc5ae",
       "version_major": 2,
       "version_minor": 0
      },
      "text/plain": [
       "  0%|          | 0/62 [00:00<?, ?it/s]"
      ]
     },
     "metadata": {},
     "output_type": "display_data"
    },
    {
     "data": {
      "application/vnd.jupyter.widget-view+json": {
       "model_id": "13e76a1f61c04149a4fbca216a281aa6",
       "version_major": 2,
       "version_minor": 0
      },
      "text/plain": [
       "  0%|          | 0/31 [00:00<?, ?it/s]"
      ]
     },
     "metadata": {},
     "output_type": "display_data"
    },
    {
     "name": "stdout",
     "output_type": "stream",
     "text": [
      "Epoch: 239 \tTraining Loss: 0.072871 \tValidation Loss: 0.724100\n",
      "Epoch: 239 \tTraining accuracy: 0.999496 \tValidation accuracy: 0.813586\n",
      "epoch =  240\n"
     ]
    },
    {
     "data": {
      "application/vnd.jupyter.widget-view+json": {
       "model_id": "b45a1ba3d54b46aea07f2fce6813f390",
       "version_major": 2,
       "version_minor": 0
      },
      "text/plain": [
       "  0%|          | 0/62 [00:00<?, ?it/s]"
      ]
     },
     "metadata": {},
     "output_type": "display_data"
    },
    {
     "data": {
      "application/vnd.jupyter.widget-view+json": {
       "model_id": "5d56fdfcfdfd40e498d8463d3dbe98d5",
       "version_major": 2,
       "version_minor": 0
      },
      "text/plain": [
       "  0%|          | 0/31 [00:00<?, ?it/s]"
      ]
     },
     "metadata": {},
     "output_type": "display_data"
    },
    {
     "name": "stdout",
     "output_type": "stream",
     "text": [
      "Epoch: 240 \tTraining Loss: 0.073574 \tValidation Loss: 0.691523\n",
      "Epoch: 240 \tTraining accuracy: 1.000000 \tValidation accuracy: 0.834677\n",
      "epoch =  241\n"
     ]
    },
    {
     "data": {
      "application/vnd.jupyter.widget-view+json": {
       "model_id": "f482cde510c14baaaceb1b457a0d5944",
       "version_major": 2,
       "version_minor": 0
      },
      "text/plain": [
       "  0%|          | 0/62 [00:00<?, ?it/s]"
      ]
     },
     "metadata": {},
     "output_type": "display_data"
    },
    {
     "data": {
      "application/vnd.jupyter.widget-view+json": {
       "model_id": "53f1e96084934fb19afc358396231541",
       "version_major": 2,
       "version_minor": 0
      },
      "text/plain": [
       "  0%|          | 0/31 [00:00<?, ?it/s]"
      ]
     },
     "metadata": {},
     "output_type": "display_data"
    },
    {
     "name": "stdout",
     "output_type": "stream",
     "text": [
      "Epoch: 241 \tTraining Loss: 0.071715 \tValidation Loss: 0.693209\n",
      "Epoch: 241 \tTraining accuracy: 0.999496 \tValidation accuracy: 0.809553\n",
      "epoch =  242\n"
     ]
    },
    {
     "data": {
      "application/vnd.jupyter.widget-view+json": {
       "model_id": "cb998e8785794b53ba326e9587591460",
       "version_major": 2,
       "version_minor": 0
      },
      "text/plain": [
       "  0%|          | 0/62 [00:00<?, ?it/s]"
      ]
     },
     "metadata": {},
     "output_type": "display_data"
    },
    {
     "data": {
      "application/vnd.jupyter.widget-view+json": {
       "model_id": "42560af7c65d4e5cbdcf0e9efce442bd",
       "version_major": 2,
       "version_minor": 0
      },
      "text/plain": [
       "  0%|          | 0/31 [00:00<?, ?it/s]"
      ]
     },
     "metadata": {},
     "output_type": "display_data"
    },
    {
     "name": "stdout",
     "output_type": "stream",
     "text": [
      "Epoch: 242 \tTraining Loss: 0.068072 \tValidation Loss: 0.636874\n",
      "Epoch: 242 \tTraining accuracy: 1.000000 \tValidation accuracy: 0.830800\n",
      "epoch =  243\n"
     ]
    },
    {
     "data": {
      "application/vnd.jupyter.widget-view+json": {
       "model_id": "2a5e52dc6fb74d71ab1e5a026ee94ce2",
       "version_major": 2,
       "version_minor": 0
      },
      "text/plain": [
       "  0%|          | 0/62 [00:00<?, ?it/s]"
      ]
     },
     "metadata": {},
     "output_type": "display_data"
    },
    {
     "data": {
      "application/vnd.jupyter.widget-view+json": {
       "model_id": "7df8a009ddb44f12afbeaf1b18f1da9d",
       "version_major": 2,
       "version_minor": 0
      },
      "text/plain": [
       "  0%|          | 0/31 [00:00<?, ?it/s]"
      ]
     },
     "metadata": {},
     "output_type": "display_data"
    },
    {
     "name": "stdout",
     "output_type": "stream",
     "text": [
      "Epoch: 243 \tTraining Loss: 0.074483 \tValidation Loss: 0.705516\n",
      "Epoch: 243 \tTraining accuracy: 0.998992 \tValidation accuracy: 0.820099\n",
      "epoch =  244\n"
     ]
    },
    {
     "data": {
      "application/vnd.jupyter.widget-view+json": {
       "model_id": "8fb5e80d9cf743ac8f1c31da9432c5ab",
       "version_major": 2,
       "version_minor": 0
      },
      "text/plain": [
       "  0%|          | 0/62 [00:00<?, ?it/s]"
      ]
     },
     "metadata": {},
     "output_type": "display_data"
    },
    {
     "data": {
      "application/vnd.jupyter.widget-view+json": {
       "model_id": "a3a77243525d4f9e92f9dabae825ab45",
       "version_major": 2,
       "version_minor": 0
      },
      "text/plain": [
       "  0%|          | 0/31 [00:00<?, ?it/s]"
      ]
     },
     "metadata": {},
     "output_type": "display_data"
    },
    {
     "name": "stdout",
     "output_type": "stream",
     "text": [
      "Epoch: 244 \tTraining Loss: 0.074594 \tValidation Loss: 0.685615\n",
      "Epoch: 244 \tTraining accuracy: 1.000000 \tValidation accuracy: 0.816222\n",
      "epoch =  245\n"
     ]
    },
    {
     "data": {
      "application/vnd.jupyter.widget-view+json": {
       "model_id": "4e55c26b638046fb918dac766477ab1f",
       "version_major": 2,
       "version_minor": 0
      },
      "text/plain": [
       "  0%|          | 0/62 [00:00<?, ?it/s]"
      ]
     },
     "metadata": {},
     "output_type": "display_data"
    },
    {
     "data": {
      "application/vnd.jupyter.widget-view+json": {
       "model_id": "5e4bd030472c4859a23b76b8ac292574",
       "version_major": 2,
       "version_minor": 0
      },
      "text/plain": [
       "  0%|          | 0/31 [00:00<?, ?it/s]"
      ]
     },
     "metadata": {},
     "output_type": "display_data"
    },
    {
     "name": "stdout",
     "output_type": "stream",
     "text": [
      "Epoch: 245 \tTraining Loss: 0.070879 \tValidation Loss: 0.742391\n",
      "Epoch: 245 \tTraining accuracy: 0.998992 \tValidation accuracy: 0.797146\n",
      "epoch =  246\n"
     ]
    },
    {
     "data": {
      "application/vnd.jupyter.widget-view+json": {
       "model_id": "b981c9d0326f44a9b1421c130cd8385b",
       "version_major": 2,
       "version_minor": 0
      },
      "text/plain": [
       "  0%|          | 0/62 [00:00<?, ?it/s]"
      ]
     },
     "metadata": {},
     "output_type": "display_data"
    },
    {
     "data": {
      "application/vnd.jupyter.widget-view+json": {
       "model_id": "1474aee3a6e8435eb39a800e4f12f7a8",
       "version_major": 2,
       "version_minor": 0
      },
      "text/plain": [
       "  0%|          | 0/31 [00:00<?, ?it/s]"
      ]
     },
     "metadata": {},
     "output_type": "display_data"
    },
    {
     "name": "stdout",
     "output_type": "stream",
     "text": [
      "Epoch: 246 \tTraining Loss: 0.064920 \tValidation Loss: 0.711834\n",
      "Epoch: 246 \tTraining accuracy: 1.000000 \tValidation accuracy: 0.805986\n",
      "epoch =  247\n"
     ]
    },
    {
     "data": {
      "application/vnd.jupyter.widget-view+json": {
       "model_id": "59fca02b62974a5b8fa197c9e46e00b0",
       "version_major": 2,
       "version_minor": 0
      },
      "text/plain": [
       "  0%|          | 0/62 [00:00<?, ?it/s]"
      ]
     },
     "metadata": {},
     "output_type": "display_data"
    },
    {
     "data": {
      "application/vnd.jupyter.widget-view+json": {
       "model_id": "23299385e2394ef597182487622be688",
       "version_major": 2,
       "version_minor": 0
      },
      "text/plain": [
       "  0%|          | 0/31 [00:00<?, ?it/s]"
      ]
     },
     "metadata": {},
     "output_type": "display_data"
    },
    {
     "name": "stdout",
     "output_type": "stream",
     "text": [
      "Epoch: 247 \tTraining Loss: 0.071571 \tValidation Loss: 0.688964\n",
      "Epoch: 247 \tTraining accuracy: 1.000000 \tValidation accuracy: 0.834212\n",
      "epoch =  248\n"
     ]
    },
    {
     "data": {
      "application/vnd.jupyter.widget-view+json": {
       "model_id": "8f3610b3728346de8fb4060ff0dffaae",
       "version_major": 2,
       "version_minor": 0
      },
      "text/plain": [
       "  0%|          | 0/62 [00:00<?, ?it/s]"
      ]
     },
     "metadata": {},
     "output_type": "display_data"
    },
    {
     "data": {
      "application/vnd.jupyter.widget-view+json": {
       "model_id": "a1d2d80e16d94113befbef787b0be183",
       "version_major": 2,
       "version_minor": 0
      },
      "text/plain": [
       "  0%|          | 0/31 [00:00<?, ?it/s]"
      ]
     },
     "metadata": {},
     "output_type": "display_data"
    },
    {
     "name": "stdout",
     "output_type": "stream",
     "text": [
      "Epoch: 248 \tTraining Loss: 0.071392 \tValidation Loss: 0.651070\n",
      "Epoch: 248 \tTraining accuracy: 1.000000 \tValidation accuracy: 0.834212\n",
      "epoch =  249\n"
     ]
    },
    {
     "data": {
      "application/vnd.jupyter.widget-view+json": {
       "model_id": "0880771c553649a1a375e37d0ff50ab4",
       "version_major": 2,
       "version_minor": 0
      },
      "text/plain": [
       "  0%|          | 0/62 [00:00<?, ?it/s]"
      ]
     },
     "metadata": {},
     "output_type": "display_data"
    },
    {
     "data": {
      "application/vnd.jupyter.widget-view+json": {
       "model_id": "2acb58c42ebf4889893303f27931e82a",
       "version_major": 2,
       "version_minor": 0
      },
      "text/plain": [
       "  0%|          | 0/31 [00:00<?, ?it/s]"
      ]
     },
     "metadata": {},
     "output_type": "display_data"
    },
    {
     "name": "stdout",
     "output_type": "stream",
     "text": [
      "Epoch: 249 \tTraining Loss: 0.074616 \tValidation Loss: 0.658900\n",
      "Epoch: 249 \tTraining accuracy: 1.000000 \tValidation accuracy: 0.844758\n",
      "epoch =  250\n"
     ]
    },
    {
     "data": {
      "application/vnd.jupyter.widget-view+json": {
       "model_id": "5c6c069b50694b4799e22d7f0576547b",
       "version_major": 2,
       "version_minor": 0
      },
      "text/plain": [
       "  0%|          | 0/62 [00:00<?, ?it/s]"
      ]
     },
     "metadata": {},
     "output_type": "display_data"
    },
    {
     "data": {
      "application/vnd.jupyter.widget-view+json": {
       "model_id": "8c9f9e0c55334ce5b6da855998f1f9af",
       "version_major": 2,
       "version_minor": 0
      },
      "text/plain": [
       "  0%|          | 0/31 [00:00<?, ?it/s]"
      ]
     },
     "metadata": {},
     "output_type": "display_data"
    },
    {
     "name": "stdout",
     "output_type": "stream",
     "text": [
      "Epoch: 250 \tTraining Loss: 0.071229 \tValidation Loss: 0.656859\n",
      "Epoch: 250 \tTraining accuracy: 0.999496 \tValidation accuracy: 0.839330\n",
      "epoch =  251\n"
     ]
    },
    {
     "data": {
      "application/vnd.jupyter.widget-view+json": {
       "model_id": "227f390d82f948419bba737dbf2608af",
       "version_major": 2,
       "version_minor": 0
      },
      "text/plain": [
       "  0%|          | 0/62 [00:00<?, ?it/s]"
      ]
     },
     "metadata": {},
     "output_type": "display_data"
    },
    {
     "data": {
      "application/vnd.jupyter.widget-view+json": {
       "model_id": "e5218b59efcc40a9bc8c34765bc55983",
       "version_major": 2,
       "version_minor": 0
      },
      "text/plain": [
       "  0%|          | 0/31 [00:00<?, ?it/s]"
      ]
     },
     "metadata": {},
     "output_type": "display_data"
    },
    {
     "name": "stdout",
     "output_type": "stream",
     "text": [
      "Epoch: 251 \tTraining Loss: 0.069444 \tValidation Loss: 0.689233\n",
      "Epoch: 251 \tTraining accuracy: 1.000000 \tValidation accuracy: 0.834833\n",
      "epoch =  252\n"
     ]
    },
    {
     "data": {
      "application/vnd.jupyter.widget-view+json": {
       "model_id": "580c048baac94694a7324629777808e8",
       "version_major": 2,
       "version_minor": 0
      },
      "text/plain": [
       "  0%|          | 0/62 [00:00<?, ?it/s]"
      ]
     },
     "metadata": {},
     "output_type": "display_data"
    },
    {
     "data": {
      "application/vnd.jupyter.widget-view+json": {
       "model_id": "4bbd6f2206a64496a5c295dd04ba0cb7",
       "version_major": 2,
       "version_minor": 0
      },
      "text/plain": [
       "  0%|          | 0/31 [00:00<?, ?it/s]"
      ]
     },
     "metadata": {},
     "output_type": "display_data"
    },
    {
     "name": "stdout",
     "output_type": "stream",
     "text": [
      "Epoch: 252 \tTraining Loss: 0.069483 \tValidation Loss: 0.716575\n",
      "Epoch: 252 \tTraining accuracy: 0.999496 \tValidation accuracy: 0.811104\n",
      "epoch =  253\n"
     ]
    },
    {
     "data": {
      "application/vnd.jupyter.widget-view+json": {
       "model_id": "a5c1f983ba2b4588bc9b67fe26e3568a",
       "version_major": 2,
       "version_minor": 0
      },
      "text/plain": [
       "  0%|          | 0/62 [00:00<?, ?it/s]"
      ]
     },
     "metadata": {},
     "output_type": "display_data"
    },
    {
     "data": {
      "application/vnd.jupyter.widget-view+json": {
       "model_id": "41f957887a8241d69fc0636c78f2908e",
       "version_major": 2,
       "version_minor": 0
      },
      "text/plain": [
       "  0%|          | 0/31 [00:00<?, ?it/s]"
      ]
     },
     "metadata": {},
     "output_type": "display_data"
    },
    {
     "name": "stdout",
     "output_type": "stream",
     "text": [
      "Epoch: 253 \tTraining Loss: 0.071764 \tValidation Loss: 0.715399\n",
      "Epoch: 253 \tTraining accuracy: 0.998992 \tValidation accuracy: 0.814051\n",
      "epoch =  254\n"
     ]
    },
    {
     "data": {
      "application/vnd.jupyter.widget-view+json": {
       "model_id": "a17e2725cf4f4366b40c5e807b185674",
       "version_major": 2,
       "version_minor": 0
      },
      "text/plain": [
       "  0%|          | 0/62 [00:00<?, ?it/s]"
      ]
     },
     "metadata": {},
     "output_type": "display_data"
    },
    {
     "data": {
      "application/vnd.jupyter.widget-view+json": {
       "model_id": "41c607aac74d475a89b84d4c75e9a22d",
       "version_major": 2,
       "version_minor": 0
      },
      "text/plain": [
       "  0%|          | 0/31 [00:00<?, ?it/s]"
      ]
     },
     "metadata": {},
     "output_type": "display_data"
    },
    {
     "name": "stdout",
     "output_type": "stream",
     "text": [
      "Epoch: 254 \tTraining Loss: 0.070217 \tValidation Loss: 0.673389\n",
      "Epoch: 254 \tTraining accuracy: 0.999496 \tValidation accuracy: 0.818548\n",
      "epoch =  255\n"
     ]
    },
    {
     "data": {
      "application/vnd.jupyter.widget-view+json": {
       "model_id": "dcfab58fc7b54dfcb8f0e2bdca401d4f",
       "version_major": 2,
       "version_minor": 0
      },
      "text/plain": [
       "  0%|          | 0/62 [00:00<?, ?it/s]"
      ]
     },
     "metadata": {},
     "output_type": "display_data"
    },
    {
     "data": {
      "application/vnd.jupyter.widget-view+json": {
       "model_id": "dd46f18bf2664dfb9cf8866199b42e0f",
       "version_major": 2,
       "version_minor": 0
      },
      "text/plain": [
       "  0%|          | 0/31 [00:00<?, ?it/s]"
      ]
     },
     "metadata": {},
     "output_type": "display_data"
    },
    {
     "name": "stdout",
     "output_type": "stream",
     "text": [
      "Epoch: 255 \tTraining Loss: 0.071546 \tValidation Loss: 0.679468\n",
      "Epoch: 255 \tTraining accuracy: 0.999496 \tValidation accuracy: 0.817153\n",
      "epoch =  256\n"
     ]
    },
    {
     "data": {
      "application/vnd.jupyter.widget-view+json": {
       "model_id": "644b5c93fbee458ab5cb558613319105",
       "version_major": 2,
       "version_minor": 0
      },
      "text/plain": [
       "  0%|          | 0/62 [00:00<?, ?it/s]"
      ]
     },
     "metadata": {},
     "output_type": "display_data"
    },
    {
     "data": {
      "application/vnd.jupyter.widget-view+json": {
       "model_id": "f182bcea454f41a296c9d63a1d1f56bc",
       "version_major": 2,
       "version_minor": 0
      },
      "text/plain": [
       "  0%|          | 0/31 [00:00<?, ?it/s]"
      ]
     },
     "metadata": {},
     "output_type": "display_data"
    },
    {
     "name": "stdout",
     "output_type": "stream",
     "text": [
      "Epoch: 256 \tTraining Loss: 0.067902 \tValidation Loss: 0.724151\n",
      "Epoch: 256 \tTraining accuracy: 1.000000 \tValidation accuracy: 0.803970\n",
      "epoch =  257\n"
     ]
    },
    {
     "data": {
      "application/vnd.jupyter.widget-view+json": {
       "model_id": "e6a04557fff04f3fb3cb8b66773efa88",
       "version_major": 2,
       "version_minor": 0
      },
      "text/plain": [
       "  0%|          | 0/62 [00:00<?, ?it/s]"
      ]
     },
     "metadata": {},
     "output_type": "display_data"
    },
    {
     "data": {
      "application/vnd.jupyter.widget-view+json": {
       "model_id": "be6a07c4c4524f84926d5eaf66361cd2",
       "version_major": 2,
       "version_minor": 0
      },
      "text/plain": [
       "  0%|          | 0/31 [00:00<?, ?it/s]"
      ]
     },
     "metadata": {},
     "output_type": "display_data"
    },
    {
     "name": "stdout",
     "output_type": "stream",
     "text": [
      "Epoch: 257 \tTraining Loss: 0.071735 \tValidation Loss: 0.692968\n",
      "Epoch: 257 \tTraining accuracy: 0.998992 \tValidation accuracy: 0.815136\n",
      "epoch =  258\n"
     ]
    },
    {
     "data": {
      "application/vnd.jupyter.widget-view+json": {
       "model_id": "6b8d69464ea84b57943279a2767f3370",
       "version_major": 2,
       "version_minor": 0
      },
      "text/plain": [
       "  0%|          | 0/62 [00:00<?, ?it/s]"
      ]
     },
     "metadata": {},
     "output_type": "display_data"
    },
    {
     "data": {
      "application/vnd.jupyter.widget-view+json": {
       "model_id": "5c4c76a876a14cf3885fe6fa36fdb569",
       "version_major": 2,
       "version_minor": 0
      },
      "text/plain": [
       "  0%|          | 0/31 [00:00<?, ?it/s]"
      ]
     },
     "metadata": {},
     "output_type": "display_data"
    },
    {
     "name": "stdout",
     "output_type": "stream",
     "text": [
      "Epoch: 258 \tTraining Loss: 0.070366 \tValidation Loss: 0.657417\n",
      "Epoch: 258 \tTraining accuracy: 0.999496 \tValidation accuracy: 0.825217\n",
      "epoch =  259\n"
     ]
    },
    {
     "data": {
      "application/vnd.jupyter.widget-view+json": {
       "model_id": "2ac6acac7e1249019d1581a34a25c582",
       "version_major": 2,
       "version_minor": 0
      },
      "text/plain": [
       "  0%|          | 0/62 [00:00<?, ?it/s]"
      ]
     },
     "metadata": {},
     "output_type": "display_data"
    },
    {
     "data": {
      "application/vnd.jupyter.widget-view+json": {
       "model_id": "e910ac9e7b484d39a17305848eacfb3b",
       "version_major": 2,
       "version_minor": 0
      },
      "text/plain": [
       "  0%|          | 0/31 [00:00<?, ?it/s]"
      ]
     },
     "metadata": {},
     "output_type": "display_data"
    },
    {
     "name": "stdout",
     "output_type": "stream",
     "text": [
      "Epoch: 259 \tTraining Loss: 0.072531 \tValidation Loss: 0.673218\n",
      "Epoch: 259 \tTraining accuracy: 0.998992 \tValidation accuracy: 0.829715\n",
      "epoch =  260\n"
     ]
    },
    {
     "data": {
      "application/vnd.jupyter.widget-view+json": {
       "model_id": "2c756a5ed8fa4898ae0acb536228291b",
       "version_major": 2,
       "version_minor": 0
      },
      "text/plain": [
       "  0%|          | 0/62 [00:00<?, ?it/s]"
      ]
     },
     "metadata": {},
     "output_type": "display_data"
    },
    {
     "data": {
      "application/vnd.jupyter.widget-view+json": {
       "model_id": "0772579b7ae14e308a45387d4f807cdc",
       "version_major": 2,
       "version_minor": 0
      },
      "text/plain": [
       "  0%|          | 0/31 [00:00<?, ?it/s]"
      ]
     },
     "metadata": {},
     "output_type": "display_data"
    },
    {
     "name": "stdout",
     "output_type": "stream",
     "text": [
      "Epoch: 260 \tTraining Loss: 0.067907 \tValidation Loss: 0.703270\n",
      "Epoch: 260 \tTraining accuracy: 1.000000 \tValidation accuracy: 0.815602\n",
      "epoch =  261\n"
     ]
    },
    {
     "data": {
      "application/vnd.jupyter.widget-view+json": {
       "model_id": "f3985240886b4245a61b29feb336e619",
       "version_major": 2,
       "version_minor": 0
      },
      "text/plain": [
       "  0%|          | 0/62 [00:00<?, ?it/s]"
      ]
     },
     "metadata": {},
     "output_type": "display_data"
    },
    {
     "data": {
      "application/vnd.jupyter.widget-view+json": {
       "model_id": "18264b54b5aa447a9d3131e407bb20db",
       "version_major": 2,
       "version_minor": 0
      },
      "text/plain": [
       "  0%|          | 0/31 [00:00<?, ?it/s]"
      ]
     },
     "metadata": {},
     "output_type": "display_data"
    },
    {
     "name": "stdout",
     "output_type": "stream",
     "text": [
      "Epoch: 261 \tTraining Loss: 0.070909 \tValidation Loss: 0.688636\n",
      "Epoch: 261 \tTraining accuracy: 1.000000 \tValidation accuracy: 0.826148\n",
      "epoch =  262\n"
     ]
    },
    {
     "data": {
      "application/vnd.jupyter.widget-view+json": {
       "model_id": "3cef0dbbb2274e96bfef03da275596dd",
       "version_major": 2,
       "version_minor": 0
      },
      "text/plain": [
       "  0%|          | 0/62 [00:00<?, ?it/s]"
      ]
     },
     "metadata": {},
     "output_type": "display_data"
    },
    {
     "data": {
      "application/vnd.jupyter.widget-view+json": {
       "model_id": "b800d1828d00460b9d7eddfabfb97588",
       "version_major": 2,
       "version_minor": 0
      },
      "text/plain": [
       "  0%|          | 0/31 [00:00<?, ?it/s]"
      ]
     },
     "metadata": {},
     "output_type": "display_data"
    },
    {
     "name": "stdout",
     "output_type": "stream",
     "text": [
      "Epoch: 262 \tTraining Loss: 0.065213 \tValidation Loss: 0.721557\n",
      "Epoch: 262 \tTraining accuracy: 1.000000 \tValidation accuracy: 0.805056\n",
      "epoch =  263\n"
     ]
    },
    {
     "data": {
      "application/vnd.jupyter.widget-view+json": {
       "model_id": "f15429901f574ce89c1088812842f9e5",
       "version_major": 2,
       "version_minor": 0
      },
      "text/plain": [
       "  0%|          | 0/62 [00:00<?, ?it/s]"
      ]
     },
     "metadata": {},
     "output_type": "display_data"
    },
    {
     "data": {
      "application/vnd.jupyter.widget-view+json": {
       "model_id": "8d5ab8361d08476ba2034dd3ba1a5793",
       "version_major": 2,
       "version_minor": 0
      },
      "text/plain": [
       "  0%|          | 0/31 [00:00<?, ?it/s]"
      ]
     },
     "metadata": {},
     "output_type": "display_data"
    },
    {
     "name": "stdout",
     "output_type": "stream",
     "text": [
      "Epoch: 263 \tTraining Loss: 0.071810 \tValidation Loss: 0.719294\n",
      "Epoch: 263 \tTraining accuracy: 0.999496 \tValidation accuracy: 0.808623\n",
      "epoch =  264\n"
     ]
    },
    {
     "data": {
      "application/vnd.jupyter.widget-view+json": {
       "model_id": "7bba23fdffa44632a813669d2ba0ab43",
       "version_major": 2,
       "version_minor": 0
      },
      "text/plain": [
       "  0%|          | 0/62 [00:00<?, ?it/s]"
      ]
     },
     "metadata": {},
     "output_type": "display_data"
    },
    {
     "data": {
      "application/vnd.jupyter.widget-view+json": {
       "model_id": "735245273ad74db6bc49bde1f930fa12",
       "version_major": 2,
       "version_minor": 0
      },
      "text/plain": [
       "  0%|          | 0/31 [00:00<?, ?it/s]"
      ]
     },
     "metadata": {},
     "output_type": "display_data"
    },
    {
     "name": "stdout",
     "output_type": "stream",
     "text": [
      "Epoch: 264 \tTraining Loss: 0.068200 \tValidation Loss: 0.730926\n",
      "Epoch: 264 \tTraining accuracy: 0.999496 \tValidation accuracy: 0.803970\n",
      "epoch =  265\n"
     ]
    },
    {
     "data": {
      "application/vnd.jupyter.widget-view+json": {
       "model_id": "04ddc5eea8cf49929284c1259e43bc61",
       "version_major": 2,
       "version_minor": 0
      },
      "text/plain": [
       "  0%|          | 0/62 [00:00<?, ?it/s]"
      ]
     },
     "metadata": {},
     "output_type": "display_data"
    },
    {
     "data": {
      "application/vnd.jupyter.widget-view+json": {
       "model_id": "7d2405fc53ab4b969041fe63ddb01662",
       "version_major": 2,
       "version_minor": 0
      },
      "text/plain": [
       "  0%|          | 0/31 [00:00<?, ?it/s]"
      ]
     },
     "metadata": {},
     "output_type": "display_data"
    },
    {
     "name": "stdout",
     "output_type": "stream",
     "text": [
      "Epoch: 265 \tTraining Loss: 0.071471 \tValidation Loss: 0.658347\n",
      "Epoch: 265 \tTraining accuracy: 0.999496 \tValidation accuracy: 0.831731\n",
      "epoch =  266\n"
     ]
    },
    {
     "data": {
      "application/vnd.jupyter.widget-view+json": {
       "model_id": "a3880dd4908a40adbfa724f886cdee8d",
       "version_major": 2,
       "version_minor": 0
      },
      "text/plain": [
       "  0%|          | 0/62 [00:00<?, ?it/s]"
      ]
     },
     "metadata": {},
     "output_type": "display_data"
    },
    {
     "data": {
      "application/vnd.jupyter.widget-view+json": {
       "model_id": "e749c2eacc2a4f23b4e316026e20b280",
       "version_major": 2,
       "version_minor": 0
      },
      "text/plain": [
       "  0%|          | 0/31 [00:00<?, ?it/s]"
      ]
     },
     "metadata": {},
     "output_type": "display_data"
    },
    {
     "name": "stdout",
     "output_type": "stream",
     "text": [
      "Epoch: 266 \tTraining Loss: 0.071350 \tValidation Loss: 0.730513\n",
      "Epoch: 266 \tTraining accuracy: 1.000000 \tValidation accuracy: 0.797146\n",
      "epoch =  267\n"
     ]
    },
    {
     "data": {
      "application/vnd.jupyter.widget-view+json": {
       "model_id": "e9eec289cce747ce9f6f0daaa26297ab",
       "version_major": 2,
       "version_minor": 0
      },
      "text/plain": [
       "  0%|          | 0/62 [00:00<?, ?it/s]"
      ]
     },
     "metadata": {},
     "output_type": "display_data"
    },
    {
     "data": {
      "application/vnd.jupyter.widget-view+json": {
       "model_id": "11a05f87fdcb4bdc8c22b81d76dad269",
       "version_major": 2,
       "version_minor": 0
      },
      "text/plain": [
       "  0%|          | 0/31 [00:00<?, ?it/s]"
      ]
     },
     "metadata": {},
     "output_type": "display_data"
    },
    {
     "name": "stdout",
     "output_type": "stream",
     "text": [
      "Epoch: 267 \tTraining Loss: 0.067849 \tValidation Loss: 0.711197\n",
      "Epoch: 267 \tTraining accuracy: 1.000000 \tValidation accuracy: 0.808158\n",
      "epoch =  268\n"
     ]
    },
    {
     "data": {
      "application/vnd.jupyter.widget-view+json": {
       "model_id": "6bc31b0a70614a62af0732df5ed685e7",
       "version_major": 2,
       "version_minor": 0
      },
      "text/plain": [
       "  0%|          | 0/62 [00:00<?, ?it/s]"
      ]
     },
     "metadata": {},
     "output_type": "display_data"
    },
    {
     "data": {
      "application/vnd.jupyter.widget-view+json": {
       "model_id": "3bdc72b4f9f645a39e7c94af6a0682c8",
       "version_major": 2,
       "version_minor": 0
      },
      "text/plain": [
       "  0%|          | 0/31 [00:00<?, ?it/s]"
      ]
     },
     "metadata": {},
     "output_type": "display_data"
    },
    {
     "name": "stdout",
     "output_type": "stream",
     "text": [
      "Epoch: 268 \tTraining Loss: 0.074268 \tValidation Loss: 0.707126\n",
      "Epoch: 268 \tTraining accuracy: 0.998992 \tValidation accuracy: 0.814671\n",
      "epoch =  269\n"
     ]
    },
    {
     "data": {
      "application/vnd.jupyter.widget-view+json": {
       "model_id": "c383a5b4a43c45089a922aacbee5efc5",
       "version_major": 2,
       "version_minor": 0
      },
      "text/plain": [
       "  0%|          | 0/62 [00:00<?, ?it/s]"
      ]
     },
     "metadata": {},
     "output_type": "display_data"
    },
    {
     "data": {
      "application/vnd.jupyter.widget-view+json": {
       "model_id": "7b94400e9e7446ecb9519ef4ae75b19f",
       "version_major": 2,
       "version_minor": 0
      },
      "text/plain": [
       "  0%|          | 0/31 [00:00<?, ?it/s]"
      ]
     },
     "metadata": {},
     "output_type": "display_data"
    },
    {
     "name": "stdout",
     "output_type": "stream",
     "text": [
      "Epoch: 269 \tTraining Loss: 0.072523 \tValidation Loss: 0.719230\n",
      "Epoch: 269 \tTraining accuracy: 0.998992 \tValidation accuracy: 0.809088\n",
      "epoch =  270\n"
     ]
    },
    {
     "data": {
      "application/vnd.jupyter.widget-view+json": {
       "model_id": "e327d5e91986495d83fd4a8a58cedd1d",
       "version_major": 2,
       "version_minor": 0
      },
      "text/plain": [
       "  0%|          | 0/62 [00:00<?, ?it/s]"
      ]
     },
     "metadata": {},
     "output_type": "display_data"
    },
    {
     "data": {
      "application/vnd.jupyter.widget-view+json": {
       "model_id": "e801d1f3df8f47f9a814d6372a66c251",
       "version_major": 2,
       "version_minor": 0
      },
      "text/plain": [
       "  0%|          | 0/31 [00:00<?, ?it/s]"
      ]
     },
     "metadata": {},
     "output_type": "display_data"
    },
    {
     "name": "stdout",
     "output_type": "stream",
     "text": [
      "Epoch: 270 \tTraining Loss: 0.069084 \tValidation Loss: 0.670067\n",
      "Epoch: 270 \tTraining accuracy: 0.999496 \tValidation accuracy: 0.825217\n",
      "epoch =  271\n"
     ]
    },
    {
     "data": {
      "application/vnd.jupyter.widget-view+json": {
       "model_id": "3bd8210f29f94a5d82f710b8f7ca304f",
       "version_major": 2,
       "version_minor": 0
      },
      "text/plain": [
       "  0%|          | 0/62 [00:00<?, ?it/s]"
      ]
     },
     "metadata": {},
     "output_type": "display_data"
    },
    {
     "data": {
      "application/vnd.jupyter.widget-view+json": {
       "model_id": "22e9758b06704d4a8ef6a829a300c604",
       "version_major": 2,
       "version_minor": 0
      },
      "text/plain": [
       "  0%|          | 0/31 [00:00<?, ?it/s]"
      ]
     },
     "metadata": {},
     "output_type": "display_data"
    },
    {
     "name": "stdout",
     "output_type": "stream",
     "text": [
      "Epoch: 271 \tTraining Loss: 0.074020 \tValidation Loss: 0.654953\n",
      "Epoch: 271 \tTraining accuracy: 1.000000 \tValidation accuracy: 0.828784\n",
      "epoch =  272\n"
     ]
    },
    {
     "data": {
      "application/vnd.jupyter.widget-view+json": {
       "model_id": "9f8c4357a20f40ab9d8af71f9dd6834e",
       "version_major": 2,
       "version_minor": 0
      },
      "text/plain": [
       "  0%|          | 0/62 [00:00<?, ?it/s]"
      ]
     },
     "metadata": {},
     "output_type": "display_data"
    },
    {
     "data": {
      "application/vnd.jupyter.widget-view+json": {
       "model_id": "0c8a5cf2b8304f95a22101dab93c6990",
       "version_major": 2,
       "version_minor": 0
      },
      "text/plain": [
       "  0%|          | 0/31 [00:00<?, ?it/s]"
      ]
     },
     "metadata": {},
     "output_type": "display_data"
    },
    {
     "name": "stdout",
     "output_type": "stream",
     "text": [
      "Epoch: 272 \tTraining Loss: 0.065702 \tValidation Loss: 0.687471\n",
      "Epoch: 272 \tTraining accuracy: 0.999496 \tValidation accuracy: 0.828784\n",
      "epoch =  273\n"
     ]
    },
    {
     "data": {
      "application/vnd.jupyter.widget-view+json": {
       "model_id": "d816a3b312e043f0a6044eb410eb2eee",
       "version_major": 2,
       "version_minor": 0
      },
      "text/plain": [
       "  0%|          | 0/62 [00:00<?, ?it/s]"
      ]
     },
     "metadata": {},
     "output_type": "display_data"
    },
    {
     "data": {
      "application/vnd.jupyter.widget-view+json": {
       "model_id": "883b05c88fe5430694f38104208b683c",
       "version_major": 2,
       "version_minor": 0
      },
      "text/plain": [
       "  0%|          | 0/31 [00:00<?, ?it/s]"
      ]
     },
     "metadata": {},
     "output_type": "display_data"
    },
    {
     "name": "stdout",
     "output_type": "stream",
     "text": [
      "Epoch: 273 \tTraining Loss: 0.071521 \tValidation Loss: 0.708858\n",
      "Epoch: 273 \tTraining accuracy: 0.998992 \tValidation accuracy: 0.815136\n",
      "epoch =  274\n"
     ]
    },
    {
     "data": {
      "application/vnd.jupyter.widget-view+json": {
       "model_id": "27ed180758d7476b9c7cadf9e64be186",
       "version_major": 2,
       "version_minor": 0
      },
      "text/plain": [
       "  0%|          | 0/62 [00:00<?, ?it/s]"
      ]
     },
     "metadata": {},
     "output_type": "display_data"
    },
    {
     "data": {
      "application/vnd.jupyter.widget-view+json": {
       "model_id": "6f77ea33310245a69a7d1659cba4a313",
       "version_major": 2,
       "version_minor": 0
      },
      "text/plain": [
       "  0%|          | 0/31 [00:00<?, ?it/s]"
      ]
     },
     "metadata": {},
     "output_type": "display_data"
    },
    {
     "name": "stdout",
     "output_type": "stream",
     "text": [
      "Epoch: 274 \tTraining Loss: 0.072765 \tValidation Loss: 0.661538\n",
      "Epoch: 274 \tTraining accuracy: 1.000000 \tValidation accuracy: 0.825682\n",
      "epoch =  275\n"
     ]
    },
    {
     "data": {
      "application/vnd.jupyter.widget-view+json": {
       "model_id": "e3a5745c74304de18eb19e91bc4249ab",
       "version_major": 2,
       "version_minor": 0
      },
      "text/plain": [
       "  0%|          | 0/62 [00:00<?, ?it/s]"
      ]
     },
     "metadata": {},
     "output_type": "display_data"
    },
    {
     "data": {
      "application/vnd.jupyter.widget-view+json": {
       "model_id": "c24f4cc462a0456685f84913e9ef22fe",
       "version_major": 2,
       "version_minor": 0
      },
      "text/plain": [
       "  0%|          | 0/31 [00:00<?, ?it/s]"
      ]
     },
     "metadata": {},
     "output_type": "display_data"
    },
    {
     "name": "stdout",
     "output_type": "stream",
     "text": [
      "Epoch: 275 \tTraining Loss: 0.072162 \tValidation Loss: 0.676724\n",
      "Epoch: 275 \tTraining accuracy: 1.000000 \tValidation accuracy: 0.833282\n",
      "epoch =  276\n"
     ]
    },
    {
     "data": {
      "application/vnd.jupyter.widget-view+json": {
       "model_id": "b8bd680a1bfd4eed9dd15d9a3171bda9",
       "version_major": 2,
       "version_minor": 0
      },
      "text/plain": [
       "  0%|          | 0/62 [00:00<?, ?it/s]"
      ]
     },
     "metadata": {},
     "output_type": "display_data"
    },
    {
     "data": {
      "application/vnd.jupyter.widget-view+json": {
       "model_id": "fc6db3c814d043b599238eeca83452b2",
       "version_major": 2,
       "version_minor": 0
      },
      "text/plain": [
       "  0%|          | 0/31 [00:00<?, ?it/s]"
      ]
     },
     "metadata": {},
     "output_type": "display_data"
    },
    {
     "name": "stdout",
     "output_type": "stream",
     "text": [
      "Epoch: 276 \tTraining Loss: 0.070937 \tValidation Loss: 0.695205\n",
      "Epoch: 276 \tTraining accuracy: 1.000000 \tValidation accuracy: 0.822115\n",
      "epoch =  277\n"
     ]
    },
    {
     "data": {
      "application/vnd.jupyter.widget-view+json": {
       "model_id": "09ce69397eba405ca230e701b958e2b0",
       "version_major": 2,
       "version_minor": 0
      },
      "text/plain": [
       "  0%|          | 0/62 [00:00<?, ?it/s]"
      ]
     },
     "metadata": {},
     "output_type": "display_data"
    },
    {
     "data": {
      "application/vnd.jupyter.widget-view+json": {
       "model_id": "7b73097b573b4f098edd5dc13983e04e",
       "version_major": 2,
       "version_minor": 0
      },
      "text/plain": [
       "  0%|          | 0/31 [00:00<?, ?it/s]"
      ]
     },
     "metadata": {},
     "output_type": "display_data"
    },
    {
     "name": "stdout",
     "output_type": "stream",
     "text": [
      "Epoch: 277 \tTraining Loss: 0.068082 \tValidation Loss: 0.658528\n",
      "Epoch: 277 \tTraining accuracy: 1.000000 \tValidation accuracy: 0.818083\n",
      "epoch =  278\n"
     ]
    },
    {
     "data": {
      "application/vnd.jupyter.widget-view+json": {
       "model_id": "d3975577a7144f81bb7660d0b031644b",
       "version_major": 2,
       "version_minor": 0
      },
      "text/plain": [
       "  0%|          | 0/62 [00:00<?, ?it/s]"
      ]
     },
     "metadata": {},
     "output_type": "display_data"
    },
    {
     "data": {
      "application/vnd.jupyter.widget-view+json": {
       "model_id": "ada8d13fe8fb41bc9ca4856857ea122e",
       "version_major": 2,
       "version_minor": 0
      },
      "text/plain": [
       "  0%|          | 0/31 [00:00<?, ?it/s]"
      ]
     },
     "metadata": {},
     "output_type": "display_data"
    },
    {
     "name": "stdout",
     "output_type": "stream",
     "text": [
      "Epoch: 278 \tTraining Loss: 0.066192 \tValidation Loss: 0.708002\n",
      "Epoch: 278 \tTraining accuracy: 1.000000 \tValidation accuracy: 0.808623\n",
      "epoch =  279\n"
     ]
    },
    {
     "data": {
      "application/vnd.jupyter.widget-view+json": {
       "model_id": "fe67fc403109473083494406e4912521",
       "version_major": 2,
       "version_minor": 0
      },
      "text/plain": [
       "  0%|          | 0/62 [00:00<?, ?it/s]"
      ]
     },
     "metadata": {},
     "output_type": "display_data"
    },
    {
     "data": {
      "application/vnd.jupyter.widget-view+json": {
       "model_id": "1d537e40b3ac45db865151f6c1028588",
       "version_major": 2,
       "version_minor": 0
      },
      "text/plain": [
       "  0%|          | 0/31 [00:00<?, ?it/s]"
      ]
     },
     "metadata": {},
     "output_type": "display_data"
    },
    {
     "name": "stdout",
     "output_type": "stream",
     "text": [
      "Epoch: 279 \tTraining Loss: 0.068365 \tValidation Loss: 0.748296\n",
      "Epoch: 279 \tTraining accuracy: 0.999496 \tValidation accuracy: 0.784895\n",
      "epoch =  280\n"
     ]
    },
    {
     "data": {
      "application/vnd.jupyter.widget-view+json": {
       "model_id": "9b043e12d6894240ad68210e1e839a31",
       "version_major": 2,
       "version_minor": 0
      },
      "text/plain": [
       "  0%|          | 0/62 [00:00<?, ?it/s]"
      ]
     },
     "metadata": {},
     "output_type": "display_data"
    },
    {
     "data": {
      "application/vnd.jupyter.widget-view+json": {
       "model_id": "fc158d1ef5854a61afef403847b08a4a",
       "version_major": 2,
       "version_minor": 0
      },
      "text/plain": [
       "  0%|          | 0/31 [00:00<?, ?it/s]"
      ]
     },
     "metadata": {},
     "output_type": "display_data"
    },
    {
     "name": "stdout",
     "output_type": "stream",
     "text": [
      "Epoch: 280 \tTraining Loss: 0.074325 \tValidation Loss: 0.681926\n",
      "Epoch: 280 \tTraining accuracy: 1.000000 \tValidation accuracy: 0.839330\n",
      "epoch =  281\n"
     ]
    },
    {
     "data": {
      "application/vnd.jupyter.widget-view+json": {
       "model_id": "c87db97d39334190aada666d22a67cf0",
       "version_major": 2,
       "version_minor": 0
      },
      "text/plain": [
       "  0%|          | 0/62 [00:00<?, ?it/s]"
      ]
     },
     "metadata": {},
     "output_type": "display_data"
    },
    {
     "data": {
      "application/vnd.jupyter.widget-view+json": {
       "model_id": "b705c6bcdf304369bd153d4d00f572a1",
       "version_major": 2,
       "version_minor": 0
      },
      "text/plain": [
       "  0%|          | 0/31 [00:00<?, ?it/s]"
      ]
     },
     "metadata": {},
     "output_type": "display_data"
    },
    {
     "name": "stdout",
     "output_type": "stream",
     "text": [
      "Epoch: 281 \tTraining Loss: 0.067718 \tValidation Loss: 0.642543\n",
      "Epoch: 281 \tTraining accuracy: 1.000000 \tValidation accuracy: 0.830180\n",
      "epoch =  282\n"
     ]
    },
    {
     "data": {
      "application/vnd.jupyter.widget-view+json": {
       "model_id": "2d762236ceeb4741b6009081642b2793",
       "version_major": 2,
       "version_minor": 0
      },
      "text/plain": [
       "  0%|          | 0/62 [00:00<?, ?it/s]"
      ]
     },
     "metadata": {},
     "output_type": "display_data"
    },
    {
     "data": {
      "application/vnd.jupyter.widget-view+json": {
       "model_id": "7afff7406708454fa5526e1be4176c9c",
       "version_major": 2,
       "version_minor": 0
      },
      "text/plain": [
       "  0%|          | 0/31 [00:00<?, ?it/s]"
      ]
     },
     "metadata": {},
     "output_type": "display_data"
    },
    {
     "name": "stdout",
     "output_type": "stream",
     "text": [
      "Epoch: 282 \tTraining Loss: 0.069664 \tValidation Loss: 0.742402\n",
      "Epoch: 282 \tTraining accuracy: 0.999496 \tValidation accuracy: 0.801024\n",
      "epoch =  283\n"
     ]
    },
    {
     "data": {
      "application/vnd.jupyter.widget-view+json": {
       "model_id": "217144decc40480e9f6471a9890a9568",
       "version_major": 2,
       "version_minor": 0
      },
      "text/plain": [
       "  0%|          | 0/62 [00:00<?, ?it/s]"
      ]
     },
     "metadata": {},
     "output_type": "display_data"
    },
    {
     "data": {
      "application/vnd.jupyter.widget-view+json": {
       "model_id": "7827aa248e2748e5b72d66707a7c11f9",
       "version_major": 2,
       "version_minor": 0
      },
      "text/plain": [
       "  0%|          | 0/31 [00:00<?, ?it/s]"
      ]
     },
     "metadata": {},
     "output_type": "display_data"
    },
    {
     "name": "stdout",
     "output_type": "stream",
     "text": [
      "Epoch: 283 \tTraining Loss: 0.071722 \tValidation Loss: 0.657313\n",
      "Epoch: 283 \tTraining accuracy: 0.998992 \tValidation accuracy: 0.832661\n",
      "epoch =  284\n"
     ]
    },
    {
     "data": {
      "application/vnd.jupyter.widget-view+json": {
       "model_id": "ab31966a1aa84d3f89ba6ed04ccca2b5",
       "version_major": 2,
       "version_minor": 0
      },
      "text/plain": [
       "  0%|          | 0/62 [00:00<?, ?it/s]"
      ]
     },
     "metadata": {},
     "output_type": "display_data"
    },
    {
     "data": {
      "application/vnd.jupyter.widget-view+json": {
       "model_id": "3683647a64574b0489fd50bd5ef698e5",
       "version_major": 2,
       "version_minor": 0
      },
      "text/plain": [
       "  0%|          | 0/31 [00:00<?, ?it/s]"
      ]
     },
     "metadata": {},
     "output_type": "display_data"
    },
    {
     "name": "stdout",
     "output_type": "stream",
     "text": [
      "Epoch: 284 \tTraining Loss: 0.075264 \tValidation Loss: 0.704386\n",
      "Epoch: 284 \tTraining accuracy: 0.999496 \tValidation accuracy: 0.813586\n",
      "epoch =  285\n"
     ]
    },
    {
     "data": {
      "application/vnd.jupyter.widget-view+json": {
       "model_id": "2f11fa782e104bc495e4c5f8a5dec52f",
       "version_major": 2,
       "version_minor": 0
      },
      "text/plain": [
       "  0%|          | 0/62 [00:00<?, ?it/s]"
      ]
     },
     "metadata": {},
     "output_type": "display_data"
    },
    {
     "data": {
      "application/vnd.jupyter.widget-view+json": {
       "model_id": "3b74db9eaad149e2afeed2387a9e5540",
       "version_major": 2,
       "version_minor": 0
      },
      "text/plain": [
       "  0%|          | 0/31 [00:00<?, ?it/s]"
      ]
     },
     "metadata": {},
     "output_type": "display_data"
    },
    {
     "name": "stdout",
     "output_type": "stream",
     "text": [
      "Epoch: 285 \tTraining Loss: 0.071658 \tValidation Loss: 0.672378\n",
      "Epoch: 285 \tTraining accuracy: 1.000000 \tValidation accuracy: 0.831731\n",
      "epoch =  286\n"
     ]
    },
    {
     "data": {
      "application/vnd.jupyter.widget-view+json": {
       "model_id": "95cd0471a72f4424851e5eca32836dab",
       "version_major": 2,
       "version_minor": 0
      },
      "text/plain": [
       "  0%|          | 0/62 [00:00<?, ?it/s]"
      ]
     },
     "metadata": {},
     "output_type": "display_data"
    },
    {
     "data": {
      "application/vnd.jupyter.widget-view+json": {
       "model_id": "2bd4b3e20cdc4c88b357856a673d9c6d",
       "version_major": 2,
       "version_minor": 0
      },
      "text/plain": [
       "  0%|          | 0/31 [00:00<?, ?it/s]"
      ]
     },
     "metadata": {},
     "output_type": "display_data"
    },
    {
     "name": "stdout",
     "output_type": "stream",
     "text": [
      "Epoch: 286 \tTraining Loss: 0.069189 \tValidation Loss: 0.699350\n",
      "Epoch: 286 \tTraining accuracy: 1.000000 \tValidation accuracy: 0.803505\n",
      "epoch =  287\n"
     ]
    },
    {
     "data": {
      "application/vnd.jupyter.widget-view+json": {
       "model_id": "dc5204407e254769a0fa1c00243e532d",
       "version_major": 2,
       "version_minor": 0
      },
      "text/plain": [
       "  0%|          | 0/62 [00:00<?, ?it/s]"
      ]
     },
     "metadata": {},
     "output_type": "display_data"
    },
    {
     "data": {
      "application/vnd.jupyter.widget-view+json": {
       "model_id": "96b0fe1e942f4b2db9797690afeb2fe9",
       "version_major": 2,
       "version_minor": 0
      },
      "text/plain": [
       "  0%|          | 0/31 [00:00<?, ?it/s]"
      ]
     },
     "metadata": {},
     "output_type": "display_data"
    },
    {
     "name": "stdout",
     "output_type": "stream",
     "text": [
      "Epoch: 287 \tTraining Loss: 0.069749 \tValidation Loss: 0.645529\n",
      "Epoch: 287 \tTraining accuracy: 0.998992 \tValidation accuracy: 0.841811\n",
      "epoch =  288\n"
     ]
    },
    {
     "data": {
      "application/vnd.jupyter.widget-view+json": {
       "model_id": "fdbe39130ee04bb9ae4184c3a3a661bf",
       "version_major": 2,
       "version_minor": 0
      },
      "text/plain": [
       "  0%|          | 0/62 [00:00<?, ?it/s]"
      ]
     },
     "metadata": {},
     "output_type": "display_data"
    },
    {
     "data": {
      "application/vnd.jupyter.widget-view+json": {
       "model_id": "ac5c7cab87ef4d0daf6c627b85108f2c",
       "version_major": 2,
       "version_minor": 0
      },
      "text/plain": [
       "  0%|          | 0/31 [00:00<?, ?it/s]"
      ]
     },
     "metadata": {},
     "output_type": "display_data"
    },
    {
     "name": "stdout",
     "output_type": "stream",
     "text": [
      "Epoch: 288 \tTraining Loss: 0.069094 \tValidation Loss: 0.655523\n",
      "Epoch: 288 \tTraining accuracy: 1.000000 \tValidation accuracy: 0.822115\n",
      "epoch =  289\n"
     ]
    },
    {
     "data": {
      "application/vnd.jupyter.widget-view+json": {
       "model_id": "9c97e62b14c54b8694ce1e45b61d79d6",
       "version_major": 2,
       "version_minor": 0
      },
      "text/plain": [
       "  0%|          | 0/62 [00:00<?, ?it/s]"
      ]
     },
     "metadata": {},
     "output_type": "display_data"
    },
    {
     "data": {
      "application/vnd.jupyter.widget-view+json": {
       "model_id": "619e1f0f5a31483da8ef290568ac70cf",
       "version_major": 2,
       "version_minor": 0
      },
      "text/plain": [
       "  0%|          | 0/31 [00:00<?, ?it/s]"
      ]
     },
     "metadata": {},
     "output_type": "display_data"
    },
    {
     "name": "stdout",
     "output_type": "stream",
     "text": [
      "Epoch: 289 \tTraining Loss: 0.064852 \tValidation Loss: 0.710710\n",
      "Epoch: 289 \tTraining accuracy: 0.998992 \tValidation accuracy: 0.829715\n",
      "epoch =  290\n"
     ]
    },
    {
     "data": {
      "application/vnd.jupyter.widget-view+json": {
       "model_id": "7d913b4cb3554944906aa5727e52550c",
       "version_major": 2,
       "version_minor": 0
      },
      "text/plain": [
       "  0%|          | 0/62 [00:00<?, ?it/s]"
      ]
     },
     "metadata": {},
     "output_type": "display_data"
    },
    {
     "data": {
      "application/vnd.jupyter.widget-view+json": {
       "model_id": "53f902082dc943369d7e83e9988be744",
       "version_major": 2,
       "version_minor": 0
      },
      "text/plain": [
       "  0%|          | 0/31 [00:00<?, ?it/s]"
      ]
     },
     "metadata": {},
     "output_type": "display_data"
    },
    {
     "name": "stdout",
     "output_type": "stream",
     "text": [
      "Epoch: 290 \tTraining Loss: 0.071116 \tValidation Loss: 0.690534\n",
      "Epoch: 290 \tTraining accuracy: 0.999299 \tValidation accuracy: 0.808002\n",
      "epoch =  291\n"
     ]
    },
    {
     "data": {
      "application/vnd.jupyter.widget-view+json": {
       "model_id": "a5c8453b760e43109fd305c1948f5c4a",
       "version_major": 2,
       "version_minor": 0
      },
      "text/plain": [
       "  0%|          | 0/62 [00:00<?, ?it/s]"
      ]
     },
     "metadata": {},
     "output_type": "display_data"
    },
    {
     "data": {
      "application/vnd.jupyter.widget-view+json": {
       "model_id": "6fbe49fca1fe419c952f29cd1f064974",
       "version_major": 2,
       "version_minor": 0
      },
      "text/plain": [
       "  0%|          | 0/31 [00:00<?, ?it/s]"
      ]
     },
     "metadata": {},
     "output_type": "display_data"
    },
    {
     "name": "stdout",
     "output_type": "stream",
     "text": [
      "Epoch: 291 \tTraining Loss: 0.070846 \tValidation Loss: 0.698851\n",
      "Epoch: 291 \tTraining accuracy: 0.998992 \tValidation accuracy: 0.831266\n",
      "epoch =  292\n"
     ]
    },
    {
     "data": {
      "application/vnd.jupyter.widget-view+json": {
       "model_id": "666739b9516344b7b6162d4446b1b0b3",
       "version_major": 2,
       "version_minor": 0
      },
      "text/plain": [
       "  0%|          | 0/62 [00:00<?, ?it/s]"
      ]
     },
     "metadata": {},
     "output_type": "display_data"
    },
    {
     "data": {
      "application/vnd.jupyter.widget-view+json": {
       "model_id": "5158885249be45be90f4460c5717d351",
       "version_major": 2,
       "version_minor": 0
      },
      "text/plain": [
       "  0%|          | 0/31 [00:00<?, ?it/s]"
      ]
     },
     "metadata": {},
     "output_type": "display_data"
    },
    {
     "name": "stdout",
     "output_type": "stream",
     "text": [
      "Epoch: 292 \tTraining Loss: 0.070648 \tValidation Loss: 0.686248\n",
      "Epoch: 292 \tTraining accuracy: 1.000000 \tValidation accuracy: 0.822115\n",
      "epoch =  293\n"
     ]
    },
    {
     "data": {
      "application/vnd.jupyter.widget-view+json": {
       "model_id": "1b42e71e6a6a44afb5b895df954d2b38",
       "version_major": 2,
       "version_minor": 0
      },
      "text/plain": [
       "  0%|          | 0/62 [00:00<?, ?it/s]"
      ]
     },
     "metadata": {},
     "output_type": "display_data"
    },
    {
     "data": {
      "application/vnd.jupyter.widget-view+json": {
       "model_id": "56cf448a79bc43d199d21ccc67058578",
       "version_major": 2,
       "version_minor": 0
      },
      "text/plain": [
       "  0%|          | 0/31 [00:00<?, ?it/s]"
      ]
     },
     "metadata": {},
     "output_type": "display_data"
    },
    {
     "name": "stdout",
     "output_type": "stream",
     "text": [
      "Epoch: 293 \tTraining Loss: 0.068694 \tValidation Loss: 0.681716\n",
      "Epoch: 293 \tTraining accuracy: 0.999496 \tValidation accuracy: 0.834677\n",
      "epoch =  294\n"
     ]
    },
    {
     "data": {
      "application/vnd.jupyter.widget-view+json": {
       "model_id": "81540b703110458eb8dd27847968ff9b",
       "version_major": 2,
       "version_minor": 0
      },
      "text/plain": [
       "  0%|          | 0/62 [00:00<?, ?it/s]"
      ]
     },
     "metadata": {},
     "output_type": "display_data"
    },
    {
     "data": {
      "application/vnd.jupyter.widget-view+json": {
       "model_id": "4686ed45ebe64983a66d4c60feba942d",
       "version_major": 2,
       "version_minor": 0
      },
      "text/plain": [
       "  0%|          | 0/31 [00:00<?, ?it/s]"
      ]
     },
     "metadata": {},
     "output_type": "display_data"
    },
    {
     "name": "stdout",
     "output_type": "stream",
     "text": [
      "Epoch: 294 \tTraining Loss: 0.070248 \tValidation Loss: 0.695778\n",
      "Epoch: 294 \tTraining accuracy: 0.999496 \tValidation accuracy: 0.814051\n",
      "epoch =  295\n"
     ]
    },
    {
     "data": {
      "application/vnd.jupyter.widget-view+json": {
       "model_id": "5a132d8993c04f918cdee90fcc87ed38",
       "version_major": 2,
       "version_minor": 0
      },
      "text/plain": [
       "  0%|          | 0/62 [00:00<?, ?it/s]"
      ]
     },
     "metadata": {},
     "output_type": "display_data"
    },
    {
     "data": {
      "application/vnd.jupyter.widget-view+json": {
       "model_id": "8ccc952147604358a16fed3b95363439",
       "version_major": 2,
       "version_minor": 0
      },
      "text/plain": [
       "  0%|          | 0/31 [00:00<?, ?it/s]"
      ]
     },
     "metadata": {},
     "output_type": "display_data"
    },
    {
     "name": "stdout",
     "output_type": "stream",
     "text": [
      "Epoch: 295 \tTraining Loss: 0.067291 \tValidation Loss: 0.723582\n",
      "Epoch: 295 \tTraining accuracy: 1.000000 \tValidation accuracy: 0.817153\n",
      "epoch =  296\n"
     ]
    },
    {
     "data": {
      "application/vnd.jupyter.widget-view+json": {
       "model_id": "18fcc14c8aae4251b552293dc7a0a7a4",
       "version_major": 2,
       "version_minor": 0
      },
      "text/plain": [
       "  0%|          | 0/62 [00:00<?, ?it/s]"
      ]
     },
     "metadata": {},
     "output_type": "display_data"
    },
    {
     "data": {
      "application/vnd.jupyter.widget-view+json": {
       "model_id": "a675b31d8a7d418c827df5dc2afb19d1",
       "version_major": 2,
       "version_minor": 0
      },
      "text/plain": [
       "  0%|          | 0/31 [00:00<?, ?it/s]"
      ]
     },
     "metadata": {},
     "output_type": "display_data"
    },
    {
     "name": "stdout",
     "output_type": "stream",
     "text": [
      "Epoch: 296 \tTraining Loss: 0.068575 \tValidation Loss: 0.756458\n",
      "Epoch: 296 \tTraining accuracy: 0.999496 \tValidation accuracy: 0.770316\n",
      "epoch =  297\n"
     ]
    },
    {
     "data": {
      "application/vnd.jupyter.widget-view+json": {
       "model_id": "2be68201d2494f65ab12c4af6b55966b",
       "version_major": 2,
       "version_minor": 0
      },
      "text/plain": [
       "  0%|          | 0/62 [00:00<?, ?it/s]"
      ]
     },
     "metadata": {},
     "output_type": "display_data"
    },
    {
     "data": {
      "application/vnd.jupyter.widget-view+json": {
       "model_id": "1b20413ab2b34a5f8bdb83013f1ff546",
       "version_major": 2,
       "version_minor": 0
      },
      "text/plain": [
       "  0%|          | 0/31 [00:00<?, ?it/s]"
      ]
     },
     "metadata": {},
     "output_type": "display_data"
    },
    {
     "name": "stdout",
     "output_type": "stream",
     "text": [
      "Epoch: 297 \tTraining Loss: 0.067218 \tValidation Loss: 0.656485\n",
      "Epoch: 297 \tTraining accuracy: 1.000000 \tValidation accuracy: 0.831731\n",
      "epoch =  298\n"
     ]
    },
    {
     "data": {
      "application/vnd.jupyter.widget-view+json": {
       "model_id": "95991cb47e0b4a4d92df5bbb0930cb1b",
       "version_major": 2,
       "version_minor": 0
      },
      "text/plain": [
       "  0%|          | 0/62 [00:00<?, ?it/s]"
      ]
     },
     "metadata": {},
     "output_type": "display_data"
    },
    {
     "data": {
      "application/vnd.jupyter.widget-view+json": {
       "model_id": "42278ce4a33c4524b79d0cde8b0c3590",
       "version_major": 2,
       "version_minor": 0
      },
      "text/plain": [
       "  0%|          | 0/31 [00:00<?, ?it/s]"
      ]
     },
     "metadata": {},
     "output_type": "display_data"
    },
    {
     "name": "stdout",
     "output_type": "stream",
     "text": [
      "Epoch: 298 \tTraining Loss: 0.070114 \tValidation Loss: 0.694564\n",
      "Epoch: 298 \tTraining accuracy: 0.998992 \tValidation accuracy: 0.831266\n",
      "epoch =  299\n"
     ]
    },
    {
     "data": {
      "application/vnd.jupyter.widget-view+json": {
       "model_id": "a7318fe3db734434b104ba908209ba13",
       "version_major": 2,
       "version_minor": 0
      },
      "text/plain": [
       "  0%|          | 0/62 [00:00<?, ?it/s]"
      ]
     },
     "metadata": {},
     "output_type": "display_data"
    },
    {
     "data": {
      "application/vnd.jupyter.widget-view+json": {
       "model_id": "e0cc4c3406a64b329b9c6b83e395ab03",
       "version_major": 2,
       "version_minor": 0
      },
      "text/plain": [
       "  0%|          | 0/31 [00:00<?, ?it/s]"
      ]
     },
     "metadata": {},
     "output_type": "display_data"
    },
    {
     "name": "stdout",
     "output_type": "stream",
     "text": [
      "Epoch: 299 \tTraining Loss: 0.068286 \tValidation Loss: 0.683927\n",
      "Epoch: 299 \tTraining accuracy: 0.999496 \tValidation accuracy: 0.829715\n",
      "epoch =  300\n"
     ]
    },
    {
     "data": {
      "application/vnd.jupyter.widget-view+json": {
       "model_id": "a3a45e5d88304bf38f9abba916444624",
       "version_major": 2,
       "version_minor": 0
      },
      "text/plain": [
       "  0%|          | 0/62 [00:00<?, ?it/s]"
      ]
     },
     "metadata": {},
     "output_type": "display_data"
    },
    {
     "data": {
      "application/vnd.jupyter.widget-view+json": {
       "model_id": "d2143065432240099f71757c06bcd474",
       "version_major": 2,
       "version_minor": 0
      },
      "text/plain": [
       "  0%|          | 0/31 [00:00<?, ?it/s]"
      ]
     },
     "metadata": {},
     "output_type": "display_data"
    },
    {
     "name": "stdout",
     "output_type": "stream",
     "text": [
      "Epoch: 300 \tTraining Loss: 0.065490 \tValidation Loss: 0.713549\n",
      "Epoch: 300 \tTraining accuracy: 0.999496 \tValidation accuracy: 0.822115\n",
      "epoch =  301\n"
     ]
    },
    {
     "data": {
      "application/vnd.jupyter.widget-view+json": {
       "model_id": "546bd0271ca7441492b9b0bdcafe44e0",
       "version_major": 2,
       "version_minor": 0
      },
      "text/plain": [
       "  0%|          | 0/62 [00:00<?, ?it/s]"
      ]
     },
     "metadata": {},
     "output_type": "display_data"
    },
    {
     "data": {
      "application/vnd.jupyter.widget-view+json": {
       "model_id": "7065dd5558794a84bbf394d3cbddba51",
       "version_major": 2,
       "version_minor": 0
      },
      "text/plain": [
       "  0%|          | 0/31 [00:00<?, ?it/s]"
      ]
     },
     "metadata": {},
     "output_type": "display_data"
    },
    {
     "name": "stdout",
     "output_type": "stream",
     "text": [
      "Epoch: 301 \tTraining Loss: 0.067916 \tValidation Loss: 0.711334\n",
      "Epoch: 301 \tTraining accuracy: 1.000000 \tValidation accuracy: 0.798077\n",
      "epoch =  302\n"
     ]
    },
    {
     "data": {
      "application/vnd.jupyter.widget-view+json": {
       "model_id": "e5ffab10190a43758212f1093012e146",
       "version_major": 2,
       "version_minor": 0
      },
      "text/plain": [
       "  0%|          | 0/62 [00:00<?, ?it/s]"
      ]
     },
     "metadata": {},
     "output_type": "display_data"
    },
    {
     "data": {
      "application/vnd.jupyter.widget-view+json": {
       "model_id": "918a5a2c66be4befa805b76b32b47311",
       "version_major": 2,
       "version_minor": 0
      },
      "text/plain": [
       "  0%|          | 0/31 [00:00<?, ?it/s]"
      ]
     },
     "metadata": {},
     "output_type": "display_data"
    },
    {
     "name": "stdout",
     "output_type": "stream",
     "text": [
      "Epoch: 302 \tTraining Loss: 0.072260 \tValidation Loss: 0.709703\n",
      "Epoch: 302 \tTraining accuracy: 0.999496 \tValidation accuracy: 0.801024\n",
      "epoch =  303\n"
     ]
    },
    {
     "data": {
      "application/vnd.jupyter.widget-view+json": {
       "model_id": "8d504977a7e543d5a18a822334632840",
       "version_major": 2,
       "version_minor": 0
      },
      "text/plain": [
       "  0%|          | 0/62 [00:00<?, ?it/s]"
      ]
     },
     "metadata": {},
     "output_type": "display_data"
    },
    {
     "data": {
      "application/vnd.jupyter.widget-view+json": {
       "model_id": "c58231a33c7c4d51975bd3ff3aa9018f",
       "version_major": 2,
       "version_minor": 0
      },
      "text/plain": [
       "  0%|          | 0/31 [00:00<?, ?it/s]"
      ]
     },
     "metadata": {},
     "output_type": "display_data"
    },
    {
     "name": "stdout",
     "output_type": "stream",
     "text": [
      "Epoch: 303 \tTraining Loss: 0.073063 \tValidation Loss: 0.734664\n",
      "Epoch: 303 \tTraining accuracy: 1.000000 \tValidation accuracy: 0.795906\n",
      "epoch =  304\n"
     ]
    },
    {
     "data": {
      "application/vnd.jupyter.widget-view+json": {
       "model_id": "50465ffa37614f96967edc560b862731",
       "version_major": 2,
       "version_minor": 0
      },
      "text/plain": [
       "  0%|          | 0/62 [00:00<?, ?it/s]"
      ]
     },
     "metadata": {},
     "output_type": "display_data"
    },
    {
     "data": {
      "application/vnd.jupyter.widget-view+json": {
       "model_id": "dad186a233ed4c53a5075ddc255f7be7",
       "version_major": 2,
       "version_minor": 0
      },
      "text/plain": [
       "  0%|          | 0/31 [00:00<?, ?it/s]"
      ]
     },
     "metadata": {},
     "output_type": "display_data"
    },
    {
     "name": "stdout",
     "output_type": "stream",
     "text": [
      "Epoch: 304 \tTraining Loss: 0.070819 \tValidation Loss: 0.665297\n",
      "Epoch: 304 \tTraining accuracy: 0.998795 \tValidation accuracy: 0.845844\n",
      "epoch =  305\n"
     ]
    },
    {
     "data": {
      "application/vnd.jupyter.widget-view+json": {
       "model_id": "843772453ae1472394b86f2d30d999e4",
       "version_major": 2,
       "version_minor": 0
      },
      "text/plain": [
       "  0%|          | 0/62 [00:00<?, ?it/s]"
      ]
     },
     "metadata": {},
     "output_type": "display_data"
    },
    {
     "data": {
      "application/vnd.jupyter.widget-view+json": {
       "model_id": "2db58b3193264722b49272f269e1abe0",
       "version_major": 2,
       "version_minor": 0
      },
      "text/plain": [
       "  0%|          | 0/31 [00:00<?, ?it/s]"
      ]
     },
     "metadata": {},
     "output_type": "display_data"
    },
    {
     "name": "stdout",
     "output_type": "stream",
     "text": [
      "Epoch: 305 \tTraining Loss: 0.067782 \tValidation Loss: 0.688891\n",
      "Epoch: 305 \tTraining accuracy: 1.000000 \tValidation accuracy: 0.803040\n",
      "epoch =  306\n"
     ]
    },
    {
     "data": {
      "application/vnd.jupyter.widget-view+json": {
       "model_id": "148fc8ba9a6b4d958914d80ae0824b56",
       "version_major": 2,
       "version_minor": 0
      },
      "text/plain": [
       "  0%|          | 0/62 [00:00<?, ?it/s]"
      ]
     },
     "metadata": {},
     "output_type": "display_data"
    },
    {
     "data": {
      "application/vnd.jupyter.widget-view+json": {
       "model_id": "907da3635d6a4aac9d3b7a84376b4601",
       "version_major": 2,
       "version_minor": 0
      },
      "text/plain": [
       "  0%|          | 0/31 [00:00<?, ?it/s]"
      ]
     },
     "metadata": {},
     "output_type": "display_data"
    },
    {
     "name": "stdout",
     "output_type": "stream",
     "text": [
      "Epoch: 306 \tTraining Loss: 0.067870 \tValidation Loss: 0.630252\n",
      "Epoch: 306 \tTraining accuracy: 1.000000 \tValidation accuracy: 0.841811\n",
      "epoch =  307\n"
     ]
    },
    {
     "data": {
      "application/vnd.jupyter.widget-view+json": {
       "model_id": "e134eeb2f0d448009547d50cc457f6cf",
       "version_major": 2,
       "version_minor": 0
      },
      "text/plain": [
       "  0%|          | 0/62 [00:00<?, ?it/s]"
      ]
     },
     "metadata": {},
     "output_type": "display_data"
    },
    {
     "data": {
      "application/vnd.jupyter.widget-view+json": {
       "model_id": "509dce27832f43c5b85f3c7fc12fac5b",
       "version_major": 2,
       "version_minor": 0
      },
      "text/plain": [
       "  0%|          | 0/31 [00:00<?, ?it/s]"
      ]
     },
     "metadata": {},
     "output_type": "display_data"
    },
    {
     "name": "stdout",
     "output_type": "stream",
     "text": [
      "Epoch: 307 \tTraining Loss: 0.068658 \tValidation Loss: 0.687532\n",
      "Epoch: 307 \tTraining accuracy: 0.998488 \tValidation accuracy: 0.815136\n",
      "epoch =  308\n"
     ]
    },
    {
     "data": {
      "application/vnd.jupyter.widget-view+json": {
       "model_id": "1fbef75ca43d45828b5af0e8833b9fb8",
       "version_major": 2,
       "version_minor": 0
      },
      "text/plain": [
       "  0%|          | 0/62 [00:00<?, ?it/s]"
      ]
     },
     "metadata": {},
     "output_type": "display_data"
    },
    {
     "data": {
      "application/vnd.jupyter.widget-view+json": {
       "model_id": "598d53743f5647b79cb7ba0ae01b508b",
       "version_major": 2,
       "version_minor": 0
      },
      "text/plain": [
       "  0%|          | 0/31 [00:00<?, ?it/s]"
      ]
     },
     "metadata": {},
     "output_type": "display_data"
    },
    {
     "name": "stdout",
     "output_type": "stream",
     "text": [
      "Epoch: 308 \tTraining Loss: 0.066002 \tValidation Loss: 0.695385\n",
      "Epoch: 308 \tTraining accuracy: 0.999496 \tValidation accuracy: 0.825682\n",
      "epoch =  309\n"
     ]
    },
    {
     "data": {
      "application/vnd.jupyter.widget-view+json": {
       "model_id": "eb4f3a8878b34aa39f098e0cfa2b946a",
       "version_major": 2,
       "version_minor": 0
      },
      "text/plain": [
       "  0%|          | 0/62 [00:00<?, ?it/s]"
      ]
     },
     "metadata": {},
     "output_type": "display_data"
    },
    {
     "data": {
      "application/vnd.jupyter.widget-view+json": {
       "model_id": "f6e585da012a4df58cc5cfa05c07b037",
       "version_major": 2,
       "version_minor": 0
      },
      "text/plain": [
       "  0%|          | 0/31 [00:00<?, ?it/s]"
      ]
     },
     "metadata": {},
     "output_type": "display_data"
    },
    {
     "name": "stdout",
     "output_type": "stream",
     "text": [
      "Epoch: 309 \tTraining Loss: 0.066283 \tValidation Loss: 0.659786\n",
      "Epoch: 309 \tTraining accuracy: 1.000000 \tValidation accuracy: 0.814051\n",
      "epoch =  310\n"
     ]
    },
    {
     "data": {
      "application/vnd.jupyter.widget-view+json": {
       "model_id": "2462f1b9acd04acd80f372303a04ca71",
       "version_major": 2,
       "version_minor": 0
      },
      "text/plain": [
       "  0%|          | 0/62 [00:00<?, ?it/s]"
      ]
     },
     "metadata": {},
     "output_type": "display_data"
    },
    {
     "data": {
      "application/vnd.jupyter.widget-view+json": {
       "model_id": "bec2a0ea5ed24d45913de095fba5c271",
       "version_major": 2,
       "version_minor": 0
      },
      "text/plain": [
       "  0%|          | 0/31 [00:00<?, ?it/s]"
      ]
     },
     "metadata": {},
     "output_type": "display_data"
    },
    {
     "name": "stdout",
     "output_type": "stream",
     "text": [
      "Epoch: 310 \tTraining Loss: 0.068310 \tValidation Loss: 0.729781\n",
      "Epoch: 310 \tTraining accuracy: 0.999496 \tValidation accuracy: 0.819634\n",
      "epoch =  311\n"
     ]
    },
    {
     "data": {
      "application/vnd.jupyter.widget-view+json": {
       "model_id": "8a8c41c884b941499feaf70e3aa2732b",
       "version_major": 2,
       "version_minor": 0
      },
      "text/plain": [
       "  0%|          | 0/62 [00:00<?, ?it/s]"
      ]
     },
     "metadata": {},
     "output_type": "display_data"
    },
    {
     "data": {
      "application/vnd.jupyter.widget-view+json": {
       "model_id": "d3ceb579c88843dd9314c63d099fe94e",
       "version_major": 2,
       "version_minor": 0
      },
      "text/plain": [
       "  0%|          | 0/31 [00:00<?, ?it/s]"
      ]
     },
     "metadata": {},
     "output_type": "display_data"
    },
    {
     "name": "stdout",
     "output_type": "stream",
     "text": [
      "Epoch: 311 \tTraining Loss: 0.068103 \tValidation Loss: 0.686299\n",
      "Epoch: 311 \tTraining accuracy: 1.000000 \tValidation accuracy: 0.827854\n",
      "epoch =  312\n"
     ]
    },
    {
     "data": {
      "application/vnd.jupyter.widget-view+json": {
       "model_id": "5ee10fd9a952424387a18c509ecd9d78",
       "version_major": 2,
       "version_minor": 0
      },
      "text/plain": [
       "  0%|          | 0/62 [00:00<?, ?it/s]"
      ]
     },
     "metadata": {},
     "output_type": "display_data"
    },
    {
     "data": {
      "application/vnd.jupyter.widget-view+json": {
       "model_id": "0dd841de405c493ba270b5c73c112fee",
       "version_major": 2,
       "version_minor": 0
      },
      "text/plain": [
       "  0%|          | 0/31 [00:00<?, ?it/s]"
      ]
     },
     "metadata": {},
     "output_type": "display_data"
    },
    {
     "name": "stdout",
     "output_type": "stream",
     "text": [
      "Epoch: 312 \tTraining Loss: 0.074460 \tValidation Loss: 0.714182\n",
      "Epoch: 312 \tTraining accuracy: 0.999496 \tValidation accuracy: 0.813120\n",
      "epoch =  313\n"
     ]
    },
    {
     "data": {
      "application/vnd.jupyter.widget-view+json": {
       "model_id": "fbb31a42ae55446c9e05daac666b8114",
       "version_major": 2,
       "version_minor": 0
      },
      "text/plain": [
       "  0%|          | 0/62 [00:00<?, ?it/s]"
      ]
     },
     "metadata": {},
     "output_type": "display_data"
    },
    {
     "data": {
      "application/vnd.jupyter.widget-view+json": {
       "model_id": "e80eb8382e64411eb688f78593fd21ba",
       "version_major": 2,
       "version_minor": 0
      },
      "text/plain": [
       "  0%|          | 0/31 [00:00<?, ?it/s]"
      ]
     },
     "metadata": {},
     "output_type": "display_data"
    },
    {
     "name": "stdout",
     "output_type": "stream",
     "text": [
      "Epoch: 313 \tTraining Loss: 0.072481 \tValidation Loss: 0.659928\n",
      "Epoch: 313 \tTraining accuracy: 0.999496 \tValidation accuracy: 0.829249\n",
      "epoch =  314\n"
     ]
    },
    {
     "data": {
      "application/vnd.jupyter.widget-view+json": {
       "model_id": "33704d4d310b4de887b26fadd1235a10",
       "version_major": 2,
       "version_minor": 0
      },
      "text/plain": [
       "  0%|          | 0/62 [00:00<?, ?it/s]"
      ]
     },
     "metadata": {},
     "output_type": "display_data"
    },
    {
     "data": {
      "application/vnd.jupyter.widget-view+json": {
       "model_id": "1d583289109346ac98965dcedd590e35",
       "version_major": 2,
       "version_minor": 0
      },
      "text/plain": [
       "  0%|          | 0/31 [00:00<?, ?it/s]"
      ]
     },
     "metadata": {},
     "output_type": "display_data"
    },
    {
     "name": "stdout",
     "output_type": "stream",
     "text": [
      "Epoch: 314 \tTraining Loss: 0.067096 \tValidation Loss: 0.664094\n",
      "Epoch: 314 \tTraining accuracy: 1.000000 \tValidation accuracy: 0.826613\n",
      "epoch =  315\n"
     ]
    },
    {
     "data": {
      "application/vnd.jupyter.widget-view+json": {
       "model_id": "60202347e40a4ae38d3e1968cd29efbd",
       "version_major": 2,
       "version_minor": 0
      },
      "text/plain": [
       "  0%|          | 0/62 [00:00<?, ?it/s]"
      ]
     },
     "metadata": {},
     "output_type": "display_data"
    },
    {
     "data": {
      "application/vnd.jupyter.widget-view+json": {
       "model_id": "634ada23cb3243d28676c4f80911bade",
       "version_major": 2,
       "version_minor": 0
      },
      "text/plain": [
       "  0%|          | 0/31 [00:00<?, ?it/s]"
      ]
     },
     "metadata": {},
     "output_type": "display_data"
    },
    {
     "name": "stdout",
     "output_type": "stream",
     "text": [
      "Epoch: 315 \tTraining Loss: 0.067433 \tValidation Loss: 0.720184\n",
      "Epoch: 315 \tTraining accuracy: 1.000000 \tValidation accuracy: 0.805521\n",
      "epoch =  316\n"
     ]
    },
    {
     "data": {
      "application/vnd.jupyter.widget-view+json": {
       "model_id": "fb420516d7b14af5b28b5aa674e21fe9",
       "version_major": 2,
       "version_minor": 0
      },
      "text/plain": [
       "  0%|          | 0/62 [00:00<?, ?it/s]"
      ]
     },
     "metadata": {},
     "output_type": "display_data"
    },
    {
     "data": {
      "application/vnd.jupyter.widget-view+json": {
       "model_id": "8c316cd4aa0e4736b123914b36388686",
       "version_major": 2,
       "version_minor": 0
      },
      "text/plain": [
       "  0%|          | 0/31 [00:00<?, ?it/s]"
      ]
     },
     "metadata": {},
     "output_type": "display_data"
    },
    {
     "name": "stdout",
     "output_type": "stream",
     "text": [
      "Epoch: 316 \tTraining Loss: 0.066598 \tValidation Loss: 0.637819\n",
      "Epoch: 316 \tTraining accuracy: 1.000000 \tValidation accuracy: 0.840261\n",
      "epoch =  317\n"
     ]
    },
    {
     "data": {
      "application/vnd.jupyter.widget-view+json": {
       "model_id": "dfed00b1ac66423ca105815fb39b4e39",
       "version_major": 2,
       "version_minor": 0
      },
      "text/plain": [
       "  0%|          | 0/62 [00:00<?, ?it/s]"
      ]
     },
     "metadata": {},
     "output_type": "display_data"
    },
    {
     "data": {
      "application/vnd.jupyter.widget-view+json": {
       "model_id": "8f49dff25c094ba5900f7bb738b57ff0",
       "version_major": 2,
       "version_minor": 0
      },
      "text/plain": [
       "  0%|          | 0/31 [00:00<?, ?it/s]"
      ]
     },
     "metadata": {},
     "output_type": "display_data"
    },
    {
     "name": "stdout",
     "output_type": "stream",
     "text": [
      "Epoch: 317 \tTraining Loss: 0.071481 \tValidation Loss: 0.659562\n",
      "Epoch: 317 \tTraining accuracy: 1.000000 \tValidation accuracy: 0.818548\n",
      "epoch =  318\n"
     ]
    },
    {
     "data": {
      "application/vnd.jupyter.widget-view+json": {
       "model_id": "864b56160ef44ea39bb44666ced822ed",
       "version_major": 2,
       "version_minor": 0
      },
      "text/plain": [
       "  0%|          | 0/62 [00:00<?, ?it/s]"
      ]
     },
     "metadata": {},
     "output_type": "display_data"
    },
    {
     "data": {
      "application/vnd.jupyter.widget-view+json": {
       "model_id": "e48b2941e936446c8b3c830a423cc3fb",
       "version_major": 2,
       "version_minor": 0
      },
      "text/plain": [
       "  0%|          | 0/31 [00:00<?, ?it/s]"
      ]
     },
     "metadata": {},
     "output_type": "display_data"
    },
    {
     "name": "stdout",
     "output_type": "stream",
     "text": [
      "Epoch: 318 \tTraining Loss: 0.069183 \tValidation Loss: 0.703579\n",
      "Epoch: 318 \tTraining accuracy: 1.000000 \tValidation accuracy: 0.811569\n",
      "epoch =  319\n"
     ]
    },
    {
     "data": {
      "application/vnd.jupyter.widget-view+json": {
       "model_id": "0a7bc16af0d8457da3db783308522733",
       "version_major": 2,
       "version_minor": 0
      },
      "text/plain": [
       "  0%|          | 0/62 [00:00<?, ?it/s]"
      ]
     },
     "metadata": {},
     "output_type": "display_data"
    },
    {
     "data": {
      "application/vnd.jupyter.widget-view+json": {
       "model_id": "6e7cc4e4c194473b8cf17fe7e3a80333",
       "version_major": 2,
       "version_minor": 0
      },
      "text/plain": [
       "  0%|          | 0/31 [00:00<?, ?it/s]"
      ]
     },
     "metadata": {},
     "output_type": "display_data"
    },
    {
     "name": "stdout",
     "output_type": "stream",
     "text": [
      "Epoch: 319 \tTraining Loss: 0.067154 \tValidation Loss: 0.687886\n",
      "Epoch: 319 \tTraining accuracy: 1.000000 \tValidation accuracy: 0.817618\n",
      "epoch =  320\n"
     ]
    },
    {
     "data": {
      "application/vnd.jupyter.widget-view+json": {
       "model_id": "695a7c79e5a2468fb8f049c86d74e11f",
       "version_major": 2,
       "version_minor": 0
      },
      "text/plain": [
       "  0%|          | 0/62 [00:00<?, ?it/s]"
      ]
     },
     "metadata": {},
     "output_type": "display_data"
    },
    {
     "data": {
      "application/vnd.jupyter.widget-view+json": {
       "model_id": "1abdb91541714ccbab40278b2f7f9ab9",
       "version_major": 2,
       "version_minor": 0
      },
      "text/plain": [
       "  0%|          | 0/31 [00:00<?, ?it/s]"
      ]
     },
     "metadata": {},
     "output_type": "display_data"
    },
    {
     "name": "stdout",
     "output_type": "stream",
     "text": [
      "Epoch: 320 \tTraining Loss: 0.067876 \tValidation Loss: 0.678885\n",
      "Epoch: 320 \tTraining accuracy: 1.000000 \tValidation accuracy: 0.828784\n",
      "epoch =  321\n"
     ]
    },
    {
     "data": {
      "application/vnd.jupyter.widget-view+json": {
       "model_id": "f6749b0795c944659546b76ed60b50f4",
       "version_major": 2,
       "version_minor": 0
      },
      "text/plain": [
       "  0%|          | 0/62 [00:00<?, ?it/s]"
      ]
     },
     "metadata": {},
     "output_type": "display_data"
    },
    {
     "data": {
      "application/vnd.jupyter.widget-view+json": {
       "model_id": "6e429b74fe55496da8d0b245d81af14f",
       "version_major": 2,
       "version_minor": 0
      },
      "text/plain": [
       "  0%|          | 0/31 [00:00<?, ?it/s]"
      ]
     },
     "metadata": {},
     "output_type": "display_data"
    },
    {
     "name": "stdout",
     "output_type": "stream",
     "text": [
      "Epoch: 321 \tTraining Loss: 0.066784 \tValidation Loss: 0.658436\n",
      "Epoch: 321 \tTraining accuracy: 1.000000 \tValidation accuracy: 0.839330\n",
      "epoch =  322\n"
     ]
    },
    {
     "data": {
      "application/vnd.jupyter.widget-view+json": {
       "model_id": "f9f2761877a54ce59c9ef85596657acd",
       "version_major": 2,
       "version_minor": 0
      },
      "text/plain": [
       "  0%|          | 0/62 [00:00<?, ?it/s]"
      ]
     },
     "metadata": {},
     "output_type": "display_data"
    },
    {
     "data": {
      "application/vnd.jupyter.widget-view+json": {
       "model_id": "05cff03a57c04c2dae4944760fde200b",
       "version_major": 2,
       "version_minor": 0
      },
      "text/plain": [
       "  0%|          | 0/31 [00:00<?, ?it/s]"
      ]
     },
     "metadata": {},
     "output_type": "display_data"
    },
    {
     "name": "stdout",
     "output_type": "stream",
     "text": [
      "Epoch: 322 \tTraining Loss: 0.070473 \tValidation Loss: 0.645685\n",
      "Epoch: 322 \tTraining accuracy: 1.000000 \tValidation accuracy: 0.834212\n",
      "epoch =  323\n"
     ]
    },
    {
     "data": {
      "application/vnd.jupyter.widget-view+json": {
       "model_id": "9ab3f453d624410388688cda6e855cea",
       "version_major": 2,
       "version_minor": 0
      },
      "text/plain": [
       "  0%|          | 0/62 [00:00<?, ?it/s]"
      ]
     },
     "metadata": {},
     "output_type": "display_data"
    },
    {
     "data": {
      "application/vnd.jupyter.widget-view+json": {
       "model_id": "0695b44033f7493d8f2c2c66923ce376",
       "version_major": 2,
       "version_minor": 0
      },
      "text/plain": [
       "  0%|          | 0/31 [00:00<?, ?it/s]"
      ]
     },
     "metadata": {},
     "output_type": "display_data"
    },
    {
     "name": "stdout",
     "output_type": "stream",
     "text": [
      "Epoch: 323 \tTraining Loss: 0.070278 \tValidation Loss: 0.698653\n",
      "Epoch: 323 \tTraining accuracy: 0.999496 \tValidation accuracy: 0.804125\n",
      "epoch =  324\n"
     ]
    },
    {
     "data": {
      "application/vnd.jupyter.widget-view+json": {
       "model_id": "f5dad8e09fce44619737854fea9eb4e8",
       "version_major": 2,
       "version_minor": 0
      },
      "text/plain": [
       "  0%|          | 0/62 [00:00<?, ?it/s]"
      ]
     },
     "metadata": {},
     "output_type": "display_data"
    },
    {
     "data": {
      "application/vnd.jupyter.widget-view+json": {
       "model_id": "153b047936c74c3b8cad791025547184",
       "version_major": 2,
       "version_minor": 0
      },
      "text/plain": [
       "  0%|          | 0/31 [00:00<?, ?it/s]"
      ]
     },
     "metadata": {},
     "output_type": "display_data"
    },
    {
     "name": "stdout",
     "output_type": "stream",
     "text": [
      "Epoch: 324 \tTraining Loss: 0.068581 \tValidation Loss: 0.734734\n",
      "Epoch: 324 \tTraining accuracy: 1.000000 \tValidation accuracy: 0.793890\n",
      "epoch =  325\n"
     ]
    },
    {
     "data": {
      "application/vnd.jupyter.widget-view+json": {
       "model_id": "6ec6cf54e8bc4bb39b3ff9f5b3b9719e",
       "version_major": 2,
       "version_minor": 0
      },
      "text/plain": [
       "  0%|          | 0/62 [00:00<?, ?it/s]"
      ]
     },
     "metadata": {},
     "output_type": "display_data"
    },
    {
     "data": {
      "application/vnd.jupyter.widget-view+json": {
       "model_id": "ab043f7b948249d096f36b68ce5b22ec",
       "version_major": 2,
       "version_minor": 0
      },
      "text/plain": [
       "  0%|          | 0/31 [00:00<?, ?it/s]"
      ]
     },
     "metadata": {},
     "output_type": "display_data"
    },
    {
     "name": "stdout",
     "output_type": "stream",
     "text": [
      "Epoch: 325 \tTraining Loss: 0.069965 \tValidation Loss: 0.676884\n",
      "Epoch: 325 \tTraining accuracy: 0.999496 \tValidation accuracy: 0.844913\n",
      "epoch =  326\n"
     ]
    },
    {
     "data": {
      "application/vnd.jupyter.widget-view+json": {
       "model_id": "1f894d72b60e4215842853c96121cca0",
       "version_major": 2,
       "version_minor": 0
      },
      "text/plain": [
       "  0%|          | 0/62 [00:00<?, ?it/s]"
      ]
     },
     "metadata": {},
     "output_type": "display_data"
    },
    {
     "data": {
      "application/vnd.jupyter.widget-view+json": {
       "model_id": "11ff14803139463a993de5388530f7af",
       "version_major": 2,
       "version_minor": 0
      },
      "text/plain": [
       "  0%|          | 0/31 [00:00<?, ?it/s]"
      ]
     },
     "metadata": {},
     "output_type": "display_data"
    },
    {
     "name": "stdout",
     "output_type": "stream",
     "text": [
      "Epoch: 326 \tTraining Loss: 0.065269 \tValidation Loss: 0.705141\n",
      "Epoch: 326 \tTraining accuracy: 1.000000 \tValidation accuracy: 0.818548\n",
      "epoch =  327\n"
     ]
    },
    {
     "data": {
      "application/vnd.jupyter.widget-view+json": {
       "model_id": "9da0f1b67cbe41c8a053683bc8c22e92",
       "version_major": 2,
       "version_minor": 0
      },
      "text/plain": [
       "  0%|          | 0/62 [00:00<?, ?it/s]"
      ]
     },
     "metadata": {},
     "output_type": "display_data"
    },
    {
     "data": {
      "application/vnd.jupyter.widget-view+json": {
       "model_id": "88b5378d200a42ee8a7ceb7eb106e988",
       "version_major": 2,
       "version_minor": 0
      },
      "text/plain": [
       "  0%|          | 0/31 [00:00<?, ?it/s]"
      ]
     },
     "metadata": {},
     "output_type": "display_data"
    },
    {
     "name": "stdout",
     "output_type": "stream",
     "text": [
      "Epoch: 327 \tTraining Loss: 0.066917 \tValidation Loss: 0.717294\n",
      "Epoch: 327 \tTraining accuracy: 1.000000 \tValidation accuracy: 0.814051\n",
      "epoch =  328\n"
     ]
    },
    {
     "data": {
      "application/vnd.jupyter.widget-view+json": {
       "model_id": "e47f07298bae48e193291a9c8180f5eb",
       "version_major": 2,
       "version_minor": 0
      },
      "text/plain": [
       "  0%|          | 0/62 [00:00<?, ?it/s]"
      ]
     },
     "metadata": {},
     "output_type": "display_data"
    },
    {
     "data": {
      "application/vnd.jupyter.widget-view+json": {
       "model_id": "6850ac6560d14a1ab40f1e25d93dcd28",
       "version_major": 2,
       "version_minor": 0
      },
      "text/plain": [
       "  0%|          | 0/31 [00:00<?, ?it/s]"
      ]
     },
     "metadata": {},
     "output_type": "display_data"
    },
    {
     "name": "stdout",
     "output_type": "stream",
     "text": [
      "Epoch: 328 \tTraining Loss: 0.066056 \tValidation Loss: 0.696929\n",
      "Epoch: 328 \tTraining accuracy: 0.999496 \tValidation accuracy: 0.813120\n",
      "epoch =  329\n"
     ]
    },
    {
     "data": {
      "application/vnd.jupyter.widget-view+json": {
       "model_id": "de14e00e054b4e4ab865bcd7f1b91012",
       "version_major": 2,
       "version_minor": 0
      },
      "text/plain": [
       "  0%|          | 0/62 [00:00<?, ?it/s]"
      ]
     },
     "metadata": {},
     "output_type": "display_data"
    },
    {
     "data": {
      "application/vnd.jupyter.widget-view+json": {
       "model_id": "3a81375f5f24495b8c2e7755b2001ab3",
       "version_major": 2,
       "version_minor": 0
      },
      "text/plain": [
       "  0%|          | 0/31 [00:00<?, ?it/s]"
      ]
     },
     "metadata": {},
     "output_type": "display_data"
    },
    {
     "name": "stdout",
     "output_type": "stream",
     "text": [
      "Epoch: 329 \tTraining Loss: 0.071691 \tValidation Loss: 0.729610\n",
      "Epoch: 329 \tTraining accuracy: 1.000000 \tValidation accuracy: 0.804125\n",
      "epoch =  330\n"
     ]
    },
    {
     "data": {
      "application/vnd.jupyter.widget-view+json": {
       "model_id": "4ef20a561a4b44cda7f2f7773528c768",
       "version_major": 2,
       "version_minor": 0
      },
      "text/plain": [
       "  0%|          | 0/62 [00:00<?, ?it/s]"
      ]
     },
     "metadata": {},
     "output_type": "display_data"
    },
    {
     "data": {
      "application/vnd.jupyter.widget-view+json": {
       "model_id": "89ca5dcff6274d02b0ea7dc7f7315626",
       "version_major": 2,
       "version_minor": 0
      },
      "text/plain": [
       "  0%|          | 0/31 [00:00<?, ?it/s]"
      ]
     },
     "metadata": {},
     "output_type": "display_data"
    },
    {
     "name": "stdout",
     "output_type": "stream",
     "text": [
      "Epoch: 330 \tTraining Loss: 0.068697 \tValidation Loss: 0.669097\n",
      "Epoch: 330 \tTraining accuracy: 0.999299 \tValidation accuracy: 0.826768\n",
      "epoch =  331\n"
     ]
    },
    {
     "data": {
      "application/vnd.jupyter.widget-view+json": {
       "model_id": "3e9201b1f2cb4ba1bd47e0508caed235",
       "version_major": 2,
       "version_minor": 0
      },
      "text/plain": [
       "  0%|          | 0/62 [00:00<?, ?it/s]"
      ]
     },
     "metadata": {},
     "output_type": "display_data"
    },
    {
     "data": {
      "application/vnd.jupyter.widget-view+json": {
       "model_id": "29f79f4de5c745c4a2dbdde17dcfe8e5",
       "version_major": 2,
       "version_minor": 0
      },
      "text/plain": [
       "  0%|          | 0/31 [00:00<?, ?it/s]"
      ]
     },
     "metadata": {},
     "output_type": "display_data"
    },
    {
     "name": "stdout",
     "output_type": "stream",
     "text": [
      "Epoch: 331 \tTraining Loss: 0.064519 \tValidation Loss: 0.681334\n",
      "Epoch: 331 \tTraining accuracy: 0.999496 \tValidation accuracy: 0.825682\n",
      "epoch =  332\n"
     ]
    },
    {
     "data": {
      "application/vnd.jupyter.widget-view+json": {
       "model_id": "4d85b8b3e13241c88f7f4e614077c682",
       "version_major": 2,
       "version_minor": 0
      },
      "text/plain": [
       "  0%|          | 0/62 [00:00<?, ?it/s]"
      ]
     },
     "metadata": {},
     "output_type": "display_data"
    },
    {
     "data": {
      "application/vnd.jupyter.widget-view+json": {
       "model_id": "b2ee583113ef4583a376040c2bc26d39",
       "version_major": 2,
       "version_minor": 0
      },
      "text/plain": [
       "  0%|          | 0/31 [00:00<?, ?it/s]"
      ]
     },
     "metadata": {},
     "output_type": "display_data"
    },
    {
     "name": "stdout",
     "output_type": "stream",
     "text": [
      "Epoch: 332 \tTraining Loss: 0.067121 \tValidation Loss: 0.673162\n",
      "Epoch: 332 \tTraining accuracy: 0.999496 \tValidation accuracy: 0.844293\n",
      "epoch =  333\n"
     ]
    },
    {
     "data": {
      "application/vnd.jupyter.widget-view+json": {
       "model_id": "b96f0c71dc2844ebba6f5f9e92cb9b13",
       "version_major": 2,
       "version_minor": 0
      },
      "text/plain": [
       "  0%|          | 0/62 [00:00<?, ?it/s]"
      ]
     },
     "metadata": {},
     "output_type": "display_data"
    },
    {
     "data": {
      "application/vnd.jupyter.widget-view+json": {
       "model_id": "e5b5549cd9864ff7a101aee0bec1499c",
       "version_major": 2,
       "version_minor": 0
      },
      "text/plain": [
       "  0%|          | 0/31 [00:00<?, ?it/s]"
      ]
     },
     "metadata": {},
     "output_type": "display_data"
    },
    {
     "name": "stdout",
     "output_type": "stream",
     "text": [
      "Epoch: 333 \tTraining Loss: 0.062461 \tValidation Loss: 0.701178\n",
      "Epoch: 333 \tTraining accuracy: 1.000000 \tValidation accuracy: 0.831266\n",
      "epoch =  334\n"
     ]
    },
    {
     "data": {
      "application/vnd.jupyter.widget-view+json": {
       "model_id": "525322effc7c4c1390fdafea9f234ddb",
       "version_major": 2,
       "version_minor": 0
      },
      "text/plain": [
       "  0%|          | 0/62 [00:00<?, ?it/s]"
      ]
     },
     "metadata": {},
     "output_type": "display_data"
    },
    {
     "data": {
      "application/vnd.jupyter.widget-view+json": {
       "model_id": "4bdb6756855b437bac4f1655f207a7c0",
       "version_major": 2,
       "version_minor": 0
      },
      "text/plain": [
       "  0%|          | 0/31 [00:00<?, ?it/s]"
      ]
     },
     "metadata": {},
     "output_type": "display_data"
    },
    {
     "name": "stdout",
     "output_type": "stream",
     "text": [
      "Epoch: 334 \tTraining Loss: 0.064489 \tValidation Loss: 0.661987\n",
      "Epoch: 334 \tTraining accuracy: 0.999496 \tValidation accuracy: 0.838244\n",
      "epoch =  335\n"
     ]
    },
    {
     "data": {
      "application/vnd.jupyter.widget-view+json": {
       "model_id": "06ef4d0cc10a445582dda7015775aae4",
       "version_major": 2,
       "version_minor": 0
      },
      "text/plain": [
       "  0%|          | 0/62 [00:00<?, ?it/s]"
      ]
     },
     "metadata": {},
     "output_type": "display_data"
    },
    {
     "data": {
      "application/vnd.jupyter.widget-view+json": {
       "model_id": "1893b97e98ed4e15ae009943c4118451",
       "version_major": 2,
       "version_minor": 0
      },
      "text/plain": [
       "  0%|          | 0/31 [00:00<?, ?it/s]"
      ]
     },
     "metadata": {},
     "output_type": "display_data"
    },
    {
     "name": "stdout",
     "output_type": "stream",
     "text": [
      "Epoch: 335 \tTraining Loss: 0.063249 \tValidation Loss: 0.722869\n",
      "Epoch: 335 \tTraining accuracy: 1.000000 \tValidation accuracy: 0.810019\n",
      "epoch =  336\n"
     ]
    },
    {
     "data": {
      "application/vnd.jupyter.widget-view+json": {
       "model_id": "675b19e9ca1b4cbeab78a974a2a83a17",
       "version_major": 2,
       "version_minor": 0
      },
      "text/plain": [
       "  0%|          | 0/62 [00:00<?, ?it/s]"
      ]
     },
     "metadata": {},
     "output_type": "display_data"
    },
    {
     "data": {
      "application/vnd.jupyter.widget-view+json": {
       "model_id": "dd12aedc1de04165a4436b127964c36c",
       "version_major": 2,
       "version_minor": 0
      },
      "text/plain": [
       "  0%|          | 0/31 [00:00<?, ?it/s]"
      ]
     },
     "metadata": {},
     "output_type": "display_data"
    },
    {
     "name": "stdout",
     "output_type": "stream",
     "text": [
      "Epoch: 336 \tTraining Loss: 0.066236 \tValidation Loss: 0.651094\n",
      "Epoch: 336 \tTraining accuracy: 0.999496 \tValidation accuracy: 0.853908\n",
      "epoch =  337\n"
     ]
    },
    {
     "data": {
      "application/vnd.jupyter.widget-view+json": {
       "model_id": "c0240f9d72b2459b827e6bfd87ba8e60",
       "version_major": 2,
       "version_minor": 0
      },
      "text/plain": [
       "  0%|          | 0/62 [00:00<?, ?it/s]"
      ]
     },
     "metadata": {},
     "output_type": "display_data"
    },
    {
     "data": {
      "application/vnd.jupyter.widget-view+json": {
       "model_id": "de51440048a740e2af006cf313cfebda",
       "version_major": 2,
       "version_minor": 0
      },
      "text/plain": [
       "  0%|          | 0/31 [00:00<?, ?it/s]"
      ]
     },
     "metadata": {},
     "output_type": "display_data"
    },
    {
     "name": "stdout",
     "output_type": "stream",
     "text": [
      "Epoch: 337 \tTraining Loss: 0.068347 \tValidation Loss: 0.656883\n",
      "Epoch: 337 \tTraining accuracy: 1.000000 \tValidation accuracy: 0.821185\n",
      "epoch =  338\n"
     ]
    },
    {
     "data": {
      "application/vnd.jupyter.widget-view+json": {
       "model_id": "1c5cd060e3ce40e7a593031f923fd93a",
       "version_major": 2,
       "version_minor": 0
      },
      "text/plain": [
       "  0%|          | 0/62 [00:00<?, ?it/s]"
      ]
     },
     "metadata": {},
     "output_type": "display_data"
    },
    {
     "data": {
      "application/vnd.jupyter.widget-view+json": {
       "model_id": "1017bfd88dc74658a1b24a8cba910847",
       "version_major": 2,
       "version_minor": 0
      },
      "text/plain": [
       "  0%|          | 0/31 [00:00<?, ?it/s]"
      ]
     },
     "metadata": {},
     "output_type": "display_data"
    },
    {
     "name": "stdout",
     "output_type": "stream",
     "text": [
      "Epoch: 338 \tTraining Loss: 0.063661 \tValidation Loss: 0.640620\n",
      "Epoch: 338 \tTraining accuracy: 1.000000 \tValidation accuracy: 0.846309\n",
      "epoch =  339\n"
     ]
    },
    {
     "data": {
      "application/vnd.jupyter.widget-view+json": {
       "model_id": "8fc583b3ecca468394f12a875c36b709",
       "version_major": 2,
       "version_minor": 0
      },
      "text/plain": [
       "  0%|          | 0/62 [00:00<?, ?it/s]"
      ]
     },
     "metadata": {},
     "output_type": "display_data"
    },
    {
     "data": {
      "application/vnd.jupyter.widget-view+json": {
       "model_id": "61cbc66dbd554aaa92bb8f4d8f176205",
       "version_major": 2,
       "version_minor": 0
      },
      "text/plain": [
       "  0%|          | 0/31 [00:00<?, ?it/s]"
      ]
     },
     "metadata": {},
     "output_type": "display_data"
    },
    {
     "name": "stdout",
     "output_type": "stream",
     "text": [
      "Epoch: 339 \tTraining Loss: 0.066368 \tValidation Loss: 0.683322\n",
      "Epoch: 339 \tTraining accuracy: 1.000000 \tValidation accuracy: 0.825682\n",
      "epoch =  340\n"
     ]
    },
    {
     "data": {
      "application/vnd.jupyter.widget-view+json": {
       "model_id": "d2200b174ce14c0a9c6de9c409b56cd0",
       "version_major": 2,
       "version_minor": 0
      },
      "text/plain": [
       "  0%|          | 0/62 [00:00<?, ?it/s]"
      ]
     },
     "metadata": {},
     "output_type": "display_data"
    },
    {
     "data": {
      "application/vnd.jupyter.widget-view+json": {
       "model_id": "3612df8faedc42f1a456d467f21d26cc",
       "version_major": 2,
       "version_minor": 0
      },
      "text/plain": [
       "  0%|          | 0/31 [00:00<?, ?it/s]"
      ]
     },
     "metadata": {},
     "output_type": "display_data"
    },
    {
     "name": "stdout",
     "output_type": "stream",
     "text": [
      "Epoch: 340 \tTraining Loss: 0.065826 \tValidation Loss: 0.745212\n",
      "Epoch: 340 \tTraining accuracy: 0.999496 \tValidation accuracy: 0.787376\n",
      "epoch =  341\n"
     ]
    },
    {
     "data": {
      "application/vnd.jupyter.widget-view+json": {
       "model_id": "249777f63f3f405db5fa96a8386f8b67",
       "version_major": 2,
       "version_minor": 0
      },
      "text/plain": [
       "  0%|          | 0/62 [00:00<?, ?it/s]"
      ]
     },
     "metadata": {},
     "output_type": "display_data"
    },
    {
     "data": {
      "application/vnd.jupyter.widget-view+json": {
       "model_id": "21e13fa787e64eaf94177d787f11e61c",
       "version_major": 2,
       "version_minor": 0
      },
      "text/plain": [
       "  0%|          | 0/31 [00:00<?, ?it/s]"
      ]
     },
     "metadata": {},
     "output_type": "display_data"
    },
    {
     "name": "stdout",
     "output_type": "stream",
     "text": [
      "Epoch: 341 \tTraining Loss: 0.073091 \tValidation Loss: 0.720790\n",
      "Epoch: 341 \tTraining accuracy: 1.000000 \tValidation accuracy: 0.817618\n",
      "epoch =  342\n"
     ]
    },
    {
     "data": {
      "application/vnd.jupyter.widget-view+json": {
       "model_id": "2b22c64e6e99458c93b84de21cc0a8e4",
       "version_major": 2,
       "version_minor": 0
      },
      "text/plain": [
       "  0%|          | 0/62 [00:00<?, ?it/s]"
      ]
     },
     "metadata": {},
     "output_type": "display_data"
    },
    {
     "data": {
      "application/vnd.jupyter.widget-view+json": {
       "model_id": "fbb1e084b11749f0bdc025a51f475f25",
       "version_major": 2,
       "version_minor": 0
      },
      "text/plain": [
       "  0%|          | 0/31 [00:00<?, ?it/s]"
      ]
     },
     "metadata": {},
     "output_type": "display_data"
    },
    {
     "name": "stdout",
     "output_type": "stream",
     "text": [
      "Epoch: 342 \tTraining Loss: 0.064715 \tValidation Loss: 0.701782\n",
      "Epoch: 342 \tTraining accuracy: 1.000000 \tValidation accuracy: 0.809553\n",
      "epoch =  343\n"
     ]
    },
    {
     "data": {
      "application/vnd.jupyter.widget-view+json": {
       "model_id": "e2d1df960efa4ca7a025335409a1b2ce",
       "version_major": 2,
       "version_minor": 0
      },
      "text/plain": [
       "  0%|          | 0/62 [00:00<?, ?it/s]"
      ]
     },
     "metadata": {},
     "output_type": "display_data"
    },
    {
     "data": {
      "application/vnd.jupyter.widget-view+json": {
       "model_id": "a1b3babe1798427cb0289bb852571431",
       "version_major": 2,
       "version_minor": 0
      },
      "text/plain": [
       "  0%|          | 0/31 [00:00<?, ?it/s]"
      ]
     },
     "metadata": {},
     "output_type": "display_data"
    },
    {
     "name": "stdout",
     "output_type": "stream",
     "text": [
      "Epoch: 343 \tTraining Loss: 0.067113 \tValidation Loss: 0.687429\n",
      "Epoch: 343 \tTraining accuracy: 1.000000 \tValidation accuracy: 0.822115\n",
      "epoch =  344\n"
     ]
    },
    {
     "data": {
      "application/vnd.jupyter.widget-view+json": {
       "model_id": "20b97cd07b054f1ea31df46079f96465",
       "version_major": 2,
       "version_minor": 0
      },
      "text/plain": [
       "  0%|          | 0/62 [00:00<?, ?it/s]"
      ]
     },
     "metadata": {},
     "output_type": "display_data"
    },
    {
     "data": {
      "application/vnd.jupyter.widget-view+json": {
       "model_id": "97bbc5790d3a4ef882bbaf6cb79de72e",
       "version_major": 2,
       "version_minor": 0
      },
      "text/plain": [
       "  0%|          | 0/31 [00:00<?, ?it/s]"
      ]
     },
     "metadata": {},
     "output_type": "display_data"
    },
    {
     "name": "stdout",
     "output_type": "stream",
     "text": [
      "Epoch: 344 \tTraining Loss: 0.065295 \tValidation Loss: 0.637674\n",
      "Epoch: 344 \tTraining accuracy: 1.000000 \tValidation accuracy: 0.844758\n",
      "epoch =  345\n"
     ]
    },
    {
     "data": {
      "application/vnd.jupyter.widget-view+json": {
       "model_id": "00b02532524c48a2a0f942ad6330589c",
       "version_major": 2,
       "version_minor": 0
      },
      "text/plain": [
       "  0%|          | 0/62 [00:00<?, ?it/s]"
      ]
     },
     "metadata": {},
     "output_type": "display_data"
    },
    {
     "data": {
      "application/vnd.jupyter.widget-view+json": {
       "model_id": "171a43229a8a4bf18954517ff9e131c0",
       "version_major": 2,
       "version_minor": 0
      },
      "text/plain": [
       "  0%|          | 0/31 [00:00<?, ?it/s]"
      ]
     },
     "metadata": {},
     "output_type": "display_data"
    },
    {
     "name": "stdout",
     "output_type": "stream",
     "text": [
      "Epoch: 345 \tTraining Loss: 0.064796 \tValidation Loss: 0.678417\n",
      "Epoch: 345 \tTraining accuracy: 0.999496 \tValidation accuracy: 0.836228\n",
      "epoch =  346\n"
     ]
    },
    {
     "data": {
      "application/vnd.jupyter.widget-view+json": {
       "model_id": "0f3cc72d8f7949d1b68e5ad4054b9dee",
       "version_major": 2,
       "version_minor": 0
      },
      "text/plain": [
       "  0%|          | 0/62 [00:00<?, ?it/s]"
      ]
     },
     "metadata": {},
     "output_type": "display_data"
    },
    {
     "data": {
      "application/vnd.jupyter.widget-view+json": {
       "model_id": "3cffad1e99ef457db59a8be67bcb5b86",
       "version_major": 2,
       "version_minor": 0
      },
      "text/plain": [
       "  0%|          | 0/31 [00:00<?, ?it/s]"
      ]
     },
     "metadata": {},
     "output_type": "display_data"
    },
    {
     "name": "stdout",
     "output_type": "stream",
     "text": [
      "Epoch: 346 \tTraining Loss: 0.070759 \tValidation Loss: 0.641999\n",
      "Epoch: 346 \tTraining accuracy: 1.000000 \tValidation accuracy: 0.843828\n",
      "epoch =  347\n"
     ]
    },
    {
     "data": {
      "application/vnd.jupyter.widget-view+json": {
       "model_id": "c65d50ddfb354cba983b39f7b4a70164",
       "version_major": 2,
       "version_minor": 0
      },
      "text/plain": [
       "  0%|          | 0/62 [00:00<?, ?it/s]"
      ]
     },
     "metadata": {},
     "output_type": "display_data"
    },
    {
     "data": {
      "application/vnd.jupyter.widget-view+json": {
       "model_id": "f74a40b64e8c4851ac730cc3c040e29b",
       "version_major": 2,
       "version_minor": 0
      },
      "text/plain": [
       "  0%|          | 0/31 [00:00<?, ?it/s]"
      ]
     },
     "metadata": {},
     "output_type": "display_data"
    },
    {
     "name": "stdout",
     "output_type": "stream",
     "text": [
      "Epoch: 347 \tTraining Loss: 0.066756 \tValidation Loss: 0.703802\n",
      "Epoch: 347 \tTraining accuracy: 1.000000 \tValidation accuracy: 0.818083\n",
      "epoch =  348\n"
     ]
    },
    {
     "data": {
      "application/vnd.jupyter.widget-view+json": {
       "model_id": "81d986b9f0584a62afb778e2afffc3ac",
       "version_major": 2,
       "version_minor": 0
      },
      "text/plain": [
       "  0%|          | 0/62 [00:00<?, ?it/s]"
      ]
     },
     "metadata": {},
     "output_type": "display_data"
    },
    {
     "data": {
      "application/vnd.jupyter.widget-view+json": {
       "model_id": "4c25c57e77224a9fa1f1c00acbfb4e87",
       "version_major": 2,
       "version_minor": 0
      },
      "text/plain": [
       "  0%|          | 0/31 [00:00<?, ?it/s]"
      ]
     },
     "metadata": {},
     "output_type": "display_data"
    },
    {
     "name": "stdout",
     "output_type": "stream",
     "text": [
      "Epoch: 348 \tTraining Loss: 0.062923 \tValidation Loss: 0.729388\n",
      "Epoch: 348 \tTraining accuracy: 1.000000 \tValidation accuracy: 0.809088\n",
      "epoch =  349\n"
     ]
    },
    {
     "data": {
      "application/vnd.jupyter.widget-view+json": {
       "model_id": "0242cace239346aa9542e48e9ce0d55e",
       "version_major": 2,
       "version_minor": 0
      },
      "text/plain": [
       "  0%|          | 0/62 [00:00<?, ?it/s]"
      ]
     },
     "metadata": {},
     "output_type": "display_data"
    },
    {
     "data": {
      "application/vnd.jupyter.widget-view+json": {
       "model_id": "a491dc9ecddd43e9af3963a7e4b9311c",
       "version_major": 2,
       "version_minor": 0
      },
      "text/plain": [
       "  0%|          | 0/31 [00:00<?, ?it/s]"
      ]
     },
     "metadata": {},
     "output_type": "display_data"
    },
    {
     "name": "stdout",
     "output_type": "stream",
     "text": [
      "Epoch: 349 \tTraining Loss: 0.067769 \tValidation Loss: 0.715523\n",
      "Epoch: 349 \tTraining accuracy: 0.998992 \tValidation accuracy: 0.819169\n",
      "epoch =  350\n"
     ]
    },
    {
     "data": {
      "application/vnd.jupyter.widget-view+json": {
       "model_id": "3f31b36dc3e24b8682f50e9809264cc4",
       "version_major": 2,
       "version_minor": 0
      },
      "text/plain": [
       "  0%|          | 0/62 [00:00<?, ?it/s]"
      ]
     },
     "metadata": {},
     "output_type": "display_data"
    },
    {
     "data": {
      "application/vnd.jupyter.widget-view+json": {
       "model_id": "03a603aec6d9431192b77276668855d8",
       "version_major": 2,
       "version_minor": 0
      },
      "text/plain": [
       "  0%|          | 0/31 [00:00<?, ?it/s]"
      ]
     },
     "metadata": {},
     "output_type": "display_data"
    },
    {
     "name": "stdout",
     "output_type": "stream",
     "text": [
      "Epoch: 350 \tTraining Loss: 0.071126 \tValidation Loss: 0.730902\n",
      "Epoch: 350 \tTraining accuracy: 0.999496 \tValidation accuracy: 0.814051\n",
      "epoch =  351\n"
     ]
    },
    {
     "data": {
      "application/vnd.jupyter.widget-view+json": {
       "model_id": "5de931cf32194d149389211261bf78ec",
       "version_major": 2,
       "version_minor": 0
      },
      "text/plain": [
       "  0%|          | 0/62 [00:00<?, ?it/s]"
      ]
     },
     "metadata": {},
     "output_type": "display_data"
    },
    {
     "data": {
      "application/vnd.jupyter.widget-view+json": {
       "model_id": "03642934717b428296718793aa715838",
       "version_major": 2,
       "version_minor": 0
      },
      "text/plain": [
       "  0%|          | 0/31 [00:00<?, ?it/s]"
      ]
     },
     "metadata": {},
     "output_type": "display_data"
    },
    {
     "name": "stdout",
     "output_type": "stream",
     "text": [
      "Epoch: 351 \tTraining Loss: 0.067225 \tValidation Loss: 0.663131\n",
      "Epoch: 351 \tTraining accuracy: 0.999299 \tValidation accuracy: 0.821185\n",
      "epoch =  352\n"
     ]
    },
    {
     "data": {
      "application/vnd.jupyter.widget-view+json": {
       "model_id": "80a9b64c395b4447a376d45b5cbcc456",
       "version_major": 2,
       "version_minor": 0
      },
      "text/plain": [
       "  0%|          | 0/62 [00:00<?, ?it/s]"
      ]
     },
     "metadata": {},
     "output_type": "display_data"
    },
    {
     "data": {
      "application/vnd.jupyter.widget-view+json": {
       "model_id": "7a71c1930db748b28a4635e24ec286ad",
       "version_major": 2,
       "version_minor": 0
      },
      "text/plain": [
       "  0%|          | 0/31 [00:00<?, ?it/s]"
      ]
     },
     "metadata": {},
     "output_type": "display_data"
    },
    {
     "name": "stdout",
     "output_type": "stream",
     "text": [
      "Epoch: 352 \tTraining Loss: 0.064683 \tValidation Loss: 0.654147\n",
      "Epoch: 352 \tTraining accuracy: 1.000000 \tValidation accuracy: 0.819634\n",
      "epoch =  353\n"
     ]
    },
    {
     "data": {
      "application/vnd.jupyter.widget-view+json": {
       "model_id": "7483f9eae9f24d9d84a43bc4b9c7868b",
       "version_major": 2,
       "version_minor": 0
      },
      "text/plain": [
       "  0%|          | 0/62 [00:00<?, ?it/s]"
      ]
     },
     "metadata": {},
     "output_type": "display_data"
    },
    {
     "data": {
      "application/vnd.jupyter.widget-view+json": {
       "model_id": "3e20820e880e430f9710003a1d42b624",
       "version_major": 2,
       "version_minor": 0
      },
      "text/plain": [
       "  0%|          | 0/31 [00:00<?, ?it/s]"
      ]
     },
     "metadata": {},
     "output_type": "display_data"
    },
    {
     "name": "stdout",
     "output_type": "stream",
     "text": [
      "Epoch: 353 \tTraining Loss: 0.068682 \tValidation Loss: 0.673164\n",
      "Epoch: 353 \tTraining accuracy: 1.000000 \tValidation accuracy: 0.831731\n",
      "epoch =  354\n"
     ]
    },
    {
     "data": {
      "application/vnd.jupyter.widget-view+json": {
       "model_id": "1891ed191f3e44f796ada5e55c15052f",
       "version_major": 2,
       "version_minor": 0
      },
      "text/plain": [
       "  0%|          | 0/62 [00:00<?, ?it/s]"
      ]
     },
     "metadata": {},
     "output_type": "display_data"
    },
    {
     "data": {
      "application/vnd.jupyter.widget-view+json": {
       "model_id": "8cdb491aa3c84a819370d99a5a347dcf",
       "version_major": 2,
       "version_minor": 0
      },
      "text/plain": [
       "  0%|          | 0/31 [00:00<?, ?it/s]"
      ]
     },
     "metadata": {},
     "output_type": "display_data"
    },
    {
     "name": "stdout",
     "output_type": "stream",
     "text": [
      "Epoch: 354 \tTraining Loss: 0.066306 \tValidation Loss: 0.655210\n",
      "Epoch: 354 \tTraining accuracy: 1.000000 \tValidation accuracy: 0.825682\n",
      "epoch =  355\n"
     ]
    },
    {
     "data": {
      "application/vnd.jupyter.widget-view+json": {
       "model_id": "6a8ad621608a49aebe43e85d36d0fd96",
       "version_major": 2,
       "version_minor": 0
      },
      "text/plain": [
       "  0%|          | 0/62 [00:00<?, ?it/s]"
      ]
     },
     "metadata": {},
     "output_type": "display_data"
    },
    {
     "data": {
      "application/vnd.jupyter.widget-view+json": {
       "model_id": "5db6367bdb3c43a0a2a38723af363c4f",
       "version_major": 2,
       "version_minor": 0
      },
      "text/plain": [
       "  0%|          | 0/31 [00:00<?, ?it/s]"
      ]
     },
     "metadata": {},
     "output_type": "display_data"
    },
    {
     "name": "stdout",
     "output_type": "stream",
     "text": [
      "Epoch: 355 \tTraining Loss: 0.065874 \tValidation Loss: 0.695826\n",
      "Epoch: 355 \tTraining accuracy: 1.000000 \tValidation accuracy: 0.812035\n",
      "epoch =  356\n"
     ]
    },
    {
     "data": {
      "application/vnd.jupyter.widget-view+json": {
       "model_id": "b9f987586fe345489ca2cad6a09adc1e",
       "version_major": 2,
       "version_minor": 0
      },
      "text/plain": [
       "  0%|          | 0/62 [00:00<?, ?it/s]"
      ]
     },
     "metadata": {},
     "output_type": "display_data"
    },
    {
     "data": {
      "application/vnd.jupyter.widget-view+json": {
       "model_id": "80aeb16116644543a4647dc2a84d9008",
       "version_major": 2,
       "version_minor": 0
      },
      "text/plain": [
       "  0%|          | 0/31 [00:00<?, ?it/s]"
      ]
     },
     "metadata": {},
     "output_type": "display_data"
    },
    {
     "name": "stdout",
     "output_type": "stream",
     "text": [
      "Epoch: 356 \tTraining Loss: 0.066507 \tValidation Loss: 0.659008\n",
      "Epoch: 356 \tTraining accuracy: 1.000000 \tValidation accuracy: 0.831266\n",
      "epoch =  357\n"
     ]
    },
    {
     "data": {
      "application/vnd.jupyter.widget-view+json": {
       "model_id": "eb6e54c8f024421ab18300e8c8c96519",
       "version_major": 2,
       "version_minor": 0
      },
      "text/plain": [
       "  0%|          | 0/62 [00:00<?, ?it/s]"
      ]
     },
     "metadata": {},
     "output_type": "display_data"
    },
    {
     "data": {
      "application/vnd.jupyter.widget-view+json": {
       "model_id": "08e4fe796eb74e6e9025787b32e8c9a4",
       "version_major": 2,
       "version_minor": 0
      },
      "text/plain": [
       "  0%|          | 0/31 [00:00<?, ?it/s]"
      ]
     },
     "metadata": {},
     "output_type": "display_data"
    },
    {
     "name": "stdout",
     "output_type": "stream",
     "text": [
      "Epoch: 357 \tTraining Loss: 0.063037 \tValidation Loss: 0.654407\n",
      "Epoch: 357 \tTraining accuracy: 1.000000 \tValidation accuracy: 0.827698\n",
      "epoch =  358\n"
     ]
    },
    {
     "data": {
      "application/vnd.jupyter.widget-view+json": {
       "model_id": "2a485cca187040c69fb6a2d93760855d",
       "version_major": 2,
       "version_minor": 0
      },
      "text/plain": [
       "  0%|          | 0/62 [00:00<?, ?it/s]"
      ]
     },
     "metadata": {},
     "output_type": "display_data"
    },
    {
     "data": {
      "application/vnd.jupyter.widget-view+json": {
       "model_id": "72868154ef6d4caf85797610484ecf9c",
       "version_major": 2,
       "version_minor": 0
      },
      "text/plain": [
       "  0%|          | 0/31 [00:00<?, ?it/s]"
      ]
     },
     "metadata": {},
     "output_type": "display_data"
    },
    {
     "name": "stdout",
     "output_type": "stream",
     "text": [
      "Epoch: 358 \tTraining Loss: 0.067304 \tValidation Loss: 0.675697\n",
      "Epoch: 358 \tTraining accuracy: 1.000000 \tValidation accuracy: 0.807537\n",
      "epoch =  359\n"
     ]
    },
    {
     "data": {
      "application/vnd.jupyter.widget-view+json": {
       "model_id": "62c42cf231e847ab8b9a960dd92934f5",
       "version_major": 2,
       "version_minor": 0
      },
      "text/plain": [
       "  0%|          | 0/62 [00:00<?, ?it/s]"
      ]
     },
     "metadata": {},
     "output_type": "display_data"
    },
    {
     "data": {
      "application/vnd.jupyter.widget-view+json": {
       "model_id": "4ffb0e93eea04210947e6ba355bdf19a",
       "version_major": 2,
       "version_minor": 0
      },
      "text/plain": [
       "  0%|          | 0/31 [00:00<?, ?it/s]"
      ]
     },
     "metadata": {},
     "output_type": "display_data"
    },
    {
     "name": "stdout",
     "output_type": "stream",
     "text": [
      "Epoch: 359 \tTraining Loss: 0.062885 \tValidation Loss: 0.688263\n",
      "Epoch: 359 \tTraining accuracy: 1.000000 \tValidation accuracy: 0.817618\n",
      "epoch =  360\n"
     ]
    },
    {
     "data": {
      "application/vnd.jupyter.widget-view+json": {
       "model_id": "6d19c76902434158866260f4da324ff9",
       "version_major": 2,
       "version_minor": 0
      },
      "text/plain": [
       "  0%|          | 0/62 [00:00<?, ?it/s]"
      ]
     },
     "metadata": {},
     "output_type": "display_data"
    },
    {
     "data": {
      "application/vnd.jupyter.widget-view+json": {
       "model_id": "5b3894d0e67d45f7b433fe7f959bbad8",
       "version_major": 2,
       "version_minor": 0
      },
      "text/plain": [
       "  0%|          | 0/31 [00:00<?, ?it/s]"
      ]
     },
     "metadata": {},
     "output_type": "display_data"
    },
    {
     "name": "stdout",
     "output_type": "stream",
     "text": [
      "Epoch: 360 \tTraining Loss: 0.070184 \tValidation Loss: 0.715335\n",
      "Epoch: 360 \tTraining accuracy: 0.999496 \tValidation accuracy: 0.819324\n",
      "epoch =  361\n"
     ]
    },
    {
     "data": {
      "application/vnd.jupyter.widget-view+json": {
       "model_id": "61ff631d1bf04db3801c20c1c3d97d50",
       "version_major": 2,
       "version_minor": 0
      },
      "text/plain": [
       "  0%|          | 0/62 [00:00<?, ?it/s]"
      ]
     },
     "metadata": {},
     "output_type": "display_data"
    },
    {
     "data": {
      "application/vnd.jupyter.widget-view+json": {
       "model_id": "4e0e90037ca84f52a2782ec4353c03af",
       "version_major": 2,
       "version_minor": 0
      },
      "text/plain": [
       "  0%|          | 0/31 [00:00<?, ?it/s]"
      ]
     },
     "metadata": {},
     "output_type": "display_data"
    },
    {
     "name": "stdout",
     "output_type": "stream",
     "text": [
      "Epoch: 361 \tTraining Loss: 0.064732 \tValidation Loss: 0.681709\n",
      "Epoch: 361 \tTraining accuracy: 1.000000 \tValidation accuracy: 0.827233\n",
      "epoch =  362\n"
     ]
    },
    {
     "data": {
      "application/vnd.jupyter.widget-view+json": {
       "model_id": "6e561fef1fd34548bb21da75df41368d",
       "version_major": 2,
       "version_minor": 0
      },
      "text/plain": [
       "  0%|          | 0/62 [00:00<?, ?it/s]"
      ]
     },
     "metadata": {},
     "output_type": "display_data"
    },
    {
     "data": {
      "application/vnd.jupyter.widget-view+json": {
       "model_id": "a1de4e1371b94dbb878d1a115d92a5b4",
       "version_major": 2,
       "version_minor": 0
      },
      "text/plain": [
       "  0%|          | 0/31 [00:00<?, ?it/s]"
      ]
     },
     "metadata": {},
     "output_type": "display_data"
    },
    {
     "name": "stdout",
     "output_type": "stream",
     "text": [
      "Epoch: 362 \tTraining Loss: 0.066676 \tValidation Loss: 0.673610\n",
      "Epoch: 362 \tTraining accuracy: 0.999496 \tValidation accuracy: 0.835298\n",
      "epoch =  363\n"
     ]
    },
    {
     "data": {
      "application/vnd.jupyter.widget-view+json": {
       "model_id": "f31d88a4638344fd9bf08f9a340ffb99",
       "version_major": 2,
       "version_minor": 0
      },
      "text/plain": [
       "  0%|          | 0/62 [00:00<?, ?it/s]"
      ]
     },
     "metadata": {},
     "output_type": "display_data"
    },
    {
     "data": {
      "application/vnd.jupyter.widget-view+json": {
       "model_id": "e094f5633254488d8ba1f4c438bc53ac",
       "version_major": 2,
       "version_minor": 0
      },
      "text/plain": [
       "  0%|          | 0/31 [00:00<?, ?it/s]"
      ]
     },
     "metadata": {},
     "output_type": "display_data"
    },
    {
     "name": "stdout",
     "output_type": "stream",
     "text": [
      "Epoch: 363 \tTraining Loss: 0.068171 \tValidation Loss: 0.754547\n",
      "Epoch: 363 \tTraining accuracy: 1.000000 \tValidation accuracy: 0.796991\n",
      "epoch =  364\n"
     ]
    },
    {
     "data": {
      "application/vnd.jupyter.widget-view+json": {
       "model_id": "ff9dbe3eb6534412a3549ef71e2d0bba",
       "version_major": 2,
       "version_minor": 0
      },
      "text/plain": [
       "  0%|          | 0/62 [00:00<?, ?it/s]"
      ]
     },
     "metadata": {},
     "output_type": "display_data"
    },
    {
     "data": {
      "application/vnd.jupyter.widget-view+json": {
       "model_id": "28c558f2d5ff4fee9d0e56ea545470e8",
       "version_major": 2,
       "version_minor": 0
      },
      "text/plain": [
       "  0%|          | 0/31 [00:00<?, ?it/s]"
      ]
     },
     "metadata": {},
     "output_type": "display_data"
    },
    {
     "name": "stdout",
     "output_type": "stream",
     "text": [
      "Epoch: 364 \tTraining Loss: 0.066926 \tValidation Loss: 0.737851\n",
      "Epoch: 364 \tTraining accuracy: 1.000000 \tValidation accuracy: 0.799473\n",
      "epoch =  365\n"
     ]
    },
    {
     "data": {
      "application/vnd.jupyter.widget-view+json": {
       "model_id": "fc5cdefd72e44ac69d58c6624f799b14",
       "version_major": 2,
       "version_minor": 0
      },
      "text/plain": [
       "  0%|          | 0/62 [00:00<?, ?it/s]"
      ]
     },
     "metadata": {},
     "output_type": "display_data"
    },
    {
     "data": {
      "application/vnd.jupyter.widget-view+json": {
       "model_id": "8a92cd199c484fe0aca56a628949c19b",
       "version_major": 2,
       "version_minor": 0
      },
      "text/plain": [
       "  0%|          | 0/31 [00:00<?, ?it/s]"
      ]
     },
     "metadata": {},
     "output_type": "display_data"
    },
    {
     "name": "stdout",
     "output_type": "stream",
     "text": [
      "Epoch: 365 \tTraining Loss: 0.066101 \tValidation Loss: 0.719610\n",
      "Epoch: 365 \tTraining accuracy: 0.999496 \tValidation accuracy: 0.816687\n",
      "epoch =  366\n"
     ]
    },
    {
     "data": {
      "application/vnd.jupyter.widget-view+json": {
       "model_id": "cebc9779435e4cbb9877c005bba69e12",
       "version_major": 2,
       "version_minor": 0
      },
      "text/plain": [
       "  0%|          | 0/62 [00:00<?, ?it/s]"
      ]
     },
     "metadata": {},
     "output_type": "display_data"
    },
    {
     "data": {
      "application/vnd.jupyter.widget-view+json": {
       "model_id": "af49efeb59304841a1d5a0f68bea91fc",
       "version_major": 2,
       "version_minor": 0
      },
      "text/plain": [
       "  0%|          | 0/31 [00:00<?, ?it/s]"
      ]
     },
     "metadata": {},
     "output_type": "display_data"
    },
    {
     "name": "stdout",
     "output_type": "stream",
     "text": [
      "Epoch: 366 \tTraining Loss: 0.070246 \tValidation Loss: 0.670796\n",
      "Epoch: 366 \tTraining accuracy: 1.000000 \tValidation accuracy: 0.819634\n",
      "epoch =  367\n"
     ]
    },
    {
     "data": {
      "application/vnd.jupyter.widget-view+json": {
       "model_id": "2a423fc54fc14c659c1348a2826f1d16",
       "version_major": 2,
       "version_minor": 0
      },
      "text/plain": [
       "  0%|          | 0/62 [00:00<?, ?it/s]"
      ]
     },
     "metadata": {},
     "output_type": "display_data"
    },
    {
     "data": {
      "application/vnd.jupyter.widget-view+json": {
       "model_id": "bb666e5aea30498a92c6fe28b46178b1",
       "version_major": 2,
       "version_minor": 0
      },
      "text/plain": [
       "  0%|          | 0/31 [00:00<?, ?it/s]"
      ]
     },
     "metadata": {},
     "output_type": "display_data"
    },
    {
     "name": "stdout",
     "output_type": "stream",
     "text": [
      "Epoch: 367 \tTraining Loss: 0.067111 \tValidation Loss: 0.726976\n",
      "Epoch: 367 \tTraining accuracy: 1.000000 \tValidation accuracy: 0.816222\n",
      "epoch =  368\n"
     ]
    },
    {
     "data": {
      "application/vnd.jupyter.widget-view+json": {
       "model_id": "131500fd34d34658b6c017ac2d7696ce",
       "version_major": 2,
       "version_minor": 0
      },
      "text/plain": [
       "  0%|          | 0/62 [00:00<?, ?it/s]"
      ]
     },
     "metadata": {},
     "output_type": "display_data"
    },
    {
     "data": {
      "application/vnd.jupyter.widget-view+json": {
       "model_id": "d9a5a9ceb3284190b698674bc11c0361",
       "version_major": 2,
       "version_minor": 0
      },
      "text/plain": [
       "  0%|          | 0/31 [00:00<?, ?it/s]"
      ]
     },
     "metadata": {},
     "output_type": "display_data"
    },
    {
     "name": "stdout",
     "output_type": "stream",
     "text": [
      "Epoch: 368 \tTraining Loss: 0.067458 \tValidation Loss: 0.673288\n",
      "Epoch: 368 \tTraining accuracy: 1.000000 \tValidation accuracy: 0.823666\n",
      "epoch =  369\n"
     ]
    },
    {
     "data": {
      "application/vnd.jupyter.widget-view+json": {
       "model_id": "2657ab108660449881aea9b37777bad7",
       "version_major": 2,
       "version_minor": 0
      },
      "text/plain": [
       "  0%|          | 0/62 [00:00<?, ?it/s]"
      ]
     },
     "metadata": {},
     "output_type": "display_data"
    },
    {
     "data": {
      "application/vnd.jupyter.widget-view+json": {
       "model_id": "086c31a9901c45839bef17c30068d42a",
       "version_major": 2,
       "version_minor": 0
      },
      "text/plain": [
       "  0%|          | 0/31 [00:00<?, ?it/s]"
      ]
     },
     "metadata": {},
     "output_type": "display_data"
    },
    {
     "name": "stdout",
     "output_type": "stream",
     "text": [
      "Epoch: 369 \tTraining Loss: 0.065742 \tValidation Loss: 0.684958\n",
      "Epoch: 369 \tTraining accuracy: 1.000000 \tValidation accuracy: 0.826148\n",
      "epoch =  370\n"
     ]
    },
    {
     "data": {
      "application/vnd.jupyter.widget-view+json": {
       "model_id": "7e39acb88ad64ecba6a10f6836839258",
       "version_major": 2,
       "version_minor": 0
      },
      "text/plain": [
       "  0%|          | 0/62 [00:00<?, ?it/s]"
      ]
     },
     "metadata": {},
     "output_type": "display_data"
    },
    {
     "data": {
      "application/vnd.jupyter.widget-view+json": {
       "model_id": "a0415c59943a4f59855eaf4cde2acabf",
       "version_major": 2,
       "version_minor": 0
      },
      "text/plain": [
       "  0%|          | 0/31 [00:00<?, ?it/s]"
      ]
     },
     "metadata": {},
     "output_type": "display_data"
    },
    {
     "name": "stdout",
     "output_type": "stream",
     "text": [
      "Epoch: 370 \tTraining Loss: 0.066771 \tValidation Loss: 0.711612\n",
      "Epoch: 370 \tTraining accuracy: 0.999496 \tValidation accuracy: 0.816067\n",
      "epoch =  371\n"
     ]
    },
    {
     "data": {
      "application/vnd.jupyter.widget-view+json": {
       "model_id": "811aa04516974a39886bb68e60e595bf",
       "version_major": 2,
       "version_minor": 0
      },
      "text/plain": [
       "  0%|          | 0/62 [00:00<?, ?it/s]"
      ]
     },
     "metadata": {},
     "output_type": "display_data"
    },
    {
     "data": {
      "application/vnd.jupyter.widget-view+json": {
       "model_id": "33f22038c6a04249822806d9035cfb7c",
       "version_major": 2,
       "version_minor": 0
      },
      "text/plain": [
       "  0%|          | 0/31 [00:00<?, ?it/s]"
      ]
     },
     "metadata": {},
     "output_type": "display_data"
    },
    {
     "name": "stdout",
     "output_type": "stream",
     "text": [
      "Epoch: 371 \tTraining Loss: 0.063147 \tValidation Loss: 0.642648\n",
      "Epoch: 371 \tTraining accuracy: 1.000000 \tValidation accuracy: 0.848325\n",
      "epoch =  372\n"
     ]
    },
    {
     "data": {
      "application/vnd.jupyter.widget-view+json": {
       "model_id": "1a023282885a4b2c8312bcb4759dbb17",
       "version_major": 2,
       "version_minor": 0
      },
      "text/plain": [
       "  0%|          | 0/62 [00:00<?, ?it/s]"
      ]
     },
     "metadata": {},
     "output_type": "display_data"
    },
    {
     "data": {
      "application/vnd.jupyter.widget-view+json": {
       "model_id": "d5b82248c9074dacb3b8bff10cfb8555",
       "version_major": 2,
       "version_minor": 0
      },
      "text/plain": [
       "  0%|          | 0/31 [00:00<?, ?it/s]"
      ]
     },
     "metadata": {},
     "output_type": "display_data"
    },
    {
     "name": "stdout",
     "output_type": "stream",
     "text": [
      "Epoch: 372 \tTraining Loss: 0.070375 \tValidation Loss: 0.676302\n",
      "Epoch: 372 \tTraining accuracy: 0.998488 \tValidation accuracy: 0.841811\n",
      "epoch =  373\n"
     ]
    },
    {
     "data": {
      "application/vnd.jupyter.widget-view+json": {
       "model_id": "abc2266a5da24b79a5b5148820ba454f",
       "version_major": 2,
       "version_minor": 0
      },
      "text/plain": [
       "  0%|          | 0/62 [00:00<?, ?it/s]"
      ]
     },
     "metadata": {},
     "output_type": "display_data"
    },
    {
     "data": {
      "application/vnd.jupyter.widget-view+json": {
       "model_id": "dd55346a2fea45afb881b09806782728",
       "version_major": 2,
       "version_minor": 0
      },
      "text/plain": [
       "  0%|          | 0/31 [00:00<?, ?it/s]"
      ]
     },
     "metadata": {},
     "output_type": "display_data"
    },
    {
     "name": "stdout",
     "output_type": "stream",
     "text": [
      "Epoch: 373 \tTraining Loss: 0.065641 \tValidation Loss: 0.698033\n",
      "Epoch: 373 \tTraining accuracy: 1.000000 \tValidation accuracy: 0.826768\n",
      "epoch =  374\n"
     ]
    },
    {
     "data": {
      "application/vnd.jupyter.widget-view+json": {
       "model_id": "795b975ff2994bdbaad04bacfd165cf2",
       "version_major": 2,
       "version_minor": 0
      },
      "text/plain": [
       "  0%|          | 0/62 [00:00<?, ?it/s]"
      ]
     },
     "metadata": {},
     "output_type": "display_data"
    },
    {
     "data": {
      "application/vnd.jupyter.widget-view+json": {
       "model_id": "0ec9b393b255418e8883cbbe21fd4767",
       "version_major": 2,
       "version_minor": 0
      },
      "text/plain": [
       "  0%|          | 0/31 [00:00<?, ?it/s]"
      ]
     },
     "metadata": {},
     "output_type": "display_data"
    },
    {
     "name": "stdout",
     "output_type": "stream",
     "text": [
      "Epoch: 374 \tTraining Loss: 0.063106 \tValidation Loss: 0.723525\n",
      "Epoch: 374 \tTraining accuracy: 1.000000 \tValidation accuracy: 0.813120\n",
      "epoch =  375\n"
     ]
    },
    {
     "data": {
      "application/vnd.jupyter.widget-view+json": {
       "model_id": "49bc4a1bd95d47daa0d5511e471c7f1a",
       "version_major": 2,
       "version_minor": 0
      },
      "text/plain": [
       "  0%|          | 0/62 [00:00<?, ?it/s]"
      ]
     },
     "metadata": {},
     "output_type": "display_data"
    },
    {
     "data": {
      "application/vnd.jupyter.widget-view+json": {
       "model_id": "e2c320e6035448a1bd7645e4488422b2",
       "version_major": 2,
       "version_minor": 0
      },
      "text/plain": [
       "  0%|          | 0/31 [00:00<?, ?it/s]"
      ]
     },
     "metadata": {},
     "output_type": "display_data"
    },
    {
     "name": "stdout",
     "output_type": "stream",
     "text": [
      "Epoch: 375 \tTraining Loss: 0.066651 \tValidation Loss: 0.714374\n",
      "Epoch: 375 \tTraining accuracy: 1.000000 \tValidation accuracy: 0.808158\n",
      "epoch =  376\n"
     ]
    },
    {
     "data": {
      "application/vnd.jupyter.widget-view+json": {
       "model_id": "a8f36148baac4131aef05be5f15340d5",
       "version_major": 2,
       "version_minor": 0
      },
      "text/plain": [
       "  0%|          | 0/62 [00:00<?, ?it/s]"
      ]
     },
     "metadata": {},
     "output_type": "display_data"
    },
    {
     "data": {
      "application/vnd.jupyter.widget-view+json": {
       "model_id": "56ecd956b8ac48f7af0d19e5d5825ca9",
       "version_major": 2,
       "version_minor": 0
      },
      "text/plain": [
       "  0%|          | 0/31 [00:00<?, ?it/s]"
      ]
     },
     "metadata": {},
     "output_type": "display_data"
    },
    {
     "name": "stdout",
     "output_type": "stream",
     "text": [
      "Epoch: 376 \tTraining Loss: 0.067101 \tValidation Loss: 0.662921\n",
      "Epoch: 376 \tTraining accuracy: 1.000000 \tValidation accuracy: 0.832196\n",
      "epoch =  377\n"
     ]
    },
    {
     "data": {
      "application/vnd.jupyter.widget-view+json": {
       "model_id": "5a5b06b2aad0489898959e64b7bf82a4",
       "version_major": 2,
       "version_minor": 0
      },
      "text/plain": [
       "  0%|          | 0/62 [00:00<?, ?it/s]"
      ]
     },
     "metadata": {},
     "output_type": "display_data"
    },
    {
     "data": {
      "application/vnd.jupyter.widget-view+json": {
       "model_id": "2f0f6309e97445c6a1d455dd70badcf8",
       "version_major": 2,
       "version_minor": 0
      },
      "text/plain": [
       "  0%|          | 0/31 [00:00<?, ?it/s]"
      ]
     },
     "metadata": {},
     "output_type": "display_data"
    },
    {
     "name": "stdout",
     "output_type": "stream",
     "text": [
      "Epoch: 377 \tTraining Loss: 0.062706 \tValidation Loss: 0.709453\n",
      "Epoch: 377 \tTraining accuracy: 1.000000 \tValidation accuracy: 0.830180\n",
      "epoch =  378\n"
     ]
    },
    {
     "data": {
      "application/vnd.jupyter.widget-view+json": {
       "model_id": "e095f29d26bc4f2eb9bab1a9f1dce9d3",
       "version_major": 2,
       "version_minor": 0
      },
      "text/plain": [
       "  0%|          | 0/62 [00:00<?, ?it/s]"
      ]
     },
     "metadata": {},
     "output_type": "display_data"
    },
    {
     "data": {
      "application/vnd.jupyter.widget-view+json": {
       "model_id": "71387b755fc34157951dcd43712b3be2",
       "version_major": 2,
       "version_minor": 0
      },
      "text/plain": [
       "  0%|          | 0/31 [00:00<?, ?it/s]"
      ]
     },
     "metadata": {},
     "output_type": "display_data"
    },
    {
     "name": "stdout",
     "output_type": "stream",
     "text": [
      "Epoch: 378 \tTraining Loss: 0.062475 \tValidation Loss: 0.691454\n",
      "Epoch: 378 \tTraining accuracy: 1.000000 \tValidation accuracy: 0.816687\n",
      "epoch =  379\n"
     ]
    },
    {
     "data": {
      "application/vnd.jupyter.widget-view+json": {
       "model_id": "83f8eac00ea74ea9994579b6b9ef572e",
       "version_major": 2,
       "version_minor": 0
      },
      "text/plain": [
       "  0%|          | 0/62 [00:00<?, ?it/s]"
      ]
     },
     "metadata": {},
     "output_type": "display_data"
    },
    {
     "data": {
      "application/vnd.jupyter.widget-view+json": {
       "model_id": "65bab4f7472948e582cc344dd25a45a1",
       "version_major": 2,
       "version_minor": 0
      },
      "text/plain": [
       "  0%|          | 0/31 [00:00<?, ?it/s]"
      ]
     },
     "metadata": {},
     "output_type": "display_data"
    },
    {
     "name": "stdout",
     "output_type": "stream",
     "text": [
      "Epoch: 379 \tTraining Loss: 0.062887 \tValidation Loss: 0.701439\n",
      "Epoch: 379 \tTraining accuracy: 1.000000 \tValidation accuracy: 0.814051\n",
      "epoch =  380\n"
     ]
    },
    {
     "data": {
      "application/vnd.jupyter.widget-view+json": {
       "model_id": "ab4086d95cea4e009eaf450ef4978b0c",
       "version_major": 2,
       "version_minor": 0
      },
      "text/plain": [
       "  0%|          | 0/62 [00:00<?, ?it/s]"
      ]
     },
     "metadata": {},
     "output_type": "display_data"
    },
    {
     "data": {
      "application/vnd.jupyter.widget-view+json": {
       "model_id": "fae35e1ac6b94c8f93e684c21c0413a6",
       "version_major": 2,
       "version_minor": 0
      },
      "text/plain": [
       "  0%|          | 0/31 [00:00<?, ?it/s]"
      ]
     },
     "metadata": {},
     "output_type": "display_data"
    },
    {
     "name": "stdout",
     "output_type": "stream",
     "text": [
      "Epoch: 380 \tTraining Loss: 0.062913 \tValidation Loss: 0.696362\n",
      "Epoch: 380 \tTraining accuracy: 1.000000 \tValidation accuracy: 0.817773\n",
      "epoch =  381\n"
     ]
    },
    {
     "data": {
      "application/vnd.jupyter.widget-view+json": {
       "model_id": "c27c6fbb8898409f9a4670dccae4a7e4",
       "version_major": 2,
       "version_minor": 0
      },
      "text/plain": [
       "  0%|          | 0/62 [00:00<?, ?it/s]"
      ]
     },
     "metadata": {},
     "output_type": "display_data"
    },
    {
     "data": {
      "application/vnd.jupyter.widget-view+json": {
       "model_id": "80746b3342614098a46f853ec0f42767",
       "version_major": 2,
       "version_minor": 0
      },
      "text/plain": [
       "  0%|          | 0/31 [00:00<?, ?it/s]"
      ]
     },
     "metadata": {},
     "output_type": "display_data"
    },
    {
     "name": "stdout",
     "output_type": "stream",
     "text": [
      "Epoch: 381 \tTraining Loss: 0.063798 \tValidation Loss: 0.679700\n",
      "Epoch: 381 \tTraining accuracy: 1.000000 \tValidation accuracy: 0.819169\n",
      "epoch =  382\n"
     ]
    },
    {
     "data": {
      "application/vnd.jupyter.widget-view+json": {
       "model_id": "628dd7d9b8e942caaa5068f2f2351790",
       "version_major": 2,
       "version_minor": 0
      },
      "text/plain": [
       "  0%|          | 0/62 [00:00<?, ?it/s]"
      ]
     },
     "metadata": {},
     "output_type": "display_data"
    },
    {
     "data": {
      "application/vnd.jupyter.widget-view+json": {
       "model_id": "59b08069465c45feb9ecc4de38712fd7",
       "version_major": 2,
       "version_minor": 0
      },
      "text/plain": [
       "  0%|          | 0/31 [00:00<?, ?it/s]"
      ]
     },
     "metadata": {},
     "output_type": "display_data"
    },
    {
     "name": "stdout",
     "output_type": "stream",
     "text": [
      "Epoch: 382 \tTraining Loss: 0.069831 \tValidation Loss: 0.703940\n",
      "Epoch: 382 \tTraining accuracy: 0.999496 \tValidation accuracy: 0.822736\n",
      "epoch =  383\n"
     ]
    },
    {
     "data": {
      "application/vnd.jupyter.widget-view+json": {
       "model_id": "22af69d73a884968b3e979594906b811",
       "version_major": 2,
       "version_minor": 0
      },
      "text/plain": [
       "  0%|          | 0/62 [00:00<?, ?it/s]"
      ]
     },
     "metadata": {},
     "output_type": "display_data"
    },
    {
     "data": {
      "application/vnd.jupyter.widget-view+json": {
       "model_id": "a28945a3e4bd4f6593d39bf2cabd524c",
       "version_major": 2,
       "version_minor": 0
      },
      "text/plain": [
       "  0%|          | 0/31 [00:00<?, ?it/s]"
      ]
     },
     "metadata": {},
     "output_type": "display_data"
    },
    {
     "name": "stdout",
     "output_type": "stream",
     "text": [
      "Epoch: 383 \tTraining Loss: 0.068121 \tValidation Loss: 0.703264\n",
      "Epoch: 383 \tTraining accuracy: 1.000000 \tValidation accuracy: 0.814671\n",
      "epoch =  384\n"
     ]
    },
    {
     "data": {
      "application/vnd.jupyter.widget-view+json": {
       "model_id": "7ebff9e763ae4bdab7c4c481e5c90e3f",
       "version_major": 2,
       "version_minor": 0
      },
      "text/plain": [
       "  0%|          | 0/62 [00:00<?, ?it/s]"
      ]
     },
     "metadata": {},
     "output_type": "display_data"
    },
    {
     "data": {
      "application/vnd.jupyter.widget-view+json": {
       "model_id": "cb29dfbe402e45aea8574fbf42581250",
       "version_major": 2,
       "version_minor": 0
      },
      "text/plain": [
       "  0%|          | 0/31 [00:00<?, ?it/s]"
      ]
     },
     "metadata": {},
     "output_type": "display_data"
    },
    {
     "name": "stdout",
     "output_type": "stream",
     "text": [
      "Epoch: 384 \tTraining Loss: 0.062612 \tValidation Loss: 0.635351\n",
      "Epoch: 384 \tTraining accuracy: 1.000000 \tValidation accuracy: 0.852978\n",
      "epoch =  385\n"
     ]
    },
    {
     "data": {
      "application/vnd.jupyter.widget-view+json": {
       "model_id": "2a5ac6da4e924be9991c58b74bd0f9e0",
       "version_major": 2,
       "version_minor": 0
      },
      "text/plain": [
       "  0%|          | 0/62 [00:00<?, ?it/s]"
      ]
     },
     "metadata": {},
     "output_type": "display_data"
    },
    {
     "data": {
      "application/vnd.jupyter.widget-view+json": {
       "model_id": "1455faaa10ce451d982894b59871c30f",
       "version_major": 2,
       "version_minor": 0
      },
      "text/plain": [
       "  0%|          | 0/31 [00:00<?, ?it/s]"
      ]
     },
     "metadata": {},
     "output_type": "display_data"
    },
    {
     "name": "stdout",
     "output_type": "stream",
     "text": [
      "Epoch: 385 \tTraining Loss: 0.068651 \tValidation Loss: 0.729105\n",
      "Epoch: 385 \tTraining accuracy: 1.000000 \tValidation accuracy: 0.807072\n",
      "epoch =  386\n"
     ]
    },
    {
     "data": {
      "application/vnd.jupyter.widget-view+json": {
       "model_id": "648244a1eb55484d9dfaaeda4a1c6705",
       "version_major": 2,
       "version_minor": 0
      },
      "text/plain": [
       "  0%|          | 0/62 [00:00<?, ?it/s]"
      ]
     },
     "metadata": {},
     "output_type": "display_data"
    },
    {
     "data": {
      "application/vnd.jupyter.widget-view+json": {
       "model_id": "3c5f12b8e4d945658c18f12d58644fce",
       "version_major": 2,
       "version_minor": 0
      },
      "text/plain": [
       "  0%|          | 0/31 [00:00<?, ?it/s]"
      ]
     },
     "metadata": {},
     "output_type": "display_data"
    },
    {
     "name": "stdout",
     "output_type": "stream",
     "text": [
      "Epoch: 386 \tTraining Loss: 0.061720 \tValidation Loss: 0.670792\n",
      "Epoch: 386 \tTraining accuracy: 1.000000 \tValidation accuracy: 0.827698\n",
      "epoch =  387\n"
     ]
    },
    {
     "data": {
      "application/vnd.jupyter.widget-view+json": {
       "model_id": "c7284ca321c44fcf92550cd4beb52d61",
       "version_major": 2,
       "version_minor": 0
      },
      "text/plain": [
       "  0%|          | 0/62 [00:00<?, ?it/s]"
      ]
     },
     "metadata": {},
     "output_type": "display_data"
    },
    {
     "data": {
      "application/vnd.jupyter.widget-view+json": {
       "model_id": "071b732e3dbc4281b951599102dd8509",
       "version_major": 2,
       "version_minor": 0
      },
      "text/plain": [
       "  0%|          | 0/31 [00:00<?, ?it/s]"
      ]
     },
     "metadata": {},
     "output_type": "display_data"
    },
    {
     "name": "stdout",
     "output_type": "stream",
     "text": [
      "Epoch: 387 \tTraining Loss: 0.064925 \tValidation Loss: 0.703208\n",
      "Epoch: 387 \tTraining accuracy: 1.000000 \tValidation accuracy: 0.813741\n",
      "epoch =  388\n"
     ]
    },
    {
     "data": {
      "application/vnd.jupyter.widget-view+json": {
       "model_id": "b392bf9d2ae346d1a537c2ed4be937b1",
       "version_major": 2,
       "version_minor": 0
      },
      "text/plain": [
       "  0%|          | 0/62 [00:00<?, ?it/s]"
      ]
     },
     "metadata": {},
     "output_type": "display_data"
    },
    {
     "data": {
      "application/vnd.jupyter.widget-view+json": {
       "model_id": "659c255d93404b3a95f47a83849161de",
       "version_major": 2,
       "version_minor": 0
      },
      "text/plain": [
       "  0%|          | 0/31 [00:00<?, ?it/s]"
      ]
     },
     "metadata": {},
     "output_type": "display_data"
    },
    {
     "name": "stdout",
     "output_type": "stream",
     "text": [
      "Epoch: 388 \tTraining Loss: 0.065557 \tValidation Loss: 0.668148\n",
      "Epoch: 388 \tTraining accuracy: 1.000000 \tValidation accuracy: 0.825682\n",
      "epoch =  389\n"
     ]
    },
    {
     "data": {
      "application/vnd.jupyter.widget-view+json": {
       "model_id": "46020b3daf45473686ba20bdfc80385f",
       "version_major": 2,
       "version_minor": 0
      },
      "text/plain": [
       "  0%|          | 0/62 [00:00<?, ?it/s]"
      ]
     },
     "metadata": {},
     "output_type": "display_data"
    },
    {
     "data": {
      "application/vnd.jupyter.widget-view+json": {
       "model_id": "d933516f452e49858cc4f45ff13f25a8",
       "version_major": 2,
       "version_minor": 0
      },
      "text/plain": [
       "  0%|          | 0/31 [00:00<?, ?it/s]"
      ]
     },
     "metadata": {},
     "output_type": "display_data"
    },
    {
     "name": "stdout",
     "output_type": "stream",
     "text": [
      "Epoch: 389 \tTraining Loss: 0.067411 \tValidation Loss: 0.679245\n",
      "Epoch: 389 \tTraining accuracy: 0.999496 \tValidation accuracy: 0.811104\n",
      "epoch =  390\n"
     ]
    },
    {
     "data": {
      "application/vnd.jupyter.widget-view+json": {
       "model_id": "3edf9f49d03542cbba99beb33c9f5b60",
       "version_major": 2,
       "version_minor": 0
      },
      "text/plain": [
       "  0%|          | 0/62 [00:00<?, ?it/s]"
      ]
     },
     "metadata": {},
     "output_type": "display_data"
    },
    {
     "data": {
      "application/vnd.jupyter.widget-view+json": {
       "model_id": "bf98f11fcbcf4417bda6b89535fe006f",
       "version_major": 2,
       "version_minor": 0
      },
      "text/plain": [
       "  0%|          | 0/31 [00:00<?, ?it/s]"
      ]
     },
     "metadata": {},
     "output_type": "display_data"
    },
    {
     "name": "stdout",
     "output_type": "stream",
     "text": [
      "Epoch: 390 \tTraining Loss: 0.067664 \tValidation Loss: 0.727785\n",
      "Epoch: 390 \tTraining accuracy: 1.000000 \tValidation accuracy: 0.805521\n",
      "epoch =  391\n"
     ]
    },
    {
     "data": {
      "application/vnd.jupyter.widget-view+json": {
       "model_id": "43c9488ca7ec415ca2bcb5b67525da2c",
       "version_major": 2,
       "version_minor": 0
      },
      "text/plain": [
       "  0%|          | 0/62 [00:00<?, ?it/s]"
      ]
     },
     "metadata": {},
     "output_type": "display_data"
    },
    {
     "data": {
      "application/vnd.jupyter.widget-view+json": {
       "model_id": "41d6322d44f946349990164088fe9544",
       "version_major": 2,
       "version_minor": 0
      },
      "text/plain": [
       "  0%|          | 0/31 [00:00<?, ?it/s]"
      ]
     },
     "metadata": {},
     "output_type": "display_data"
    },
    {
     "name": "stdout",
     "output_type": "stream",
     "text": [
      "Epoch: 391 \tTraining Loss: 0.063473 \tValidation Loss: 0.742937\n",
      "Epoch: 391 \tTraining accuracy: 0.999496 \tValidation accuracy: 0.803040\n",
      "epoch =  392\n"
     ]
    },
    {
     "data": {
      "application/vnd.jupyter.widget-view+json": {
       "model_id": "8cc97be215734a97aeeeb9db2274c03e",
       "version_major": 2,
       "version_minor": 0
      },
      "text/plain": [
       "  0%|          | 0/62 [00:00<?, ?it/s]"
      ]
     },
     "metadata": {},
     "output_type": "display_data"
    },
    {
     "data": {
      "application/vnd.jupyter.widget-view+json": {
       "model_id": "82c00a2ed05c443a84fefeade3cbdd02",
       "version_major": 2,
       "version_minor": 0
      },
      "text/plain": [
       "  0%|          | 0/31 [00:00<?, ?it/s]"
      ]
     },
     "metadata": {},
     "output_type": "display_data"
    },
    {
     "name": "stdout",
     "output_type": "stream",
     "text": [
      "Epoch: 392 \tTraining Loss: 0.069447 \tValidation Loss: 0.650387\n",
      "Epoch: 392 \tTraining accuracy: 0.999496 \tValidation accuracy: 0.826303\n",
      "epoch =  393\n"
     ]
    },
    {
     "data": {
      "application/vnd.jupyter.widget-view+json": {
       "model_id": "76b3402c3a004091a23dedcdacf4dbd8",
       "version_major": 2,
       "version_minor": 0
      },
      "text/plain": [
       "  0%|          | 0/62 [00:00<?, ?it/s]"
      ]
     },
     "metadata": {},
     "output_type": "display_data"
    },
    {
     "data": {
      "application/vnd.jupyter.widget-view+json": {
       "model_id": "4c5c6e526a95405eb968d831b3df864a",
       "version_major": 2,
       "version_minor": 0
      },
      "text/plain": [
       "  0%|          | 0/31 [00:00<?, ?it/s]"
      ]
     },
     "metadata": {},
     "output_type": "display_data"
    },
    {
     "name": "stdout",
     "output_type": "stream",
     "text": [
      "Epoch: 393 \tTraining Loss: 0.067467 \tValidation Loss: 0.668564\n",
      "Epoch: 393 \tTraining accuracy: 0.999496 \tValidation accuracy: 0.815602\n",
      "epoch =  394\n"
     ]
    },
    {
     "data": {
      "application/vnd.jupyter.widget-view+json": {
       "model_id": "e8008844c9d44a6f896de78b49d67102",
       "version_major": 2,
       "version_minor": 0
      },
      "text/plain": [
       "  0%|          | 0/62 [00:00<?, ?it/s]"
      ]
     },
     "metadata": {},
     "output_type": "display_data"
    },
    {
     "data": {
      "application/vnd.jupyter.widget-view+json": {
       "model_id": "98b4925b811b4780b6615d472c5e4165",
       "version_major": 2,
       "version_minor": 0
      },
      "text/plain": [
       "  0%|          | 0/31 [00:00<?, ?it/s]"
      ]
     },
     "metadata": {},
     "output_type": "display_data"
    },
    {
     "name": "stdout",
     "output_type": "stream",
     "text": [
      "Epoch: 394 \tTraining Loss: 0.065309 \tValidation Loss: 0.670933\n",
      "Epoch: 394 \tTraining accuracy: 0.999496 \tValidation accuracy: 0.855459\n",
      "epoch =  395\n"
     ]
    },
    {
     "data": {
      "application/vnd.jupyter.widget-view+json": {
       "model_id": "858cb668ad0f473b94af1e5b4a01ab9b",
       "version_major": 2,
       "version_minor": 0
      },
      "text/plain": [
       "  0%|          | 0/62 [00:00<?, ?it/s]"
      ]
     },
     "metadata": {},
     "output_type": "display_data"
    },
    {
     "data": {
      "application/vnd.jupyter.widget-view+json": {
       "model_id": "5d0a86e0f3ae4d049d34addcc7096bf5",
       "version_major": 2,
       "version_minor": 0
      },
      "text/plain": [
       "  0%|          | 0/31 [00:00<?, ?it/s]"
      ]
     },
     "metadata": {},
     "output_type": "display_data"
    },
    {
     "name": "stdout",
     "output_type": "stream",
     "text": [
      "Epoch: 395 \tTraining Loss: 0.063341 \tValidation Loss: 0.686724\n",
      "Epoch: 395 \tTraining accuracy: 1.000000 \tValidation accuracy: 0.816687\n",
      "epoch =  396\n"
     ]
    },
    {
     "data": {
      "application/vnd.jupyter.widget-view+json": {
       "model_id": "eaaa42eda7d04f65a989b6a1716255e9",
       "version_major": 2,
       "version_minor": 0
      },
      "text/plain": [
       "  0%|          | 0/62 [00:00<?, ?it/s]"
      ]
     },
     "metadata": {},
     "output_type": "display_data"
    },
    {
     "data": {
      "application/vnd.jupyter.widget-view+json": {
       "model_id": "7b924d9d16e748798a597fa20a5a9ce5",
       "version_major": 2,
       "version_minor": 0
      },
      "text/plain": [
       "  0%|          | 0/31 [00:00<?, ?it/s]"
      ]
     },
     "metadata": {},
     "output_type": "display_data"
    },
    {
     "name": "stdout",
     "output_type": "stream",
     "text": [
      "Epoch: 396 \tTraining Loss: 0.063074 \tValidation Loss: 0.661593\n",
      "Epoch: 396 \tTraining accuracy: 1.000000 \tValidation accuracy: 0.845844\n",
      "epoch =  397\n"
     ]
    },
    {
     "data": {
      "application/vnd.jupyter.widget-view+json": {
       "model_id": "8a9eca00a0dc46379cc7b983d7731b5f",
       "version_major": 2,
       "version_minor": 0
      },
      "text/plain": [
       "  0%|          | 0/62 [00:00<?, ?it/s]"
      ]
     },
     "metadata": {},
     "output_type": "display_data"
    },
    {
     "data": {
      "application/vnd.jupyter.widget-view+json": {
       "model_id": "1a990f1b8b0a472488879a72449675f8",
       "version_major": 2,
       "version_minor": 0
      },
      "text/plain": [
       "  0%|          | 0/31 [00:00<?, ?it/s]"
      ]
     },
     "metadata": {},
     "output_type": "display_data"
    },
    {
     "name": "stdout",
     "output_type": "stream",
     "text": [
      "Epoch: 397 \tTraining Loss: 0.064476 \tValidation Loss: 0.707094\n",
      "Epoch: 397 \tTraining accuracy: 1.000000 \tValidation accuracy: 0.807072\n",
      "epoch =  398\n"
     ]
    },
    {
     "data": {
      "application/vnd.jupyter.widget-view+json": {
       "model_id": "0bd8d57ac6aa411e964fe613e20c3815",
       "version_major": 2,
       "version_minor": 0
      },
      "text/plain": [
       "  0%|          | 0/62 [00:00<?, ?it/s]"
      ]
     },
     "metadata": {},
     "output_type": "display_data"
    },
    {
     "data": {
      "application/vnd.jupyter.widget-view+json": {
       "model_id": "60da079fb2984250a6dd8a65dc5af1e2",
       "version_major": 2,
       "version_minor": 0
      },
      "text/plain": [
       "  0%|          | 0/31 [00:00<?, ?it/s]"
      ]
     },
     "metadata": {},
     "output_type": "display_data"
    },
    {
     "name": "stdout",
     "output_type": "stream",
     "text": [
      "Epoch: 398 \tTraining Loss: 0.064800 \tValidation Loss: 0.634700\n",
      "Epoch: 398 \tTraining accuracy: 1.000000 \tValidation accuracy: 0.859026\n",
      "epoch =  399\n"
     ]
    },
    {
     "data": {
      "application/vnd.jupyter.widget-view+json": {
       "model_id": "01ad13a4df4d4cd08cbffbf082643263",
       "version_major": 2,
       "version_minor": 0
      },
      "text/plain": [
       "  0%|          | 0/62 [00:00<?, ?it/s]"
      ]
     },
     "metadata": {},
     "output_type": "display_data"
    },
    {
     "data": {
      "application/vnd.jupyter.widget-view+json": {
       "model_id": "4d022d94df9a471ea7abdef03e67d9cb",
       "version_major": 2,
       "version_minor": 0
      },
      "text/plain": [
       "  0%|          | 0/31 [00:00<?, ?it/s]"
      ]
     },
     "metadata": {},
     "output_type": "display_data"
    },
    {
     "name": "stdout",
     "output_type": "stream",
     "text": [
      "Epoch: 399 \tTraining Loss: 0.062571 \tValidation Loss: 0.647550\n",
      "Epoch: 399 \tTraining accuracy: 0.998992 \tValidation accuracy: 0.833747\n",
      "epoch =  400\n"
     ]
    },
    {
     "data": {
      "application/vnd.jupyter.widget-view+json": {
       "model_id": "db1018f8c5734a94a0467e9ba3b26077",
       "version_major": 2,
       "version_minor": 0
      },
      "text/plain": [
       "  0%|          | 0/62 [00:00<?, ?it/s]"
      ]
     },
     "metadata": {},
     "output_type": "display_data"
    },
    {
     "data": {
      "application/vnd.jupyter.widget-view+json": {
       "model_id": "a9b08046831f4b86accda3aeac460ae2",
       "version_major": 2,
       "version_minor": 0
      },
      "text/plain": [
       "  0%|          | 0/31 [00:00<?, ?it/s]"
      ]
     },
     "metadata": {},
     "output_type": "display_data"
    },
    {
     "name": "stdout",
     "output_type": "stream",
     "text": [
      "Epoch: 400 \tTraining Loss: 0.064279 \tValidation Loss: 0.737030\n",
      "Epoch: 400 \tTraining accuracy: 1.000000 \tValidation accuracy: 0.794975\n",
      "epoch =  401\n"
     ]
    },
    {
     "data": {
      "application/vnd.jupyter.widget-view+json": {
       "model_id": "3a0553a67768470e830ffb7ac49db348",
       "version_major": 2,
       "version_minor": 0
      },
      "text/plain": [
       "  0%|          | 0/62 [00:00<?, ?it/s]"
      ]
     },
     "metadata": {},
     "output_type": "display_data"
    },
    {
     "data": {
      "application/vnd.jupyter.widget-view+json": {
       "model_id": "a4ddb02c314641fe9e4bc8acbcd1b786",
       "version_major": 2,
       "version_minor": 0
      },
      "text/plain": [
       "  0%|          | 0/31 [00:00<?, ?it/s]"
      ]
     },
     "metadata": {},
     "output_type": "display_data"
    },
    {
     "name": "stdout",
     "output_type": "stream",
     "text": [
      "Epoch: 401 \tTraining Loss: 0.063162 \tValidation Loss: 0.671514\n",
      "Epoch: 401 \tTraining accuracy: 1.000000 \tValidation accuracy: 0.837314\n",
      "epoch =  402\n"
     ]
    },
    {
     "data": {
      "application/vnd.jupyter.widget-view+json": {
       "model_id": "82c8376dbc754218a104fbe1b7ab61fd",
       "version_major": 2,
       "version_minor": 0
      },
      "text/plain": [
       "  0%|          | 0/62 [00:00<?, ?it/s]"
      ]
     },
     "metadata": {},
     "output_type": "display_data"
    },
    {
     "data": {
      "application/vnd.jupyter.widget-view+json": {
       "model_id": "bc28862e1d374e9190346dfb2abab0fa",
       "version_major": 2,
       "version_minor": 0
      },
      "text/plain": [
       "  0%|          | 0/31 [00:00<?, ?it/s]"
      ]
     },
     "metadata": {},
     "output_type": "display_data"
    },
    {
     "name": "stdout",
     "output_type": "stream",
     "text": [
      "Epoch: 402 \tTraining Loss: 0.068363 \tValidation Loss: 0.714896\n",
      "Epoch: 402 \tTraining accuracy: 1.000000 \tValidation accuracy: 0.823666\n",
      "epoch =  403\n"
     ]
    },
    {
     "data": {
      "application/vnd.jupyter.widget-view+json": {
       "model_id": "387a6150a8ec4f95bd5d862f56c4c171",
       "version_major": 2,
       "version_minor": 0
      },
      "text/plain": [
       "  0%|          | 0/62 [00:00<?, ?it/s]"
      ]
     },
     "metadata": {},
     "output_type": "display_data"
    },
    {
     "data": {
      "application/vnd.jupyter.widget-view+json": {
       "model_id": "600064d6d9284122ad42d4871b0371e7",
       "version_major": 2,
       "version_minor": 0
      },
      "text/plain": [
       "  0%|          | 0/31 [00:00<?, ?it/s]"
      ]
     },
     "metadata": {},
     "output_type": "display_data"
    },
    {
     "name": "stdout",
     "output_type": "stream",
     "text": [
      "Epoch: 403 \tTraining Loss: 0.066436 \tValidation Loss: 0.732887\n",
      "Epoch: 403 \tTraining accuracy: 0.999496 \tValidation accuracy: 0.802574\n",
      "epoch =  404\n"
     ]
    },
    {
     "data": {
      "application/vnd.jupyter.widget-view+json": {
       "model_id": "9d0f4f900617430ea6b070181360b2e3",
       "version_major": 2,
       "version_minor": 0
      },
      "text/plain": [
       "  0%|          | 0/62 [00:00<?, ?it/s]"
      ]
     },
     "metadata": {},
     "output_type": "display_data"
    },
    {
     "data": {
      "application/vnd.jupyter.widget-view+json": {
       "model_id": "b53ae36fc7e248c3abd1c56d549f1802",
       "version_major": 2,
       "version_minor": 0
      },
      "text/plain": [
       "  0%|          | 0/31 [00:00<?, ?it/s]"
      ]
     },
     "metadata": {},
     "output_type": "display_data"
    },
    {
     "name": "stdout",
     "output_type": "stream",
     "text": [
      "Epoch: 404 \tTraining Loss: 0.065846 \tValidation Loss: 0.686185\n",
      "Epoch: 404 \tTraining accuracy: 1.000000 \tValidation accuracy: 0.823201\n",
      "epoch =  405\n"
     ]
    },
    {
     "data": {
      "application/vnd.jupyter.widget-view+json": {
       "model_id": "fa9f82496be14b87b6c474507509a964",
       "version_major": 2,
       "version_minor": 0
      },
      "text/plain": [
       "  0%|          | 0/62 [00:00<?, ?it/s]"
      ]
     },
     "metadata": {},
     "output_type": "display_data"
    },
    {
     "data": {
      "application/vnd.jupyter.widget-view+json": {
       "model_id": "da7c1040e4464b228d5f3a56cd83bf73",
       "version_major": 2,
       "version_minor": 0
      },
      "text/plain": [
       "  0%|          | 0/31 [00:00<?, ?it/s]"
      ]
     },
     "metadata": {},
     "output_type": "display_data"
    },
    {
     "name": "stdout",
     "output_type": "stream",
     "text": [
      "Epoch: 405 \tTraining Loss: 0.066362 \tValidation Loss: 0.636165\n",
      "Epoch: 405 \tTraining accuracy: 1.000000 \tValidation accuracy: 0.852823\n",
      "epoch =  406\n"
     ]
    },
    {
     "data": {
      "application/vnd.jupyter.widget-view+json": {
       "model_id": "8b7902d400614b718aacadab5ac41ca5",
       "version_major": 2,
       "version_minor": 0
      },
      "text/plain": [
       "  0%|          | 0/62 [00:00<?, ?it/s]"
      ]
     },
     "metadata": {},
     "output_type": "display_data"
    },
    {
     "data": {
      "application/vnd.jupyter.widget-view+json": {
       "model_id": "d1195d35859e467fb548a4e9adb1d93e",
       "version_major": 2,
       "version_minor": 0
      },
      "text/plain": [
       "  0%|          | 0/31 [00:00<?, ?it/s]"
      ]
     },
     "metadata": {},
     "output_type": "display_data"
    },
    {
     "name": "stdout",
     "output_type": "stream",
     "text": [
      "Epoch: 406 \tTraining Loss: 0.063240 \tValidation Loss: 0.700538\n",
      "Epoch: 406 \tTraining accuracy: 1.000000 \tValidation accuracy: 0.832196\n",
      "epoch =  407\n"
     ]
    },
    {
     "data": {
      "application/vnd.jupyter.widget-view+json": {
       "model_id": "16015ba15603452bae1f541fdc14d51c",
       "version_major": 2,
       "version_minor": 0
      },
      "text/plain": [
       "  0%|          | 0/62 [00:00<?, ?it/s]"
      ]
     },
     "metadata": {},
     "output_type": "display_data"
    },
    {
     "data": {
      "application/vnd.jupyter.widget-view+json": {
       "model_id": "cc18360232f6426b9d853e0a4ad96ed7",
       "version_major": 2,
       "version_minor": 0
      },
      "text/plain": [
       "  0%|          | 0/31 [00:00<?, ?it/s]"
      ]
     },
     "metadata": {},
     "output_type": "display_data"
    },
    {
     "name": "stdout",
     "output_type": "stream",
     "text": [
      "Epoch: 407 \tTraining Loss: 0.065869 \tValidation Loss: 0.636331\n",
      "Epoch: 407 \tTraining accuracy: 1.000000 \tValidation accuracy: 0.822115\n",
      "epoch =  408\n"
     ]
    },
    {
     "data": {
      "application/vnd.jupyter.widget-view+json": {
       "model_id": "a68f3d7f953845aea03b337f07dc7903",
       "version_major": 2,
       "version_minor": 0
      },
      "text/plain": [
       "  0%|          | 0/62 [00:00<?, ?it/s]"
      ]
     },
     "metadata": {},
     "output_type": "display_data"
    },
    {
     "data": {
      "application/vnd.jupyter.widget-view+json": {
       "model_id": "f3f2d8d1cfd9462c8248f5e4abe67120",
       "version_major": 2,
       "version_minor": 0
      },
      "text/plain": [
       "  0%|          | 0/31 [00:00<?, ?it/s]"
      ]
     },
     "metadata": {},
     "output_type": "display_data"
    },
    {
     "name": "stdout",
     "output_type": "stream",
     "text": [
      "Epoch: 408 \tTraining Loss: 0.068115 \tValidation Loss: 0.672143\n",
      "Epoch: 408 \tTraining accuracy: 0.999496 \tValidation accuracy: 0.822115\n",
      "epoch =  409\n"
     ]
    },
    {
     "data": {
      "application/vnd.jupyter.widget-view+json": {
       "model_id": "7fb0540854c54448947431e096c88b52",
       "version_major": 2,
       "version_minor": 0
      },
      "text/plain": [
       "  0%|          | 0/62 [00:00<?, ?it/s]"
      ]
     },
     "metadata": {},
     "output_type": "display_data"
    },
    {
     "data": {
      "application/vnd.jupyter.widget-view+json": {
       "model_id": "299f956c92cc43aa8cb624fcdcfbb604",
       "version_major": 2,
       "version_minor": 0
      },
      "text/plain": [
       "  0%|          | 0/31 [00:00<?, ?it/s]"
      ]
     },
     "metadata": {},
     "output_type": "display_data"
    },
    {
     "name": "stdout",
     "output_type": "stream",
     "text": [
      "Epoch: 409 \tTraining Loss: 0.068534 \tValidation Loss: 0.730534\n",
      "Epoch: 409 \tTraining accuracy: 1.000000 \tValidation accuracy: 0.801024\n",
      "epoch =  410\n"
     ]
    },
    {
     "data": {
      "application/vnd.jupyter.widget-view+json": {
       "model_id": "8fcc6c7bce2d424b9a704e3edd0473e4",
       "version_major": 2,
       "version_minor": 0
      },
      "text/plain": [
       "  0%|          | 0/62 [00:00<?, ?it/s]"
      ]
     },
     "metadata": {},
     "output_type": "display_data"
    },
    {
     "data": {
      "application/vnd.jupyter.widget-view+json": {
       "model_id": "aa90ef0285f54538832a73427a99b581",
       "version_major": 2,
       "version_minor": 0
      },
      "text/plain": [
       "  0%|          | 0/31 [00:00<?, ?it/s]"
      ]
     },
     "metadata": {},
     "output_type": "display_data"
    },
    {
     "name": "stdout",
     "output_type": "stream",
     "text": [
      "Epoch: 410 \tTraining Loss: 0.064544 \tValidation Loss: 0.652338\n",
      "Epoch: 410 \tTraining accuracy: 0.999496 \tValidation accuracy: 0.831266\n",
      "epoch =  411\n"
     ]
    },
    {
     "data": {
      "application/vnd.jupyter.widget-view+json": {
       "model_id": "e20b6546e047412b866d5b17959ee42c",
       "version_major": 2,
       "version_minor": 0
      },
      "text/plain": [
       "  0%|          | 0/62 [00:00<?, ?it/s]"
      ]
     },
     "metadata": {},
     "output_type": "display_data"
    },
    {
     "data": {
      "application/vnd.jupyter.widget-view+json": {
       "model_id": "3ef6bf1447e8414cbde2664a23088c8f",
       "version_major": 2,
       "version_minor": 0
      },
      "text/plain": [
       "  0%|          | 0/31 [00:00<?, ?it/s]"
      ]
     },
     "metadata": {},
     "output_type": "display_data"
    },
    {
     "name": "stdout",
     "output_type": "stream",
     "text": [
      "Epoch: 411 \tTraining Loss: 0.066014 \tValidation Loss: 0.716751\n",
      "Epoch: 411 \tTraining accuracy: 1.000000 \tValidation accuracy: 0.823201\n",
      "epoch =  412\n"
     ]
    },
    {
     "data": {
      "application/vnd.jupyter.widget-view+json": {
       "model_id": "7150c11c52194ad882a8ce96b50a1c32",
       "version_major": 2,
       "version_minor": 0
      },
      "text/plain": [
       "  0%|          | 0/62 [00:00<?, ?it/s]"
      ]
     },
     "metadata": {},
     "output_type": "display_data"
    },
    {
     "data": {
      "application/vnd.jupyter.widget-view+json": {
       "model_id": "6bcd1cb619b749749fb2f5d6d5a9ee31",
       "version_major": 2,
       "version_minor": 0
      },
      "text/plain": [
       "  0%|          | 0/31 [00:00<?, ?it/s]"
      ]
     },
     "metadata": {},
     "output_type": "display_data"
    },
    {
     "name": "stdout",
     "output_type": "stream",
     "text": [
      "Epoch: 412 \tTraining Loss: 0.065899 \tValidation Loss: 0.704069\n",
      "Epoch: 412 \tTraining accuracy: 1.000000 \tValidation accuracy: 0.820720\n",
      "epoch =  413\n"
     ]
    },
    {
     "data": {
      "application/vnd.jupyter.widget-view+json": {
       "model_id": "f12fb14bb63a42169c25ee044fce2042",
       "version_major": 2,
       "version_minor": 0
      },
      "text/plain": [
       "  0%|          | 0/62 [00:00<?, ?it/s]"
      ]
     },
     "metadata": {},
     "output_type": "display_data"
    },
    {
     "data": {
      "application/vnd.jupyter.widget-view+json": {
       "model_id": "04ea6c9f4c7d4260ac43d09bf3b90ce1",
       "version_major": 2,
       "version_minor": 0
      },
      "text/plain": [
       "  0%|          | 0/31 [00:00<?, ?it/s]"
      ]
     },
     "metadata": {},
     "output_type": "display_data"
    },
    {
     "name": "stdout",
     "output_type": "stream",
     "text": [
      "Epoch: 413 \tTraining Loss: 0.066646 \tValidation Loss: 0.706774\n",
      "Epoch: 413 \tTraining accuracy: 0.999496 \tValidation accuracy: 0.801179\n",
      "epoch =  414\n"
     ]
    },
    {
     "data": {
      "application/vnd.jupyter.widget-view+json": {
       "model_id": "5a1c9fb8a8c448d6a28e0c331d2e7b7a",
       "version_major": 2,
       "version_minor": 0
      },
      "text/plain": [
       "  0%|          | 0/62 [00:00<?, ?it/s]"
      ]
     },
     "metadata": {},
     "output_type": "display_data"
    },
    {
     "data": {
      "application/vnd.jupyter.widget-view+json": {
       "model_id": "e3ae0295fe8148f396603cbd5df01579",
       "version_major": 2,
       "version_minor": 0
      },
      "text/plain": [
       "  0%|          | 0/31 [00:00<?, ?it/s]"
      ]
     },
     "metadata": {},
     "output_type": "display_data"
    },
    {
     "name": "stdout",
     "output_type": "stream",
     "text": [
      "Epoch: 414 \tTraining Loss: 0.062349 \tValidation Loss: 0.719525\n",
      "Epoch: 414 \tTraining accuracy: 1.000000 \tValidation accuracy: 0.805986\n",
      "epoch =  415\n"
     ]
    },
    {
     "data": {
      "application/vnd.jupyter.widget-view+json": {
       "model_id": "4b7fb288aab1472d81abb763a3d3ad98",
       "version_major": 2,
       "version_minor": 0
      },
      "text/plain": [
       "  0%|          | 0/62 [00:00<?, ?it/s]"
      ]
     },
     "metadata": {},
     "output_type": "display_data"
    },
    {
     "data": {
      "application/vnd.jupyter.widget-view+json": {
       "model_id": "0b2dd478dbde4f4396d985b204b0e470",
       "version_major": 2,
       "version_minor": 0
      },
      "text/plain": [
       "  0%|          | 0/31 [00:00<?, ?it/s]"
      ]
     },
     "metadata": {},
     "output_type": "display_data"
    },
    {
     "name": "stdout",
     "output_type": "stream",
     "text": [
      "Epoch: 415 \tTraining Loss: 0.064802 \tValidation Loss: 0.673675\n",
      "Epoch: 415 \tTraining accuracy: 1.000000 \tValidation accuracy: 0.831266\n",
      "epoch =  416\n"
     ]
    },
    {
     "data": {
      "application/vnd.jupyter.widget-view+json": {
       "model_id": "ff694e3f655d4461841c035318b75303",
       "version_major": 2,
       "version_minor": 0
      },
      "text/plain": [
       "  0%|          | 0/62 [00:00<?, ?it/s]"
      ]
     },
     "metadata": {},
     "output_type": "display_data"
    },
    {
     "data": {
      "application/vnd.jupyter.widget-view+json": {
       "model_id": "ca47e46b47c14ddfa66c245b0699ac22",
       "version_major": 2,
       "version_minor": 0
      },
      "text/plain": [
       "  0%|          | 0/31 [00:00<?, ?it/s]"
      ]
     },
     "metadata": {},
     "output_type": "display_data"
    },
    {
     "name": "stdout",
     "output_type": "stream",
     "text": [
      "Epoch: 416 \tTraining Loss: 0.065535 \tValidation Loss: 0.680509\n",
      "Epoch: 416 \tTraining accuracy: 1.000000 \tValidation accuracy: 0.835298\n",
      "epoch =  417\n"
     ]
    },
    {
     "data": {
      "application/vnd.jupyter.widget-view+json": {
       "model_id": "9b51402feef444c299bc9b2eba63d2ed",
       "version_major": 2,
       "version_minor": 0
      },
      "text/plain": [
       "  0%|          | 0/62 [00:00<?, ?it/s]"
      ]
     },
     "metadata": {},
     "output_type": "display_data"
    },
    {
     "data": {
      "application/vnd.jupyter.widget-view+json": {
       "model_id": "6324e825d0a148e89b19c4693ca89112",
       "version_major": 2,
       "version_minor": 0
      },
      "text/plain": [
       "  0%|          | 0/31 [00:00<?, ?it/s]"
      ]
     },
     "metadata": {},
     "output_type": "display_data"
    },
    {
     "name": "stdout",
     "output_type": "stream",
     "text": [
      "Epoch: 417 \tTraining Loss: 0.064419 \tValidation Loss: 0.653594\n",
      "Epoch: 417 \tTraining accuracy: 1.000000 \tValidation accuracy: 0.827233\n",
      "epoch =  418\n"
     ]
    },
    {
     "data": {
      "application/vnd.jupyter.widget-view+json": {
       "model_id": "1fdf5785c20e4de69fcaf32bd30fa94a",
       "version_major": 2,
       "version_minor": 0
      },
      "text/plain": [
       "  0%|          | 0/62 [00:00<?, ?it/s]"
      ]
     },
     "metadata": {},
     "output_type": "display_data"
    },
    {
     "data": {
      "application/vnd.jupyter.widget-view+json": {
       "model_id": "3d69e069229d4fcb8ecf9664148a8c61",
       "version_major": 2,
       "version_minor": 0
      },
      "text/plain": [
       "  0%|          | 0/31 [00:00<?, ?it/s]"
      ]
     },
     "metadata": {},
     "output_type": "display_data"
    },
    {
     "name": "stdout",
     "output_type": "stream",
     "text": [
      "Epoch: 418 \tTraining Loss: 0.068278 \tValidation Loss: 0.696295\n",
      "Epoch: 418 \tTraining accuracy: 1.000000 \tValidation accuracy: 0.835298\n",
      "epoch =  419\n"
     ]
    },
    {
     "data": {
      "application/vnd.jupyter.widget-view+json": {
       "model_id": "2deb6c9163af41baaaa7e5c422ff1a75",
       "version_major": 2,
       "version_minor": 0
      },
      "text/plain": [
       "  0%|          | 0/62 [00:00<?, ?it/s]"
      ]
     },
     "metadata": {},
     "output_type": "display_data"
    },
    {
     "data": {
      "application/vnd.jupyter.widget-view+json": {
       "model_id": "740eb881f3d545d788c5f00fb02f20e9",
       "version_major": 2,
       "version_minor": 0
      },
      "text/plain": [
       "  0%|          | 0/31 [00:00<?, ?it/s]"
      ]
     },
     "metadata": {},
     "output_type": "display_data"
    },
    {
     "name": "stdout",
     "output_type": "stream",
     "text": [
      "Epoch: 419 \tTraining Loss: 0.061214 \tValidation Loss: 0.722861\n",
      "Epoch: 419 \tTraining accuracy: 1.000000 \tValidation accuracy: 0.814051\n",
      "epoch =  420\n"
     ]
    },
    {
     "data": {
      "application/vnd.jupyter.widget-view+json": {
       "model_id": "4a281b3295b141f89c4c5cb323fe9794",
       "version_major": 2,
       "version_minor": 0
      },
      "text/plain": [
       "  0%|          | 0/62 [00:00<?, ?it/s]"
      ]
     },
     "metadata": {},
     "output_type": "display_data"
    },
    {
     "data": {
      "application/vnd.jupyter.widget-view+json": {
       "model_id": "29487fd9cf7944dca3fa6cef2a608f1d",
       "version_major": 2,
       "version_minor": 0
      },
      "text/plain": [
       "  0%|          | 0/31 [00:00<?, ?it/s]"
      ]
     },
     "metadata": {},
     "output_type": "display_data"
    },
    {
     "name": "stdout",
     "output_type": "stream",
     "text": [
      "Epoch: 420 \tTraining Loss: 0.067431 \tValidation Loss: 0.721431\n",
      "Epoch: 420 \tTraining accuracy: 1.000000 \tValidation accuracy: 0.803505\n",
      "epoch =  421\n"
     ]
    },
    {
     "data": {
      "application/vnd.jupyter.widget-view+json": {
       "model_id": "67b3d653ee2f4cf89a7fbae3150f9074",
       "version_major": 2,
       "version_minor": 0
      },
      "text/plain": [
       "  0%|          | 0/62 [00:00<?, ?it/s]"
      ]
     },
     "metadata": {},
     "output_type": "display_data"
    },
    {
     "data": {
      "application/vnd.jupyter.widget-view+json": {
       "model_id": "c2bba89507b04b96b51df897ce36a5dc",
       "version_major": 2,
       "version_minor": 0
      },
      "text/plain": [
       "  0%|          | 0/31 [00:00<?, ?it/s]"
      ]
     },
     "metadata": {},
     "output_type": "display_data"
    },
    {
     "name": "stdout",
     "output_type": "stream",
     "text": [
      "Epoch: 421 \tTraining Loss: 0.066063 \tValidation Loss: 0.660070\n",
      "Epoch: 421 \tTraining accuracy: 1.000000 \tValidation accuracy: 0.837779\n",
      "epoch =  422\n"
     ]
    },
    {
     "data": {
      "application/vnd.jupyter.widget-view+json": {
       "model_id": "500b98c7834b426d9a64742bc295913a",
       "version_major": 2,
       "version_minor": 0
      },
      "text/plain": [
       "  0%|          | 0/62 [00:00<?, ?it/s]"
      ]
     },
     "metadata": {},
     "output_type": "display_data"
    },
    {
     "data": {
      "application/vnd.jupyter.widget-view+json": {
       "model_id": "d9b307d28d3043bcb49f033a7f0e6ac9",
       "version_major": 2,
       "version_minor": 0
      },
      "text/plain": [
       "  0%|          | 0/31 [00:00<?, ?it/s]"
      ]
     },
     "metadata": {},
     "output_type": "display_data"
    },
    {
     "name": "stdout",
     "output_type": "stream",
     "text": [
      "Epoch: 422 \tTraining Loss: 0.063799 \tValidation Loss: 0.684713\n",
      "Epoch: 422 \tTraining accuracy: 0.999496 \tValidation accuracy: 0.814051\n",
      "epoch =  423\n"
     ]
    },
    {
     "data": {
      "application/vnd.jupyter.widget-view+json": {
       "model_id": "f29424bde1ea490ba956a1b6f316894d",
       "version_major": 2,
       "version_minor": 0
      },
      "text/plain": [
       "  0%|          | 0/62 [00:00<?, ?it/s]"
      ]
     },
     "metadata": {},
     "output_type": "display_data"
    },
    {
     "data": {
      "application/vnd.jupyter.widget-view+json": {
       "model_id": "048ae4cae4e04ec7b5a737cc610cc9b2",
       "version_major": 2,
       "version_minor": 0
      },
      "text/plain": [
       "  0%|          | 0/31 [00:00<?, ?it/s]"
      ]
     },
     "metadata": {},
     "output_type": "display_data"
    },
    {
     "name": "stdout",
     "output_type": "stream",
     "text": [
      "Epoch: 423 \tTraining Loss: 0.067518 \tValidation Loss: 0.719646\n",
      "Epoch: 423 \tTraining accuracy: 0.999496 \tValidation accuracy: 0.814051\n",
      "epoch =  424\n"
     ]
    },
    {
     "data": {
      "application/vnd.jupyter.widget-view+json": {
       "model_id": "bfc9e1fddef844dbad721fa3a6777723",
       "version_major": 2,
       "version_minor": 0
      },
      "text/plain": [
       "  0%|          | 0/62 [00:00<?, ?it/s]"
      ]
     },
     "metadata": {},
     "output_type": "display_data"
    },
    {
     "data": {
      "application/vnd.jupyter.widget-view+json": {
       "model_id": "e963c817dfb446388954032d50e6bf08",
       "version_major": 2,
       "version_minor": 0
      },
      "text/plain": [
       "  0%|          | 0/31 [00:00<?, ?it/s]"
      ]
     },
     "metadata": {},
     "output_type": "display_data"
    },
    {
     "name": "stdout",
     "output_type": "stream",
     "text": [
      "Epoch: 424 \tTraining Loss: 0.068093 \tValidation Loss: 0.670754\n",
      "Epoch: 424 \tTraining accuracy: 0.998992 \tValidation accuracy: 0.826148\n",
      "epoch =  425\n"
     ]
    },
    {
     "data": {
      "application/vnd.jupyter.widget-view+json": {
       "model_id": "ce0ae35f77d84722811b478e901f57f6",
       "version_major": 2,
       "version_minor": 0
      },
      "text/plain": [
       "  0%|          | 0/62 [00:00<?, ?it/s]"
      ]
     },
     "metadata": {},
     "output_type": "display_data"
    },
    {
     "data": {
      "application/vnd.jupyter.widget-view+json": {
       "model_id": "6c06c57b9bcb4ac885255eeffe9b6e46",
       "version_major": 2,
       "version_minor": 0
      },
      "text/plain": [
       "  0%|          | 0/31 [00:00<?, ?it/s]"
      ]
     },
     "metadata": {},
     "output_type": "display_data"
    },
    {
     "name": "stdout",
     "output_type": "stream",
     "text": [
      "Epoch: 425 \tTraining Loss: 0.065098 \tValidation Loss: 0.643895\n",
      "Epoch: 425 \tTraining accuracy: 0.999496 \tValidation accuracy: 0.843362\n",
      "epoch =  426\n"
     ]
    },
    {
     "data": {
      "application/vnd.jupyter.widget-view+json": {
       "model_id": "1419180500674dd7ab1aaf4b95f7fc5e",
       "version_major": 2,
       "version_minor": 0
      },
      "text/plain": [
       "  0%|          | 0/62 [00:00<?, ?it/s]"
      ]
     },
     "metadata": {},
     "output_type": "display_data"
    },
    {
     "data": {
      "application/vnd.jupyter.widget-view+json": {
       "model_id": "dbcb1411d18447baa2dea667ba9223f9",
       "version_major": 2,
       "version_minor": 0
      },
      "text/plain": [
       "  0%|          | 0/31 [00:00<?, ?it/s]"
      ]
     },
     "metadata": {},
     "output_type": "display_data"
    },
    {
     "name": "stdout",
     "output_type": "stream",
     "text": [
      "Epoch: 426 \tTraining Loss: 0.063461 \tValidation Loss: 0.630027\n",
      "Epoch: 426 \tTraining accuracy: 1.000000 \tValidation accuracy: 0.841811\n",
      "Validation loss decreased (0.630060 --> 0.630027).  Saving model ...\n",
      "epoch =  427\n"
     ]
    },
    {
     "data": {
      "application/vnd.jupyter.widget-view+json": {
       "model_id": "7c24a701746449bb9ae4e1460333e3c0",
       "version_major": 2,
       "version_minor": 0
      },
      "text/plain": [
       "  0%|          | 0/62 [00:00<?, ?it/s]"
      ]
     },
     "metadata": {},
     "output_type": "display_data"
    },
    {
     "data": {
      "application/vnd.jupyter.widget-view+json": {
       "model_id": "97a1e992cb774b8e9784125a2eb82ca6",
       "version_major": 2,
       "version_minor": 0
      },
      "text/plain": [
       "  0%|          | 0/31 [00:00<?, ?it/s]"
      ]
     },
     "metadata": {},
     "output_type": "display_data"
    },
    {
     "name": "stdout",
     "output_type": "stream",
     "text": [
      "Epoch: 427 \tTraining Loss: 0.062392 \tValidation Loss: 0.711934\n",
      "Epoch: 427 \tTraining accuracy: 1.000000 \tValidation accuracy: 0.821185\n",
      "epoch =  428\n"
     ]
    },
    {
     "data": {
      "application/vnd.jupyter.widget-view+json": {
       "model_id": "4ed47e63b667465592e83ac96f32f116",
       "version_major": 2,
       "version_minor": 0
      },
      "text/plain": [
       "  0%|          | 0/62 [00:00<?, ?it/s]"
      ]
     },
     "metadata": {},
     "output_type": "display_data"
    },
    {
     "data": {
      "application/vnd.jupyter.widget-view+json": {
       "model_id": "0b664aa01852486a8faa032463fd3d46",
       "version_major": 2,
       "version_minor": 0
      },
      "text/plain": [
       "  0%|          | 0/31 [00:00<?, ?it/s]"
      ]
     },
     "metadata": {},
     "output_type": "display_data"
    },
    {
     "name": "stdout",
     "output_type": "stream",
     "text": [
      "Epoch: 428 \tTraining Loss: 0.061951 \tValidation Loss: 0.672287\n",
      "Epoch: 428 \tTraining accuracy: 1.000000 \tValidation accuracy: 0.846309\n",
      "epoch =  429\n"
     ]
    },
    {
     "data": {
      "application/vnd.jupyter.widget-view+json": {
       "model_id": "6880567a8cd74a08b84093c1eaffb771",
       "version_major": 2,
       "version_minor": 0
      },
      "text/plain": [
       "  0%|          | 0/62 [00:00<?, ?it/s]"
      ]
     },
     "metadata": {},
     "output_type": "display_data"
    },
    {
     "data": {
      "application/vnd.jupyter.widget-view+json": {
       "model_id": "7d2eafe822db46efa1d184ffca918548",
       "version_major": 2,
       "version_minor": 0
      },
      "text/plain": [
       "  0%|          | 0/31 [00:00<?, ?it/s]"
      ]
     },
     "metadata": {},
     "output_type": "display_data"
    },
    {
     "name": "stdout",
     "output_type": "stream",
     "text": [
      "Epoch: 429 \tTraining Loss: 0.065012 \tValidation Loss: 0.644935\n",
      "Epoch: 429 \tTraining accuracy: 1.000000 \tValidation accuracy: 0.846309\n",
      "epoch =  430\n"
     ]
    },
    {
     "data": {
      "application/vnd.jupyter.widget-view+json": {
       "model_id": "22a47bce886144b38c668c8010288d4b",
       "version_major": 2,
       "version_minor": 0
      },
      "text/plain": [
       "  0%|          | 0/62 [00:00<?, ?it/s]"
      ]
     },
     "metadata": {},
     "output_type": "display_data"
    },
    {
     "data": {
      "application/vnd.jupyter.widget-view+json": {
       "model_id": "10bc611d5a4645e89ad54a2e1fda5c8c",
       "version_major": 2,
       "version_minor": 0
      },
      "text/plain": [
       "  0%|          | 0/31 [00:00<?, ?it/s]"
      ]
     },
     "metadata": {},
     "output_type": "display_data"
    },
    {
     "name": "stdout",
     "output_type": "stream",
     "text": [
      "Epoch: 430 \tTraining Loss: 0.062979 \tValidation Loss: 0.654899\n",
      "Epoch: 430 \tTraining accuracy: 1.000000 \tValidation accuracy: 0.842742\n",
      "epoch =  431\n"
     ]
    },
    {
     "data": {
      "application/vnd.jupyter.widget-view+json": {
       "model_id": "bc6627a0313b4296835012cc09695420",
       "version_major": 2,
       "version_minor": 0
      },
      "text/plain": [
       "  0%|          | 0/62 [00:00<?, ?it/s]"
      ]
     },
     "metadata": {},
     "output_type": "display_data"
    },
    {
     "data": {
      "application/vnd.jupyter.widget-view+json": {
       "model_id": "c193935194e34d5b9c5085bf819e7f27",
       "version_major": 2,
       "version_minor": 0
      },
      "text/plain": [
       "  0%|          | 0/31 [00:00<?, ?it/s]"
      ]
     },
     "metadata": {},
     "output_type": "display_data"
    },
    {
     "name": "stdout",
     "output_type": "stream",
     "text": [
      "Epoch: 431 \tTraining Loss: 0.064927 \tValidation Loss: 0.674536\n",
      "Epoch: 431 \tTraining accuracy: 1.000000 \tValidation accuracy: 0.830335\n",
      "epoch =  432\n"
     ]
    },
    {
     "data": {
      "application/vnd.jupyter.widget-view+json": {
       "model_id": "ac322dcc58cb4ee58f7b183fa2d6ddec",
       "version_major": 2,
       "version_minor": 0
      },
      "text/plain": [
       "  0%|          | 0/62 [00:00<?, ?it/s]"
      ]
     },
     "metadata": {},
     "output_type": "display_data"
    },
    {
     "data": {
      "application/vnd.jupyter.widget-view+json": {
       "model_id": "6954e87f4541416d80506cb1890f06c2",
       "version_major": 2,
       "version_minor": 0
      },
      "text/plain": [
       "  0%|          | 0/31 [00:00<?, ?it/s]"
      ]
     },
     "metadata": {},
     "output_type": "display_data"
    },
    {
     "name": "stdout",
     "output_type": "stream",
     "text": [
      "Epoch: 432 \tTraining Loss: 0.063385 \tValidation Loss: 0.654291\n",
      "Epoch: 432 \tTraining accuracy: 1.000000 \tValidation accuracy: 0.836849\n",
      "epoch =  433\n"
     ]
    },
    {
     "data": {
      "application/vnd.jupyter.widget-view+json": {
       "model_id": "65ff473b617c4793961a815e8688a1cc",
       "version_major": 2,
       "version_minor": 0
      },
      "text/plain": [
       "  0%|          | 0/62 [00:00<?, ?it/s]"
      ]
     },
     "metadata": {},
     "output_type": "display_data"
    },
    {
     "data": {
      "application/vnd.jupyter.widget-view+json": {
       "model_id": "3e6f86bd98f4446daf7f0b2f56cd0978",
       "version_major": 2,
       "version_minor": 0
      },
      "text/plain": [
       "  0%|          | 0/31 [00:00<?, ?it/s]"
      ]
     },
     "metadata": {},
     "output_type": "display_data"
    },
    {
     "name": "stdout",
     "output_type": "stream",
     "text": [
      "Epoch: 433 \tTraining Loss: 0.064638 \tValidation Loss: 0.769702\n",
      "Epoch: 433 \tTraining accuracy: 1.000000 \tValidation accuracy: 0.789392\n",
      "epoch =  434\n"
     ]
    },
    {
     "data": {
      "application/vnd.jupyter.widget-view+json": {
       "model_id": "3902b2df41b444f0b5127c83b01c67b5",
       "version_major": 2,
       "version_minor": 0
      },
      "text/plain": [
       "  0%|          | 0/62 [00:00<?, ?it/s]"
      ]
     },
     "metadata": {},
     "output_type": "display_data"
    },
    {
     "data": {
      "application/vnd.jupyter.widget-view+json": {
       "model_id": "44771362a2b34d47a7f62e29564538cf",
       "version_major": 2,
       "version_minor": 0
      },
      "text/plain": [
       "  0%|          | 0/31 [00:00<?, ?it/s]"
      ]
     },
     "metadata": {},
     "output_type": "display_data"
    },
    {
     "name": "stdout",
     "output_type": "stream",
     "text": [
      "Epoch: 434 \tTraining Loss: 0.065482 \tValidation Loss: 0.684526\n",
      "Epoch: 434 \tTraining accuracy: 1.000000 \tValidation accuracy: 0.822115\n",
      "epoch =  435\n"
     ]
    },
    {
     "data": {
      "application/vnd.jupyter.widget-view+json": {
       "model_id": "10cab6bbd8244257a2bc67eaec6ceb27",
       "version_major": 2,
       "version_minor": 0
      },
      "text/plain": [
       "  0%|          | 0/62 [00:00<?, ?it/s]"
      ]
     },
     "metadata": {},
     "output_type": "display_data"
    },
    {
     "data": {
      "application/vnd.jupyter.widget-view+json": {
       "model_id": "6ffe65eefc784e6cbd6f95875030c568",
       "version_major": 2,
       "version_minor": 0
      },
      "text/plain": [
       "  0%|          | 0/31 [00:00<?, ?it/s]"
      ]
     },
     "metadata": {},
     "output_type": "display_data"
    },
    {
     "name": "stdout",
     "output_type": "stream",
     "text": [
      "Epoch: 435 \tTraining Loss: 0.066750 \tValidation Loss: 0.681360\n",
      "Epoch: 435 \tTraining accuracy: 0.999496 \tValidation accuracy: 0.844293\n",
      "epoch =  436\n"
     ]
    },
    {
     "data": {
      "application/vnd.jupyter.widget-view+json": {
       "model_id": "83f28014b1984b27b00a7472741f7b9e",
       "version_major": 2,
       "version_minor": 0
      },
      "text/plain": [
       "  0%|          | 0/62 [00:00<?, ?it/s]"
      ]
     },
     "metadata": {},
     "output_type": "display_data"
    },
    {
     "data": {
      "application/vnd.jupyter.widget-view+json": {
       "model_id": "a80ad1551cd64176b36ec0c83823dc02",
       "version_major": 2,
       "version_minor": 0
      },
      "text/plain": [
       "  0%|          | 0/31 [00:00<?, ?it/s]"
      ]
     },
     "metadata": {},
     "output_type": "display_data"
    },
    {
     "name": "stdout",
     "output_type": "stream",
     "text": [
      "Epoch: 436 \tTraining Loss: 0.067934 \tValidation Loss: 0.730571\n",
      "Epoch: 436 \tTraining accuracy: 0.999496 \tValidation accuracy: 0.808002\n",
      "epoch =  437\n"
     ]
    },
    {
     "data": {
      "application/vnd.jupyter.widget-view+json": {
       "model_id": "849312e929494817a36e7b27963983d7",
       "version_major": 2,
       "version_minor": 0
      },
      "text/plain": [
       "  0%|          | 0/62 [00:00<?, ?it/s]"
      ]
     },
     "metadata": {},
     "output_type": "display_data"
    },
    {
     "data": {
      "application/vnd.jupyter.widget-view+json": {
       "model_id": "be295d8a116c464ea26488e03cd68d4d",
       "version_major": 2,
       "version_minor": 0
      },
      "text/plain": [
       "  0%|          | 0/31 [00:00<?, ?it/s]"
      ]
     },
     "metadata": {},
     "output_type": "display_data"
    },
    {
     "name": "stdout",
     "output_type": "stream",
     "text": [
      "Epoch: 437 \tTraining Loss: 0.065740 \tValidation Loss: 0.699984\n",
      "Epoch: 437 \tTraining accuracy: 1.000000 \tValidation accuracy: 0.810019\n",
      "epoch =  438\n"
     ]
    },
    {
     "data": {
      "application/vnd.jupyter.widget-view+json": {
       "model_id": "c9d2b0c8967a47ef8bbd7a069e9b7cc8",
       "version_major": 2,
       "version_minor": 0
      },
      "text/plain": [
       "  0%|          | 0/62 [00:00<?, ?it/s]"
      ]
     },
     "metadata": {},
     "output_type": "display_data"
    },
    {
     "data": {
      "application/vnd.jupyter.widget-view+json": {
       "model_id": "0c5f46a3903b41fa91bd90426ff8862a",
       "version_major": 2,
       "version_minor": 0
      },
      "text/plain": [
       "  0%|          | 0/31 [00:00<?, ?it/s]"
      ]
     },
     "metadata": {},
     "output_type": "display_data"
    },
    {
     "name": "stdout",
     "output_type": "stream",
     "text": [
      "Epoch: 438 \tTraining Loss: 0.063634 \tValidation Loss: 0.706718\n",
      "Epoch: 438 \tTraining accuracy: 1.000000 \tValidation accuracy: 0.824752\n",
      "epoch =  439\n"
     ]
    },
    {
     "data": {
      "application/vnd.jupyter.widget-view+json": {
       "model_id": "f3cc6d96c6f543ecb72212ae86b98b7a",
       "version_major": 2,
       "version_minor": 0
      },
      "text/plain": [
       "  0%|          | 0/62 [00:00<?, ?it/s]"
      ]
     },
     "metadata": {},
     "output_type": "display_data"
    },
    {
     "data": {
      "application/vnd.jupyter.widget-view+json": {
       "model_id": "65d60e3114da48d1a2d95774242d5306",
       "version_major": 2,
       "version_minor": 0
      },
      "text/plain": [
       "  0%|          | 0/31 [00:00<?, ?it/s]"
      ]
     },
     "metadata": {},
     "output_type": "display_data"
    },
    {
     "name": "stdout",
     "output_type": "stream",
     "text": [
      "Epoch: 439 \tTraining Loss: 0.065521 \tValidation Loss: 0.651639\n",
      "Epoch: 439 \tTraining accuracy: 0.999496 \tValidation accuracy: 0.839795\n",
      "epoch =  440\n"
     ]
    },
    {
     "data": {
      "application/vnd.jupyter.widget-view+json": {
       "model_id": "2b55a97546df44448eeffc516c5a03af",
       "version_major": 2,
       "version_minor": 0
      },
      "text/plain": [
       "  0%|          | 0/62 [00:00<?, ?it/s]"
      ]
     },
     "metadata": {},
     "output_type": "display_data"
    },
    {
     "data": {
      "application/vnd.jupyter.widget-view+json": {
       "model_id": "1ec3b4055b784968bc44a7cec2000a63",
       "version_major": 2,
       "version_minor": 0
      },
      "text/plain": [
       "  0%|          | 0/31 [00:00<?, ?it/s]"
      ]
     },
     "metadata": {},
     "output_type": "display_data"
    },
    {
     "name": "stdout",
     "output_type": "stream",
     "text": [
      "Epoch: 440 \tTraining Loss: 0.063307 \tValidation Loss: 0.674874\n",
      "Epoch: 440 \tTraining accuracy: 1.000000 \tValidation accuracy: 0.849876\n",
      "epoch =  441\n"
     ]
    },
    {
     "data": {
      "application/vnd.jupyter.widget-view+json": {
       "model_id": "92aa99e389e04fb2bb414a9760fec59c",
       "version_major": 2,
       "version_minor": 0
      },
      "text/plain": [
       "  0%|          | 0/62 [00:00<?, ?it/s]"
      ]
     },
     "metadata": {},
     "output_type": "display_data"
    },
    {
     "data": {
      "application/vnd.jupyter.widget-view+json": {
       "model_id": "821073d7cc544a7b8666985fcb493f04",
       "version_major": 2,
       "version_minor": 0
      },
      "text/plain": [
       "  0%|          | 0/31 [00:00<?, ?it/s]"
      ]
     },
     "metadata": {},
     "output_type": "display_data"
    },
    {
     "name": "stdout",
     "output_type": "stream",
     "text": [
      "Epoch: 441 \tTraining Loss: 0.060514 \tValidation Loss: 0.698599\n",
      "Epoch: 441 \tTraining accuracy: 1.000000 \tValidation accuracy: 0.828164\n",
      "epoch =  442\n"
     ]
    },
    {
     "data": {
      "application/vnd.jupyter.widget-view+json": {
       "model_id": "2b51cc735ddc44959d7561bb422efb01",
       "version_major": 2,
       "version_minor": 0
      },
      "text/plain": [
       "  0%|          | 0/62 [00:00<?, ?it/s]"
      ]
     },
     "metadata": {},
     "output_type": "display_data"
    },
    {
     "data": {
      "application/vnd.jupyter.widget-view+json": {
       "model_id": "e9f2c226e7804bd6947915dbd798441b",
       "version_major": 2,
       "version_minor": 0
      },
      "text/plain": [
       "  0%|          | 0/31 [00:00<?, ?it/s]"
      ]
     },
     "metadata": {},
     "output_type": "display_data"
    },
    {
     "name": "stdout",
     "output_type": "stream",
     "text": [
      "Epoch: 442 \tTraining Loss: 0.057540 \tValidation Loss: 0.686663\n",
      "Epoch: 442 \tTraining accuracy: 1.000000 \tValidation accuracy: 0.828319\n",
      "epoch =  443\n"
     ]
    },
    {
     "data": {
      "application/vnd.jupyter.widget-view+json": {
       "model_id": "4cbc1592396a43309dd276485a6a9439",
       "version_major": 2,
       "version_minor": 0
      },
      "text/plain": [
       "  0%|          | 0/62 [00:00<?, ?it/s]"
      ]
     },
     "metadata": {},
     "output_type": "display_data"
    },
    {
     "data": {
      "application/vnd.jupyter.widget-view+json": {
       "model_id": "f4be5d45e6db4139b159feabc7002d0b",
       "version_major": 2,
       "version_minor": 0
      },
      "text/plain": [
       "  0%|          | 0/31 [00:00<?, ?it/s]"
      ]
     },
     "metadata": {},
     "output_type": "display_data"
    },
    {
     "name": "stdout",
     "output_type": "stream",
     "text": [
      "Epoch: 443 \tTraining Loss: 0.061523 \tValidation Loss: 0.654273\n",
      "Epoch: 443 \tTraining accuracy: 0.999496 \tValidation accuracy: 0.827233\n",
      "epoch =  444\n"
     ]
    },
    {
     "data": {
      "application/vnd.jupyter.widget-view+json": {
       "model_id": "a62c1b56b68c4482afbfee3a55289aca",
       "version_major": 2,
       "version_minor": 0
      },
      "text/plain": [
       "  0%|          | 0/62 [00:00<?, ?it/s]"
      ]
     },
     "metadata": {},
     "output_type": "display_data"
    },
    {
     "data": {
      "application/vnd.jupyter.widget-view+json": {
       "model_id": "e55a79dcee644a6394fe4edbda6ab18e",
       "version_major": 2,
       "version_minor": 0
      },
      "text/plain": [
       "  0%|          | 0/31 [00:00<?, ?it/s]"
      ]
     },
     "metadata": {},
     "output_type": "display_data"
    },
    {
     "name": "stdout",
     "output_type": "stream",
     "text": [
      "Epoch: 444 \tTraining Loss: 0.064218 \tValidation Loss: 0.789022\n",
      "Epoch: 444 \tTraining accuracy: 1.000000 \tValidation accuracy: 0.794975\n",
      "epoch =  445\n"
     ]
    },
    {
     "data": {
      "application/vnd.jupyter.widget-view+json": {
       "model_id": "67aa8aecd24c4fc5a3df88f0caf15726",
       "version_major": 2,
       "version_minor": 0
      },
      "text/plain": [
       "  0%|          | 0/62 [00:00<?, ?it/s]"
      ]
     },
     "metadata": {},
     "output_type": "display_data"
    },
    {
     "data": {
      "application/vnd.jupyter.widget-view+json": {
       "model_id": "6da04d27d2b64bb185891b92ff37d475",
       "version_major": 2,
       "version_minor": 0
      },
      "text/plain": [
       "  0%|          | 0/31 [00:00<?, ?it/s]"
      ]
     },
     "metadata": {},
     "output_type": "display_data"
    },
    {
     "name": "stdout",
     "output_type": "stream",
     "text": [
      "Epoch: 445 \tTraining Loss: 0.066585 \tValidation Loss: 0.668279\n",
      "Epoch: 445 \tTraining accuracy: 1.000000 \tValidation accuracy: 0.838244\n",
      "epoch =  446\n"
     ]
    },
    {
     "data": {
      "application/vnd.jupyter.widget-view+json": {
       "model_id": "a6240cbc29ed4e439ba956d4e176a9e4",
       "version_major": 2,
       "version_minor": 0
      },
      "text/plain": [
       "  0%|          | 0/62 [00:00<?, ?it/s]"
      ]
     },
     "metadata": {},
     "output_type": "display_data"
    },
    {
     "data": {
      "application/vnd.jupyter.widget-view+json": {
       "model_id": "749e0057f74c4543a363deb83fdfe7ec",
       "version_major": 2,
       "version_minor": 0
      },
      "text/plain": [
       "  0%|          | 0/31 [00:00<?, ?it/s]"
      ]
     },
     "metadata": {},
     "output_type": "display_data"
    },
    {
     "name": "stdout",
     "output_type": "stream",
     "text": [
      "Epoch: 446 \tTraining Loss: 0.064292 \tValidation Loss: 0.705511\n",
      "Epoch: 446 \tTraining accuracy: 1.000000 \tValidation accuracy: 0.824131\n",
      "epoch =  447\n"
     ]
    },
    {
     "data": {
      "application/vnd.jupyter.widget-view+json": {
       "model_id": "68ef25bf7c294dff8714429f0a676797",
       "version_major": 2,
       "version_minor": 0
      },
      "text/plain": [
       "  0%|          | 0/62 [00:00<?, ?it/s]"
      ]
     },
     "metadata": {},
     "output_type": "display_data"
    },
    {
     "data": {
      "application/vnd.jupyter.widget-view+json": {
       "model_id": "cebcbb8f46fc4e759046cdc0d430b6d4",
       "version_major": 2,
       "version_minor": 0
      },
      "text/plain": [
       "  0%|          | 0/31 [00:00<?, ?it/s]"
      ]
     },
     "metadata": {},
     "output_type": "display_data"
    },
    {
     "name": "stdout",
     "output_type": "stream",
     "text": [
      "Epoch: 447 \tTraining Loss: 0.063149 \tValidation Loss: 0.659432\n",
      "Epoch: 447 \tTraining accuracy: 1.000000 \tValidation accuracy: 0.832196\n",
      "epoch =  448\n"
     ]
    },
    {
     "data": {
      "application/vnd.jupyter.widget-view+json": {
       "model_id": "1f079e2589b54baba3d3eb130a083821",
       "version_major": 2,
       "version_minor": 0
      },
      "text/plain": [
       "  0%|          | 0/62 [00:00<?, ?it/s]"
      ]
     },
     "metadata": {},
     "output_type": "display_data"
    },
    {
     "data": {
      "application/vnd.jupyter.widget-view+json": {
       "model_id": "80cbc3b83829403295c714bf8b761e6f",
       "version_major": 2,
       "version_minor": 0
      },
      "text/plain": [
       "  0%|          | 0/31 [00:00<?, ?it/s]"
      ]
     },
     "metadata": {},
     "output_type": "display_data"
    },
    {
     "name": "stdout",
     "output_type": "stream",
     "text": [
      "Epoch: 448 \tTraining Loss: 0.068406 \tValidation Loss: 0.719221\n",
      "Epoch: 448 \tTraining accuracy: 1.000000 \tValidation accuracy: 0.824131\n",
      "epoch =  449\n"
     ]
    },
    {
     "data": {
      "application/vnd.jupyter.widget-view+json": {
       "model_id": "5e2ad3a3c1af4bc7b7bd8aba8b41d24e",
       "version_major": 2,
       "version_minor": 0
      },
      "text/plain": [
       "  0%|          | 0/62 [00:00<?, ?it/s]"
      ]
     },
     "metadata": {},
     "output_type": "display_data"
    },
    {
     "data": {
      "application/vnd.jupyter.widget-view+json": {
       "model_id": "10e120385c884aa98b0a679d146cf3e8",
       "version_major": 2,
       "version_minor": 0
      },
      "text/plain": [
       "  0%|          | 0/31 [00:00<?, ?it/s]"
      ]
     },
     "metadata": {},
     "output_type": "display_data"
    },
    {
     "name": "stdout",
     "output_type": "stream",
     "text": [
      "Epoch: 449 \tTraining Loss: 0.062074 \tValidation Loss: 0.674703\n",
      "Epoch: 449 \tTraining accuracy: 1.000000 \tValidation accuracy: 0.835763\n",
      "epoch =  450\n"
     ]
    },
    {
     "data": {
      "application/vnd.jupyter.widget-view+json": {
       "model_id": "227c4d07e18449e385ffc0da76c5beab",
       "version_major": 2,
       "version_minor": 0
      },
      "text/plain": [
       "  0%|          | 0/62 [00:00<?, ?it/s]"
      ]
     },
     "metadata": {},
     "output_type": "display_data"
    },
    {
     "data": {
      "application/vnd.jupyter.widget-view+json": {
       "model_id": "b38a27fbc64446dd8ec705dd4c341c42",
       "version_major": 2,
       "version_minor": 0
      },
      "text/plain": [
       "  0%|          | 0/31 [00:00<?, ?it/s]"
      ]
     },
     "metadata": {},
     "output_type": "display_data"
    },
    {
     "name": "stdout",
     "output_type": "stream",
     "text": [
      "Epoch: 450 \tTraining Loss: 0.062077 \tValidation Loss: 0.661750\n",
      "Epoch: 450 \tTraining accuracy: 1.000000 \tValidation accuracy: 0.827698\n",
      "epoch =  451\n"
     ]
    },
    {
     "data": {
      "application/vnd.jupyter.widget-view+json": {
       "model_id": "55f9da7463c24ba68f938f883d3619c4",
       "version_major": 2,
       "version_minor": 0
      },
      "text/plain": [
       "  0%|          | 0/62 [00:00<?, ?it/s]"
      ]
     },
     "metadata": {},
     "output_type": "display_data"
    },
    {
     "data": {
      "application/vnd.jupyter.widget-view+json": {
       "model_id": "5a362c0473ef4114a3c36b2c2bc5171a",
       "version_major": 2,
       "version_minor": 0
      },
      "text/plain": [
       "  0%|          | 0/31 [00:00<?, ?it/s]"
      ]
     },
     "metadata": {},
     "output_type": "display_data"
    },
    {
     "name": "stdout",
     "output_type": "stream",
     "text": [
      "Epoch: 451 \tTraining Loss: 0.061205 \tValidation Loss: 0.675813\n",
      "Epoch: 451 \tTraining accuracy: 1.000000 \tValidation accuracy: 0.840261\n",
      "epoch =  452\n"
     ]
    },
    {
     "data": {
      "application/vnd.jupyter.widget-view+json": {
       "model_id": "ce2d5f7c297b4905b686b9679a91fb5c",
       "version_major": 2,
       "version_minor": 0
      },
      "text/plain": [
       "  0%|          | 0/62 [00:00<?, ?it/s]"
      ]
     },
     "metadata": {},
     "output_type": "display_data"
    },
    {
     "data": {
      "application/vnd.jupyter.widget-view+json": {
       "model_id": "d96538356b8c4adf95e07fd02db1f292",
       "version_major": 2,
       "version_minor": 0
      },
      "text/plain": [
       "  0%|          | 0/31 [00:00<?, ?it/s]"
      ]
     },
     "metadata": {},
     "output_type": "display_data"
    },
    {
     "name": "stdout",
     "output_type": "stream",
     "text": [
      "Epoch: 452 \tTraining Loss: 0.065290 \tValidation Loss: 0.674736\n",
      "Epoch: 452 \tTraining accuracy: 0.999496 \tValidation accuracy: 0.834212\n",
      "epoch =  453\n"
     ]
    },
    {
     "data": {
      "application/vnd.jupyter.widget-view+json": {
       "model_id": "b0e9de2a73b845e0948c4556ccdba357",
       "version_major": 2,
       "version_minor": 0
      },
      "text/plain": [
       "  0%|          | 0/62 [00:00<?, ?it/s]"
      ]
     },
     "metadata": {},
     "output_type": "display_data"
    },
    {
     "data": {
      "application/vnd.jupyter.widget-view+json": {
       "model_id": "49b3a3c908c44cfaac2677fa2d7a40ef",
       "version_major": 2,
       "version_minor": 0
      },
      "text/plain": [
       "  0%|          | 0/31 [00:00<?, ?it/s]"
      ]
     },
     "metadata": {},
     "output_type": "display_data"
    },
    {
     "name": "stdout",
     "output_type": "stream",
     "text": [
      "Epoch: 453 \tTraining Loss: 0.067304 \tValidation Loss: 0.701421\n",
      "Epoch: 453 \tTraining accuracy: 0.999496 \tValidation accuracy: 0.803970\n",
      "epoch =  454\n"
     ]
    },
    {
     "data": {
      "application/vnd.jupyter.widget-view+json": {
       "model_id": "29bd0074464b4b6bb640f986c14ce0a6",
       "version_major": 2,
       "version_minor": 0
      },
      "text/plain": [
       "  0%|          | 0/62 [00:00<?, ?it/s]"
      ]
     },
     "metadata": {},
     "output_type": "display_data"
    },
    {
     "data": {
      "application/vnd.jupyter.widget-view+json": {
       "model_id": "a1fd412682834af6b0ef9e3df65ca0b6",
       "version_major": 2,
       "version_minor": 0
      },
      "text/plain": [
       "  0%|          | 0/31 [00:00<?, ?it/s]"
      ]
     },
     "metadata": {},
     "output_type": "display_data"
    },
    {
     "name": "stdout",
     "output_type": "stream",
     "text": [
      "Epoch: 454 \tTraining Loss: 0.064054 \tValidation Loss: 0.623652\n",
      "Epoch: 454 \tTraining accuracy: 1.000000 \tValidation accuracy: 0.853908\n",
      "Validation loss decreased (0.630027 --> 0.623652).  Saving model ...\n",
      "epoch =  455\n"
     ]
    },
    {
     "data": {
      "application/vnd.jupyter.widget-view+json": {
       "model_id": "34d5b95aa398473ea9abbf92d56f58ab",
       "version_major": 2,
       "version_minor": 0
      },
      "text/plain": [
       "  0%|          | 0/62 [00:00<?, ?it/s]"
      ]
     },
     "metadata": {},
     "output_type": "display_data"
    },
    {
     "data": {
      "application/vnd.jupyter.widget-view+json": {
       "model_id": "99b1c400e7264c12ad9ad4f32df314fb",
       "version_major": 2,
       "version_minor": 0
      },
      "text/plain": [
       "  0%|          | 0/31 [00:00<?, ?it/s]"
      ]
     },
     "metadata": {},
     "output_type": "display_data"
    },
    {
     "name": "stdout",
     "output_type": "stream",
     "text": [
      "Epoch: 455 \tTraining Loss: 0.063751 \tValidation Loss: 0.666682\n",
      "Epoch: 455 \tTraining accuracy: 0.999299 \tValidation accuracy: 0.839330\n",
      "epoch =  456\n"
     ]
    },
    {
     "data": {
      "application/vnd.jupyter.widget-view+json": {
       "model_id": "afebc58d36d54a519efeeab74bf874af",
       "version_major": 2,
       "version_minor": 0
      },
      "text/plain": [
       "  0%|          | 0/62 [00:00<?, ?it/s]"
      ]
     },
     "metadata": {},
     "output_type": "display_data"
    },
    {
     "data": {
      "application/vnd.jupyter.widget-view+json": {
       "model_id": "149687196dc0432db15c75f083d79847",
       "version_major": 2,
       "version_minor": 0
      },
      "text/plain": [
       "  0%|          | 0/31 [00:00<?, ?it/s]"
      ]
     },
     "metadata": {},
     "output_type": "display_data"
    },
    {
     "name": "stdout",
     "output_type": "stream",
     "text": [
      "Epoch: 456 \tTraining Loss: 0.065108 \tValidation Loss: 0.691637\n",
      "Epoch: 456 \tTraining accuracy: 1.000000 \tValidation accuracy: 0.822115\n",
      "epoch =  457\n"
     ]
    },
    {
     "data": {
      "application/vnd.jupyter.widget-view+json": {
       "model_id": "1c9536d82f184b63a7fd711ab9b3ae5d",
       "version_major": 2,
       "version_minor": 0
      },
      "text/plain": [
       "  0%|          | 0/62 [00:00<?, ?it/s]"
      ]
     },
     "metadata": {},
     "output_type": "display_data"
    },
    {
     "data": {
      "application/vnd.jupyter.widget-view+json": {
       "model_id": "6be72c31ba644547ae69bf62c09a0621",
       "version_major": 2,
       "version_minor": 0
      },
      "text/plain": [
       "  0%|          | 0/31 [00:00<?, ?it/s]"
      ]
     },
     "metadata": {},
     "output_type": "display_data"
    },
    {
     "name": "stdout",
     "output_type": "stream",
     "text": [
      "Epoch: 457 \tTraining Loss: 0.065076 \tValidation Loss: 0.709914\n",
      "Epoch: 457 \tTraining accuracy: 0.999496 \tValidation accuracy: 0.820099\n",
      "epoch =  458\n"
     ]
    },
    {
     "data": {
      "application/vnd.jupyter.widget-view+json": {
       "model_id": "b9d4bf9f9ee842618f036450a0e00c91",
       "version_major": 2,
       "version_minor": 0
      },
      "text/plain": [
       "  0%|          | 0/62 [00:00<?, ?it/s]"
      ]
     },
     "metadata": {},
     "output_type": "display_data"
    },
    {
     "data": {
      "application/vnd.jupyter.widget-view+json": {
       "model_id": "a8bfdbe99d10490d92ea3d836c24bc0e",
       "version_major": 2,
       "version_minor": 0
      },
      "text/plain": [
       "  0%|          | 0/31 [00:00<?, ?it/s]"
      ]
     },
     "metadata": {},
     "output_type": "display_data"
    },
    {
     "name": "stdout",
     "output_type": "stream",
     "text": [
      "Epoch: 458 \tTraining Loss: 0.064671 \tValidation Loss: 0.669639\n",
      "Epoch: 458 \tTraining accuracy: 0.999496 \tValidation accuracy: 0.818083\n",
      "epoch =  459\n"
     ]
    },
    {
     "data": {
      "application/vnd.jupyter.widget-view+json": {
       "model_id": "0449b2d28dae448886d9b991682ea698",
       "version_major": 2,
       "version_minor": 0
      },
      "text/plain": [
       "  0%|          | 0/62 [00:00<?, ?it/s]"
      ]
     },
     "metadata": {},
     "output_type": "display_data"
    },
    {
     "data": {
      "application/vnd.jupyter.widget-view+json": {
       "model_id": "17f376f9e68f425bbc1bce9eb78e45ac",
       "version_major": 2,
       "version_minor": 0
      },
      "text/plain": [
       "  0%|          | 0/31 [00:00<?, ?it/s]"
      ]
     },
     "metadata": {},
     "output_type": "display_data"
    },
    {
     "name": "stdout",
     "output_type": "stream",
     "text": [
      "Epoch: 459 \tTraining Loss: 0.062106 \tValidation Loss: 0.671926\n",
      "Epoch: 459 \tTraining accuracy: 1.000000 \tValidation accuracy: 0.816067\n",
      "epoch =  460\n"
     ]
    },
    {
     "data": {
      "application/vnd.jupyter.widget-view+json": {
       "model_id": "ecaf0e2935af4d92857c6adcf0a727a4",
       "version_major": 2,
       "version_minor": 0
      },
      "text/plain": [
       "  0%|          | 0/62 [00:00<?, ?it/s]"
      ]
     },
     "metadata": {},
     "output_type": "display_data"
    },
    {
     "data": {
      "application/vnd.jupyter.widget-view+json": {
       "model_id": "ae5bac9990594bb8ba83f97fdf7adb29",
       "version_major": 2,
       "version_minor": 0
      },
      "text/plain": [
       "  0%|          | 0/31 [00:00<?, ?it/s]"
      ]
     },
     "metadata": {},
     "output_type": "display_data"
    },
    {
     "name": "stdout",
     "output_type": "stream",
     "text": [
      "Epoch: 460 \tTraining Loss: 0.064248 \tValidation Loss: 0.680576\n",
      "Epoch: 460 \tTraining accuracy: 1.000000 \tValidation accuracy: 0.841346\n",
      "epoch =  461\n"
     ]
    },
    {
     "data": {
      "application/vnd.jupyter.widget-view+json": {
       "model_id": "304008f91568438897e1393a07f17e98",
       "version_major": 2,
       "version_minor": 0
      },
      "text/plain": [
       "  0%|          | 0/62 [00:00<?, ?it/s]"
      ]
     },
     "metadata": {},
     "output_type": "display_data"
    },
    {
     "data": {
      "application/vnd.jupyter.widget-view+json": {
       "model_id": "146d7168cb264c8d9b16203017ff0a0d",
       "version_major": 2,
       "version_minor": 0
      },
      "text/plain": [
       "  0%|          | 0/31 [00:00<?, ?it/s]"
      ]
     },
     "metadata": {},
     "output_type": "display_data"
    },
    {
     "name": "stdout",
     "output_type": "stream",
     "text": [
      "Epoch: 461 \tTraining Loss: 0.067357 \tValidation Loss: 0.714402\n",
      "Epoch: 461 \tTraining accuracy: 0.998992 \tValidation accuracy: 0.809553\n",
      "epoch =  462\n"
     ]
    },
    {
     "data": {
      "application/vnd.jupyter.widget-view+json": {
       "model_id": "03dbeb2c2314411f80dd634b2b294c07",
       "version_major": 2,
       "version_minor": 0
      },
      "text/plain": [
       "  0%|          | 0/62 [00:00<?, ?it/s]"
      ]
     },
     "metadata": {},
     "output_type": "display_data"
    },
    {
     "data": {
      "application/vnd.jupyter.widget-view+json": {
       "model_id": "83edc8d21377494cadafed05fd75b975",
       "version_major": 2,
       "version_minor": 0
      },
      "text/plain": [
       "  0%|          | 0/31 [00:00<?, ?it/s]"
      ]
     },
     "metadata": {},
     "output_type": "display_data"
    },
    {
     "name": "stdout",
     "output_type": "stream",
     "text": [
      "Epoch: 462 \tTraining Loss: 0.062976 \tValidation Loss: 0.684676\n",
      "Epoch: 462 \tTraining accuracy: 1.000000 \tValidation accuracy: 0.820099\n",
      "epoch =  463\n"
     ]
    },
    {
     "data": {
      "application/vnd.jupyter.widget-view+json": {
       "model_id": "59bc33c87ab74c188bdf50e1233ded7a",
       "version_major": 2,
       "version_minor": 0
      },
      "text/plain": [
       "  0%|          | 0/62 [00:00<?, ?it/s]"
      ]
     },
     "metadata": {},
     "output_type": "display_data"
    },
    {
     "data": {
      "application/vnd.jupyter.widget-view+json": {
       "model_id": "ac6bb04169c54629979def590c85614b",
       "version_major": 2,
       "version_minor": 0
      },
      "text/plain": [
       "  0%|          | 0/31 [00:00<?, ?it/s]"
      ]
     },
     "metadata": {},
     "output_type": "display_data"
    },
    {
     "name": "stdout",
     "output_type": "stream",
     "text": [
      "Epoch: 463 \tTraining Loss: 0.066577 \tValidation Loss: 0.703370\n",
      "Epoch: 463 \tTraining accuracy: 1.000000 \tValidation accuracy: 0.834212\n",
      "epoch =  464\n"
     ]
    },
    {
     "data": {
      "application/vnd.jupyter.widget-view+json": {
       "model_id": "a388983a8a7d4cdca13e84fd1fde63c4",
       "version_major": 2,
       "version_minor": 0
      },
      "text/plain": [
       "  0%|          | 0/62 [00:00<?, ?it/s]"
      ]
     },
     "metadata": {},
     "output_type": "display_data"
    },
    {
     "data": {
      "application/vnd.jupyter.widget-view+json": {
       "model_id": "619439352e314472a240c23fb9201474",
       "version_major": 2,
       "version_minor": 0
      },
      "text/plain": [
       "  0%|          | 0/31 [00:00<?, ?it/s]"
      ]
     },
     "metadata": {},
     "output_type": "display_data"
    },
    {
     "name": "stdout",
     "output_type": "stream",
     "text": [
      "Epoch: 464 \tTraining Loss: 0.063475 \tValidation Loss: 0.667435\n",
      "Epoch: 464 \tTraining accuracy: 1.000000 \tValidation accuracy: 0.840261\n",
      "epoch =  465\n"
     ]
    },
    {
     "data": {
      "application/vnd.jupyter.widget-view+json": {
       "model_id": "5393f8cd416447c5af42a57bcac4532f",
       "version_major": 2,
       "version_minor": 0
      },
      "text/plain": [
       "  0%|          | 0/62 [00:00<?, ?it/s]"
      ]
     },
     "metadata": {},
     "output_type": "display_data"
    },
    {
     "data": {
      "application/vnd.jupyter.widget-view+json": {
       "model_id": "4b09141f184b40e1b17531c4f8cc4379",
       "version_major": 2,
       "version_minor": 0
      },
      "text/plain": [
       "  0%|          | 0/31 [00:00<?, ?it/s]"
      ]
     },
     "metadata": {},
     "output_type": "display_data"
    },
    {
     "name": "stdout",
     "output_type": "stream",
     "text": [
      "Epoch: 465 \tTraining Loss: 0.059965 \tValidation Loss: 0.687940\n",
      "Epoch: 465 \tTraining accuracy: 0.999496 \tValidation accuracy: 0.828784\n",
      "epoch =  466\n"
     ]
    },
    {
     "data": {
      "application/vnd.jupyter.widget-view+json": {
       "model_id": "ee8723b93bcd498b9918a37a57b7ccec",
       "version_major": 2,
       "version_minor": 0
      },
      "text/plain": [
       "  0%|          | 0/62 [00:00<?, ?it/s]"
      ]
     },
     "metadata": {},
     "output_type": "display_data"
    },
    {
     "data": {
      "application/vnd.jupyter.widget-view+json": {
       "model_id": "e58fab8079a9413dbe8fb88538236407",
       "version_major": 2,
       "version_minor": 0
      },
      "text/plain": [
       "  0%|          | 0/31 [00:00<?, ?it/s]"
      ]
     },
     "metadata": {},
     "output_type": "display_data"
    },
    {
     "name": "stdout",
     "output_type": "stream",
     "text": [
      "Epoch: 466 \tTraining Loss: 0.063800 \tValidation Loss: 0.640138\n",
      "Epoch: 466 \tTraining accuracy: 1.000000 \tValidation accuracy: 0.844758\n",
      "epoch =  467\n"
     ]
    },
    {
     "data": {
      "application/vnd.jupyter.widget-view+json": {
       "model_id": "a65b39ca7da244eabe5793f5f7da3731",
       "version_major": 2,
       "version_minor": 0
      },
      "text/plain": [
       "  0%|          | 0/62 [00:00<?, ?it/s]"
      ]
     },
     "metadata": {},
     "output_type": "display_data"
    },
    {
     "data": {
      "application/vnd.jupyter.widget-view+json": {
       "model_id": "4ae17131768843158ff03c8799e23755",
       "version_major": 2,
       "version_minor": 0
      },
      "text/plain": [
       "  0%|          | 0/31 [00:00<?, ?it/s]"
      ]
     },
     "metadata": {},
     "output_type": "display_data"
    },
    {
     "name": "stdout",
     "output_type": "stream",
     "text": [
      "Epoch: 467 \tTraining Loss: 0.065703 \tValidation Loss: 0.726113\n",
      "Epoch: 467 \tTraining accuracy: 0.999496 \tValidation accuracy: 0.790012\n",
      "epoch =  468\n"
     ]
    },
    {
     "data": {
      "application/vnd.jupyter.widget-view+json": {
       "model_id": "3630c48a768e4d37a39308f4cb8d44e1",
       "version_major": 2,
       "version_minor": 0
      },
      "text/plain": [
       "  0%|          | 0/62 [00:00<?, ?it/s]"
      ]
     },
     "metadata": {},
     "output_type": "display_data"
    },
    {
     "data": {
      "application/vnd.jupyter.widget-view+json": {
       "model_id": "aa74b7cfcb204bfb8dd9598fd5600d3a",
       "version_major": 2,
       "version_minor": 0
      },
      "text/plain": [
       "  0%|          | 0/31 [00:00<?, ?it/s]"
      ]
     },
     "metadata": {},
     "output_type": "display_data"
    },
    {
     "name": "stdout",
     "output_type": "stream",
     "text": [
      "Epoch: 468 \tTraining Loss: 0.065708 \tValidation Loss: 0.645472\n",
      "Epoch: 468 \tTraining accuracy: 0.999496 \tValidation accuracy: 0.840726\n",
      "epoch =  469\n"
     ]
    },
    {
     "data": {
      "application/vnd.jupyter.widget-view+json": {
       "model_id": "51bfb6f91749479198750637d5294436",
       "version_major": 2,
       "version_minor": 0
      },
      "text/plain": [
       "  0%|          | 0/62 [00:00<?, ?it/s]"
      ]
     },
     "metadata": {},
     "output_type": "display_data"
    },
    {
     "data": {
      "application/vnd.jupyter.widget-view+json": {
       "model_id": "9550a0e16268438185dccac408cb9a37",
       "version_major": 2,
       "version_minor": 0
      },
      "text/plain": [
       "  0%|          | 0/31 [00:00<?, ?it/s]"
      ]
     },
     "metadata": {},
     "output_type": "display_data"
    },
    {
     "name": "stdout",
     "output_type": "stream",
     "text": [
      "Epoch: 469 \tTraining Loss: 0.060249 \tValidation Loss: 0.690623\n",
      "Epoch: 469 \tTraining accuracy: 1.000000 \tValidation accuracy: 0.816687\n",
      "epoch =  470\n"
     ]
    },
    {
     "data": {
      "application/vnd.jupyter.widget-view+json": {
       "model_id": "e99ae241aab644fe892bded21dd62044",
       "version_major": 2,
       "version_minor": 0
      },
      "text/plain": [
       "  0%|          | 0/62 [00:00<?, ?it/s]"
      ]
     },
     "metadata": {},
     "output_type": "display_data"
    },
    {
     "data": {
      "application/vnd.jupyter.widget-view+json": {
       "model_id": "9ec8d40bafb4472ebd084dca2ffdad14",
       "version_major": 2,
       "version_minor": 0
      },
      "text/plain": [
       "  0%|          | 0/31 [00:00<?, ?it/s]"
      ]
     },
     "metadata": {},
     "output_type": "display_data"
    },
    {
     "name": "stdout",
     "output_type": "stream",
     "text": [
      "Epoch: 470 \tTraining Loss: 0.062963 \tValidation Loss: 0.720241\n",
      "Epoch: 470 \tTraining accuracy: 0.999496 \tValidation accuracy: 0.790478\n",
      "epoch =  471\n"
     ]
    },
    {
     "data": {
      "application/vnd.jupyter.widget-view+json": {
       "model_id": "dbf04e32267a43c3af7b8addc1fbd69b",
       "version_major": 2,
       "version_minor": 0
      },
      "text/plain": [
       "  0%|          | 0/62 [00:00<?, ?it/s]"
      ]
     },
     "metadata": {},
     "output_type": "display_data"
    },
    {
     "data": {
      "application/vnd.jupyter.widget-view+json": {
       "model_id": "126dd566c81e4882a8996115eb3b66dd",
       "version_major": 2,
       "version_minor": 0
      },
      "text/plain": [
       "  0%|          | 0/31 [00:00<?, ?it/s]"
      ]
     },
     "metadata": {},
     "output_type": "display_data"
    },
    {
     "name": "stdout",
     "output_type": "stream",
     "text": [
      "Epoch: 471 \tTraining Loss: 0.065138 \tValidation Loss: 0.704589\n",
      "Epoch: 471 \tTraining accuracy: 1.000000 \tValidation accuracy: 0.832196\n",
      "epoch =  472\n"
     ]
    },
    {
     "data": {
      "application/vnd.jupyter.widget-view+json": {
       "model_id": "ab302e0d26eb4b5699603c1f6d73b152",
       "version_major": 2,
       "version_minor": 0
      },
      "text/plain": [
       "  0%|          | 0/62 [00:00<?, ?it/s]"
      ]
     },
     "metadata": {},
     "output_type": "display_data"
    },
    {
     "data": {
      "application/vnd.jupyter.widget-view+json": {
       "model_id": "e9417f3df6784ee7af44f646885cb0f1",
       "version_major": 2,
       "version_minor": 0
      },
      "text/plain": [
       "  0%|          | 0/31 [00:00<?, ?it/s]"
      ]
     },
     "metadata": {},
     "output_type": "display_data"
    },
    {
     "name": "stdout",
     "output_type": "stream",
     "text": [
      "Epoch: 472 \tTraining Loss: 0.065186 \tValidation Loss: 0.705694\n",
      "Epoch: 472 \tTraining accuracy: 1.000000 \tValidation accuracy: 0.810639\n",
      "epoch =  473\n"
     ]
    },
    {
     "data": {
      "application/vnd.jupyter.widget-view+json": {
       "model_id": "3543909031c24f239b2bc458b4004077",
       "version_major": 2,
       "version_minor": 0
      },
      "text/plain": [
       "  0%|          | 0/62 [00:00<?, ?it/s]"
      ]
     },
     "metadata": {},
     "output_type": "display_data"
    },
    {
     "data": {
      "application/vnd.jupyter.widget-view+json": {
       "model_id": "e3c8f37cad6b4f708a7773368609f42d",
       "version_major": 2,
       "version_minor": 0
      },
      "text/plain": [
       "  0%|          | 0/31 [00:00<?, ?it/s]"
      ]
     },
     "metadata": {},
     "output_type": "display_data"
    },
    {
     "name": "stdout",
     "output_type": "stream",
     "text": [
      "Epoch: 473 \tTraining Loss: 0.064681 \tValidation Loss: 0.635546\n",
      "Epoch: 473 \tTraining accuracy: 1.000000 \tValidation accuracy: 0.842277\n",
      "epoch =  474\n"
     ]
    },
    {
     "data": {
      "application/vnd.jupyter.widget-view+json": {
       "model_id": "4368dd56142c4d0cac9b5e645a7b5782",
       "version_major": 2,
       "version_minor": 0
      },
      "text/plain": [
       "  0%|          | 0/62 [00:00<?, ?it/s]"
      ]
     },
     "metadata": {},
     "output_type": "display_data"
    },
    {
     "data": {
      "application/vnd.jupyter.widget-view+json": {
       "model_id": "2b43dfcdf76b4364a956148a6730a76d",
       "version_major": 2,
       "version_minor": 0
      },
      "text/plain": [
       "  0%|          | 0/31 [00:00<?, ?it/s]"
      ]
     },
     "metadata": {},
     "output_type": "display_data"
    },
    {
     "name": "stdout",
     "output_type": "stream",
     "text": [
      "Epoch: 474 \tTraining Loss: 0.067447 \tValidation Loss: 0.636735\n",
      "Epoch: 474 \tTraining accuracy: 1.000000 \tValidation accuracy: 0.834833\n",
      "epoch =  475\n"
     ]
    },
    {
     "data": {
      "application/vnd.jupyter.widget-view+json": {
       "model_id": "b878bdf8c3954db69daa0b4247104544",
       "version_major": 2,
       "version_minor": 0
      },
      "text/plain": [
       "  0%|          | 0/62 [00:00<?, ?it/s]"
      ]
     },
     "metadata": {},
     "output_type": "display_data"
    },
    {
     "data": {
      "application/vnd.jupyter.widget-view+json": {
       "model_id": "930fd46eb12c492f991c9a839279c314",
       "version_major": 2,
       "version_minor": 0
      },
      "text/plain": [
       "  0%|          | 0/31 [00:00<?, ?it/s]"
      ]
     },
     "metadata": {},
     "output_type": "display_data"
    },
    {
     "name": "stdout",
     "output_type": "stream",
     "text": [
      "Epoch: 475 \tTraining Loss: 0.061830 \tValidation Loss: 0.678544\n",
      "Epoch: 475 \tTraining accuracy: 1.000000 \tValidation accuracy: 0.825682\n",
      "epoch =  476\n"
     ]
    },
    {
     "data": {
      "application/vnd.jupyter.widget-view+json": {
       "model_id": "ed47c9143b9f4140bbbc7e680f4fb2af",
       "version_major": 2,
       "version_minor": 0
      },
      "text/plain": [
       "  0%|          | 0/62 [00:00<?, ?it/s]"
      ]
     },
     "metadata": {},
     "output_type": "display_data"
    },
    {
     "data": {
      "application/vnd.jupyter.widget-view+json": {
       "model_id": "4d15c3958e514cd99e30780a688031c0",
       "version_major": 2,
       "version_minor": 0
      },
      "text/plain": [
       "  0%|          | 0/31 [00:00<?, ?it/s]"
      ]
     },
     "metadata": {},
     "output_type": "display_data"
    },
    {
     "name": "stdout",
     "output_type": "stream",
     "text": [
      "Epoch: 476 \tTraining Loss: 0.065766 \tValidation Loss: 0.728023\n",
      "Epoch: 476 \tTraining accuracy: 1.000000 \tValidation accuracy: 0.812655\n",
      "epoch =  477\n"
     ]
    },
    {
     "data": {
      "application/vnd.jupyter.widget-view+json": {
       "model_id": "bdbedf7866d04e24980daaacca3c8bf9",
       "version_major": 2,
       "version_minor": 0
      },
      "text/plain": [
       "  0%|          | 0/62 [00:00<?, ?it/s]"
      ]
     },
     "metadata": {},
     "output_type": "display_data"
    },
    {
     "data": {
      "application/vnd.jupyter.widget-view+json": {
       "model_id": "509d3649cd46495fb8c18fe723ed2e4a",
       "version_major": 2,
       "version_minor": 0
      },
      "text/plain": [
       "  0%|          | 0/31 [00:00<?, ?it/s]"
      ]
     },
     "metadata": {},
     "output_type": "display_data"
    },
    {
     "name": "stdout",
     "output_type": "stream",
     "text": [
      "Epoch: 477 \tTraining Loss: 0.063230 \tValidation Loss: 0.656703\n",
      "Epoch: 477 \tTraining accuracy: 1.000000 \tValidation accuracy: 0.839330\n",
      "epoch =  478\n"
     ]
    },
    {
     "data": {
      "application/vnd.jupyter.widget-view+json": {
       "model_id": "5d4a10776fb3441d8268413b20d5cc46",
       "version_major": 2,
       "version_minor": 0
      },
      "text/plain": [
       "  0%|          | 0/62 [00:00<?, ?it/s]"
      ]
     },
     "metadata": {},
     "output_type": "display_data"
    },
    {
     "data": {
      "application/vnd.jupyter.widget-view+json": {
       "model_id": "4bcfdf90940a4f88bf7cd857c6149b99",
       "version_major": 2,
       "version_minor": 0
      },
      "text/plain": [
       "  0%|          | 0/31 [00:00<?, ?it/s]"
      ]
     },
     "metadata": {},
     "output_type": "display_data"
    },
    {
     "name": "stdout",
     "output_type": "stream",
     "text": [
      "Epoch: 478 \tTraining Loss: 0.064178 \tValidation Loss: 0.648809\n",
      "Epoch: 478 \tTraining accuracy: 1.000000 \tValidation accuracy: 0.837779\n",
      "epoch =  479\n"
     ]
    },
    {
     "data": {
      "application/vnd.jupyter.widget-view+json": {
       "model_id": "d58d9856922045fabcd879420a33c329",
       "version_major": 2,
       "version_minor": 0
      },
      "text/plain": [
       "  0%|          | 0/62 [00:00<?, ?it/s]"
      ]
     },
     "metadata": {},
     "output_type": "display_data"
    },
    {
     "data": {
      "application/vnd.jupyter.widget-view+json": {
       "model_id": "ac6da83685c0458d9fc28f91497d0974",
       "version_major": 2,
       "version_minor": 0
      },
      "text/plain": [
       "  0%|          | 0/31 [00:00<?, ?it/s]"
      ]
     },
     "metadata": {},
     "output_type": "display_data"
    },
    {
     "name": "stdout",
     "output_type": "stream",
     "text": [
      "Epoch: 479 \tTraining Loss: 0.064963 \tValidation Loss: 0.715889\n",
      "Epoch: 479 \tTraining accuracy: 1.000000 \tValidation accuracy: 0.813120\n",
      "epoch =  480\n"
     ]
    },
    {
     "data": {
      "application/vnd.jupyter.widget-view+json": {
       "model_id": "4c433f9de58d461dbac50705488917e6",
       "version_major": 2,
       "version_minor": 0
      },
      "text/plain": [
       "  0%|          | 0/62 [00:00<?, ?it/s]"
      ]
     },
     "metadata": {},
     "output_type": "display_data"
    },
    {
     "data": {
      "application/vnd.jupyter.widget-view+json": {
       "model_id": "2d6233ea97674ee49540c3a27db10fcb",
       "version_major": 2,
       "version_minor": 0
      },
      "text/plain": [
       "  0%|          | 0/31 [00:00<?, ?it/s]"
      ]
     },
     "metadata": {},
     "output_type": "display_data"
    },
    {
     "name": "stdout",
     "output_type": "stream",
     "text": [
      "Epoch: 480 \tTraining Loss: 0.063557 \tValidation Loss: 0.691307\n",
      "Epoch: 480 \tTraining accuracy: 1.000000 \tValidation accuracy: 0.815602\n",
      "epoch =  481\n"
     ]
    },
    {
     "data": {
      "application/vnd.jupyter.widget-view+json": {
       "model_id": "4438781da96940f09789b2a51f085df5",
       "version_major": 2,
       "version_minor": 0
      },
      "text/plain": [
       "  0%|          | 0/62 [00:00<?, ?it/s]"
      ]
     },
     "metadata": {},
     "output_type": "display_data"
    },
    {
     "data": {
      "application/vnd.jupyter.widget-view+json": {
       "model_id": "db7571abe01f422a9b5e8a63c55dcab3",
       "version_major": 2,
       "version_minor": 0
      },
      "text/plain": [
       "  0%|          | 0/31 [00:00<?, ?it/s]"
      ]
     },
     "metadata": {},
     "output_type": "display_data"
    },
    {
     "name": "stdout",
     "output_type": "stream",
     "text": [
      "Epoch: 481 \tTraining Loss: 0.063637 \tValidation Loss: 0.708816\n",
      "Epoch: 481 \tTraining accuracy: 1.000000 \tValidation accuracy: 0.817773\n",
      "epoch =  482\n"
     ]
    },
    {
     "data": {
      "application/vnd.jupyter.widget-view+json": {
       "model_id": "0783537a63754e7e93969ec7da4d987e",
       "version_major": 2,
       "version_minor": 0
      },
      "text/plain": [
       "  0%|          | 0/62 [00:00<?, ?it/s]"
      ]
     },
     "metadata": {},
     "output_type": "display_data"
    },
    {
     "data": {
      "application/vnd.jupyter.widget-view+json": {
       "model_id": "0849c643061740a3b62e298f026a26c5",
       "version_major": 2,
       "version_minor": 0
      },
      "text/plain": [
       "  0%|          | 0/31 [00:00<?, ?it/s]"
      ]
     },
     "metadata": {},
     "output_type": "display_data"
    },
    {
     "name": "stdout",
     "output_type": "stream",
     "text": [
      "Epoch: 482 \tTraining Loss: 0.064984 \tValidation Loss: 0.697800\n",
      "Epoch: 482 \tTraining accuracy: 0.999496 \tValidation accuracy: 0.815757\n",
      "epoch =  483\n"
     ]
    },
    {
     "data": {
      "application/vnd.jupyter.widget-view+json": {
       "model_id": "29871ba732b044829da1e0b74f88cbed",
       "version_major": 2,
       "version_minor": 0
      },
      "text/plain": [
       "  0%|          | 0/62 [00:00<?, ?it/s]"
      ]
     },
     "metadata": {},
     "output_type": "display_data"
    },
    {
     "data": {
      "application/vnd.jupyter.widget-view+json": {
       "model_id": "ac27c93e4c224b55800343ad05cc32f6",
       "version_major": 2,
       "version_minor": 0
      },
      "text/plain": [
       "  0%|          | 0/31 [00:00<?, ?it/s]"
      ]
     },
     "metadata": {},
     "output_type": "display_data"
    },
    {
     "name": "stdout",
     "output_type": "stream",
     "text": [
      "Epoch: 483 \tTraining Loss: 0.061333 \tValidation Loss: 0.653531\n",
      "Epoch: 483 \tTraining accuracy: 1.000000 \tValidation accuracy: 0.840261\n",
      "epoch =  484\n"
     ]
    },
    {
     "data": {
      "application/vnd.jupyter.widget-view+json": {
       "model_id": "95f3fc8c8fdc4d84a4dbcd5519dd8090",
       "version_major": 2,
       "version_minor": 0
      },
      "text/plain": [
       "  0%|          | 0/62 [00:00<?, ?it/s]"
      ]
     },
     "metadata": {},
     "output_type": "display_data"
    },
    {
     "data": {
      "application/vnd.jupyter.widget-view+json": {
       "model_id": "3a55c78eb5d74741aeff6fa52113f087",
       "version_major": 2,
       "version_minor": 0
      },
      "text/plain": [
       "  0%|          | 0/31 [00:00<?, ?it/s]"
      ]
     },
     "metadata": {},
     "output_type": "display_data"
    },
    {
     "name": "stdout",
     "output_type": "stream",
     "text": [
      "Epoch: 484 \tTraining Loss: 0.063513 \tValidation Loss: 0.680395\n",
      "Epoch: 484 \tTraining accuracy: 1.000000 \tValidation accuracy: 0.843362\n",
      "epoch =  485\n"
     ]
    },
    {
     "data": {
      "application/vnd.jupyter.widget-view+json": {
       "model_id": "da8641af8bed4ead92ea7c19d6aba20f",
       "version_major": 2,
       "version_minor": 0
      },
      "text/plain": [
       "  0%|          | 0/62 [00:00<?, ?it/s]"
      ]
     },
     "metadata": {},
     "output_type": "display_data"
    },
    {
     "data": {
      "application/vnd.jupyter.widget-view+json": {
       "model_id": "47ba8e576bd145de80946dd93d94acb3",
       "version_major": 2,
       "version_minor": 0
      },
      "text/plain": [
       "  0%|          | 0/31 [00:00<?, ?it/s]"
      ]
     },
     "metadata": {},
     "output_type": "display_data"
    },
    {
     "name": "stdout",
     "output_type": "stream",
     "text": [
      "Epoch: 485 \tTraining Loss: 0.066618 \tValidation Loss: 0.681558\n",
      "Epoch: 485 \tTraining accuracy: 0.998992 \tValidation accuracy: 0.830645\n",
      "epoch =  486\n"
     ]
    },
    {
     "data": {
      "application/vnd.jupyter.widget-view+json": {
       "model_id": "e49f5f50c7b7488fb00fb1ba78aeb63a",
       "version_major": 2,
       "version_minor": 0
      },
      "text/plain": [
       "  0%|          | 0/62 [00:00<?, ?it/s]"
      ]
     },
     "metadata": {},
     "output_type": "display_data"
    },
    {
     "data": {
      "application/vnd.jupyter.widget-view+json": {
       "model_id": "8d3b42e9ed1f4969850a581e32be9b72",
       "version_major": 2,
       "version_minor": 0
      },
      "text/plain": [
       "  0%|          | 0/31 [00:00<?, ?it/s]"
      ]
     },
     "metadata": {},
     "output_type": "display_data"
    },
    {
     "name": "stdout",
     "output_type": "stream",
     "text": [
      "Epoch: 486 \tTraining Loss: 0.063414 \tValidation Loss: 0.657200\n",
      "Epoch: 486 \tTraining accuracy: 1.000000 \tValidation accuracy: 0.837314\n",
      "epoch =  487\n"
     ]
    },
    {
     "data": {
      "application/vnd.jupyter.widget-view+json": {
       "model_id": "d5cb3ae96eca45a08081ed89866e9b71",
       "version_major": 2,
       "version_minor": 0
      },
      "text/plain": [
       "  0%|          | 0/62 [00:00<?, ?it/s]"
      ]
     },
     "metadata": {},
     "output_type": "display_data"
    },
    {
     "data": {
      "application/vnd.jupyter.widget-view+json": {
       "model_id": "5ffdcbf26a3f40e09b1c60dc877e1c0a",
       "version_major": 2,
       "version_minor": 0
      },
      "text/plain": [
       "  0%|          | 0/31 [00:00<?, ?it/s]"
      ]
     },
     "metadata": {},
     "output_type": "display_data"
    },
    {
     "name": "stdout",
     "output_type": "stream",
     "text": [
      "Epoch: 487 \tTraining Loss: 0.068372 \tValidation Loss: 0.701389\n",
      "Epoch: 487 \tTraining accuracy: 0.998992 \tValidation accuracy: 0.817618\n",
      "epoch =  488\n"
     ]
    },
    {
     "data": {
      "application/vnd.jupyter.widget-view+json": {
       "model_id": "eff7c7fdba954b0189e20e5193f6a57b",
       "version_major": 2,
       "version_minor": 0
      },
      "text/plain": [
       "  0%|          | 0/62 [00:00<?, ?it/s]"
      ]
     },
     "metadata": {},
     "output_type": "display_data"
    },
    {
     "data": {
      "application/vnd.jupyter.widget-view+json": {
       "model_id": "ca4836b7e3bf446d8c1ed0e36557d893",
       "version_major": 2,
       "version_minor": 0
      },
      "text/plain": [
       "  0%|          | 0/31 [00:00<?, ?it/s]"
      ]
     },
     "metadata": {},
     "output_type": "display_data"
    },
    {
     "name": "stdout",
     "output_type": "stream",
     "text": [
      "Epoch: 488 \tTraining Loss: 0.064875 \tValidation Loss: 0.608460\n",
      "Epoch: 488 \tTraining accuracy: 0.999496 \tValidation accuracy: 0.866935\n",
      "Validation loss decreased (0.623652 --> 0.608460).  Saving model ...\n",
      "epoch =  489\n"
     ]
    },
    {
     "data": {
      "application/vnd.jupyter.widget-view+json": {
       "model_id": "212c32a06b384e4eae2bae3764e48cef",
       "version_major": 2,
       "version_minor": 0
      },
      "text/plain": [
       "  0%|          | 0/62 [00:00<?, ?it/s]"
      ]
     },
     "metadata": {},
     "output_type": "display_data"
    },
    {
     "data": {
      "application/vnd.jupyter.widget-view+json": {
       "model_id": "8b46b780463243f0ab028d79e900dd0c",
       "version_major": 2,
       "version_minor": 0
      },
      "text/plain": [
       "  0%|          | 0/31 [00:00<?, ?it/s]"
      ]
     },
     "metadata": {},
     "output_type": "display_data"
    },
    {
     "name": "stdout",
     "output_type": "stream",
     "text": [
      "Epoch: 489 \tTraining Loss: 0.061545 \tValidation Loss: 0.643413\n",
      "Epoch: 489 \tTraining accuracy: 1.000000 \tValidation accuracy: 0.844758\n",
      "epoch =  490\n"
     ]
    },
    {
     "data": {
      "application/vnd.jupyter.widget-view+json": {
       "model_id": "2ad2603b7e2b40d0aad38774bf78d823",
       "version_major": 2,
       "version_minor": 0
      },
      "text/plain": [
       "  0%|          | 0/62 [00:00<?, ?it/s]"
      ]
     },
     "metadata": {},
     "output_type": "display_data"
    },
    {
     "data": {
      "application/vnd.jupyter.widget-view+json": {
       "model_id": "bf3a5154356b42528235941d3eaa55c3",
       "version_major": 2,
       "version_minor": 0
      },
      "text/plain": [
       "  0%|          | 0/31 [00:00<?, ?it/s]"
      ]
     },
     "metadata": {},
     "output_type": "display_data"
    },
    {
     "name": "stdout",
     "output_type": "stream",
     "text": [
      "Epoch: 490 \tTraining Loss: 0.066891 \tValidation Loss: 0.719296\n",
      "Epoch: 490 \tTraining accuracy: 0.999496 \tValidation accuracy: 0.815136\n",
      "epoch =  491\n"
     ]
    },
    {
     "data": {
      "application/vnd.jupyter.widget-view+json": {
       "model_id": "b5eaec8218204b8fa818ccce61259032",
       "version_major": 2,
       "version_minor": 0
      },
      "text/plain": [
       "  0%|          | 0/62 [00:00<?, ?it/s]"
      ]
     },
     "metadata": {},
     "output_type": "display_data"
    },
    {
     "data": {
      "application/vnd.jupyter.widget-view+json": {
       "model_id": "0fc23aabc487481f9bb89c9c437c6b3c",
       "version_major": 2,
       "version_minor": 0
      },
      "text/plain": [
       "  0%|          | 0/31 [00:00<?, ?it/s]"
      ]
     },
     "metadata": {},
     "output_type": "display_data"
    },
    {
     "name": "stdout",
     "output_type": "stream",
     "text": [
      "Epoch: 491 \tTraining Loss: 0.063660 \tValidation Loss: 0.691439\n",
      "Epoch: 491 \tTraining accuracy: 1.000000 \tValidation accuracy: 0.804591\n",
      "epoch =  492\n"
     ]
    },
    {
     "data": {
      "application/vnd.jupyter.widget-view+json": {
       "model_id": "4fa288809d934eab822295c8ce0f2328",
       "version_major": 2,
       "version_minor": 0
      },
      "text/plain": [
       "  0%|          | 0/62 [00:00<?, ?it/s]"
      ]
     },
     "metadata": {},
     "output_type": "display_data"
    },
    {
     "data": {
      "application/vnd.jupyter.widget-view+json": {
       "model_id": "29318f57629745ddbc63753a20d89ddd",
       "version_major": 2,
       "version_minor": 0
      },
      "text/plain": [
       "  0%|          | 0/31 [00:00<?, ?it/s]"
      ]
     },
     "metadata": {},
     "output_type": "display_data"
    },
    {
     "name": "stdout",
     "output_type": "stream",
     "text": [
      "Epoch: 492 \tTraining Loss: 0.065433 \tValidation Loss: 0.682700\n",
      "Epoch: 492 \tTraining accuracy: 1.000000 \tValidation accuracy: 0.820099\n",
      "epoch =  493\n"
     ]
    },
    {
     "data": {
      "application/vnd.jupyter.widget-view+json": {
       "model_id": "8569238b018c4583a57f7a419fe1404c",
       "version_major": 2,
       "version_minor": 0
      },
      "text/plain": [
       "  0%|          | 0/62 [00:00<?, ?it/s]"
      ]
     },
     "metadata": {},
     "output_type": "display_data"
    },
    {
     "data": {
      "application/vnd.jupyter.widget-view+json": {
       "model_id": "feb244a1c12b4882b95895b8b1e56098",
       "version_major": 2,
       "version_minor": 0
      },
      "text/plain": [
       "  0%|          | 0/31 [00:00<?, ?it/s]"
      ]
     },
     "metadata": {},
     "output_type": "display_data"
    },
    {
     "name": "stdout",
     "output_type": "stream",
     "text": [
      "Epoch: 493 \tTraining Loss: 0.058728 \tValidation Loss: 0.674986\n",
      "Epoch: 493 \tTraining accuracy: 1.000000 \tValidation accuracy: 0.830645\n",
      "epoch =  494\n"
     ]
    },
    {
     "data": {
      "application/vnd.jupyter.widget-view+json": {
       "model_id": "27d846e3fec14d21ab31a55a8dd0ea10",
       "version_major": 2,
       "version_minor": 0
      },
      "text/plain": [
       "  0%|          | 0/62 [00:00<?, ?it/s]"
      ]
     },
     "metadata": {},
     "output_type": "display_data"
    },
    {
     "data": {
      "application/vnd.jupyter.widget-view+json": {
       "model_id": "629e334e79a94fbebc33bcc5dd4d49a4",
       "version_major": 2,
       "version_minor": 0
      },
      "text/plain": [
       "  0%|          | 0/31 [00:00<?, ?it/s]"
      ]
     },
     "metadata": {},
     "output_type": "display_data"
    },
    {
     "name": "stdout",
     "output_type": "stream",
     "text": [
      "Epoch: 494 \tTraining Loss: 0.064295 \tValidation Loss: 0.662178\n",
      "Epoch: 494 \tTraining accuracy: 0.999496 \tValidation accuracy: 0.836694\n",
      "epoch =  495\n"
     ]
    },
    {
     "data": {
      "application/vnd.jupyter.widget-view+json": {
       "model_id": "dbca049df1ff4014b3f4e089c68e1e70",
       "version_major": 2,
       "version_minor": 0
      },
      "text/plain": [
       "  0%|          | 0/62 [00:00<?, ?it/s]"
      ]
     },
     "metadata": {},
     "output_type": "display_data"
    },
    {
     "data": {
      "application/vnd.jupyter.widget-view+json": {
       "model_id": "3789c6631db34c35b689da0d61943824",
       "version_major": 2,
       "version_minor": 0
      },
      "text/plain": [
       "  0%|          | 0/31 [00:00<?, ?it/s]"
      ]
     },
     "metadata": {},
     "output_type": "display_data"
    },
    {
     "name": "stdout",
     "output_type": "stream",
     "text": [
      "Epoch: 495 \tTraining Loss: 0.062184 \tValidation Loss: 0.683499\n",
      "Epoch: 495 \tTraining accuracy: 1.000000 \tValidation accuracy: 0.821185\n",
      "epoch =  496\n"
     ]
    },
    {
     "data": {
      "application/vnd.jupyter.widget-view+json": {
       "model_id": "4659d5c5e6a847b39200bde9fd34720e",
       "version_major": 2,
       "version_minor": 0
      },
      "text/plain": [
       "  0%|          | 0/62 [00:00<?, ?it/s]"
      ]
     },
     "metadata": {},
     "output_type": "display_data"
    },
    {
     "data": {
      "application/vnd.jupyter.widget-view+json": {
       "model_id": "10c449f141534334914920d6388f21b1",
       "version_major": 2,
       "version_minor": 0
      },
      "text/plain": [
       "  0%|          | 0/31 [00:00<?, ?it/s]"
      ]
     },
     "metadata": {},
     "output_type": "display_data"
    },
    {
     "name": "stdout",
     "output_type": "stream",
     "text": [
      "Epoch: 496 \tTraining Loss: 0.065270 \tValidation Loss: 0.614641\n",
      "Epoch: 496 \tTraining accuracy: 1.000000 \tValidation accuracy: 0.846929\n",
      "epoch =  497\n"
     ]
    },
    {
     "data": {
      "application/vnd.jupyter.widget-view+json": {
       "model_id": "c0929e94ca1f4c8ba0cbaf7d4d25df5c",
       "version_major": 2,
       "version_minor": 0
      },
      "text/plain": [
       "  0%|          | 0/62 [00:00<?, ?it/s]"
      ]
     },
     "metadata": {},
     "output_type": "display_data"
    },
    {
     "data": {
      "application/vnd.jupyter.widget-view+json": {
       "model_id": "85f584ba4129463794ada4fdc1fd5eae",
       "version_major": 2,
       "version_minor": 0
      },
      "text/plain": [
       "  0%|          | 0/31 [00:00<?, ?it/s]"
      ]
     },
     "metadata": {},
     "output_type": "display_data"
    },
    {
     "name": "stdout",
     "output_type": "stream",
     "text": [
      "Epoch: 497 \tTraining Loss: 0.064585 \tValidation Loss: 0.664293\n",
      "Epoch: 497 \tTraining accuracy: 1.000000 \tValidation accuracy: 0.832661\n",
      "epoch =  498\n"
     ]
    },
    {
     "data": {
      "application/vnd.jupyter.widget-view+json": {
       "model_id": "e8034aa3aad54940839ddb8bbaba5a9e",
       "version_major": 2,
       "version_minor": 0
      },
      "text/plain": [
       "  0%|          | 0/62 [00:00<?, ?it/s]"
      ]
     },
     "metadata": {},
     "output_type": "display_data"
    },
    {
     "data": {
      "application/vnd.jupyter.widget-view+json": {
       "model_id": "a62c5695eaaf467a8d2c7a76d93a6cac",
       "version_major": 2,
       "version_minor": 0
      },
      "text/plain": [
       "  0%|          | 0/31 [00:00<?, ?it/s]"
      ]
     },
     "metadata": {},
     "output_type": "display_data"
    },
    {
     "name": "stdout",
     "output_type": "stream",
     "text": [
      "Epoch: 498 \tTraining Loss: 0.063222 \tValidation Loss: 0.689814\n",
      "Epoch: 498 \tTraining accuracy: 1.000000 \tValidation accuracy: 0.816687\n",
      "epoch =  499\n"
     ]
    },
    {
     "data": {
      "application/vnd.jupyter.widget-view+json": {
       "model_id": "f2399a89be124849bb45b453c506b797",
       "version_major": 2,
       "version_minor": 0
      },
      "text/plain": [
       "  0%|          | 0/62 [00:00<?, ?it/s]"
      ]
     },
     "metadata": {},
     "output_type": "display_data"
    },
    {
     "data": {
      "application/vnd.jupyter.widget-view+json": {
       "model_id": "49b727e65f994a74a5f150c96c6d7af0",
       "version_major": 2,
       "version_minor": 0
      },
      "text/plain": [
       "  0%|          | 0/31 [00:00<?, ?it/s]"
      ]
     },
     "metadata": {},
     "output_type": "display_data"
    },
    {
     "name": "stdout",
     "output_type": "stream",
     "text": [
      "Epoch: 499 \tTraining Loss: 0.063220 \tValidation Loss: 0.647120\n",
      "Epoch: 499 \tTraining accuracy: 1.000000 \tValidation accuracy: 0.837779\n",
      "...Training Finish\n",
      "\n",
      "\n",
      "=================Best Model=================\n",
      "\n",
      "Loss Score : \tTraining Loss: 0.064875 \tValidation Loss: 0.608460\n",
      "Accuracy Score : \tTraining accuracy: 0.999496 \tValidation accuracy: 0.866935\n",
      "\n",
      "============================================\n"
     ]
    }
   ],
   "source": [
    "# 학습 진행률을 보기 위해 진행상태바 라이브러리 tqdm 사용\n",
    "from tqdm.notebook import tqdm, trange\n",
    "\n",
    "# Hyper Parameter tuning\n",
    "# epoch 횟수\n",
    "n_epochs = 500\n",
    "\n",
    "# track change in validation loss\n",
    "# validation loss, accuracy 값 초기화\n",
    "valid_loss_min = np.Inf\n",
    "valid_acc_max = 0\n",
    "\n",
    "# track change in train loss\n",
    "# train loss, accuracy 값 초기화\n",
    "train_loss_min = np.Inf\n",
    "train_acc_max = 0\n",
    "\n",
    "# keep track of training and validation loss\n",
    "# train, valid loss와 accuracy 초기화\n",
    "train_loss = torch.zeros(n_epochs)\n",
    "valid_loss = torch.zeros(n_epochs)\n",
    "\n",
    "train_acc = torch.zeros(n_epochs)\n",
    "valid_acc = torch.zeros(n_epochs)\n",
    "\n",
    "for i in trange(0, n_epochs):\n",
    "    # epoch 수 확인을 위한 출력\n",
    "    print('epoch = ', i)\n",
    "    \n",
    "    # train model\n",
    "    model.train()\n",
    "    # train data 학습\n",
    "    for data, labels in tqdm(dataloaders[\"train\"]):\n",
    "        # move tensors to GPU if CUDA is available\n",
    "        data, labels = data.to(device), labels.to(device)\n",
    "        \n",
    "        # clear the gradients of all optimized variables\n",
    "        # 모든 최적화된 변수들의 기울기 값 초기화\n",
    "        optimizer.zero_grad()\n",
    "        # forward pass: compute predicted outputs by passing inputs to the model\n",
    "        # 예측된 결과 값을 연산하기 위한 forward 진행\n",
    "        logits = model(data)\n",
    "        # calculate the batch loss\n",
    "        # loss 값 계산\n",
    "        loss = criterion(logits, labels)\n",
    "        # backward pass: compute gradient of the loss with respect to model parameters\n",
    "        # 모델 매개 변수에 대한 손실 기울기 계산을 위해 역전파 진행\n",
    "        loss.backward()\n",
    "        # perform a single optimization step (parameter update)\n",
    "        # 파라미터 업데이트를 위한 최적화 단계 수행 \n",
    "        optimizer.step()\n",
    "        # update training loss\n",
    "        train_loss[i] += loss.item()\n",
    "        \n",
    "        # 예측된 결과 값 (logits)를 softmax 함수를 통해 총합이 1이 되는 0~1 사이의 값으로 ps 저장\n",
    "        ps = F.softmax(logits, dim=1)\n",
    "        # 저장된 ps 값 중에 가장 높은 값 top_p, 해당 클래스 top_class에 저장\n",
    "        top_p, top_class = ps.topk(1, dim=1)\n",
    "        # 예측된 top_class 라벨과 실제 라벨이 일치하면 equals는 true\n",
    "        equals = top_class == labels.reshape(top_class.shape)\n",
    "        # equals 논리값을 실수형으로 변환 후 맞춘 개수 train_acc에 저장\n",
    "        train_acc[i] += torch.mean(equals.type(torch.float)).detach().cpu()\n",
    "\n",
    "    # i번째 epoch에 따른 train loss와 train_acc 계산\n",
    "    train_loss[i] /= len(dataloaders[\"train\"])\n",
    "    train_acc[i] /= len(dataloaders[\"train\"])\n",
    "\n",
    "    # validate the model \n",
    "    with torch.no_grad():\n",
    "        # 모델 평가 진행\n",
    "        model.eval()\n",
    "        # validation data 평가\n",
    "        for data, labels in tqdm(dataloaders[\"val\"]):\n",
    "            # move tensors to GPU if CUDA is available\n",
    "            data, labels = data.to(device), labels.to(device)\n",
    "            \n",
    "            # forward pass: compute predicted outputs by passing inputs to the model\n",
    "            # 예측된 결과 값을 연산하기 위한 forward 진행\n",
    "            logits = model(data)\n",
    "            # calculate the batch loss\n",
    "            # loss 값 계산\n",
    "            loss = criterion(logits, labels)\n",
    "            # update average validation loss\n",
    "            # 평균 validation loss 업데이트\n",
    "            valid_loss[i] += loss.item()\n",
    "            \n",
    "            # 예측된 결과 값 (logits)를 softmax 함수를 통해 총합이 1이 되는 0~1 사이의 값으로 ps 저장\n",
    "            ps = F.softmax(logits, dim=1)\n",
    "            # 저장된 ps 값 중에 가장 높은 값 top_p, 해당 클래스 top_class에 저장\n",
    "            top_p, top_class = ps.topk(1, dim=1)\n",
    "            # 예측된 top_class 라벨과 실제 라벨이 일치하면 equals는 true\n",
    "            equals = top_class == labels.reshape(top_class.shape)\n",
    "            # equals 논리값을 실수형으로 변환 후 맞춘 개수 valid_acc에 저장\n",
    "            valid_acc[i] += torch.mean(equals.type(torch.float)).detach().cpu()\n",
    "\n",
    "    # calculate average losses\n",
    "    # i번째 epoch에 따른 valid loss와 valid_acc 계산\n",
    "    valid_loss[i] /= len(dataloaders[\"val\"])\n",
    "    valid_acc[i] /= len(dataloaders[\"val\"])\n",
    "    \n",
    "    \n",
    "    # print training/validation statistics\n",
    "    # epoch 마다 training loss 와 validation loss 출력\n",
    "    print('Epoch: {} \\tTraining Loss: {:.6f} \\tValidation Loss: {:.6f}'.format(i, train_loss[i], valid_loss[i]))\n",
    "\n",
    "    # print training/validation statistics\n",
    "    # epoch 마다 training accuracy 와 validation accuracy 출력\n",
    "    print('Epoch: {} \\tTraining accuracy: {:.6f} \\tValidation accuracy: {:.6f}'.format(i, train_acc[i], valid_acc[i]))\n",
    "    \n",
    "    # scheduler 수행\n",
    "    scheduler.step()\n",
    "    \n",
    "    # save model if validation loss has decreased\n",
    "    # validation loss 가 감소하면 모델을 저장\n",
    "    if valid_loss[i] <= valid_loss_min:\n",
    "        print('Validation loss decreased ({:.6f} --> {:.6f}).  Saving model ...'.format(valid_loss_min,valid_loss[i]))\n",
    "        torch.save(model.state_dict(), 'model_useung.pt')\n",
    "        valid_loss_min = valid_loss[i]\n",
    "        train_loss_min = train_loss[i]\n",
    "        valid_acc_max = valid_acc[i]\n",
    "        train_acc_max = train_acc[i]\n",
    "\n",
    "\n",
    "# 학습 완료 후 최종 모델\n",
    "print(\"...Training Finish\\n\\n\")\n",
    "print(\"=================Best Model=================\\n\")\n",
    "\n",
    "print('Loss Score : \\tTraining Loss: {:.6f} \\tValidation Loss: {:.6f}'.format(train_loss_min, valid_loss_min))\n",
    "\n",
    "# print training/validation statistics \n",
    "print('Accuracy Score : \\tTraining accuracy: {:.6f} \\tValidation accuracy: {:.6f}'.format(train_acc_max, valid_acc_max))\n",
    "print(\"\\n============================================\")"
   ]
  },
  {
   "cell_type": "markdown",
   "id": "present-leeds",
   "metadata": {},
   "source": [
    "## Step 6: CNN model training/validation 분석\n",
    "   * tranining loss와 validation loss 그래프를 통해서 분석\n"
   ]
  },
  {
   "cell_type": "code",
   "execution_count": 12,
   "id": "killing-tragedy",
   "metadata": {},
   "outputs": [
    {
     "data": {
      "text/plain": [
       "[<matplotlib.lines.Line2D at 0x1a9ed620e50>]"
      ]
     },
     "execution_count": 12,
     "metadata": {},
     "output_type": "execute_result"
    },
    {
     "data": {
      "image/png": "[encoded data removed]",
      "text/plain": [
       "<Figure size 432x288 with 1 Axes>"
      ]
     },
     "metadata": {
      "needs_background": "light"
     },
     "output_type": "display_data"
    }
   ],
   "source": [
    "#코드작성\n",
    "import matplotlib.pyplot as plt\n",
    "\n",
    "plt.plot(train_loss)\n",
    "plt.plot(valid_loss)"
   ]
  },
  {
   "cell_type": "code",
   "execution_count": 13,
   "id": "instant-bowling",
   "metadata": {},
   "outputs": [
    {
     "data": {
      "text/plain": [
       "[<matplotlib.lines.Line2D at 0x1a9f045c310>]"
      ]
     },
     "execution_count": 13,
     "metadata": {},
     "output_type": "execute_result"
    },
    {
     "data": {
      "image/png": "[encoded data removed]",
      "text/plain": [
       "<Figure size 432x288 with 1 Axes>"
      ]
     },
     "metadata": {
      "needs_background": "light"
     },
     "output_type": "display_data"
    }
   ],
   "source": [
    "plt.plot(train_acc)\n",
    "plt.plot(valid_acc)"
   ]
  },
  {
   "cell_type": "markdown",
   "id": "relevant-gallery",
   "metadata": {},
   "source": [
    "* 최적의 모델 로드"
   ]
  },
  {
   "cell_type": "code",
   "execution_count": 14,
   "id": "complicated-essay",
   "metadata": {},
   "outputs": [
    {
     "data": {
      "text/plain": [
       "<All keys matched successfully>"
      ]
     },
     "execution_count": 14,
     "metadata": {},
     "output_type": "execute_result"
    }
   ],
   "source": [
    "# 학습된 모델 로드\n",
    "model.load_state_dict(torch.load('model_useung.pt'))"
   ]
  },
  {
   "cell_type": "markdown",
   "id": "universal-young",
   "metadata": {},
   "source": [
    "## Step 7: Predict with Test Data "
   ]
  },
  {
   "cell_type": "code",
   "execution_count": 15,
   "id": "intended-adapter",
   "metadata": {},
   "outputs": [],
   "source": [
    "# test dataset 이미지 불러오기 위한 클래스\n",
    "class test_dataset(Dataset):\n",
    "    def __init__(self,imgpath,transform=None):\n",
    "        \n",
    "        self.imgpath = imgpath\n",
    "        self.transform = transform\n",
    "        \n",
    "    def __len__(self):\n",
    "        return len(self.imgpath)\n",
    "    \n",
    "    def __getitem__(self,idx):\n",
    "        x = self.transform(Image.open(self.imgpath[idx]).convert('RGB'))\n",
    "        \n",
    "        return x"
   ]
  },
  {
   "cell_type": "code",
   "execution_count": 16,
   "id": "endless-fellow",
   "metadata": {},
   "outputs": [],
   "source": [
    "# test data의 transform 적용\n",
    "test_transform = transforms.Compose([\n",
    "        transforms.Resize((128,128)),\n",
    "        transforms.ToTensor(),\n",
    "        transforms.Normalize((0.5, 0.5, 0.5), (0.5, 0.5, 0.5)),\n",
    "        ])"
   ]
  },
  {
   "cell_type": "markdown",
   "id": "current-eleven",
   "metadata": {},
   "source": [
    "### test dataset과 dataloader 생성"
   ]
  },
  {
   "cell_type": "code",
   "execution_count": 17,
   "id": "illegal-football",
   "metadata": {},
   "outputs": [],
   "source": [
    "# test 경로를 통해 불러오기\n",
    "test_set = sorted(glob.glob('./imgs/test/*'))\n",
    "\n",
    "test_data = test_dataset(test_set,test_transform)\n",
    "test_loader = torch.utils.data.DataLoader(test_data, batch_size=128, num_workers=0)"
   ]
  },
  {
   "cell_type": "markdown",
   "id": "obvious-cabin",
   "metadata": {},
   "source": [
    "### Predict 수행"
   ]
  },
  {
   "cell_type": "code",
   "execution_count": 18,
   "id": "corrected-passport",
   "metadata": {},
   "outputs": [
    {
     "name": "stdout",
     "output_type": "stream",
     "text": [
      "Start Predict...\n",
      "\n",
      "\n"
     ]
    },
    {
     "data": {
      "application/vnd.jupyter.widget-view+json": {
       "model_id": "6815bc7011584ea281580090ca504342",
       "version_major": 2,
       "version_minor": 0
      },
      "text/plain": [
       "  0%|          | 0/5 [00:00<?, ?it/s]"
      ]
     },
     "metadata": {},
     "output_type": "display_data"
    },
    {
     "name": "stdout",
     "output_type": "stream",
     "text": [
      "604\n",
      "[9, 8, 9, 13, 10, 11, 9, 3, 5, 6, 13, 9, 1, 8, 11, 14, 6, 9, 2, 1, 7, 3, 1, 11, 3, 7, 1, 6, 3, 9, 7, 3, 9, 4, 5, 14, 13, 11, 1, 9, 0, 0, 13, 9, 5, 12, 7, 5, 11, 2, 6, 2, 12, 2, 5, 14, 7, 3, 12, 12, 6, 1, 13, 13, 14, 5, 11, 7, 12, 3, 3, 12, 9, 3, 7, 1, 7, 5, 0, 4, 4, 3, 13, 4, 2, 14, 8, 1, 14, 0, 13, 11, 13, 5, 2, 3, 11, 0, 12, 1, 9, 0, 11, 1, 10, 10, 14, 12, 5, 12, 9, 4, 11, 3, 7, 12, 5, 14, 8, 4, 9, 7, 1, 4, 9, 9, 13, 6, 4, 4, 11, 10, 11, 14, 7, 1, 6, 3, 1, 7, 2, 7, 8, 3, 12, 6, 7, 2, 4, 3, 13, 13, 6, 7, 1, 11, 13, 2, 0, 7, 8, 2, 7, 1, 10, 0, 0, 0, 0, 3, 4, 7, 5, 2, 14, 3, 5, 2, 4, 1, 3, 14, 11, 6, 5, 4, 5, 12, 14, 11, 12, 4, 9, 4, 11, 10, 8, 14, 14, 3, 3, 3, 11, 6, 2, 11, 9, 4, 12, 6, 0, 8, 14, 10, 12, 2, 4, 5, 7, 1, 12, 7, 8, 12, 10, 3, 8, 4, 1, 11, 4, 6, 4, 3, 0, 7, 0, 7, 5, 14, 11, 9, 14, 5, 9, 6, 10, 8, 1, 10, 10, 0, 2, 11, 5, 1, 13, 11, 4, 3, 0, 12, 7, 0, 1, 4, 0, 2, 9, 7, 2, 11, 8, 10, 4, 3, 4, 2, 2, 4, 10, 11, 12, 4, 8, 14, 5, 10, 10, 2, 4, 6, 5, 3, 0, 0, 5, 10, 0, 4, 1, 10, 13, 9, 8, 5, 1, 3, 11, 9, 13, 13, 8, 1, 9, 10, 2, 12, 5, 9, 9, 5, 2, 3, 4, 7, 9, 2, 2, 14, 0, 8, 8, 10, 0, 1, 6, 13, 6, 3, 9, 9, 9, 11, 0, 0, 13, 6, 14, 2, 3, 9, 9, 14, 5, 0, 6, 4, 12, 1, 6, 9, 2, 1, 13, 4, 0, 11, 11, 7, 1, 7, 10, 3, 8, 11, 3, 9, 10, 9, 10, 11, 3, 14, 5, 14, 10, 12, 8, 9, 14, 3, 2, 1, 8, 4, 5, 13, 14, 9, 6, 0, 10, 4, 1, 0, 1, 1, 9, 1, 10, 4, 10, 5, 9, 7, 9, 10, 4, 0, 13, 3, 3, 11, 14, 9, 12, 5, 0, 9, 9, 0, 10, 10, 13, 1, 14, 0, 5, 14, 5, 13, 11, 14, 5, 14, 12, 8, 7, 5, 12, 3, 8, 10, 11, 0, 0, 9, 0, 5, 14, 14, 4, 13, 9, 7, 0, 2, 9, 13, 13, 8, 7, 10, 8, 2, 12, 8, 12, 4, 0, 7, 5, 11, 7, 7, 1, 14, 4, 6, 14, 2, 3, 3, 4, 8, 14, 0, 7, 4, 8, 6, 10, 14, 12, 9, 8, 2, 3, 10, 4, 9, 12, 7, 13, 10, 9, 11, 11, 1, 12, 9, 8, 0, 7, 12, 4, 4, 10, 12, 13, 1, 0, 3, 2, 0, 6, 8, 14, 3, 1, 9, 1, 9, 3, 10, 12, 7, 10, 14, 0, 0, 5, 8, 5, 12, 14, 14, 14, 9, 2, 3, 12, 4, 3, 9, 3, 6, 0, 4, 9, 3, 5, 9, 4, 14, 5, 0, 8, 11, 11, 9, 10, 12, 0, 1, 3, 12, 13, 5, 14, 7, 13, 12, 1, 13, 1, 4, 7, 14, 14, 7, 9, 11]\n",
      "\n",
      "\n",
      "...Finish!\n"
     ]
    }
   ],
   "source": [
    "import numpy as np\n",
    "\n",
    "# 예측값과 최종 예측 결과를 저장하기 위해 빈 배열 생성\n",
    "pred= []\n",
    "result = []\n",
    "\n",
    "# 예측 시작을 알리는 출력문\n",
    "print(\"Start Predict...\\n\\n\")\n",
    "for data in tqdm(test_loader): \n",
    "    # move tensors to GPU if CUDA is available\n",
    "    data = data.to(device)\n",
    "    # forward pass: compute predicted outputs by passing inputs to the model\n",
    "    # 예측된 결과 값을 연산하기 위한 forward 진행\n",
    "    logits = model(data)\n",
    "    # 예측된 결과 값 (logits)를 softmax 함수를 통해 총합이 1이 되는 0~1 사이의 값으로 pred 저장\n",
    "    pred = logits.softmax(1)\n",
    "    # 저장된 pred 값 중에 가장 높은 값 prediction 저장\n",
    "    prediction = torch.argmax(pred, dim=1)\n",
    "    # 예측 값을 리스트로 변환하여 result에 저장\n",
    "    result += prediction.detach().cpu().tolist()\n",
    "\n",
    "\n",
    "# 결과 값 길이 출력 확인\n",
    "print(len(result))\n",
    "# 결과 출력\n",
    "print(result)\n",
    "\n",
    "# 예측 완료 출력문\n",
    "print(\"\\n\\n...Finish!\")"
   ]
  },
  {
   "cell_type": "markdown",
   "id": "corresponding-lewis",
   "metadata": {},
   "source": [
    "예측 결과 인덱스를 저장한 pred 값을 사용해 클래스를 매칭하기 위한 class_name을 담아 놓은 리스트입니다.\n",
    "\n",
    "주의할 점은 Train과정에서 사용된 class lable값과 같은 순서로 저장이 되어 있어야 한다는 점입니다"
   ]
  },
  {
   "cell_type": "code",
   "execution_count": 19,
   "id": "loving-walker",
   "metadata": {},
   "outputs": [
    {
     "name": "stdout",
     "output_type": "stream",
     "text": [
      "['AMERICAN_PIPIT', 'BALTIMORE_ORIOLE', 'BELTED_KINGFISHER', 'BROWN_THRASHER', 'CALIFORNIA_GULL', 'CASPIAN_TERN', 'CRESTED_AUKLET', 'DOWNY_WOODPECKER', 'GRAY_CATBIRD', 'HOODED_MERGANSER', 'INDIGO_BUNTING', 'PURPLE_FINCH', 'RED_HEADED_WOODPECKER', 'RUBY_THROATED_HUMMINGBIRD', 'WHITE_NECKED_RAVEN']\n"
     ]
    }
   ],
   "source": [
    "# class 명 출력 확인\n",
    "class_names = train_data.classes\n",
    "print(class_names)"
   ]
  },
  {
   "cell_type": "code",
   "execution_count": 20,
   "id": "elect-functionality",
   "metadata": {},
   "outputs": [
    {
     "name": "stdout",
     "output_type": "stream",
     "text": [
      "Save Complete!\n"
     ]
    }
   ],
   "source": [
    "# test 데이터의 이미지 id 와 예측한 class 라벨 값 category를 저장하기 위한 빈 배열 생성\n",
    "id=[]\n",
    "category =[]\n",
    "\n",
    "for i in range(len(test_set)):\n",
    "    # 불러온 test id 추가\n",
    "    id.append(test_set[i].split('\\\\')[-1])\n",
    "    # result 결과 값을 class names 명으로 추가\n",
    "    category.append(class_names[result[i]])\n",
    "# 데이터 프레임을 활용하여 최종 submission csv 파일 저장\n",
    "pd.DataFrame({'Id':id,'Category':category}).to_csv('useung_sub.csv',index=False)\n",
    "\n",
    "# 저장 완료 문장 출력\n",
    "print(\"Save Complete!\")"
   ]
  },
  {
   "cell_type": "code",
   "execution_count": null,
   "id": "protecting-tender",
   "metadata": {},
   "outputs": [],
   "source": []
  },
  {
   "cell_type": "markdown",
   "id": "brown-arthur",
   "metadata": {},
   "source": [
    "# Ensemble"
   ]
  },
  {
   "cell_type": "code",
   "execution_count": 68,
   "id": "healthy-cassette",
   "metadata": {},
   "outputs": [
    {
     "name": "stdout",
     "output_type": "stream",
     "text": [
      "Start Predict...\n",
      "\n",
      "\n"
     ]
    },
    {
     "name": "stderr",
     "output_type": "stream",
     "text": [
      "<ipython-input-68-0db5dfdcec97>:29: TqdmDeprecationWarning: This function will be removed in tqdm==5.0.0\n",
      "Please use `tqdm.notebook.tqdm` instead of `tqdm.tqdm_notebook`\n",
      "  for idx,data in tqdm_notebook(enumerate(test_loader)):\n"
     ]
    },
    {
     "data": {
      "application/vnd.jupyter.widget-view+json": {
       "model_id": "399e8c5c4749411eb58f108b9954839f",
       "version_major": 2,
       "version_minor": 0
      },
      "text/plain": [
       "0it [00:00, ?it/s]"
      ]
     },
     "metadata": {},
     "output_type": "display_data"
    },
    {
     "data": {
      "application/vnd.jupyter.widget-view+json": {
       "model_id": "a1d8041454774ac2b44551d0b061b1e0",
       "version_major": 2,
       "version_minor": 0
      },
      "text/plain": [
       "0it [00:00, ?it/s]"
      ]
     },
     "metadata": {},
     "output_type": "display_data"
    },
    {
     "data": {
      "application/vnd.jupyter.widget-view+json": {
       "model_id": "98e59fa8a5d44fc8960dbf466b783c05",
       "version_major": 2,
       "version_minor": 0
      },
      "text/plain": [
       "0it [00:00, ?it/s]"
      ]
     },
     "metadata": {},
     "output_type": "display_data"
    },
    {
     "data": {
      "application/vnd.jupyter.widget-view+json": {
       "model_id": "ad98e74a9cee41b48d9b3553f5d22e48",
       "version_major": 2,
       "version_minor": 0
      },
      "text/plain": [
       "0it [00:00, ?it/s]"
      ]
     },
     "metadata": {},
     "output_type": "display_data"
    },
    {
     "data": {
      "application/vnd.jupyter.widget-view+json": {
       "model_id": "664b91eb3cae4dcc9f7b837227006e47",
       "version_major": 2,
       "version_minor": 0
      },
      "text/plain": [
       "0it [00:00, ?it/s]"
      ]
     },
     "metadata": {},
     "output_type": "display_data"
    },
    {
     "data": {
      "application/vnd.jupyter.widget-view+json": {
       "model_id": "b45fdf1b2ed142dab3132fd26a24674a",
       "version_major": 2,
       "version_minor": 0
      },
      "text/plain": [
       "0it [00:00, ?it/s]"
      ]
     },
     "metadata": {},
     "output_type": "display_data"
    },
    {
     "name": "stdout",
     "output_type": "stream",
     "text": [
      "604\n",
      "tensor([ 9,  8,  9, 13, 13, 11, 14,  3,  5,  6, 13,  7,  1,  8, 11, 14,  6,  9,\n",
      "         2,  1,  7,  8,  8, 11,  0,  7,  1,  6,  4,  9,  7,  3, 14,  4,  5, 14,\n",
      "        13, 11,  1, 14,  0,  0, 13,  9,  5, 12,  7,  5, 11,  2,  6,  2, 12,  2,\n",
      "         4,  4,  7,  3, 12, 12,  6,  1, 13, 13, 14,  5, 11,  7, 12,  3,  3, 12,\n",
      "         9,  2,  7,  1,  7,  5, 14,  4,  4,  3, 13,  5,  2, 14, 13,  1, 14,  0,\n",
      "        13, 11, 13,  5,  2,  8, 11,  0, 12,  1,  9,  0, 11,  1, 10, 10, 14, 12,\n",
      "         5, 12,  9,  4, 11,  0,  7, 12,  5, 14,  8,  2,  9,  7,  1,  2,  9,  9,\n",
      "        13,  6,  4,  4, 11, 10, 11, 14,  7,  1,  6,  3,  1, 14,  2,  7,  8,  3,\n",
      "        12,  6,  7,  2,  4,  3, 13, 13,  6,  7,  1, 11, 13,  2,  0,  7,  8,  2,\n",
      "         7,  1, 10,  0,  0,  8,  0,  3,  4,  7,  5,  2, 14,  0,  5,  2,  4,  1,\n",
      "         3, 14, 11,  6,  5, 14,  5, 12, 14, 11, 12,  4,  9,  4, 11, 10,  8, 14,\n",
      "        13,  3,  8,  3, 11,  6,  2, 11,  9,  9, 12,  6,  0,  8, 14, 10, 12,  2,\n",
      "         4,  5,  7,  1, 12,  7,  8, 12, 10,  0,  8,  4,  1, 11,  2,  6,  4,  3,\n",
      "        13,  7,  0,  7,  5, 14, 11,  9, 14,  5,  9,  6, 10,  8,  1, 10, 10,  0,\n",
      "         2, 11,  5,  1, 13, 11,  4,  8,  2, 12, 12,  0,  1,  4,  4,  2,  9,  7,\n",
      "         2, 11,  8, 10,  4,  3,  4,  7,  2,  4, 10, 11, 12,  4,  8, 14,  5, 10,\n",
      "        10,  2,  4,  6,  5,  3,  9,  0,  5, 10,  0, 12,  1, 10, 13, 12,  8,  5,\n",
      "         1,  3, 11,  9, 13, 13,  8,  8,  9, 10,  2, 12,  5,  9,  9,  5,  2,  0,\n",
      "         4,  7,  9,  2,  2, 14,  0,  8,  8, 10,  0,  1, 14, 13,  6,  3,  9,  9,\n",
      "         9, 11, 14,  0, 13,  6, 14,  2,  3,  9,  9, 14,  5,  7,  6,  4, 12,  1,\n",
      "         6,  9,  2,  1, 13,  4,  0, 11, 11,  7,  1,  7, 10,  3,  8, 11,  3,  9,\n",
      "        10,  9, 10, 11,  0, 14,  5, 14, 10, 12,  8,  9, 14, 13,  2,  1,  8,  4,\n",
      "         5, 13, 14,  9,  6,  0, 10,  4,  1,  0,  1,  1, 12,  1, 10,  4,  2,  5,\n",
      "         8,  7,  9, 10,  5, 13, 13,  3,  3, 11, 14,  9, 12,  5,  0,  9,  9,  0,\n",
      "        10, 10, 13,  1,  2,  0,  5, 14,  5, 13, 11, 14,  5, 14, 12,  8,  7,  5,\n",
      "        12,  3,  8, 10, 11,  0,  0,  9,  0,  5, 14, 14,  4, 13,  7,  7,  0,  9,\n",
      "         8, 13, 13,  8,  7, 10,  8,  4, 12,  8, 12,  4,  0,  7,  5, 11,  7,  7,\n",
      "         1, 14,  4,  6,  9,  2, 12,  3,  4,  8, 14,  0,  7, 11,  8,  6, 10, 14,\n",
      "        12,  9,  8,  2,  3, 10,  4, 13, 12,  7, 13, 10,  9, 11, 11,  1, 12,  9,\n",
      "         8,  0,  7, 12,  4,  4, 10, 12, 13,  1,  0, 10,  2,  0,  6,  8, 14,  3,\n",
      "         1,  9,  1,  9,  3, 10, 12,  7, 10, 14,  0,  0,  5,  8,  5, 12, 14, 14,\n",
      "        14,  9,  2, 11, 12,  0,  3,  9,  3,  6,  1,  4,  9,  3,  5,  9,  4, 14,\n",
      "         5,  0,  8, 11, 11,  9, 10, 12,  0,  1,  3, 12, 13,  5, 14,  7, 13, 12,\n",
      "         1, 13,  1,  4,  7, 14, 14, 13,  9, 11])\n",
      "\n",
      "\n",
      "...Finish!\n"
     ]
    }
   ],
   "source": [
    "from tqdm import tqdm_notebook\n",
    "import numpy as np\n",
    "\n",
    "# 예측값과 최종 예측 결과를 저장하기 위해 빈 배열 생성\n",
    "result = []\n",
    "total_pred = np.zeros((604, 15))\n",
    "# 앙상블하고자 하는 모델 명 저장\n",
    "name = ['model_useung_81','model_useung_83']\n",
    "# 예측 값 저장을 위한 빈 배열 생성\n",
    "pred0 = []\n",
    "pred1 = []\n",
    "\n",
    "print(\"Start Predict...\\n\\n\")\n",
    "for fold in range(2):\n",
    "    # USNet 모델 불러옴\n",
    "    model = USNet()\n",
    "    # Cuda device로 이동\n",
    "    model.to(device)\n",
    "    # name을 통해 앙상블 모델을 하나씩 불러옴\n",
    "    model.load_state_dict(torch.load('./ensemble/{}.pt'.format(name[fold])))     \n",
    "    \n",
    "    # 최종 예측을 위한 빈 배열 생성\n",
    "    prediction = []\n",
    "    for idx,data in tqdm_notebook(enumerate(test_loader)):\n",
    "        # 배치사이즈 만큼 pred 담는 torch 배열 초기화\n",
    "        pred = torch.zeros((test_loader.batch_size, 15)).to(device)\n",
    "        # move tensors to GPU if CUDA is available\n",
    "        data = data.to(device)\n",
    "        # forward pass: compute predicted outputs by passing inputs to the model\n",
    "        # 예측된 결과 값을 연산하기 위한 forward 진행\n",
    "        logits = model(data)\n",
    "        # 예측된 결과 값 (logits)를 softmax 함수를 통해 총합이 1이 되는 0~1 사이의 값으로 pred 저장\n",
    "        pred = logits.softmax(1)\n",
    "        # 예측 값을  numpy로 변환하여 prediction에 추가\n",
    "        prediction.append(pred.detach().cpu())\n",
    "    \n",
    "    # 배치 단위로 저장된 prediction을 합침\n",
    "    prediction = torch.cat(prediction)\n",
    "    \n",
    "    # fold가 0번째일 때, pred0에 prediction 저장\n",
    "    if fold == 0:\n",
    "        pred0 = prediction\n",
    "    # fold가 2번째일 때, pred1에 prediction 저장\n",
    "    elif fold == 1:\n",
    "        pred1 = prediction\n",
    "\n",
    "\n",
    "# 저장된 pred값을 평균내어 가장 높은 값 result에 저장\n",
    "result = np.argmax((pred0+pred1)/2, axis=1)\n",
    "\n",
    "# 결과 값 길이 출력 확인\n",
    "print(len(result))\n",
    "# 결과 출력\n",
    "print(result)\n",
    "\n",
    "# 예측 완료 출력문\n",
    "print(\"\\n\\n...Finish!\")"
   ]
  },
  {
   "cell_type": "code",
   "execution_count": 69,
   "id": "committed-calibration",
   "metadata": {},
   "outputs": [
    {
     "name": "stdout",
     "output_type": "stream",
     "text": [
      "['AMERICAN_PIPIT', 'BALTIMORE_ORIOLE', 'BELTED_KINGFISHER', 'BROWN_THRASHER', 'CALIFORNIA_GULL', 'CASPIAN_TERN', 'CRESTED_AUKLET', 'DOWNY_WOODPECKER', 'GRAY_CATBIRD', 'HOODED_MERGANSER', 'INDIGO_BUNTING', 'PURPLE_FINCH', 'RED_HEADED_WOODPECKER', 'RUBY_THROATED_HUMMINGBIRD', 'WHITE_NECKED_RAVEN']\n"
     ]
    }
   ],
   "source": [
    "# class 명 출력 확인\n",
    "class_names = train_data.classes\n",
    "print(class_names)"
   ]
  },
  {
   "cell_type": "code",
   "execution_count": 70,
   "id": "fatal-nomination",
   "metadata": {},
   "outputs": [
    {
     "name": "stdout",
     "output_type": "stream",
     "text": [
      "Save Complete!\n"
     ]
    }
   ],
   "source": [
    "# test 데이터의 이미지 id 와 예측한 class 라벨 값 category를 저장하기 위한 빈 배열 생성\n",
    "id=[]\n",
    "category =[]\n",
    "for i in range(len(test_set)):\n",
    "    # 불러온 test id 추가\n",
    "    id.append(test_set[i].split('\\\\')[-1])\n",
    "    # result 결과 값을 class names 명으로 추가\n",
    "    category.append(class_names[result[i]])\n",
    "# 데이터 프레임을 활용하여 최종 submission csv 파일 저장\n",
    "pd.DataFrame({'Id':id,'Category':category}).to_csv('useung_sub_ensemble.csv',index=False)\n",
    "\n",
    "# 저장 완료 문장 출력\n",
    "print(\"Save Complete!\")"
   ]
  },
  {
   "cell_type": "code",
   "execution_count": null,
   "id": "educated-clarity",
   "metadata": {},
   "outputs": [],
   "source": []
  },
  {
   "cell_type": "code",
   "execution_count": null,
   "id": "steady-hazard",
   "metadata": {},
   "outputs": [],
   "source": []
  }
 ],
 "metadata": {
  "kernelspec": {
   "display_name": "Python 3",
   "language": "python",
   "name": "python3"
  },
  "language_info": {
   "codemirror_mode": {
    "name": "ipython",
    "version": 3
   },
   "file_extension": ".py",
   "mimetype": "text/x-python",
   "name": "python",
   "nbconvert_exporter": "python",
   "pygments_lexer": "ipython3",
   "version": "3.8.5"
  }
 },
 "nbformat": 4,
 "nbformat_minor": 5
}
